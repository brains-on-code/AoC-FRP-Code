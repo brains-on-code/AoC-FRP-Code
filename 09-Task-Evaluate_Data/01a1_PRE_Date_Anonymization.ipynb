{
 "cells": [
  {
   "cell_type": "markdown",
   "id": "7c9a9ba0-1fa4-467c-be6d-de2c92c50a30",
   "metadata": {},
   "source": [
    "# Anonymization\n",
    "Status: Implemented\n",
    " -- Fully automatized"
   ]
  },
  {
   "cell_type": "code",
   "execution_count": 1,
   "id": "774c436e-1ab4-477b-ba08-dcf2008f1774",
   "metadata": {},
   "outputs": [],
   "source": [
    "import re\n",
    "from pathlib import Path\n",
    "\n",
    "from tqdm.notebook import tqdm\n",
    "from utils.utils import *"
   ]
  },
  {
   "cell_type": "code",
   "execution_count": 2,
   "id": "f20b29fc-62f6-4f66-8a9a-edf6531bce21",
   "metadata": {},
   "outputs": [],
   "source": [
    "# get all files from participants\n",
    "folders = get_participant_folder_per_participant()\n",
    "hdf_files = get_hdf_files_per_participant()\n",
    "eeg_files = get_eeg_files_per_participant()\n",
    "assert (set(folders.keys()) == set(hdf_files.keys()))\n",
    "assert (set(folders.keys()) == set(eeg_files.keys()))"
   ]
  },
  {
   "cell_type": "markdown",
   "id": "612341d1",
   "metadata": {},
   "source": [
    "### Anonymize given raw data files \n",
    "by removing any kind of date property with these files"
   ]
  },
  {
   "cell_type": "code",
   "execution_count": 3,
   "id": "e0e71de7",
   "metadata": {},
   "outputs": [
    {
     "data": {
      "application/vnd.jupyter.widget-view+json": {
       "model_id": "fdb9d90877c34d02ba1e2a6b36fbd49b",
       "version_major": 2,
       "version_minor": 0
      },
      "text/plain": [
       "  0%|          | 0/24 [00:00<?, ?it/s]"
      ]
     },
     "metadata": {},
     "output_type": "display_data"
    },
    {
     "name": "stdout",
     "output_type": "stream",
     "text": [
      "----------------------------------------------\n",
      "Participant 003\n",
      "(01/02) Anonymize eeg files\n",
      "(02/02) Anonymize psychopy files\n",
      "----------------------------------------------\n",
      "Participant 004\n",
      "(01/02) Anonymize eeg files\n",
      "(02/02) Anonymize psychopy files\n",
      "----------------------------------------------\n",
      "Participant 005\n",
      "(01/02) Anonymize eeg files\n",
      "(02/02) Anonymize psychopy files\n",
      "----------------------------------------------\n",
      "Participant 007\n",
      "(01/02) Anonymize eeg files\n",
      "(02/02) Anonymize psychopy files\n",
      "----------------------------------------------\n",
      "Participant 008\n",
      "(01/02) Anonymize eeg files\n",
      "(02/02) Anonymize psychopy files\n",
      "----------------------------------------------\n",
      "Participant 009\n",
      "(01/02) Anonymize eeg files\n",
      "(02/02) Anonymize psychopy files\n",
      "----------------------------------------------\n",
      "Participant 010\n",
      "(01/02) Anonymize eeg files\n",
      "(02/02) Anonymize psychopy files\n",
      "----------------------------------------------\n",
      "Participant 011\n",
      "(01/02) Anonymize eeg files\n",
      "(02/02) Anonymize psychopy files\n",
      "----------------------------------------------\n",
      "Participant 012\n",
      "(01/02) Anonymize eeg files\n",
      "(02/02) Anonymize psychopy files\n",
      "----------------------------------------------\n",
      "Participant 013\n",
      "(01/02) Anonymize eeg files\n",
      "(02/02) Anonymize psychopy files\n",
      "----------------------------------------------\n",
      "Participant 014\n",
      "(01/02) Anonymize eeg files\n",
      "(02/02) Anonymize psychopy files\n",
      "----------------------------------------------\n",
      "Participant 015\n",
      "(01/02) Anonymize eeg files\n",
      "(02/02) Anonymize psychopy files\n",
      "----------------------------------------------\n",
      "Participant 016\n",
      "(01/02) Anonymize eeg files\n",
      "(02/02) Anonymize psychopy files\n",
      "----------------------------------------------\n",
      "Participant 017\n",
      "(01/02) Anonymize eeg files\n",
      "(02/02) Anonymize psychopy files\n",
      "----------------------------------------------\n",
      "Participant 018\n",
      "(01/02) Anonymize eeg files\n",
      "(02/02) Anonymize psychopy files\n",
      "----------------------------------------------\n",
      "Participant 019\n",
      "(01/02) Anonymize eeg files\n",
      "(02/02) Anonymize psychopy files\n",
      "----------------------------------------------\n",
      "Participant 020\n",
      "(01/02) Anonymize eeg files\n",
      "(02/02) Anonymize psychopy files\n",
      "----------------------------------------------\n",
      "Participant 021\n",
      "(01/02) Anonymize eeg files\n",
      "(02/02) Anonymize psychopy files\n",
      "----------------------------------------------\n",
      "Participant 022\n",
      "(01/02) Anonymize eeg files\n",
      "(02/02) Anonymize psychopy files\n",
      "----------------------------------------------\n",
      "Participant 023\n",
      "(01/02) Anonymize eeg files\n",
      "(02/02) Anonymize psychopy files\n",
      "----------------------------------------------\n",
      "Participant 024\n",
      "(01/02) Anonymize eeg files\n",
      "(02/02) Anonymize psychopy files\n",
      "----------------------------------------------\n",
      "Participant 101\n",
      "(01/02) Anonymize eeg files\n",
      "(02/02) Anonymize psychopy files\n",
      "----------------------------------------------\n",
      "Participant 102\n",
      "(01/02) Anonymize eeg files\n",
      "(02/02) Anonymize psychopy files\n",
      "----------------------------------------------\n",
      "Participant 106\n",
      "(01/02) Anonymize eeg files\n",
      "(02/02) Anonymize psychopy files\n"
     ]
    }
   ],
   "source": [
    "# Iterate over all participants and anonymize\n",
    "for participant in tqdm(folders):\n",
    "    # if participant in finished_participants:\n",
    "    #     print('Skip', PARTICIPANT, participant)\n",
    "    #     continue\n",
    "    print('----------------------------------------------')\n",
    "    print(PARTICIPANT, participant)\n",
    "\n",
    "    print('(01/02) Anonymize eeg files')\n",
    "    anonymize_eeg_data(eeg_files[participant])\n",
    "\n",
    "    print('(02/02) Anonymize psychopy files')\n",
    "    anonymize_psychopy_data(hdf_files[participant], participant)"
   ]
  }
 ],
 "metadata": {
  "kernelspec": {
   "display_name": "Python 3",
   "language": "python",
   "name": "python3"
  },
  "language_info": {
   "codemirror_mode": {
    "name": "ipython",
    "version": 3
   },
   "file_extension": ".py",
   "mimetype": "text/x-python",
   "name": "python",
   "nbconvert_exporter": "python",
   "pygments_lexer": "ipython3",
   "version": "3.11.5"
  }
 },
 "nbformat": 4,
 "nbformat_minor": 5
}
