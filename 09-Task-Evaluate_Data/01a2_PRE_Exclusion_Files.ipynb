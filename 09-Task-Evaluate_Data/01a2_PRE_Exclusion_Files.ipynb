{
 "cells": [
  {
   "cell_type": "markdown",
   "id": "7c9a9ba0-1fa4-467c-be6d-de2c92c50a30",
   "metadata": {},
   "source": [
    "# Exclusion Files\n",
    "Status: Implemented\n",
    " -- Fully automatized"
   ]
  },
  {
   "cell_type": "code",
   "execution_count": 1,
   "id": "774c436e-1ab4-477b-ba08-dcf2008f1774",
   "metadata": {},
   "outputs": [],
   "source": [
    "import json\n",
    "\n",
    "from tqdm.notebook import tqdm\n",
    "from utils.utils import *"
   ]
  },
  {
   "cell_type": "code",
   "execution_count": 2,
   "id": "f20b29fc-62f6-4f66-8a9a-edf6531bce21",
   "metadata": {},
   "outputs": [
    {
     "name": "stdout",
     "output_type": "stream",
     "text": [
      "\n"
     ]
    }
   ],
   "source": [
    "# get all files from participants\n",
    "folders = get_participant_folder_per_participant()\n",
    "hdf_files = get_hdf_files_per_participant()\n",
    "eeg_files = get_eeg_files_per_participant()\n",
    "sequence_order = get_sequence_order_per_participant()\n",
    "assert (set(folders.keys()) == set(hdf_files.keys()))\n",
    "assert (set(folders.keys()) == set(eeg_files.keys()))\n",
    "assert (set(folders.keys()) == set(sequence_order.keys()))\n",
    "print('')"
   ]
  },
  {
   "cell_type": "markdown",
   "id": "612341d1",
   "metadata": {},
   "source": [
    "### Create exclusion files\n",
    "* per participant (corresponding also to eeg file)\n",
    "* per hdf file\n",
    "* per trial (from condition files)"
   ]
  },
  {
   "cell_type": "code",
   "execution_count": 3,
   "id": "e0e71de7",
   "metadata": {},
   "outputs": [
    {
     "data": {
      "application/vnd.jupyter.widget-view+json": {
       "model_id": "f225558e39fe48b18ca74de82567e4ed",
       "version_major": 2,
       "version_minor": 0
      },
      "text/plain": [
       "  0%|          | 0/24 [00:00<?, ?it/s]"
      ]
     },
     "metadata": {},
     "output_type": "display_data"
    },
    {
     "name": "stdout",
     "output_type": "stream",
     "text": [
      "----------------------------------------------\n",
      "Participant 003\n",
      "(01/04) Create exclusion structure\n",
      "(02/04) Include manual exclusions if given\n",
      "(03/04) Store exclusions as json file\n",
      "----------------------------------------------\n",
      "Participant 004\n",
      "(01/04) Create exclusion structure\n",
      "(02/04) Include manual exclusions if given\n",
      "(03/04) Store exclusions as json file\n",
      "----------------------------------------------\n",
      "Participant 005\n",
      "(01/04) Create exclusion structure\n",
      "(02/04) Include manual exclusions if given\n",
      "(03/04) Store exclusions as json file\n",
      "----------------------------------------------\n",
      "Participant 007\n",
      "(01/04) Create exclusion structure\n",
      "(02/04) Include manual exclusions if given\n",
      "(03/04) Store exclusions as json file\n",
      "----------------------------------------------\n",
      "Participant 008\n",
      "(01/04) Create exclusion structure\n",
      "(02/04) Include manual exclusions if given\n",
      "(03/04) Store exclusions as json file\n",
      "----------------------------------------------\n",
      "Participant 009\n",
      "(01/04) Create exclusion structure\n",
      "(02/04) Include manual exclusions if given\n",
      "(03/04) Store exclusions as json file\n",
      "----------------------------------------------\n",
      "Participant 010\n",
      "(01/04) Create exclusion structure\n",
      "(02/04) Include manual exclusions if given\n",
      "(03/04) Store exclusions as json file\n",
      "----------------------------------------------\n",
      "Participant 011\n",
      "(01/04) Create exclusion structure\n",
      "(02/04) Include manual exclusions if given\n",
      "(03/04) Store exclusions as json file\n",
      "----------------------------------------------\n",
      "Participant 012\n",
      "(01/04) Create exclusion structure\n",
      "(02/04) Include manual exclusions if given\n",
      "(03/04) Store exclusions as json file\n",
      "----------------------------------------------\n",
      "Participant 013\n",
      "(01/04) Create exclusion structure\n",
      "(02/04) Include manual exclusions if given\n",
      "(03/04) Store exclusions as json file\n",
      "----------------------------------------------\n",
      "Participant 014\n",
      "(01/04) Create exclusion structure\n",
      "(02/04) Include manual exclusions if given\n",
      "(03/04) Store exclusions as json file\n",
      "----------------------------------------------\n",
      "Participant 015\n",
      "(01/04) Create exclusion structure\n",
      "(02/04) Include manual exclusions if given\n",
      "(03/04) Store exclusions as json file\n",
      "----------------------------------------------\n",
      "Participant 016\n",
      "(01/04) Create exclusion structure\n",
      "(02/04) Include manual exclusions if given\n",
      "(03/04) Store exclusions as json file\n",
      "----------------------------------------------\n",
      "Participant 017\n",
      "(01/04) Create exclusion structure\n",
      "(02/04) Include manual exclusions if given\n",
      "(03/04) Store exclusions as json file\n",
      "----------------------------------------------\n",
      "Participant 018\n",
      "(01/04) Create exclusion structure\n",
      "(02/04) Include manual exclusions if given\n",
      "(03/04) Store exclusions as json file\n",
      "----------------------------------------------\n",
      "Participant 019\n",
      "(01/04) Create exclusion structure\n",
      "(02/04) Include manual exclusions if given\n",
      "(03/04) Store exclusions as json file\n",
      "----------------------------------------------\n",
      "Participant 020\n",
      "(01/04) Create exclusion structure\n",
      "(02/04) Include manual exclusions if given\n",
      "(03/04) Store exclusions as json file\n",
      "----------------------------------------------\n",
      "Participant 021\n",
      "(01/04) Create exclusion structure\n",
      "(02/04) Include manual exclusions if given\n",
      "(03/04) Store exclusions as json file\n",
      "----------------------------------------------\n",
      "Participant 022\n",
      "(01/04) Create exclusion structure\n",
      "(02/04) Include manual exclusions if given\n",
      "(03/04) Store exclusions as json file\n",
      "----------------------------------------------\n",
      "Participant 023\n",
      "(01/04) Create exclusion structure\n",
      "(02/04) Include manual exclusions if given\n",
      "(03/04) Store exclusions as json file\n",
      "----------------------------------------------\n",
      "Participant 024\n",
      "(01/04) Create exclusion structure\n",
      "(02/04) Include manual exclusions if given\n",
      "(03/04) Store exclusions as json file\n",
      "----------------------------------------------\n",
      "Participant 101\n",
      "(01/04) Create exclusion structure\n",
      "(02/04) Include manual exclusions if given\n",
      "(03/04) Store exclusions as json file\n",
      "----------------------------------------------\n",
      "Participant 102\n",
      "(01/04) Create exclusion structure\n",
      "(02/04) Include manual exclusions if given\n",
      "(03/04) Store exclusions as json file\n",
      "----------------------------------------------\n",
      "Participant 106\n",
      "(01/04) Create exclusion structure\n",
      "(02/04) Include manual exclusions if given\n",
      "(03/04) Store exclusions as json file\n",
      "(04/04) Store all exclusions as json file\n"
     ]
    }
   ],
   "source": [
    "# Iterate over all participants and create file\n",
    "all_exclusions = {}\n",
    "\n",
    "for participant in tqdm(folders):\n",
    "\n",
    "    print('----------------------------------------------')\n",
    "    print(PARTICIPANT, participant)\n",
    "\n",
    "    print('(01/04) Create exclusion structure')\n",
    "    exclusions = create_exclusion_structure_for_participant(\n",
    "        sequence_order[participant][SNIPPET], hdf_files[participant])\n",
    "\n",
    "    print('(02/04) Include manual exclusions if given')\n",
    "    update_with_manual_exclusions(\n",
    "        exclusions, folders[participant]/'pre_manual_exclusions.json')\n",
    "\n",
    "    print('(03/04) Store exclusions as json file')\n",
    "    (PROCESSED_PATH/participant).mkdir(parents=True, exist_ok=True)\n",
    "    with open(get_exclusion_path(participant), 'w') as f:\n",
    "        json.dump(exclusions, f, indent=4, sort_keys=True)\n",
    "\n",
    "    all_exclusions[participant] = exclusions\n",
    "\n",
    "print('(04/04) Store all exclusions as json file')\n",
    "with open(get_exclusion_path(), 'w') as f:\n",
    "    json.dump(all_exclusions, f, indent=4, sort_keys=True)"
   ]
  }
 ],
 "metadata": {
  "kernelspec": {
   "display_name": "Python 3",
   "language": "python",
   "name": "python3"
  },
  "language_info": {
   "codemirror_mode": {
    "name": "ipython",
    "version": 3
   },
   "file_extension": ".py",
   "mimetype": "text/x-python",
   "name": "python",
   "nbconvert_exporter": "python",
   "pygments_lexer": "ipython3",
   "version": "3.11.5"
  }
 },
 "nbformat": 4,
 "nbformat_minor": 5
}
