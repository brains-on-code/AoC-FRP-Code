{
 "cells": [
  {
   "cell_type": "markdown",
   "id": "7c9a9ba0-1fa4-467c-be6d-de2c92c50a30",
   "metadata": {},
   "source": [
    "# ERP"
   ]
  },
  {
   "cell_type": "markdown",
   "id": "ed68a5f5-cc8e-44cd-b916-6c4c8f4a9809",
   "metadata": {},
   "source": [
    "## Import libraries"
   ]
  },
  {
   "cell_type": "code",
   "execution_count": 1,
   "id": "774c436e-1ab4-477b-ba08-dcf2008f1774",
   "metadata": {},
   "outputs": [],
   "source": [
    "from utils.utils import *\n",
    "import itertools\n",
    "from typing import OrderedDict\n",
    "\n",
    "mne.set_log_level('CRITICAL')"
   ]
  },
  {
   "cell_type": "code",
   "execution_count": 2,
   "id": "b4bcbd61",
   "metadata": {
    "collapsed": false
   },
   "outputs": [
    {
     "name": "stdout",
     "output_type": "stream",
     "text": [
      "in subfolder ../08-Data-Trial_Recordings/processed/total, no participant number could be identified.\n",
      "{'003': WindowsPath('../08-Data-Trial_Recordings/processed/003'), '004': WindowsPath('../08-Data-Trial_Recordings/processed/004'), '005': WindowsPath('../08-Data-Trial_Recordings/processed/005'), '007': WindowsPath('../08-Data-Trial_Recordings/processed/007'), '008': WindowsPath('../08-Data-Trial_Recordings/processed/008'), '009': WindowsPath('../08-Data-Trial_Recordings/processed/009'), '010': WindowsPath('../08-Data-Trial_Recordings/processed/010'), '011': WindowsPath('../08-Data-Trial_Recordings/processed/011'), '012': WindowsPath('../08-Data-Trial_Recordings/processed/012'), '013': WindowsPath('../08-Data-Trial_Recordings/processed/013'), '014': WindowsPath('../08-Data-Trial_Recordings/processed/014'), '015': WindowsPath('../08-Data-Trial_Recordings/processed/015'), '016': WindowsPath('../08-Data-Trial_Recordings/processed/016'), '017': WindowsPath('../08-Data-Trial_Recordings/processed/017'), '018': WindowsPath('../08-Data-Trial_Recordings/processed/018'), '019': WindowsPath('../08-Data-Trial_Recordings/processed/019'), '020': WindowsPath('../08-Data-Trial_Recordings/processed/020'), '021': WindowsPath('../08-Data-Trial_Recordings/processed/021'), '022': WindowsPath('../08-Data-Trial_Recordings/processed/022'), '023': WindowsPath('../08-Data-Trial_Recordings/processed/023'), '024': WindowsPath('../08-Data-Trial_Recordings/processed/024'), '101': WindowsPath('../08-Data-Trial_Recordings/processed/101'), '102': WindowsPath('../08-Data-Trial_Recordings/processed/102'), '106': WindowsPath('../08-Data-Trial_Recordings/processed/106')}\n"
     ]
    }
   ],
   "source": [
    "# get all files from participants\n",
    "folders = get_participant_folder_per_participant(raw_folder=False)\n",
    "print(folders)"
   ]
  },
  {
   "cell_type": "markdown",
   "id": "133b9a25-8bb2-4189-8b5f-ccddff3b2417",
   "metadata": {
    "tags": []
   },
   "source": [
    "## Calculate ERPs"
   ]
  },
  {
   "cell_type": "code",
   "execution_count": 3,
   "id": "b750544f",
   "metadata": {},
   "outputs": [
    {
     "name": "stdout",
     "output_type": "stream",
     "text": [
      "{'epoch_interval': (-0.4, 2), 'correct_data_only': False, 'participants': ['003', '004', '005', '007', '008', '009', '010', '011', '012', '013', '014', '015', '016', '017', '018', '019', '020', '021', '022', '023', '024', '101', '102', '106'], 'erp_frp': True, 'conditional_stimuli': {'unambiguous': 'Stimulus/S 11', 'ambiguous': 'Stimulus/S 12'}, 'plot': False, 'snippet_group': 'all', 'topomap_times': [0.2, 0.4, 0.6, 0.8, 1, 1.2, 1.4, 1.6, 1.8]}\n"
     ]
    },
    {
     "data": {
      "application/vnd.jupyter.widget-view+json": {
       "model_id": "8e088bd76f124b088d3c3baff9d21d1a",
       "version_major": 2,
       "version_minor": 0
      },
      "text/plain": [
       "  0%|          | 0/24 [00:00<?, ?it/s]"
      ]
     },
     "metadata": {},
     "output_type": "display_data"
    },
    {
     "name": "stdout",
     "output_type": "stream",
     "text": [
      "----------------------------------------------\n",
      "Participant 003\n",
      "\t16-obf-v0 excluded due to overall voltage violation\n",
      "----------------------------------------------\n",
      "Participant 004\n",
      "\t5-obf-v1 excluded due to overall voltage violation\n",
      "\t9-obf-v1 excluded due to voltage violation inside epoch\n",
      "----------------------------------------------\n",
      "Participant 005\n",
      "\t13-obf-v2 excluded due to overall voltage violation\n",
      "\t54-clean-v0 excluded due to overall voltage violation\n",
      "----------------------------------------------\n",
      "Participant 007\n",
      "----------------------------------------------\n",
      "Participant 008\n",
      "\t60-obf-v1 excluded due to overall voltage violation\n",
      "\t63-obf-v1 excluded due to overall voltage violation\n",
      "----------------------------------------------\n",
      "Participant 009\n",
      "----------------------------------------------\n",
      "Participant 010\n",
      "\t15-obf-v0 excluded due to voltage violation inside epoch\n",
      "\t57-clean-v0 excluded due to overall voltage violation\n",
      "----------------------------------------------\n",
      "Participant 011\n",
      "----------------------------------------------\n",
      "Participant 012\n",
      "----------------------------------------------\n",
      "Participant 013\n",
      "\t-obf-v0 excluded due to overall voltage violation\n",
      "\t10-obf-v1 excluded due to overall voltage violation\n",
      "\t57-obf-v1 excluded due to overall voltage violation\n",
      "\t8-obf-v0 excluded due to overall voltage violation\n",
      "\t8-obf-v1 excluded due to voltage violation inside epoch\n",
      "----------------------------------------------\n",
      "Participant 014\n",
      "----------------------------------------------\n",
      "Participant 015\n",
      "\t-obf-v1 excluded due to overall voltage violation\n",
      "\t-obf-v2 excluded due to overall voltage violation\n",
      "\t15-obf-v2 excluded due to overall voltage violation\n",
      "\t49-obf-v2 excluded due to overall voltage violation\n",
      "\t54-obf-v2 excluded due to overall voltage violation\n",
      "\t60-clean-v0 excluded due to overall voltage violation\n",
      "----------------------------------------------\n",
      "Participant 016\n",
      "\t-clean-v2 excluded due to overall voltage violation\n",
      "\t10-clean-v0 excluded due to overall voltage violation\n",
      "\t10-clean-v1 excluded due to overall voltage violation\n",
      "\t10-clean-v2 excluded due to overall voltage violation\n",
      "\t12-obf-v1 excluded due to overall voltage violation\n",
      "\t15-clean-v0 excluded due to overall voltage violation\n",
      "\t16-obf-v1 excluded due to overall voltage violation\n",
      "\t16-obf-v2 excluded due to overall voltage violation\n",
      "\t17-obf-v0 excluded due to overall voltage violation\n",
      "\t17-obf-v2 excluded due to voltage violation inside epoch\n",
      "\t18-obf-v1 excluded due to overall voltage violation\n",
      "\t30-obf-v1 excluded due to overall voltage violation\n",
      "\t5-clean-v0 excluded due to voltage violation inside epoch\n",
      "\t54-clean-v0 excluded due to overall voltage violation\n",
      "\t57-clean-v1 excluded due to voltage violation inside epoch\n",
      "\t6-clean-v0 excluded due to overall voltage violation\n",
      "\t6-clean-v2 excluded due to overall voltage violation\n",
      "\t60-obf-v0 excluded due to overall voltage violation\n",
      "\t60-obf-v1 excluded due to overall voltage violation\n",
      "\t60-obf-v2 excluded due to overall voltage violation\n",
      "\t61-obf-v0 excluded due to overall voltage violation\n",
      "\t62-obf-v1 excluded due to voltage violation inside epoch\n",
      "\t63-obf-v0 excluded due to overall voltage violation\n",
      "\t63-obf-v1 excluded due to voltage violation inside epoch\n",
      "\t8-obf-v0 excluded due to overall voltage violation\n",
      "\t9-clean-v1 excluded due to overall voltage violation\n",
      "----------------------------------------------\n",
      "Participant 017\n",
      "\t12-clean-v2 excluded due to overall voltage violation\n",
      "----------------------------------------------\n",
      "Participant 018\n",
      "----------------------------------------------\n",
      "Participant 019\n",
      "\t16-obf-v2 excluded due to overall voltage violation\n",
      "----------------------------------------------\n",
      "Participant 020\n",
      "\t16-clean-v2 excluded due to overall voltage violation\n",
      "\t49-obf-v0 excluded due to overall voltage violation\n",
      "\t61-obf-v0 excluded due to overall voltage violation\n",
      "----------------------------------------------\n",
      "Participant 021\n",
      "\t62-clean-v1 excluded due to overall voltage violation\n",
      "----------------------------------------------\n",
      "Participant 022\n",
      "----------------------------------------------\n",
      "Participant 023\n",
      "\t13-clean-v1 excluded due to overall voltage violation\n",
      "\t13-clean-v2 excluded due to overall voltage violation\n",
      "\t15-clean-v0 excluded due to overall voltage violation\n",
      "\t15-clean-v1 excluded due to overall voltage violation\n",
      "\t16-clean-v0 excluded due to voltage violation inside epoch\n",
      "\t4-clean-v0 excluded due to overall voltage violation\n",
      "----------------------------------------------\n",
      "Participant 024\n",
      "----------------------------------------------\n",
      "Participant 101\n",
      "\t12-clean-v2 excluded due to overall voltage violation\n",
      "\t63-obf-v2 excluded due to overall voltage violation\n",
      "----------------------------------------------\n",
      "Participant 102\n",
      "\t15-clean-v2 excluded due to overall voltage violation\n",
      "\t5-obf-v0 excluded due to overall voltage violation\n",
      "----------------------------------------------\n",
      "Participant 106\n",
      "\t12-obf-v0 excluded due to overall voltage violation\n",
      "\t30-obf-v2 excluded due to overall voltage violation\n",
      "\t63-clean-v0 excluded due to overall voltage violation\n",
      "\t7-clean-v2 excluded due to overall voltage violation\n"
     ]
    }
   ],
   "source": [
    "base_erp_parameters = {ERP_PARAMETER_PARTICIPANTS: list(folders.keys()),\n",
    "                       ERP_PARAMETER_ERP_FRP: True,\n",
    "                       ERP_PARAMETER_CONDITIONAL_STIMULI: EEG_STIMULUS_SNIPPET_START,\n",
    "                       ERP_PARAMETER_PLOT: False,\n",
    "                       ERP_PARAMETER_SNIPPET_GROUP:SNIPPET_GROUP_ALL}\n",
    "\n",
    "erp_parameter_possibilities = OrderedDict()\n",
    "erp_parameter_possibilities[ERP_PARAMETER_EPOCH_INTERVAL] = [(-0.4, 2)]\n",
    "    # (-0.6, 3), (-0.4, 2.5), ]\n",
    "erp_parameter_possibilities[ERP_PARAMETER_CORRECT_TRIALS_ONLY] = [False]#, True, ]\n",
    "topomap_times_possibilities = {(-0.6, 3): [0.2, 0.4, 0.6, 0.8, 1, 1.2, 1.8, 2.4, 3.0], (-0.4, 2.5): [\n",
    "    0.2, 0.4, 0.6, 0.8, 1, 1.2, 1.8, 2.4], (-0.4, 2): [0.2, 0.4, 0.6, 0.8, 1, 1.2, 1.4, 1.6, 1.8]}\n",
    "all_erp_parameter_combinations = []\n",
    "for combo in itertools.product(*erp_parameter_possibilities.values()):\n",
    "    erp_parameters = {list(erp_parameter_possibilities.keys())[\n",
    "        i]: c for i, c in enumerate(combo)}\n",
    "    erp_parameters = erp_parameters | base_erp_parameters\n",
    "    erp_parameters[ERP_PARAMETER_TOPOMAP_TIMES] = topomap_times_possibilities[erp_parameters[ERP_PARAMETER_EPOCH_INTERVAL]]\n",
    "    all_erp_parameter_combinations.append(erp_parameters)\n",
    "with open(get_erp_parameters_path(True), 'w') as f:\n",
    "    json.dump(all_erp_parameter_combinations, f, indent=4)\n",
    "\n",
    "for erp_parameters in all_erp_parameter_combinations:\n",
    "    print(erp_parameters)\n",
    "    perform_eeg_erp_averaging(**erp_parameters)"
   ]
  }
 ],
 "metadata": {
  "kernelspec": {
   "display_name": "Python 3",
   "language": "python",
   "name": "python3"
  },
  "language_info": {
   "codemirror_mode": {
    "name": "ipython",
    "version": 3
   },
   "file_extension": ".py",
   "mimetype": "text/x-python",
   "name": "python",
   "nbconvert_exporter": "python",
   "pygments_lexer": "ipython3",
   "version": "3.11.5"
  }
 },
 "nbformat": 4,
 "nbformat_minor": 5
}
