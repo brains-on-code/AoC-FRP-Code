{
 "cells": [
  {
   "attachments": {},
   "cell_type": "markdown",
   "metadata": {},
   "source": [
    "# Create DataAccuracy Image for Corrected Fixations Iteration 3\n",
    "Status: Implemented\n",
    " -- Fully automatized"
   ]
  },
  {
   "cell_type": "code",
   "execution_count": 1,
   "metadata": {
    "collapsed": false,
    "jupyter": {
     "outputs_hidden": false
    }
   },
   "outputs": [],
   "source": [
    "import gc\n",
    "import json\n",
    "import warnings\n",
    "\n",
    "import pandas as pd\n",
    "from tqdm.notebook import tqdm\n",
    "from utils.utils import *\n",
    "\n",
    "warnings.filterwarnings(\"ignore\")"
   ]
  },
  {
   "cell_type": "code",
   "execution_count": 2,
   "metadata": {
    "collapsed": false,
    "jupyter": {
     "outputs_hidden": false
    }
   },
   "outputs": [],
   "source": [
    "# get all files from participants\n",
    "folders = get_participant_folder_per_participant()\n",
    "sequence_orders = get_sequence_order_per_participant()\n",
    "assert (set(folders.keys()) == set(sequence_orders.keys()))"
   ]
  },
  {
   "cell_type": "code",
   "execution_count": 3,
   "metadata": {},
   "outputs": [
    {
     "name": "stdout",
     "output_type": "stream",
     "text": [
      "Fixation correction iteration: 3\n",
      "Previous Fixation correction iteration: 2\n"
     ]
    }
   ],
   "source": [
    "global FIXATION_CORRECTION_ITERATION \n",
    "FIXATION_CORRECTION_ITERATION[0] = 3\n",
    "print('Fixation correction iteration:', current_fixation_correction_iteration())\n",
    "print('Previous Fixation correction iteration:', previous_fixation_correction_iteration())"
   ]
  },
  {
   "cell_type": "markdown",
   "metadata": {},
   "source": [
    "### Take into account previous iterations"
   ]
  },
  {
   "cell_type": "code",
   "execution_count": 4,
   "metadata": {},
   "outputs": [],
   "source": [
    "if current_fixation_correction_iteration() == 1:\n",
    "    snippets = {p: sequence_orders[p][SNIPPET].to_list()\n",
    "                for p in sequence_orders}\n",
    "else:  # get snippets to rework for this round\n",
    "    snippets = {p: list(pd.read_csv(get_snippet_rework_paths(\n",
    "        p), sep=SEPARATOR, index_col=False, )[SNIPPET].to_list()) for p in folders}"
   ]
  },
  {
   "cell_type": "code",
   "execution_count": 5,
   "metadata": {},
   "outputs": [
    {
     "data": {
      "text/plain": [
       "{'003': {},\n",
       " '004': {},\n",
       " '005': {},\n",
       " '007': {},\n",
       " '008': {},\n",
       " '009': {},\n",
       " '010': {},\n",
       " '011': {},\n",
       " '012': {'v0': 100, 'v1': 50, 'v2': 80},\n",
       " '013': {'v0': 20},\n",
       " '014': {},\n",
       " '015': {},\n",
       " '016': {},\n",
       " '017': {},\n",
       " '018': {},\n",
       " '019': {},\n",
       " '020': {},\n",
       " '021': {},\n",
       " '022': {},\n",
       " '023': {},\n",
       " '024': {},\n",
       " '101': {},\n",
       " '102': {},\n",
       " '106': {}}"
      ]
     },
     "execution_count": 5,
     "metadata": {},
     "output_type": "execute_result"
    }
   ],
   "source": [
    "manual_evaluation_paths = exist_previous_manual_accuracy_evaluation_paths()\n",
    "x_offsets = get_x_offsets()\n",
    "x_offsets"
   ]
  },
  {
   "cell_type": "markdown",
   "metadata": {},
   "source": [
    "### Auto-correction\n",
    "* generate accuracy images to compare fixation data (original and corrected versions)"
   ]
  },
  {
   "cell_type": "code",
   "execution_count": 6,
   "metadata": {
    "collapsed": false
   },
   "outputs": [
    {
     "data": {
      "application/vnd.jupyter.widget-view+json": {
       "model_id": "60120d5974f346b0ba4646337fc7e5e9",
       "version_major": 2,
       "version_minor": 0
      },
      "text/plain": [
       "  0%|          | 0/24 [00:00<?, ?it/s]"
      ]
     },
     "metadata": {},
     "output_type": "display_data"
    },
    {
     "name": "stdout",
     "output_type": "stream",
     "text": [
      "----------------------------------------------\n",
      "Participant 003\n",
      "no snippets to (re-)work found.\n",
      "----------------------------------------------\n",
      "Participant 004\n",
      "no snippets to (re-)work found.\n",
      "----------------------------------------------\n",
      "Participant 005\n",
      "(01/04) Retrieve fixation data\n"
     ]
    },
    {
     "data": {
      "application/vnd.jupyter.widget-view+json": {
       "model_id": "d69d833998c8477ca90a9c905061f942",
       "version_major": 2,
       "version_minor": 0
      },
      "text/plain": [
       "  0%|          | 0/2 [00:00<?, ?it/s]"
      ]
     },
     "metadata": {},
     "output_type": "display_data"
    },
    {
     "name": "stdout",
     "output_type": "stream",
     "text": [
      "(02/04) Add constant offset in x direction if given\n"
     ]
    },
    {
     "data": {
      "application/vnd.jupyter.widget-view+json": {
       "model_id": "16ef8b7ffc5547ae88c10a9eaa2b156c",
       "version_major": 2,
       "version_minor": 0
      },
      "text/plain": [
       "  0%|          | 0/2 [00:00<?, ?it/s]"
      ]
     },
     "metadata": {},
     "output_type": "display_data"
    },
    {
     "name": "stdout",
     "output_type": "stream",
     "text": [
      "(03/04) Generate comparing snippet fixation image for snippet\n"
     ]
    },
    {
     "data": {
      "application/vnd.jupyter.widget-view+json": {
       "model_id": "d635a341ff194b7bbd19c57e3f2aede4",
       "version_major": 2,
       "version_minor": 0
      },
      "text/plain": [
       "  0%|          | 0/2 [00:00<?, ?it/s]"
      ]
     },
     "metadata": {},
     "output_type": "display_data"
    },
    {
     "name": "stdout",
     "output_type": "stream",
     "text": [
      "(04/04) Adapt exclusion file for snippets without fixation accuracy images\n",
      "----------------------------------------------\n",
      "Participant 007\n",
      "(01/04) Retrieve fixation data\n"
     ]
    },
    {
     "data": {
      "application/vnd.jupyter.widget-view+json": {
       "model_id": "987f38baaa144fb7ae328be822538bb6",
       "version_major": 2,
       "version_minor": 0
      },
      "text/plain": [
       "  0%|          | 0/1 [00:00<?, ?it/s]"
      ]
     },
     "metadata": {},
     "output_type": "display_data"
    },
    {
     "name": "stdout",
     "output_type": "stream",
     "text": [
      "(02/04) Add constant offset in x direction if given\n"
     ]
    },
    {
     "data": {
      "application/vnd.jupyter.widget-view+json": {
       "model_id": "5f04dae37d1a49e2bfcc8bba8269915c",
       "version_major": 2,
       "version_minor": 0
      },
      "text/plain": [
       "  0%|          | 0/1 [00:00<?, ?it/s]"
      ]
     },
     "metadata": {},
     "output_type": "display_data"
    },
    {
     "name": "stdout",
     "output_type": "stream",
     "text": [
      "(03/04) Generate comparing snippet fixation image for snippet\n"
     ]
    },
    {
     "data": {
      "application/vnd.jupyter.widget-view+json": {
       "model_id": "9585573027bd417a9e138e6ccaa9837e",
       "version_major": 2,
       "version_minor": 0
      },
      "text/plain": [
       "  0%|          | 0/1 [00:00<?, ?it/s]"
      ]
     },
     "metadata": {},
     "output_type": "display_data"
    },
    {
     "name": "stdout",
     "output_type": "stream",
     "text": [
      "(04/04) Adapt exclusion file for snippets without fixation accuracy images\n",
      "----------------------------------------------\n",
      "Participant 008\n",
      "(01/04) Retrieve fixation data\n"
     ]
    },
    {
     "data": {
      "application/vnd.jupyter.widget-view+json": {
       "model_id": "ee1935a7f0db44719ed18c05faf7632c",
       "version_major": 2,
       "version_minor": 0
      },
      "text/plain": [
       "  0%|          | 0/1 [00:00<?, ?it/s]"
      ]
     },
     "metadata": {},
     "output_type": "display_data"
    },
    {
     "name": "stdout",
     "output_type": "stream",
     "text": [
      "(02/04) Add constant offset in x direction if given\n"
     ]
    },
    {
     "data": {
      "application/vnd.jupyter.widget-view+json": {
       "model_id": "d9ad124350a24568aefb5a5df5a330d2",
       "version_major": 2,
       "version_minor": 0
      },
      "text/plain": [
       "  0%|          | 0/1 [00:00<?, ?it/s]"
      ]
     },
     "metadata": {},
     "output_type": "display_data"
    },
    {
     "name": "stdout",
     "output_type": "stream",
     "text": [
      "(03/04) Generate comparing snippet fixation image for snippet\n"
     ]
    },
    {
     "data": {
      "application/vnd.jupyter.widget-view+json": {
       "model_id": "81d5d595e81a42d18c3f8c086232791f",
       "version_major": 2,
       "version_minor": 0
      },
      "text/plain": [
       "  0%|          | 0/1 [00:00<?, ?it/s]"
      ]
     },
     "metadata": {},
     "output_type": "display_data"
    },
    {
     "name": "stdout",
     "output_type": "stream",
     "text": [
      "(04/04) Adapt exclusion file for snippets without fixation accuracy images\n",
      "----------------------------------------------\n",
      "Participant 009\n",
      "(01/04) Retrieve fixation data\n"
     ]
    },
    {
     "data": {
      "application/vnd.jupyter.widget-view+json": {
       "model_id": "69e2e34b797a4d1ab52179b95a475565",
       "version_major": 2,
       "version_minor": 0
      },
      "text/plain": [
       "  0%|          | 0/1 [00:00<?, ?it/s]"
      ]
     },
     "metadata": {},
     "output_type": "display_data"
    },
    {
     "name": "stdout",
     "output_type": "stream",
     "text": [
      "(02/04) Add constant offset in x direction if given\n"
     ]
    },
    {
     "data": {
      "application/vnd.jupyter.widget-view+json": {
       "model_id": "f4329f360ffc4395aeaf9aac4fd09e69",
       "version_major": 2,
       "version_minor": 0
      },
      "text/plain": [
       "  0%|          | 0/1 [00:00<?, ?it/s]"
      ]
     },
     "metadata": {},
     "output_type": "display_data"
    },
    {
     "name": "stdout",
     "output_type": "stream",
     "text": [
      "(03/04) Generate comparing snippet fixation image for snippet\n"
     ]
    },
    {
     "data": {
      "application/vnd.jupyter.widget-view+json": {
       "model_id": "793918282f0541f29d529198da824f32",
       "version_major": 2,
       "version_minor": 0
      },
      "text/plain": [
       "  0%|          | 0/1 [00:00<?, ?it/s]"
      ]
     },
     "metadata": {},
     "output_type": "display_data"
    },
    {
     "name": "stdout",
     "output_type": "stream",
     "text": [
      "(04/04) Adapt exclusion file for snippets without fixation accuracy images\n",
      "----------------------------------------------\n",
      "Participant 010\n",
      "(01/04) Retrieve fixation data\n"
     ]
    },
    {
     "data": {
      "application/vnd.jupyter.widget-view+json": {
       "model_id": "3781d74a586940e4aacd257576d2e8ed",
       "version_major": 2,
       "version_minor": 0
      },
      "text/plain": [
       "  0%|          | 0/1 [00:00<?, ?it/s]"
      ]
     },
     "metadata": {},
     "output_type": "display_data"
    },
    {
     "name": "stdout",
     "output_type": "stream",
     "text": [
      "(02/04) Add constant offset in x direction if given\n"
     ]
    },
    {
     "data": {
      "application/vnd.jupyter.widget-view+json": {
       "model_id": "3eaf5eee811c49d9b9a63fc0ae15ea97",
       "version_major": 2,
       "version_minor": 0
      },
      "text/plain": [
       "  0%|          | 0/1 [00:00<?, ?it/s]"
      ]
     },
     "metadata": {},
     "output_type": "display_data"
    },
    {
     "name": "stdout",
     "output_type": "stream",
     "text": [
      "(03/04) Generate comparing snippet fixation image for snippet\n"
     ]
    },
    {
     "data": {
      "application/vnd.jupyter.widget-view+json": {
       "model_id": "7dba0943a1e540f7ba5ac0ccb0f65390",
       "version_major": 2,
       "version_minor": 0
      },
      "text/plain": [
       "  0%|          | 0/1 [00:00<?, ?it/s]"
      ]
     },
     "metadata": {},
     "output_type": "display_data"
    },
    {
     "name": "stdout",
     "output_type": "stream",
     "text": [
      "(04/04) Adapt exclusion file for snippets without fixation accuracy images\n",
      "----------------------------------------------\n",
      "Participant 011\n",
      "no snippets to (re-)work found.\n",
      "----------------------------------------------\n",
      "Participant 012\n",
      "(01/04) Retrieve fixation data\n"
     ]
    },
    {
     "data": {
      "application/vnd.jupyter.widget-view+json": {
       "model_id": "b4485a0d05584bc99c604320df5b1878",
       "version_major": 2,
       "version_minor": 0
      },
      "text/plain": [
       "  0%|          | 0/68 [00:00<?, ?it/s]"
      ]
     },
     "metadata": {},
     "output_type": "display_data"
    },
    {
     "name": "stdout",
     "output_type": "stream",
     "text": [
      "(02/04) Add constant offset in x direction if given\n"
     ]
    },
    {
     "data": {
      "application/vnd.jupyter.widget-view+json": {
       "model_id": "2eea4002c2214294b457ac053ea27086",
       "version_major": 2,
       "version_minor": 0
      },
      "text/plain": [
       "  0%|          | 0/68 [00:00<?, ?it/s]"
      ]
     },
     "metadata": {},
     "output_type": "display_data"
    },
    {
     "name": "stdout",
     "output_type": "stream",
     "text": [
      "(03/04) Generate comparing snippet fixation image for snippet\n"
     ]
    },
    {
     "data": {
      "application/vnd.jupyter.widget-view+json": {
       "model_id": "4a06d5ca53584b3f9e5047f2cddf3891",
       "version_major": 2,
       "version_minor": 0
      },
      "text/plain": [
       "  0%|          | 0/68 [00:00<?, ?it/s]"
      ]
     },
     "metadata": {},
     "output_type": "display_data"
    },
    {
     "name": "stdout",
     "output_type": "stream",
     "text": [
      "(04/04) Adapt exclusion file for snippets without fixation accuracy images\n",
      "----------------------------------------------\n",
      "Participant 013\n",
      "no snippets to (re-)work found.\n",
      "----------------------------------------------\n",
      "Participant 014\n",
      "(01/04) Retrieve fixation data\n"
     ]
    },
    {
     "data": {
      "application/vnd.jupyter.widget-view+json": {
       "model_id": "31dd150bed174f43b39eac3ac551c5ec",
       "version_major": 2,
       "version_minor": 0
      },
      "text/plain": [
       "  0%|          | 0/1 [00:00<?, ?it/s]"
      ]
     },
     "metadata": {},
     "output_type": "display_data"
    },
    {
     "name": "stdout",
     "output_type": "stream",
     "text": [
      "(02/04) Add constant offset in x direction if given\n"
     ]
    },
    {
     "data": {
      "application/vnd.jupyter.widget-view+json": {
       "model_id": "75bb221d0114409388928d603286d2cb",
       "version_major": 2,
       "version_minor": 0
      },
      "text/plain": [
       "  0%|          | 0/1 [00:00<?, ?it/s]"
      ]
     },
     "metadata": {},
     "output_type": "display_data"
    },
    {
     "name": "stdout",
     "output_type": "stream",
     "text": [
      "(03/04) Generate comparing snippet fixation image for snippet\n"
     ]
    },
    {
     "data": {
      "application/vnd.jupyter.widget-view+json": {
       "model_id": "529dfa16372146ee839d1fd483993f05",
       "version_major": 2,
       "version_minor": 0
      },
      "text/plain": [
       "  0%|          | 0/1 [00:00<?, ?it/s]"
      ]
     },
     "metadata": {},
     "output_type": "display_data"
    },
    {
     "name": "stdout",
     "output_type": "stream",
     "text": [
      "(04/04) Adapt exclusion file for snippets without fixation accuracy images\n",
      "----------------------------------------------\n",
      "Participant 015\n",
      "no snippets to (re-)work found.\n",
      "----------------------------------------------\n",
      "Participant 016\n",
      "no snippets to (re-)work found.\n",
      "----------------------------------------------\n",
      "Participant 017\n",
      "(01/04) Retrieve fixation data\n"
     ]
    },
    {
     "data": {
      "application/vnd.jupyter.widget-view+json": {
       "model_id": "5c4ac8ca20164a73b2f32d48503e1eb5",
       "version_major": 2,
       "version_minor": 0
      },
      "text/plain": [
       "  0%|          | 0/2 [00:00<?, ?it/s]"
      ]
     },
     "metadata": {},
     "output_type": "display_data"
    },
    {
     "name": "stdout",
     "output_type": "stream",
     "text": [
      "(02/04) Add constant offset in x direction if given\n"
     ]
    },
    {
     "data": {
      "application/vnd.jupyter.widget-view+json": {
       "model_id": "4983d7a4bc70404da455ebc9835817be",
       "version_major": 2,
       "version_minor": 0
      },
      "text/plain": [
       "  0%|          | 0/2 [00:00<?, ?it/s]"
      ]
     },
     "metadata": {},
     "output_type": "display_data"
    },
    {
     "name": "stdout",
     "output_type": "stream",
     "text": [
      "(03/04) Generate comparing snippet fixation image for snippet\n"
     ]
    },
    {
     "data": {
      "application/vnd.jupyter.widget-view+json": {
       "model_id": "6b4da0846bdd4f64bf8b185d1784afc2",
       "version_major": 2,
       "version_minor": 0
      },
      "text/plain": [
       "  0%|          | 0/2 [00:00<?, ?it/s]"
      ]
     },
     "metadata": {},
     "output_type": "display_data"
    },
    {
     "name": "stdout",
     "output_type": "stream",
     "text": [
      "(04/04) Adapt exclusion file for snippets without fixation accuracy images\n",
      "----------------------------------------------\n",
      "Participant 018\n",
      "no snippets to (re-)work found.\n",
      "----------------------------------------------\n",
      "Participant 019\n",
      "no snippets to (re-)work found.\n",
      "----------------------------------------------\n",
      "Participant 020\n",
      "(01/04) Retrieve fixation data\n"
     ]
    },
    {
     "data": {
      "application/vnd.jupyter.widget-view+json": {
       "model_id": "6961ef9dd6e4453d924c55ab175833a0",
       "version_major": 2,
       "version_minor": 0
      },
      "text/plain": [
       "  0%|          | 0/1 [00:00<?, ?it/s]"
      ]
     },
     "metadata": {},
     "output_type": "display_data"
    },
    {
     "name": "stdout",
     "output_type": "stream",
     "text": [
      "(02/04) Add constant offset in x direction if given\n"
     ]
    },
    {
     "data": {
      "application/vnd.jupyter.widget-view+json": {
       "model_id": "c6420dafc3cc4b538f24cebb6e732762",
       "version_major": 2,
       "version_minor": 0
      },
      "text/plain": [
       "  0%|          | 0/1 [00:00<?, ?it/s]"
      ]
     },
     "metadata": {},
     "output_type": "display_data"
    },
    {
     "name": "stdout",
     "output_type": "stream",
     "text": [
      "(03/04) Generate comparing snippet fixation image for snippet\n"
     ]
    },
    {
     "data": {
      "application/vnd.jupyter.widget-view+json": {
       "model_id": "df3d2bf4116f4b259471471cdf534667",
       "version_major": 2,
       "version_minor": 0
      },
      "text/plain": [
       "  0%|          | 0/1 [00:00<?, ?it/s]"
      ]
     },
     "metadata": {},
     "output_type": "display_data"
    },
    {
     "name": "stdout",
     "output_type": "stream",
     "text": [
      "(04/04) Adapt exclusion file for snippets without fixation accuracy images\n",
      "----------------------------------------------\n",
      "Participant 021\n",
      "no snippets to (re-)work found.\n",
      "----------------------------------------------\n",
      "Participant 022\n",
      "no snippets to (re-)work found.\n",
      "----------------------------------------------\n",
      "Participant 023\n",
      "no snippets to (re-)work found.\n",
      "----------------------------------------------\n",
      "Participant 024\n",
      "no snippets to (re-)work found.\n",
      "----------------------------------------------\n",
      "Participant 101\n",
      "no snippets to (re-)work found.\n",
      "----------------------------------------------\n",
      "Participant 102\n",
      "no snippets to (re-)work found.\n",
      "----------------------------------------------\n",
      "Participant 106\n",
      "no snippets to (re-)work found.\n"
     ]
    }
   ],
   "source": [
    "# Iterate over all participants\n",
    "for participant in tqdm(folders):\n",
    "    print('----------------------------------------------')\n",
    "    print(PARTICIPANT, participant)\n",
    "    if not snippets[participant]:\n",
    "        print('no snippets to (re-)work found.')\n",
    "        continue\n",
    "\n",
    "    print('(01/04) Retrieve fixation data')\n",
    "    participant_snippet_fixations = {}\n",
    "    not_available = set()\n",
    "    for snippet in tqdm(snippets[participant]):\n",
    "        snippet_fixations = {}\n",
    "        for algo in FIXATION_CORRECTION_ALGORITHMS:\n",
    "            # select outliers removed version only if for original fixations\n",
    "            snippet_fixations_path = get_fixations_path(participant, snippet, modified_version=algo,\n",
    "                                                        no_outliers_if_exists=(algo == FIXATION_CORRECTION_ALGORITHM_ORIGINAL))\n",
    "            if snippet_fixations_path.exists():\n",
    "                snippet_fixations[algo] = pd.read_csv(\n",
    "                    snippet_fixations_path, index_col=False, sep=SEPARATOR, dtype={PARTICIPANT: str})\n",
    "        participant_snippet_fixations[snippet] = snippet_fixations\n",
    "\n",
    "    print('(02/04) Add constant offset in x direction if given')\n",
    "    # calculate participant / version offset into data and create views based on that\n",
    "    snippets_with_offset = {}\n",
    "    if participant in x_offsets:\n",
    "        for snippet in tqdm(participant_snippet_fixations):\n",
    "            x_offset = get_snippet_x_offset(x_offsets[participant], snippet)\n",
    "            if x_offset:\n",
    "                # add offset to participant and corrected fixations\n",
    "                for fixation_data in participant_snippet_fixations[snippet].values():\n",
    "                    fixation_data[FIXATION_COLUMN_X] = fixation_data[FIXATION_COLUMN_X]+x_offset\n",
    "                snippets_with_offset[snippet] = x_offset\n",
    "\n",
    "    print('(03/04) Generate comparing snippet fixation image for snippet')\n",
    "    excluded_snippets = {}\n",
    "    for snippet in tqdm(participant_snippet_fixations):\n",
    "        if not participant_snippet_fixations[snippet]:\n",
    "            excluded_snippets[snippet] = f'''01d5_PRE_VIS_Snippet_Correction_Accuracy_Image-it{\n",
    "                current_fixation_correction_iteration()}: No fixation or auto-correction data available.'''\n",
    "            continue\n",
    "        success_snippet = create_accuracy_image(\n",
    "            participant, snippet, participant_snippet_fixations[snippet], snippets_with_offset[snippet] if snippet in snippets_with_offset else 0)\n",
    "        if not success_snippet:\n",
    "            excluded_snippets[snippet] = f'''01d5_PRE_VIS_Snippet_Correction_Accuracy_Image-it{\n",
    "                current_fixation_correction_iteration()}: Auto-corrected image for snippet fixations could not be created.'''\n",
    "\n",
    "    print('(04/04) Adapt exclusion file for snippets without fixation accuracy images')\n",
    "    if excluded_snippets:\n",
    "        print(excluded_snippets)\n",
    "        update_exclusions(participant, SNIPPET, VISUAL, excluded_snippets)"
   ]
  },
  {
   "cell_type": "markdown",
   "metadata": {},
   "source": [
    "### Create evaluation form for this round's manual evaluation"
   ]
  },
  {
   "cell_type": "code",
   "execution_count": 7,
   "metadata": {},
   "outputs": [
    {
     "data": {
      "application/vnd.jupyter.widget-view+json": {
       "model_id": "689f8375a1384266bc27c5f68ecdf2d4",
       "version_major": 2,
       "version_minor": 0
      },
      "text/plain": [
       "  0%|          | 0/24 [00:00<?, ?it/s]"
      ]
     },
     "metadata": {},
     "output_type": "display_data"
    },
    {
     "name": "stdout",
     "output_type": "stream",
     "text": [
      "----------------------------------------------\n",
      "Participant 003\n",
      "(01/02) Retrieve fixation data\n"
     ]
    },
    {
     "data": {
      "application/vnd.jupyter.widget-view+json": {
       "model_id": "6f60e783b6cc4148bf03cd9df9d7afca",
       "version_major": 2,
       "version_minor": 0
      },
      "text/plain": [
       "0it [00:00, ?it/s]"
      ]
     },
     "metadata": {},
     "output_type": "display_data"
    },
    {
     "name": "stdout",
     "output_type": "stream",
     "text": [
      "(02/02) Prepare data for manual accuracy evaluation file\n",
      "----------------------------------------------\n",
      "Participant 004\n",
      "(01/02) Retrieve fixation data\n"
     ]
    },
    {
     "data": {
      "application/vnd.jupyter.widget-view+json": {
       "model_id": "a4219b1690f0408a958f9d83dbcd2b67",
       "version_major": 2,
       "version_minor": 0
      },
      "text/plain": [
       "0it [00:00, ?it/s]"
      ]
     },
     "metadata": {},
     "output_type": "display_data"
    },
    {
     "name": "stdout",
     "output_type": "stream",
     "text": [
      "(02/02) Prepare data for manual accuracy evaluation file\n",
      "----------------------------------------------\n",
      "Participant 005\n",
      "(01/02) Retrieve fixation data\n"
     ]
    },
    {
     "data": {
      "application/vnd.jupyter.widget-view+json": {
       "model_id": "0624a6d7f82046428f38a11a962a3ec7",
       "version_major": 2,
       "version_minor": 0
      },
      "text/plain": [
       "  0%|          | 0/2 [00:00<?, ?it/s]"
      ]
     },
     "metadata": {},
     "output_type": "display_data"
    },
    {
     "name": "stdout",
     "output_type": "stream",
     "text": [
      "(02/02) Prepare data for manual accuracy evaluation file\n",
      "----------------------------------------------\n",
      "Participant 007\n",
      "(01/02) Retrieve fixation data\n"
     ]
    },
    {
     "data": {
      "application/vnd.jupyter.widget-view+json": {
       "model_id": "02a23b9c18f74f3c9afa59bcd6f1e968",
       "version_major": 2,
       "version_minor": 0
      },
      "text/plain": [
       "  0%|          | 0/1 [00:00<?, ?it/s]"
      ]
     },
     "metadata": {},
     "output_type": "display_data"
    },
    {
     "name": "stdout",
     "output_type": "stream",
     "text": [
      "(02/02) Prepare data for manual accuracy evaluation file\n",
      "----------------------------------------------\n",
      "Participant 008\n",
      "(01/02) Retrieve fixation data\n"
     ]
    },
    {
     "data": {
      "application/vnd.jupyter.widget-view+json": {
       "model_id": "8514a50f898e47b3aa293a7e0c7be93c",
       "version_major": 2,
       "version_minor": 0
      },
      "text/plain": [
       "  0%|          | 0/1 [00:00<?, ?it/s]"
      ]
     },
     "metadata": {},
     "output_type": "display_data"
    },
    {
     "name": "stdout",
     "output_type": "stream",
     "text": [
      "(02/02) Prepare data for manual accuracy evaluation file\n",
      "----------------------------------------------\n",
      "Participant 009\n",
      "(01/02) Retrieve fixation data\n"
     ]
    },
    {
     "data": {
      "application/vnd.jupyter.widget-view+json": {
       "model_id": "7ef6a1490d7f4a5abe728a738a71a444",
       "version_major": 2,
       "version_minor": 0
      },
      "text/plain": [
       "  0%|          | 0/1 [00:00<?, ?it/s]"
      ]
     },
     "metadata": {},
     "output_type": "display_data"
    },
    {
     "name": "stdout",
     "output_type": "stream",
     "text": [
      "(02/02) Prepare data for manual accuracy evaluation file\n",
      "----------------------------------------------\n",
      "Participant 010\n",
      "(01/02) Retrieve fixation data\n"
     ]
    },
    {
     "data": {
      "application/vnd.jupyter.widget-view+json": {
       "model_id": "4f4c1dec70854dc5ab761eebc7b6255d",
       "version_major": 2,
       "version_minor": 0
      },
      "text/plain": [
       "  0%|          | 0/1 [00:00<?, ?it/s]"
      ]
     },
     "metadata": {},
     "output_type": "display_data"
    },
    {
     "name": "stdout",
     "output_type": "stream",
     "text": [
      "(02/02) Prepare data for manual accuracy evaluation file\n",
      "----------------------------------------------\n",
      "Participant 011\n",
      "(01/02) Retrieve fixation data\n"
     ]
    },
    {
     "data": {
      "application/vnd.jupyter.widget-view+json": {
       "model_id": "7c26d3d02a4e405eb4187c9f764f8e18",
       "version_major": 2,
       "version_minor": 0
      },
      "text/plain": [
       "0it [00:00, ?it/s]"
      ]
     },
     "metadata": {},
     "output_type": "display_data"
    },
    {
     "name": "stdout",
     "output_type": "stream",
     "text": [
      "(02/02) Prepare data for manual accuracy evaluation file\n",
      "----------------------------------------------\n",
      "Participant 012\n",
      "(01/02) Retrieve fixation data\n"
     ]
    },
    {
     "data": {
      "application/vnd.jupyter.widget-view+json": {
       "model_id": "5dc967c8bcf84b8c9795e65e99432fb8",
       "version_major": 2,
       "version_minor": 0
      },
      "text/plain": [
       "  0%|          | 0/68 [00:00<?, ?it/s]"
      ]
     },
     "metadata": {},
     "output_type": "display_data"
    },
    {
     "name": "stdout",
     "output_type": "stream",
     "text": [
      "(02/02) Prepare data for manual accuracy evaluation file\n",
      "----------------------------------------------\n",
      "Participant 013\n",
      "(01/02) Retrieve fixation data\n"
     ]
    },
    {
     "data": {
      "application/vnd.jupyter.widget-view+json": {
       "model_id": "45abd7dd0dc44905972580296466aeb0",
       "version_major": 2,
       "version_minor": 0
      },
      "text/plain": [
       "0it [00:00, ?it/s]"
      ]
     },
     "metadata": {},
     "output_type": "display_data"
    },
    {
     "name": "stdout",
     "output_type": "stream",
     "text": [
      "(02/02) Prepare data for manual accuracy evaluation file\n",
      "----------------------------------------------\n",
      "Participant 014\n",
      "(01/02) Retrieve fixation data\n"
     ]
    },
    {
     "data": {
      "application/vnd.jupyter.widget-view+json": {
       "model_id": "6846609b32a44588806b0bd75be085ef",
       "version_major": 2,
       "version_minor": 0
      },
      "text/plain": [
       "  0%|          | 0/1 [00:00<?, ?it/s]"
      ]
     },
     "metadata": {},
     "output_type": "display_data"
    },
    {
     "name": "stdout",
     "output_type": "stream",
     "text": [
      "(02/02) Prepare data for manual accuracy evaluation file\n",
      "----------------------------------------------\n",
      "Participant 015\n",
      "(01/02) Retrieve fixation data\n"
     ]
    },
    {
     "data": {
      "application/vnd.jupyter.widget-view+json": {
       "model_id": "2cfafeaa2b524693ad83d81c94ac90ad",
       "version_major": 2,
       "version_minor": 0
      },
      "text/plain": [
       "0it [00:00, ?it/s]"
      ]
     },
     "metadata": {},
     "output_type": "display_data"
    },
    {
     "name": "stdout",
     "output_type": "stream",
     "text": [
      "(02/02) Prepare data for manual accuracy evaluation file\n",
      "----------------------------------------------\n",
      "Participant 016\n",
      "(01/02) Retrieve fixation data\n"
     ]
    },
    {
     "data": {
      "application/vnd.jupyter.widget-view+json": {
       "model_id": "7e627e96313543e3a020453c5e5b5b28",
       "version_major": 2,
       "version_minor": 0
      },
      "text/plain": [
       "0it [00:00, ?it/s]"
      ]
     },
     "metadata": {},
     "output_type": "display_data"
    },
    {
     "name": "stdout",
     "output_type": "stream",
     "text": [
      "(02/02) Prepare data for manual accuracy evaluation file\n",
      "----------------------------------------------\n",
      "Participant 017\n",
      "(01/02) Retrieve fixation data\n"
     ]
    },
    {
     "data": {
      "application/vnd.jupyter.widget-view+json": {
       "model_id": "08faadb6ecf74381916dd882c4806e78",
       "version_major": 2,
       "version_minor": 0
      },
      "text/plain": [
       "  0%|          | 0/2 [00:00<?, ?it/s]"
      ]
     },
     "metadata": {},
     "output_type": "display_data"
    },
    {
     "name": "stdout",
     "output_type": "stream",
     "text": [
      "(02/02) Prepare data for manual accuracy evaluation file\n",
      "----------------------------------------------\n",
      "Participant 018\n",
      "(01/02) Retrieve fixation data\n"
     ]
    },
    {
     "data": {
      "application/vnd.jupyter.widget-view+json": {
       "model_id": "57038c583b2b4528b9a9a50e1d12ab76",
       "version_major": 2,
       "version_minor": 0
      },
      "text/plain": [
       "0it [00:00, ?it/s]"
      ]
     },
     "metadata": {},
     "output_type": "display_data"
    },
    {
     "name": "stdout",
     "output_type": "stream",
     "text": [
      "(02/02) Prepare data for manual accuracy evaluation file\n",
      "----------------------------------------------\n",
      "Participant 019\n",
      "(01/02) Retrieve fixation data\n"
     ]
    },
    {
     "data": {
      "application/vnd.jupyter.widget-view+json": {
       "model_id": "a74ad85809af4d97aced80d8c72d2761",
       "version_major": 2,
       "version_minor": 0
      },
      "text/plain": [
       "0it [00:00, ?it/s]"
      ]
     },
     "metadata": {},
     "output_type": "display_data"
    },
    {
     "name": "stdout",
     "output_type": "stream",
     "text": [
      "(02/02) Prepare data for manual accuracy evaluation file\n",
      "----------------------------------------------\n",
      "Participant 020\n",
      "(01/02) Retrieve fixation data\n"
     ]
    },
    {
     "data": {
      "application/vnd.jupyter.widget-view+json": {
       "model_id": "7d30865f132f4fde86e09be3cc751ebc",
       "version_major": 2,
       "version_minor": 0
      },
      "text/plain": [
       "  0%|          | 0/1 [00:00<?, ?it/s]"
      ]
     },
     "metadata": {},
     "output_type": "display_data"
    },
    {
     "name": "stdout",
     "output_type": "stream",
     "text": [
      "(02/02) Prepare data for manual accuracy evaluation file\n",
      "----------------------------------------------\n",
      "Participant 021\n",
      "(01/02) Retrieve fixation data\n"
     ]
    },
    {
     "data": {
      "application/vnd.jupyter.widget-view+json": {
       "model_id": "31790bc296184bb69bfcfed8718763b4",
       "version_major": 2,
       "version_minor": 0
      },
      "text/plain": [
       "0it [00:00, ?it/s]"
      ]
     },
     "metadata": {},
     "output_type": "display_data"
    },
    {
     "name": "stdout",
     "output_type": "stream",
     "text": [
      "(02/02) Prepare data for manual accuracy evaluation file\n",
      "----------------------------------------------\n",
      "Participant 022\n",
      "(01/02) Retrieve fixation data\n"
     ]
    },
    {
     "data": {
      "application/vnd.jupyter.widget-view+json": {
       "model_id": "67b22493d36d4feea8b273ca86d84707",
       "version_major": 2,
       "version_minor": 0
      },
      "text/plain": [
       "0it [00:00, ?it/s]"
      ]
     },
     "metadata": {},
     "output_type": "display_data"
    },
    {
     "name": "stdout",
     "output_type": "stream",
     "text": [
      "(02/02) Prepare data for manual accuracy evaluation file\n",
      "----------------------------------------------\n",
      "Participant 023\n",
      "(01/02) Retrieve fixation data\n"
     ]
    },
    {
     "data": {
      "application/vnd.jupyter.widget-view+json": {
       "model_id": "ec738acce02f4b20bcd2591b25bdf8b6",
       "version_major": 2,
       "version_minor": 0
      },
      "text/plain": [
       "0it [00:00, ?it/s]"
      ]
     },
     "metadata": {},
     "output_type": "display_data"
    },
    {
     "name": "stdout",
     "output_type": "stream",
     "text": [
      "(02/02) Prepare data for manual accuracy evaluation file\n",
      "----------------------------------------------\n",
      "Participant 024\n",
      "(01/02) Retrieve fixation data\n"
     ]
    },
    {
     "data": {
      "application/vnd.jupyter.widget-view+json": {
       "model_id": "245ba7d19f1d4bf68a7c190ab0b2fc34",
       "version_major": 2,
       "version_minor": 0
      },
      "text/plain": [
       "0it [00:00, ?it/s]"
      ]
     },
     "metadata": {},
     "output_type": "display_data"
    },
    {
     "name": "stdout",
     "output_type": "stream",
     "text": [
      "(02/02) Prepare data for manual accuracy evaluation file\n",
      "----------------------------------------------\n",
      "Participant 101\n",
      "(01/02) Retrieve fixation data\n"
     ]
    },
    {
     "data": {
      "application/vnd.jupyter.widget-view+json": {
       "model_id": "7761274b688740a29f3ad800c3596d29",
       "version_major": 2,
       "version_minor": 0
      },
      "text/plain": [
       "0it [00:00, ?it/s]"
      ]
     },
     "metadata": {},
     "output_type": "display_data"
    },
    {
     "name": "stdout",
     "output_type": "stream",
     "text": [
      "(02/02) Prepare data for manual accuracy evaluation file\n",
      "----------------------------------------------\n",
      "Participant 102\n",
      "(01/02) Retrieve fixation data\n"
     ]
    },
    {
     "data": {
      "application/vnd.jupyter.widget-view+json": {
       "model_id": "d4fc813ee98a404d909315adb6e73a16",
       "version_major": 2,
       "version_minor": 0
      },
      "text/plain": [
       "0it [00:00, ?it/s]"
      ]
     },
     "metadata": {},
     "output_type": "display_data"
    },
    {
     "name": "stdout",
     "output_type": "stream",
     "text": [
      "(02/02) Prepare data for manual accuracy evaluation file\n",
      "----------------------------------------------\n",
      "Participant 106\n",
      "(01/02) Retrieve fixation data\n"
     ]
    },
    {
     "data": {
      "application/vnd.jupyter.widget-view+json": {
       "model_id": "396bc55e15fd478ca830a3c1cf97d541",
       "version_major": 2,
       "version_minor": 0
      },
      "text/plain": [
       "0it [00:00, ?it/s]"
      ]
     },
     "metadata": {},
     "output_type": "display_data"
    },
    {
     "name": "stdout",
     "output_type": "stream",
     "text": [
      "(02/02) Prepare data for manual accuracy evaluation file\n"
     ]
    }
   ],
   "source": [
    "# Iterate over all participants\n",
    "for participant in tqdm(folders):\n",
    "    print('----------------------------------------------')\n",
    "    print(PARTICIPANT, participant)\n",
    "    \n",
    "    print('(01/02) Retrieve fixation data')\n",
    "    participant_snippet_fixations = {}\n",
    "    not_available = set()\n",
    "    for snippet in tqdm(snippets[participant]):\n",
    "        snippet_fixations = {}\n",
    "        for algo in FIXATION_CORRECTION_ALGORITHMS:\n",
    "            # select outliers removed version only if for original fixations\n",
    "            snippet_fixations_path = get_fixations_path(participant, snippet, modified_version=algo,\n",
    "                                                        no_outliers_if_exists=(algo == FIXATION_CORRECTION_ALGORITHM_ORIGINAL))\n",
    "            if snippet_fixations_path.exists():\n",
    "                snippet_fixations[algo] = SNIPPET\n",
    "        participant_snippet_fixations[snippet] = snippet_fixations\n",
    "\n",
    "    print('(02/02) Prepare data for manual accuracy evaluation file')\n",
    "    manual_evaluation = create_manual_accuracy_evaluation(\n",
    "        participant_snippet_fixations)\n",
    "    if current_fixation_correction_iteration() > 1:\n",
    "        # add manual evaluation from previous iteration\n",
    "        previous_manual_evaluation = pd.read_csv(\n",
    "            manual_evaluation_paths[participant], sep=SEPARATOR, index_col=False, dtype={PARTICIPANT: str})\n",
    "        new_manual_evaluation = manual_evaluation\n",
    "        manual_evaluation = pd.concat(\n",
    "            [previous_manual_evaluation, new_manual_evaluation]).drop_duplicates([SNIPPET], keep='last')\n",
    "    manual_evaluation.to_csv(get_manual_accuracy_evaluation_path(\n",
    "        participant, performed=not snippets[participant]), sep=SEPARATOR, index=False)"
   ]
  }
 ],
 "metadata": {
  "kernelspec": {
   "display_name": "Python 3",
   "language": "python",
   "name": "python3"
  },
  "language_info": {
   "codemirror_mode": {
    "name": "ipython",
    "version": 3
   },
   "file_extension": ".py",
   "mimetype": "text/x-python",
   "name": "python",
   "nbconvert_exporter": "python",
   "pygments_lexer": "ipython3",
   "version": "3.11.5"
  }
 },
 "nbformat": 4,
 "nbformat_minor": 4
}
