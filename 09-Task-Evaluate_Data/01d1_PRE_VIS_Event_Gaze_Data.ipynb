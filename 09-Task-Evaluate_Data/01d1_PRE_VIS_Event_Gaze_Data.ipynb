{
 "cells": [
  {
   "attachments": {},
   "cell_type": "markdown",
   "metadata": {},
   "source": [
    "# Extract Visual Data\n",
    "Status: Implemented\n",
    " -- Fully automatized"
   ]
  },
  {
   "cell_type": "code",
   "execution_count": 1,
   "metadata": {
    "collapsed": false,
    "jupyter": {
     "outputs_hidden": false
    }
   },
   "outputs": [],
   "source": [
    "import warnings\n",
    "\n",
    "import pandas as pd\n",
    "from tqdm.notebook import tqdm\n",
    "from utils.utils import *\n",
    "\n",
    "warnings.filterwarnings(\"ignore\")"
   ]
  },
  {
   "cell_type": "code",
   "execution_count": 2,
   "metadata": {
    "collapsed": false,
    "jupyter": {
     "outputs_hidden": false
    }
   },
   "outputs": [],
   "source": [
    "# get all files from participants\n",
    "folders = get_participant_folder_per_participant()\n",
    "hdf_files = get_hdf_files_per_participant()\n",
    "sequence_orders = get_sequence_order_per_participant()\n",
    "assert (set(folders.keys()) == set(hdf_files.keys()))\n",
    "assert (set(folders.keys()) == set(sequence_orders.keys()))\n",
    "snippets = {p: list(sequence_orders[p][SNIPPET].values)\n",
    "            for p in sequence_orders}"
   ]
  },
  {
   "attachments": {},
   "cell_type": "markdown",
   "metadata": {},
   "source": [
    "### Extract gaze data\n",
    "* convert gaze coordinates\n",
    "* extract gazes for each trial"
   ]
  },
  {
   "cell_type": "code",
   "execution_count": 3,
   "metadata": {},
   "outputs": [
    {
     "data": {
      "application/vnd.jupyter.widget-view+json": {
       "model_id": "cca9f75d8cd64497b83bfb7770e313b3",
       "version_major": 2,
       "version_minor": 0
      },
      "text/plain": [
       "  0%|          | 0/24 [00:00<?, ?it/s]"
      ]
     },
     "metadata": {},
     "output_type": "display_data"
    },
    {
     "name": "stdout",
     "output_type": "stream",
     "text": [
      "----------------------------------------------\n",
      "Participant 003\n"
     ]
    },
    {
     "data": {
      "application/vnd.jupyter.widget-view+json": {
       "model_id": "e914843ec81540138e4ecbad8d81e314",
       "version_major": 2,
       "version_minor": 0
      },
      "text/plain": [
       "0it [00:00, ?it/s]"
      ]
     },
     "metadata": {},
     "output_type": "display_data"
    },
    {
     "name": "stdout",
     "output_type": "stream",
     "text": [
      "(01/05) Load visual events from file ..\\08-Data-Trial_Recordings\\raw\\E003\\Experiment_003_part01.hdf5\n",
      "(02/05) Clean and prepare gaze data\n",
      "(03/05) Extract gaze data that is in accordance with each snippet's timing data\n",
      "(04/05) Basic check of each snippet's gazes\n",
      "(05/05) Store gaze data\n"
     ]
    },
    {
     "data": {
      "application/vnd.jupyter.widget-view+json": {
       "model_id": "bd44e2a9835e40d7901b625bc66987db",
       "version_major": 2,
       "version_minor": 0
      },
      "text/plain": [
       "  0%|          | 0/72 [00:00<?, ?it/s]"
      ]
     },
     "metadata": {},
     "output_type": "display_data"
    },
    {
     "data": {
      "application/vnd.jupyter.widget-view+json": {
       "model_id": "03c37f219f3143c1b6a6a062a66080c9",
       "version_major": 2,
       "version_minor": 0
      },
      "text/plain": [
       "  0%|          | 0/72 [00:00<?, ?it/s]"
      ]
     },
     "metadata": {},
     "output_type": "display_data"
    },
    {
     "name": "stdout",
     "output_type": "stream",
     "text": [
      "----------------------------------------------\n",
      "Participant 004\n"
     ]
    },
    {
     "data": {
      "application/vnd.jupyter.widget-view+json": {
       "model_id": "a9b8c0facbb44e3db3deba1a5dc1a226",
       "version_major": 2,
       "version_minor": 0
      },
      "text/plain": [
       "0it [00:00, ?it/s]"
      ]
     },
     "metadata": {},
     "output_type": "display_data"
    },
    {
     "name": "stdout",
     "output_type": "stream",
     "text": [
      "(01/05) Load visual events from file ..\\08-Data-Trial_Recordings\\raw\\E004\\Experiment_004_part01.hdf5\n",
      "(02/05) Clean and prepare gaze data\n",
      "(03/05) Extract gaze data that is in accordance with each snippet's timing data\n",
      "(04/05) Basic check of each snippet's gazes\n",
      "(01/05) Load visual events from file ..\\08-Data-Trial_Recordings\\raw\\E004\\Experiment_004_part02.hdf5\n",
      "(02/05) Clean and prepare gaze data\n",
      "(03/05) Extract gaze data that is in accordance with each snippet's timing data\n",
      "(04/05) Basic check of each snippet's gazes\n",
      "(05/05) Store gaze data\n"
     ]
    },
    {
     "data": {
      "application/vnd.jupyter.widget-view+json": {
       "model_id": "e55a137debef42188bf4b8a62aa8fc95",
       "version_major": 2,
       "version_minor": 0
      },
      "text/plain": [
       "  0%|          | 0/72 [00:00<?, ?it/s]"
      ]
     },
     "metadata": {},
     "output_type": "display_data"
    },
    {
     "data": {
      "application/vnd.jupyter.widget-view+json": {
       "model_id": "4510cdc734664bfdb203d676d7a0ef37",
       "version_major": 2,
       "version_minor": 0
      },
      "text/plain": [
       "  0%|          | 0/72 [00:00<?, ?it/s]"
      ]
     },
     "metadata": {},
     "output_type": "display_data"
    },
    {
     "name": "stdout",
     "output_type": "stream",
     "text": [
      "----------------------------------------------\n",
      "Participant 005\n"
     ]
    },
    {
     "data": {
      "application/vnd.jupyter.widget-view+json": {
       "model_id": "7284459591d14eb2974c8b6b160d313e",
       "version_major": 2,
       "version_minor": 0
      },
      "text/plain": [
       "0it [00:00, ?it/s]"
      ]
     },
     "metadata": {},
     "output_type": "display_data"
    },
    {
     "name": "stdout",
     "output_type": "stream",
     "text": [
      "(01/05) Load visual events from file ..\\08-Data-Trial_Recordings\\raw\\E005\\Experiment_005_part01.hdf5\n",
      "(02/05) Clean and prepare gaze data\n",
      "(03/05) Extract gaze data that is in accordance with each snippet's timing data\n",
      "(04/05) Basic check of each snippet's gazes\n",
      "(05/05) Store gaze data\n"
     ]
    },
    {
     "data": {
      "application/vnd.jupyter.widget-view+json": {
       "model_id": "b2d4f3e1f7d14e638219a322ee4162f9",
       "version_major": 2,
       "version_minor": 0
      },
      "text/plain": [
       "  0%|          | 0/72 [00:00<?, ?it/s]"
      ]
     },
     "metadata": {},
     "output_type": "display_data"
    },
    {
     "data": {
      "application/vnd.jupyter.widget-view+json": {
       "model_id": "69e6e49df4c84962b0de65a2f88d2bc0",
       "version_major": 2,
       "version_minor": 0
      },
      "text/plain": [
       "  0%|          | 0/72 [00:00<?, ?it/s]"
      ]
     },
     "metadata": {},
     "output_type": "display_data"
    },
    {
     "name": "stdout",
     "output_type": "stream",
     "text": [
      "----------------------------------------------\n",
      "Participant 007\n"
     ]
    },
    {
     "data": {
      "application/vnd.jupyter.widget-view+json": {
       "model_id": "0b25a23fbc3142ddbe8de7365276fa3e",
       "version_major": 2,
       "version_minor": 0
      },
      "text/plain": [
       "0it [00:00, ?it/s]"
      ]
     },
     "metadata": {},
     "output_type": "display_data"
    },
    {
     "name": "stdout",
     "output_type": "stream",
     "text": [
      "(01/05) Load visual events from file ..\\08-Data-Trial_Recordings\\raw\\E007\\Experiment_007_part01.hdf5\n",
      "(02/05) Clean and prepare gaze data\n",
      "(03/05) Extract gaze data that is in accordance with each snippet's timing data\n",
      "(04/05) Basic check of each snippet's gazes\n",
      "(01/05) Load visual events from file ..\\08-Data-Trial_Recordings\\raw\\E007\\Experiment_007_part02.hdf5\n",
      "(02/05) Clean and prepare gaze data\n",
      "(03/05) Extract gaze data that is in accordance with each snippet's timing data\n",
      "(04/05) Basic check of each snippet's gazes\n",
      "(05/05) Store gaze data\n"
     ]
    },
    {
     "data": {
      "application/vnd.jupyter.widget-view+json": {
       "model_id": "41c12f1229e74f45ac972b16b452d455",
       "version_major": 2,
       "version_minor": 0
      },
      "text/plain": [
       "  0%|          | 0/72 [00:00<?, ?it/s]"
      ]
     },
     "metadata": {},
     "output_type": "display_data"
    },
    {
     "data": {
      "application/vnd.jupyter.widget-view+json": {
       "model_id": "9fe9fe6dbfc24d40be2628ed227ba424",
       "version_major": 2,
       "version_minor": 0
      },
      "text/plain": [
       "  0%|          | 0/72 [00:00<?, ?it/s]"
      ]
     },
     "metadata": {},
     "output_type": "display_data"
    },
    {
     "name": "stdout",
     "output_type": "stream",
     "text": [
      "----------------------------------------------\n",
      "Participant 008\n"
     ]
    },
    {
     "data": {
      "application/vnd.jupyter.widget-view+json": {
       "model_id": "4af559ab9efe43a29258d2c7ba84e4fc",
       "version_major": 2,
       "version_minor": 0
      },
      "text/plain": [
       "0it [00:00, ?it/s]"
      ]
     },
     "metadata": {},
     "output_type": "display_data"
    },
    {
     "name": "stdout",
     "output_type": "stream",
     "text": [
      "(01/05) Load visual events from file ..\\08-Data-Trial_Recordings\\raw\\E008\\Experiment_008_part01.hdf5\n",
      "(02/05) Clean and prepare gaze data\n",
      "(03/05) Extract gaze data that is in accordance with each snippet's timing data\n",
      "(04/05) Basic check of each snippet's gazes\n",
      "(01/05) Load visual events from file ..\\08-Data-Trial_Recordings\\raw\\E008\\Experiment_008_part02.hdf5\n",
      "(02/05) Clean and prepare gaze data\n",
      "(03/05) Extract gaze data that is in accordance with each snippet's timing data\n",
      "(04/05) Basic check of each snippet's gazes\n",
      "(01/05) Load visual events from file ..\\08-Data-Trial_Recordings\\raw\\E008\\Experiment_008_part03.hdf5\n",
      "(02/05) Clean and prepare gaze data\n",
      "(03/05) Extract gaze data that is in accordance with each snippet's timing data\n",
      "(04/05) Basic check of each snippet's gazes\n",
      "(01/05) Load visual events from file ..\\08-Data-Trial_Recordings\\raw\\E008\\Experiment_008_part04.hdf5\n",
      "(02/05) Clean and prepare gaze data\n",
      "(03/05) Extract gaze data that is in accordance with each snippet's timing data\n",
      "(04/05) Basic check of each snippet's gazes\n",
      "(05/05) Store gaze data\n"
     ]
    },
    {
     "data": {
      "application/vnd.jupyter.widget-view+json": {
       "model_id": "df906ee2375e4d9dbeb309a8444fffe6",
       "version_major": 2,
       "version_minor": 0
      },
      "text/plain": [
       "  0%|          | 0/72 [00:00<?, ?it/s]"
      ]
     },
     "metadata": {},
     "output_type": "display_data"
    },
    {
     "data": {
      "application/vnd.jupyter.widget-view+json": {
       "model_id": "f0055773495346ce9ecab040fe33600b",
       "version_major": 2,
       "version_minor": 0
      },
      "text/plain": [
       "  0%|          | 0/72 [00:00<?, ?it/s]"
      ]
     },
     "metadata": {},
     "output_type": "display_data"
    },
    {
     "name": "stdout",
     "output_type": "stream",
     "text": [
      "----------------------------------------------\n",
      "Participant 009\n"
     ]
    },
    {
     "data": {
      "application/vnd.jupyter.widget-view+json": {
       "model_id": "6cbb05eac06a45df9a71322ebf12872f",
       "version_major": 2,
       "version_minor": 0
      },
      "text/plain": [
       "0it [00:00, ?it/s]"
      ]
     },
     "metadata": {},
     "output_type": "display_data"
    },
    {
     "name": "stdout",
     "output_type": "stream",
     "text": [
      "(01/05) Load visual events from file ..\\08-Data-Trial_Recordings\\raw\\E009\\Experiment_009_part01.hdf5\n",
      "(02/05) Clean and prepare gaze data\n",
      "(03/05) Extract gaze data that is in accordance with each snippet's timing data\n",
      "(04/05) Basic check of each snippet's gazes\n",
      "(01/05) Load visual events from file ..\\08-Data-Trial_Recordings\\raw\\E009\\Experiment_009_part02.hdf5\n",
      "(02/05) Clean and prepare gaze data\n",
      "(03/05) Extract gaze data that is in accordance with each snippet's timing data\n",
      "(04/05) Basic check of each snippet's gazes\n",
      "(05/05) Store gaze data\n"
     ]
    },
    {
     "data": {
      "application/vnd.jupyter.widget-view+json": {
       "model_id": "eb85f1587f6d4bf38ca4a824bcbe8f61",
       "version_major": 2,
       "version_minor": 0
      },
      "text/plain": [
       "  0%|          | 0/72 [00:00<?, ?it/s]"
      ]
     },
     "metadata": {},
     "output_type": "display_data"
    },
    {
     "data": {
      "application/vnd.jupyter.widget-view+json": {
       "model_id": "73c1bf79816e4a08b638959ff5212168",
       "version_major": 2,
       "version_minor": 0
      },
      "text/plain": [
       "  0%|          | 0/72 [00:00<?, ?it/s]"
      ]
     },
     "metadata": {},
     "output_type": "display_data"
    },
    {
     "name": "stdout",
     "output_type": "stream",
     "text": [
      "----------------------------------------------\n",
      "Participant 010\n"
     ]
    },
    {
     "data": {
      "application/vnd.jupyter.widget-view+json": {
       "model_id": "997b1714259c4ddbb00c9f1401c8b800",
       "version_major": 2,
       "version_minor": 0
      },
      "text/plain": [
       "0it [00:00, ?it/s]"
      ]
     },
     "metadata": {},
     "output_type": "display_data"
    },
    {
     "name": "stdout",
     "output_type": "stream",
     "text": [
      "(01/05) Load visual events from file ..\\08-Data-Trial_Recordings\\raw\\E010\\Experiment_010_part01.hdf5\n",
      "(02/05) Clean and prepare gaze data\n",
      "(03/05) Extract gaze data that is in accordance with each snippet's timing data\n",
      "(04/05) Basic check of each snippet's gazes\n",
      "(01/05) Load visual events from file ..\\08-Data-Trial_Recordings\\raw\\E010\\Experiment_010_part02.hdf5\n",
      "(02/05) Clean and prepare gaze data\n",
      "(03/05) Extract gaze data that is in accordance with each snippet's timing data\n",
      "(04/05) Basic check of each snippet's gazes\n",
      "(05/05) Store gaze data\n"
     ]
    },
    {
     "data": {
      "application/vnd.jupyter.widget-view+json": {
       "model_id": "4f77f4ba6eb84a8fb73d8c1d38656864",
       "version_major": 2,
       "version_minor": 0
      },
      "text/plain": [
       "  0%|          | 0/72 [00:00<?, ?it/s]"
      ]
     },
     "metadata": {},
     "output_type": "display_data"
    },
    {
     "data": {
      "application/vnd.jupyter.widget-view+json": {
       "model_id": "14b879bbd9934b02b7d544176f3ec9ba",
       "version_major": 2,
       "version_minor": 0
      },
      "text/plain": [
       "  0%|          | 0/72 [00:00<?, ?it/s]"
      ]
     },
     "metadata": {},
     "output_type": "display_data"
    },
    {
     "name": "stdout",
     "output_type": "stream",
     "text": [
      "----------------------------------------------\n",
      "Participant 011\n"
     ]
    },
    {
     "data": {
      "application/vnd.jupyter.widget-view+json": {
       "model_id": "55130eb73ed14136b12fb79bbe87c67b",
       "version_major": 2,
       "version_minor": 0
      },
      "text/plain": [
       "0it [00:00, ?it/s]"
      ]
     },
     "metadata": {},
     "output_type": "display_data"
    },
    {
     "name": "stdout",
     "output_type": "stream",
     "text": [
      "(01/05) Load visual events from file ..\\08-Data-Trial_Recordings\\raw\\E011\\Experiment_011_part01.hdf5\n",
      "(02/05) Clean and prepare gaze data\n",
      "(03/05) Extract gaze data that is in accordance with each snippet's timing data\n",
      "(04/05) Basic check of each snippet's gazes\n",
      "(05/05) Store gaze data\n"
     ]
    },
    {
     "data": {
      "application/vnd.jupyter.widget-view+json": {
       "model_id": "0f5cab13dcc84a458777a7c22e01d3cd",
       "version_major": 2,
       "version_minor": 0
      },
      "text/plain": [
       "  0%|          | 0/72 [00:00<?, ?it/s]"
      ]
     },
     "metadata": {},
     "output_type": "display_data"
    },
    {
     "data": {
      "application/vnd.jupyter.widget-view+json": {
       "model_id": "cdf01d41937740e4ad6a952a9cec80b1",
       "version_major": 2,
       "version_minor": 0
      },
      "text/plain": [
       "  0%|          | 0/72 [00:00<?, ?it/s]"
      ]
     },
     "metadata": {},
     "output_type": "display_data"
    },
    {
     "name": "stdout",
     "output_type": "stream",
     "text": [
      "----------------------------------------------\n",
      "Participant 012\n"
     ]
    },
    {
     "data": {
      "application/vnd.jupyter.widget-view+json": {
       "model_id": "71c5644399c44af5b1cf4ca68d80ea8e",
       "version_major": 2,
       "version_minor": 0
      },
      "text/plain": [
       "0it [00:00, ?it/s]"
      ]
     },
     "metadata": {},
     "output_type": "display_data"
    },
    {
     "name": "stdout",
     "output_type": "stream",
     "text": [
      "(01/05) Load visual events from file ..\\08-Data-Trial_Recordings\\raw\\E012\\Experiment_012_part01.hdf5\n",
      "(02/05) Clean and prepare gaze data\n",
      "(03/05) Extract gaze data that is in accordance with each snippet's timing data\n",
      "(04/05) Basic check of each snippet's gazes\n",
      "(01/05) Load visual events from file ..\\08-Data-Trial_Recordings\\raw\\E012\\Experiment_012_part02.hdf5\n",
      "(02/05) Clean and prepare gaze data\n",
      "(03/05) Extract gaze data that is in accordance with each snippet's timing data\n",
      "(04/05) Basic check of each snippet's gazes\n",
      "(01/05) Load visual events from file ..\\08-Data-Trial_Recordings\\raw\\E012\\Experiment_012_part03.hdf5\n",
      "(02/05) Clean and prepare gaze data\n",
      "(03/05) Extract gaze data that is in accordance with each snippet's timing data\n",
      "(04/05) Basic check of each snippet's gazes\n",
      "(05/05) Store gaze data\n"
     ]
    },
    {
     "data": {
      "application/vnd.jupyter.widget-view+json": {
       "model_id": "4a0653320e574044b2516085f78f14ea",
       "version_major": 2,
       "version_minor": 0
      },
      "text/plain": [
       "  0%|          | 0/72 [00:00<?, ?it/s]"
      ]
     },
     "metadata": {},
     "output_type": "display_data"
    },
    {
     "data": {
      "application/vnd.jupyter.widget-view+json": {
       "model_id": "9c5d981c26f04311b94cb8bf3e131706",
       "version_major": 2,
       "version_minor": 0
      },
      "text/plain": [
       "  0%|          | 0/72 [00:00<?, ?it/s]"
      ]
     },
     "metadata": {},
     "output_type": "display_data"
    },
    {
     "name": "stdout",
     "output_type": "stream",
     "text": [
      "----------------------------------------------\n",
      "Participant 013\n"
     ]
    },
    {
     "data": {
      "application/vnd.jupyter.widget-view+json": {
       "model_id": "2e8164efdba648848a6d4d50ddcd04f2",
       "version_major": 2,
       "version_minor": 0
      },
      "text/plain": [
       "0it [00:00, ?it/s]"
      ]
     },
     "metadata": {},
     "output_type": "display_data"
    },
    {
     "name": "stdout",
     "output_type": "stream",
     "text": [
      "(01/05) Load visual events from file ..\\08-Data-Trial_Recordings\\raw\\E013\\Experiment_013_part01.hdf5\n",
      "(02/05) Clean and prepare gaze data\n",
      "(03/05) Extract gaze data that is in accordance with each snippet's timing data\n",
      "(04/05) Basic check of each snippet's gazes\n",
      "(05/05) Store gaze data\n"
     ]
    },
    {
     "data": {
      "application/vnd.jupyter.widget-view+json": {
       "model_id": "c4d470a56b554184bddf8f96e146ce64",
       "version_major": 2,
       "version_minor": 0
      },
      "text/plain": [
       "  0%|          | 0/72 [00:00<?, ?it/s]"
      ]
     },
     "metadata": {},
     "output_type": "display_data"
    },
    {
     "data": {
      "application/vnd.jupyter.widget-view+json": {
       "model_id": "d3ec2669f1c740148835ef34b0b0c394",
       "version_major": 2,
       "version_minor": 0
      },
      "text/plain": [
       "  0%|          | 0/72 [00:00<?, ?it/s]"
      ]
     },
     "metadata": {},
     "output_type": "display_data"
    },
    {
     "name": "stdout",
     "output_type": "stream",
     "text": [
      "----------------------------------------------\n",
      "Participant 014\n"
     ]
    },
    {
     "data": {
      "application/vnd.jupyter.widget-view+json": {
       "model_id": "c4b6990d473f48578384a2782fa6778b",
       "version_major": 2,
       "version_minor": 0
      },
      "text/plain": [
       "0it [00:00, ?it/s]"
      ]
     },
     "metadata": {},
     "output_type": "display_data"
    },
    {
     "name": "stdout",
     "output_type": "stream",
     "text": [
      "(01/05) Load visual events from file ..\\08-Data-Trial_Recordings\\raw\\E014\\Experiment_014_part01.hdf5\n",
      "(02/05) Clean and prepare gaze data\n",
      "(03/05) Extract gaze data that is in accordance with each snippet's timing data\n",
      "(04/05) Basic check of each snippet's gazes\n",
      "(01/05) Load visual events from file ..\\08-Data-Trial_Recordings\\raw\\E014\\Experiment_014_part02.hdf5\n",
      "(02/05) Clean and prepare gaze data\n",
      "(03/05) Extract gaze data that is in accordance with each snippet's timing data\n",
      "(04/05) Basic check of each snippet's gazes\n",
      "(01/05) Load visual events from file ..\\08-Data-Trial_Recordings\\raw\\E014\\Experiment_014_part03.hdf5\n",
      "(02/05) Clean and prepare gaze data\n",
      "(03/05) Extract gaze data that is in accordance with each snippet's timing data\n",
      "(04/05) Basic check of each snippet's gazes\n",
      "(01/05) Load visual events from file ..\\08-Data-Trial_Recordings\\raw\\E014\\Experiment_014_part04.hdf5\n",
      "(02/05) Clean and prepare gaze data\n",
      "(03/05) Extract gaze data that is in accordance with each snippet's timing data\n",
      "(04/05) Basic check of each snippet's gazes\n",
      "(01/05) Load visual events from file ..\\08-Data-Trial_Recordings\\raw\\E014\\Experiment_014_part05.hdf5\n",
      "(02/05) Clean and prepare gaze data\n",
      "(03/05) Extract gaze data that is in accordance with each snippet's timing data\n",
      "(04/05) Basic check of each snippet's gazes\n",
      "(01/05) Load visual events from file ..\\08-Data-Trial_Recordings\\raw\\E014\\Experiment_014_part06.hdf5\n",
      "(02/05) Clean and prepare gaze data\n",
      "(03/05) Extract gaze data that is in accordance with each snippet's timing data\n",
      "(04/05) Basic check of each snippet's gazes\n",
      "(01/05) Load visual events from file ..\\08-Data-Trial_Recordings\\raw\\E014\\Experiment_014_part07.hdf5\n",
      "(02/05) Clean and prepare gaze data\n",
      "(03/05) Extract gaze data that is in accordance with each snippet's timing data\n",
      "(04/05) Basic check of each snippet's gazes\n",
      "(05/05) Store gaze data\n"
     ]
    },
    {
     "data": {
      "application/vnd.jupyter.widget-view+json": {
       "model_id": "0d7622047d174eb5b255eb4bf3f618d0",
       "version_major": 2,
       "version_minor": 0
      },
      "text/plain": [
       "  0%|          | 0/71 [00:00<?, ?it/s]"
      ]
     },
     "metadata": {},
     "output_type": "display_data"
    },
    {
     "data": {
      "application/vnd.jupyter.widget-view+json": {
       "model_id": "dd7e155322d341e78678e122cb138115",
       "version_major": 2,
       "version_minor": 0
      },
      "text/plain": [
       "  0%|          | 0/71 [00:00<?, ?it/s]"
      ]
     },
     "metadata": {},
     "output_type": "display_data"
    },
    {
     "name": "stdout",
     "output_type": "stream",
     "text": [
      "----------------------------------------------\n",
      "Participant 015\n"
     ]
    },
    {
     "data": {
      "application/vnd.jupyter.widget-view+json": {
       "model_id": "45f8fc0ec741410db1c30b9593034876",
       "version_major": 2,
       "version_minor": 0
      },
      "text/plain": [
       "0it [00:00, ?it/s]"
      ]
     },
     "metadata": {},
     "output_type": "display_data"
    },
    {
     "name": "stdout",
     "output_type": "stream",
     "text": [
      "(01/05) Load visual events from file ..\\08-Data-Trial_Recordings\\raw\\E015\\Experiment_015_part01.hdf5\n",
      "(02/05) Clean and prepare gaze data\n",
      "(03/05) Extract gaze data that is in accordance with each snippet's timing data\n",
      "(04/05) Basic check of each snippet's gazes\n",
      "(01/05) Load visual events from file ..\\08-Data-Trial_Recordings\\raw\\E015\\Experiment_015_part02.hdf5\n",
      "(02/05) Clean and prepare gaze data\n",
      "(03/05) Extract gaze data that is in accordance with each snippet's timing data\n",
      "(04/05) Basic check of each snippet's gazes\n",
      "(05/05) Store gaze data\n"
     ]
    },
    {
     "data": {
      "application/vnd.jupyter.widget-view+json": {
       "model_id": "cf52810fd89c43d58a2831963f36be47",
       "version_major": 2,
       "version_minor": 0
      },
      "text/plain": [
       "  0%|          | 0/72 [00:00<?, ?it/s]"
      ]
     },
     "metadata": {},
     "output_type": "display_data"
    },
    {
     "data": {
      "application/vnd.jupyter.widget-view+json": {
       "model_id": "056edc55ea11421db3f00df4b15e066f",
       "version_major": 2,
       "version_minor": 0
      },
      "text/plain": [
       "  0%|          | 0/72 [00:00<?, ?it/s]"
      ]
     },
     "metadata": {},
     "output_type": "display_data"
    },
    {
     "name": "stdout",
     "output_type": "stream",
     "text": [
      "----------------------------------------------\n",
      "Participant 016\n"
     ]
    },
    {
     "data": {
      "application/vnd.jupyter.widget-view+json": {
       "model_id": "c48b3442178e434d8ddc39b1ae484a29",
       "version_major": 2,
       "version_minor": 0
      },
      "text/plain": [
       "0it [00:00, ?it/s]"
      ]
     },
     "metadata": {},
     "output_type": "display_data"
    },
    {
     "name": "stdout",
     "output_type": "stream",
     "text": [
      "(01/05) Load visual events from file ..\\08-Data-Trial_Recordings\\raw\\E016\\Experiment_016_part01.hdf5\n",
      "(02/05) Clean and prepare gaze data\n",
      "(03/05) Extract gaze data that is in accordance with each snippet's timing data\n",
      "(04/05) Basic check of each snippet's gazes\n",
      "(01/05) Load visual events from file ..\\08-Data-Trial_Recordings\\raw\\E016\\Experiment_016_part02.hdf5\n",
      "(02/05) Clean and prepare gaze data\n",
      "(03/05) Extract gaze data that is in accordance with each snippet's timing data\n",
      "(04/05) Basic check of each snippet's gazes\n",
      "(01/05) Load visual events from file ..\\08-Data-Trial_Recordings\\raw\\E016\\Experiment_016_part03.hdf5\n",
      "(02/05) Clean and prepare gaze data\n",
      "(03/05) Extract gaze data that is in accordance with each snippet's timing data\n",
      "(04/05) Basic check of each snippet's gazes\n",
      "(05/05) Store gaze data\n"
     ]
    },
    {
     "data": {
      "application/vnd.jupyter.widget-view+json": {
       "model_id": "6ae6ce70b0ca454abd82e05640c522b2",
       "version_major": 2,
       "version_minor": 0
      },
      "text/plain": [
       "  0%|          | 0/72 [00:00<?, ?it/s]"
      ]
     },
     "metadata": {},
     "output_type": "display_data"
    },
    {
     "data": {
      "application/vnd.jupyter.widget-view+json": {
       "model_id": "59aee700be484813b0a1cd7d82d0a273",
       "version_major": 2,
       "version_minor": 0
      },
      "text/plain": [
       "  0%|          | 0/72 [00:00<?, ?it/s]"
      ]
     },
     "metadata": {},
     "output_type": "display_data"
    },
    {
     "name": "stdout",
     "output_type": "stream",
     "text": [
      "----------------------------------------------\n",
      "Participant 017\n"
     ]
    },
    {
     "data": {
      "application/vnd.jupyter.widget-view+json": {
       "model_id": "cb6f6f94c4454f68bae6fbc76e0a848b",
       "version_major": 2,
       "version_minor": 0
      },
      "text/plain": [
       "0it [00:00, ?it/s]"
      ]
     },
     "metadata": {},
     "output_type": "display_data"
    },
    {
     "name": "stdout",
     "output_type": "stream",
     "text": [
      "(01/05) Load visual events from file ..\\08-Data-Trial_Recordings\\raw\\E017\\Experiment_017_part01.hdf5\n",
      "(02/05) Clean and prepare gaze data\n",
      "(03/05) Extract gaze data that is in accordance with each snippet's timing data\n",
      "(04/05) Basic check of each snippet's gazes\n",
      "(01/05) Load visual events from file ..\\08-Data-Trial_Recordings\\raw\\E017\\Experiment_017_part02.hdf5\n",
      "(02/05) Clean and prepare gaze data\n",
      "(03/05) Extract gaze data that is in accordance with each snippet's timing data\n",
      "(04/05) Basic check of each snippet's gazes\n",
      "(01/05) Load visual events from file ..\\08-Data-Trial_Recordings\\raw\\E017\\Experiment_017_part03.hdf5\n",
      "(02/05) Clean and prepare gaze data\n",
      "(03/05) Extract gaze data that is in accordance with each snippet's timing data\n",
      "(04/05) Basic check of each snippet's gazes\n",
      "(05/05) Store gaze data\n"
     ]
    },
    {
     "data": {
      "application/vnd.jupyter.widget-view+json": {
       "model_id": "a7cbdcfffe15477b83f7d9512c573787",
       "version_major": 2,
       "version_minor": 0
      },
      "text/plain": [
       "  0%|          | 0/72 [00:00<?, ?it/s]"
      ]
     },
     "metadata": {},
     "output_type": "display_data"
    },
    {
     "data": {
      "application/vnd.jupyter.widget-view+json": {
       "model_id": "605b3497bf114fa8a9df879eabc39a32",
       "version_major": 2,
       "version_minor": 0
      },
      "text/plain": [
       "  0%|          | 0/72 [00:00<?, ?it/s]"
      ]
     },
     "metadata": {},
     "output_type": "display_data"
    },
    {
     "name": "stdout",
     "output_type": "stream",
     "text": [
      "----------------------------------------------\n",
      "Participant 018\n"
     ]
    },
    {
     "data": {
      "application/vnd.jupyter.widget-view+json": {
       "model_id": "645591219e85410e9a69e8700a628c43",
       "version_major": 2,
       "version_minor": 0
      },
      "text/plain": [
       "0it [00:00, ?it/s]"
      ]
     },
     "metadata": {},
     "output_type": "display_data"
    },
    {
     "name": "stdout",
     "output_type": "stream",
     "text": [
      "(01/05) Load visual events from file ..\\08-Data-Trial_Recordings\\raw\\E018\\Experiment_018_part01.hdf5\n",
      "(02/05) Clean and prepare gaze data\n",
      "(03/05) Extract gaze data that is in accordance with each snippet's timing data\n",
      "(04/05) Basic check of each snippet's gazes\n",
      "(05/05) Store gaze data\n"
     ]
    },
    {
     "data": {
      "application/vnd.jupyter.widget-view+json": {
       "model_id": "da4883afd9a644db967c33eb6cf79ac1",
       "version_major": 2,
       "version_minor": 0
      },
      "text/plain": [
       "  0%|          | 0/72 [00:00<?, ?it/s]"
      ]
     },
     "metadata": {},
     "output_type": "display_data"
    },
    {
     "data": {
      "application/vnd.jupyter.widget-view+json": {
       "model_id": "01ef7a7e52304e39ad964ddc7c1cddaa",
       "version_major": 2,
       "version_minor": 0
      },
      "text/plain": [
       "  0%|          | 0/72 [00:00<?, ?it/s]"
      ]
     },
     "metadata": {},
     "output_type": "display_data"
    },
    {
     "name": "stdout",
     "output_type": "stream",
     "text": [
      "----------------------------------------------\n",
      "Participant 019\n"
     ]
    },
    {
     "data": {
      "application/vnd.jupyter.widget-view+json": {
       "model_id": "ecfbf45ff62e4deda30df79a72f8eefb",
       "version_major": 2,
       "version_minor": 0
      },
      "text/plain": [
       "0it [00:00, ?it/s]"
      ]
     },
     "metadata": {},
     "output_type": "display_data"
    },
    {
     "name": "stdout",
     "output_type": "stream",
     "text": [
      "(01/05) Load visual events from file ..\\08-Data-Trial_Recordings\\raw\\E019\\Experiment_019_part01.hdf5\n",
      "(02/05) Clean and prepare gaze data\n",
      "(03/05) Extract gaze data that is in accordance with each snippet's timing data\n",
      "(04/05) Basic check of each snippet's gazes\n",
      "(01/05) Load visual events from file ..\\08-Data-Trial_Recordings\\raw\\E019\\Experiment_019_part02.hdf5\n",
      "(02/05) Clean and prepare gaze data\n",
      "(03/05) Extract gaze data that is in accordance with each snippet's timing data\n",
      "(04/05) Basic check of each snippet's gazes\n",
      "(05/05) Store gaze data\n"
     ]
    },
    {
     "data": {
      "application/vnd.jupyter.widget-view+json": {
       "model_id": "55fa25412b6e46849a5fce9861c2bcfe",
       "version_major": 2,
       "version_minor": 0
      },
      "text/plain": [
       "  0%|          | 0/72 [00:00<?, ?it/s]"
      ]
     },
     "metadata": {},
     "output_type": "display_data"
    },
    {
     "data": {
      "application/vnd.jupyter.widget-view+json": {
       "model_id": "8cb3c7c2ba3942489bbe06da1d0ef264",
       "version_major": 2,
       "version_minor": 0
      },
      "text/plain": [
       "  0%|          | 0/72 [00:00<?, ?it/s]"
      ]
     },
     "metadata": {},
     "output_type": "display_data"
    },
    {
     "name": "stdout",
     "output_type": "stream",
     "text": [
      "----------------------------------------------\n",
      "Participant 020\n"
     ]
    },
    {
     "data": {
      "application/vnd.jupyter.widget-view+json": {
       "model_id": "ef76ea67f9b843f8bca34b74a175c6cc",
       "version_major": 2,
       "version_minor": 0
      },
      "text/plain": [
       "0it [00:00, ?it/s]"
      ]
     },
     "metadata": {},
     "output_type": "display_data"
    },
    {
     "name": "stdout",
     "output_type": "stream",
     "text": [
      "(01/05) Load visual events from file ..\\08-Data-Trial_Recordings\\raw\\E020\\Experiment_020_part01.hdf5\n",
      "(02/05) Clean and prepare gaze data\n",
      "(03/05) Extract gaze data that is in accordance with each snippet's timing data\n",
      "(04/05) Basic check of each snippet's gazes\n",
      "(01/05) Load visual events from file ..\\08-Data-Trial_Recordings\\raw\\E020\\Experiment_020_part02.hdf5\n",
      "(02/05) Clean and prepare gaze data\n",
      "(03/05) Extract gaze data that is in accordance with each snippet's timing data\n",
      "(04/05) Basic check of each snippet's gazes\n",
      "(05/05) Store gaze data\n"
     ]
    },
    {
     "data": {
      "application/vnd.jupyter.widget-view+json": {
       "model_id": "7a17aa23d2774f55958339e53fc827b0",
       "version_major": 2,
       "version_minor": 0
      },
      "text/plain": [
       "  0%|          | 0/72 [00:00<?, ?it/s]"
      ]
     },
     "metadata": {},
     "output_type": "display_data"
    },
    {
     "data": {
      "application/vnd.jupyter.widget-view+json": {
       "model_id": "68f26220fb2c4631a5abb33316de2987",
       "version_major": 2,
       "version_minor": 0
      },
      "text/plain": [
       "  0%|          | 0/72 [00:00<?, ?it/s]"
      ]
     },
     "metadata": {},
     "output_type": "display_data"
    },
    {
     "name": "stdout",
     "output_type": "stream",
     "text": [
      "----------------------------------------------\n",
      "Participant 021\n"
     ]
    },
    {
     "data": {
      "application/vnd.jupyter.widget-view+json": {
       "model_id": "e348e48adbfd46a7850293e983a8f6c6",
       "version_major": 2,
       "version_minor": 0
      },
      "text/plain": [
       "0it [00:00, ?it/s]"
      ]
     },
     "metadata": {},
     "output_type": "display_data"
    },
    {
     "name": "stdout",
     "output_type": "stream",
     "text": [
      "(01/05) Load visual events from file ..\\08-Data-Trial_Recordings\\raw\\E021\\Experiment_021_part01.hdf5\n",
      "(02/05) Clean and prepare gaze data\n",
      "(03/05) Extract gaze data that is in accordance with each snippet's timing data\n",
      "(04/05) Basic check of each snippet's gazes\n",
      "(01/05) Load visual events from file ..\\08-Data-Trial_Recordings\\raw\\E021\\Experiment_021_part02.hdf5\n",
      "(02/05) Clean and prepare gaze data\n",
      "(03/05) Extract gaze data that is in accordance with each snippet's timing data\n",
      "(04/05) Basic check of each snippet's gazes\n",
      "(05/05) Store gaze data\n"
     ]
    },
    {
     "data": {
      "application/vnd.jupyter.widget-view+json": {
       "model_id": "c54b9a63337540e8b9eb02ba5ab88897",
       "version_major": 2,
       "version_minor": 0
      },
      "text/plain": [
       "  0%|          | 0/72 [00:00<?, ?it/s]"
      ]
     },
     "metadata": {},
     "output_type": "display_data"
    },
    {
     "data": {
      "application/vnd.jupyter.widget-view+json": {
       "model_id": "41a614291cfb4bc996a8b97ba7fd3ba2",
       "version_major": 2,
       "version_minor": 0
      },
      "text/plain": [
       "  0%|          | 0/72 [00:00<?, ?it/s]"
      ]
     },
     "metadata": {},
     "output_type": "display_data"
    },
    {
     "name": "stdout",
     "output_type": "stream",
     "text": [
      "----------------------------------------------\n",
      "Participant 022\n"
     ]
    },
    {
     "data": {
      "application/vnd.jupyter.widget-view+json": {
       "model_id": "f778c3bb70e74b5fa828bdbe64cae287",
       "version_major": 2,
       "version_minor": 0
      },
      "text/plain": [
       "0it [00:00, ?it/s]"
      ]
     },
     "metadata": {},
     "output_type": "display_data"
    },
    {
     "name": "stdout",
     "output_type": "stream",
     "text": [
      "(01/05) Load visual events from file ..\\08-Data-Trial_Recordings\\raw\\E022\\Experiment_022_part01.hdf5\n",
      "(02/05) Clean and prepare gaze data\n",
      "(03/05) Extract gaze data that is in accordance with each snippet's timing data\n",
      "(04/05) Basic check of each snippet's gazes\n",
      "(01/05) Load visual events from file ..\\08-Data-Trial_Recordings\\raw\\E022\\Experiment_022_part02.hdf5\n",
      "(02/05) Clean and prepare gaze data\n",
      "(03/05) Extract gaze data that is in accordance with each snippet's timing data\n",
      "(04/05) Basic check of each snippet's gazes\n",
      "(01/05) Load visual events from file ..\\08-Data-Trial_Recordings\\raw\\E022\\Experiment_022_part03.hdf5\n",
      "(02/05) Clean and prepare gaze data\n",
      "(03/05) Extract gaze data that is in accordance with each snippet's timing data\n",
      "(04/05) Basic check of each snippet's gazes\n",
      "(01/05) Load visual events from file ..\\08-Data-Trial_Recordings\\raw\\E022\\Experiment_022_part04.hdf5\n",
      "(02/05) Clean and prepare gaze data\n",
      "(03/05) Extract gaze data that is in accordance with each snippet's timing data\n",
      "(04/05) Basic check of each snippet's gazes\n",
      "(05/05) Store gaze data\n"
     ]
    },
    {
     "data": {
      "application/vnd.jupyter.widget-view+json": {
       "model_id": "23f28c740fd34224b7d5f9c035b7b403",
       "version_major": 2,
       "version_minor": 0
      },
      "text/plain": [
       "  0%|          | 0/72 [00:00<?, ?it/s]"
      ]
     },
     "metadata": {},
     "output_type": "display_data"
    },
    {
     "data": {
      "application/vnd.jupyter.widget-view+json": {
       "model_id": "faed038c58f94f0db6403a279e6059d8",
       "version_major": 2,
       "version_minor": 0
      },
      "text/plain": [
       "  0%|          | 0/72 [00:00<?, ?it/s]"
      ]
     },
     "metadata": {},
     "output_type": "display_data"
    },
    {
     "name": "stdout",
     "output_type": "stream",
     "text": [
      "----------------------------------------------\n",
      "Participant 023\n"
     ]
    },
    {
     "data": {
      "application/vnd.jupyter.widget-view+json": {
       "model_id": "821845eaf3ee45949fd81ff72a6073e0",
       "version_major": 2,
       "version_minor": 0
      },
      "text/plain": [
       "0it [00:00, ?it/s]"
      ]
     },
     "metadata": {},
     "output_type": "display_data"
    },
    {
     "name": "stdout",
     "output_type": "stream",
     "text": [
      "(01/05) Load visual events from file ..\\08-Data-Trial_Recordings\\raw\\E023\\Experiment_023_part01.hdf5\n",
      "(02/05) Clean and prepare gaze data\n",
      "(03/05) Extract gaze data that is in accordance with each snippet's timing data\n",
      "(04/05) Basic check of each snippet's gazes\n",
      "(01/05) Load visual events from file ..\\08-Data-Trial_Recordings\\raw\\E023\\Experiment_023_part02.hdf5\n",
      "(02/05) Clean and prepare gaze data\n",
      "(03/05) Extract gaze data that is in accordance with each snippet's timing data\n",
      "(04/05) Basic check of each snippet's gazes\n",
      "(01/05) Load visual events from file ..\\08-Data-Trial_Recordings\\raw\\E023\\Experiment_023_part03.hdf5\n",
      "(02/05) Clean and prepare gaze data\n",
      "(03/05) Extract gaze data that is in accordance with each snippet's timing data\n",
      "(04/05) Basic check of each snippet's gazes\n",
      "(05/05) Store gaze data\n"
     ]
    },
    {
     "data": {
      "application/vnd.jupyter.widget-view+json": {
       "model_id": "1b58eb4443c842fdbe0035775d628913",
       "version_major": 2,
       "version_minor": 0
      },
      "text/plain": [
       "  0%|          | 0/72 [00:00<?, ?it/s]"
      ]
     },
     "metadata": {},
     "output_type": "display_data"
    },
    {
     "data": {
      "application/vnd.jupyter.widget-view+json": {
       "model_id": "741b9ef1a815438892de5234def15f73",
       "version_major": 2,
       "version_minor": 0
      },
      "text/plain": [
       "  0%|          | 0/72 [00:00<?, ?it/s]"
      ]
     },
     "metadata": {},
     "output_type": "display_data"
    },
    {
     "name": "stdout",
     "output_type": "stream",
     "text": [
      "----------------------------------------------\n",
      "Participant 024\n"
     ]
    },
    {
     "data": {
      "application/vnd.jupyter.widget-view+json": {
       "model_id": "2259c947aa644de8be55fc1ee0024640",
       "version_major": 2,
       "version_minor": 0
      },
      "text/plain": [
       "0it [00:00, ?it/s]"
      ]
     },
     "metadata": {},
     "output_type": "display_data"
    },
    {
     "name": "stdout",
     "output_type": "stream",
     "text": [
      "(01/05) Load visual events from file ..\\08-Data-Trial_Recordings\\raw\\E024\\Experiment_024_part01.hdf5\n",
      "(02/05) Clean and prepare gaze data\n",
      "(03/05) Extract gaze data that is in accordance with each snippet's timing data\n",
      "(04/05) Basic check of each snippet's gazes\n",
      "(01/05) Load visual events from file ..\\08-Data-Trial_Recordings\\raw\\E024\\Experiment_024_part02.hdf5\n",
      "(02/05) Clean and prepare gaze data\n",
      "(03/05) Extract gaze data that is in accordance with each snippet's timing data\n",
      "(04/05) Basic check of each snippet's gazes\n",
      "(01/05) Load visual events from file ..\\08-Data-Trial_Recordings\\raw\\E024\\Experiment_024_part03.hdf5\n",
      "(02/05) Clean and prepare gaze data\n",
      "(03/05) Extract gaze data that is in accordance with each snippet's timing data\n",
      "(04/05) Basic check of each snippet's gazes\n",
      "(05/05) Store gaze data\n"
     ]
    },
    {
     "data": {
      "application/vnd.jupyter.widget-view+json": {
       "model_id": "81b3f9c66e6f4c7182e288392113d8d2",
       "version_major": 2,
       "version_minor": 0
      },
      "text/plain": [
       "  0%|          | 0/72 [00:00<?, ?it/s]"
      ]
     },
     "metadata": {},
     "output_type": "display_data"
    },
    {
     "data": {
      "application/vnd.jupyter.widget-view+json": {
       "model_id": "69a9ee2eb60e422f82b15cd00c3e6880",
       "version_major": 2,
       "version_minor": 0
      },
      "text/plain": [
       "  0%|          | 0/72 [00:00<?, ?it/s]"
      ]
     },
     "metadata": {},
     "output_type": "display_data"
    },
    {
     "name": "stdout",
     "output_type": "stream",
     "text": [
      "----------------------------------------------\n",
      "Participant 101\n"
     ]
    },
    {
     "data": {
      "application/vnd.jupyter.widget-view+json": {
       "model_id": "9ceeeffc265b4f58bed83c9003a1ee11",
       "version_major": 2,
       "version_minor": 0
      },
      "text/plain": [
       "0it [00:00, ?it/s]"
      ]
     },
     "metadata": {},
     "output_type": "display_data"
    },
    {
     "name": "stdout",
     "output_type": "stream",
     "text": [
      "(01/05) Load visual events from file ..\\08-Data-Trial_Recordings\\raw\\E101\\Experiment_101_part01.hdf5\n",
      "(02/05) Clean and prepare gaze data\n",
      "(03/05) Extract gaze data that is in accordance with each snippet's timing data\n",
      "(04/05) Basic check of each snippet's gazes\n",
      "(05/05) Store gaze data\n"
     ]
    },
    {
     "data": {
      "application/vnd.jupyter.widget-view+json": {
       "model_id": "150959d112e441ca930eedd181c45b19",
       "version_major": 2,
       "version_minor": 0
      },
      "text/plain": [
       "  0%|          | 0/72 [00:00<?, ?it/s]"
      ]
     },
     "metadata": {},
     "output_type": "display_data"
    },
    {
     "data": {
      "application/vnd.jupyter.widget-view+json": {
       "model_id": "b8398827f0c640f68d48248e12eb9817",
       "version_major": 2,
       "version_minor": 0
      },
      "text/plain": [
       "  0%|          | 0/72 [00:00<?, ?it/s]"
      ]
     },
     "metadata": {},
     "output_type": "display_data"
    },
    {
     "name": "stdout",
     "output_type": "stream",
     "text": [
      "----------------------------------------------\n",
      "Participant 102\n"
     ]
    },
    {
     "data": {
      "application/vnd.jupyter.widget-view+json": {
       "model_id": "afa8f5588d354278a7058c96347de63f",
       "version_major": 2,
       "version_minor": 0
      },
      "text/plain": [
       "0it [00:00, ?it/s]"
      ]
     },
     "metadata": {},
     "output_type": "display_data"
    },
    {
     "name": "stdout",
     "output_type": "stream",
     "text": [
      "(01/05) Load visual events from file ..\\08-Data-Trial_Recordings\\raw\\E102\\Experiment_102_part01.hdf5\n",
      "(02/05) Clean and prepare gaze data\n",
      "(03/05) Extract gaze data that is in accordance with each snippet's timing data\n",
      "(04/05) Basic check of each snippet's gazes\n",
      "(01/05) Load visual events from file ..\\08-Data-Trial_Recordings\\raw\\E102\\Experiment_102_part02.hdf5\n",
      "(02/05) Clean and prepare gaze data\n",
      "(03/05) Extract gaze data that is in accordance with each snippet's timing data\n",
      "(04/05) Basic check of each snippet's gazes\n",
      "(05/05) Store gaze data\n"
     ]
    },
    {
     "data": {
      "application/vnd.jupyter.widget-view+json": {
       "model_id": "65fcbe28df1242379e8ff36d1dbda5ff",
       "version_major": 2,
       "version_minor": 0
      },
      "text/plain": [
       "  0%|          | 0/72 [00:00<?, ?it/s]"
      ]
     },
     "metadata": {},
     "output_type": "display_data"
    },
    {
     "data": {
      "application/vnd.jupyter.widget-view+json": {
       "model_id": "541c432113764da58a69fb544566cbb5",
       "version_major": 2,
       "version_minor": 0
      },
      "text/plain": [
       "  0%|          | 0/72 [00:00<?, ?it/s]"
      ]
     },
     "metadata": {},
     "output_type": "display_data"
    },
    {
     "name": "stdout",
     "output_type": "stream",
     "text": [
      "----------------------------------------------\n",
      "Participant 106\n"
     ]
    },
    {
     "data": {
      "application/vnd.jupyter.widget-view+json": {
       "model_id": "2939631fa2c54e94ae62f088137644af",
       "version_major": 2,
       "version_minor": 0
      },
      "text/plain": [
       "0it [00:00, ?it/s]"
      ]
     },
     "metadata": {},
     "output_type": "display_data"
    },
    {
     "name": "stdout",
     "output_type": "stream",
     "text": [
      "(01/05) Load visual events from file ..\\08-Data-Trial_Recordings\\raw\\E106\\Experiment_106_part01.hdf5\n",
      "(02/05) Clean and prepare gaze data\n",
      "(03/05) Extract gaze data that is in accordance with each snippet's timing data\n",
      "(04/05) Basic check of each snippet's gazes\n",
      "(01/05) Load visual events from file ..\\08-Data-Trial_Recordings\\raw\\E106\\Experiment_106_part02.hdf5\n",
      "(02/05) Clean and prepare gaze data\n",
      "(03/05) Extract gaze data that is in accordance with each snippet's timing data\n",
      "(04/05) Basic check of each snippet's gazes\n",
      "(01/05) Load visual events from file ..\\08-Data-Trial_Recordings\\raw\\E106\\Experiment_106_part03.hdf5\n",
      "(02/05) Clean and prepare gaze data\n",
      "(03/05) Extract gaze data that is in accordance with each snippet's timing data\n",
      "(04/05) Basic check of each snippet's gazes\n",
      "(01/05) Load visual events from file ..\\08-Data-Trial_Recordings\\raw\\E106\\Experiment_106_part04.hdf5\n",
      "(02/05) Clean and prepare gaze data\n",
      "(03/05) Extract gaze data that is in accordance with each snippet's timing data\n",
      "(04/05) Basic check of each snippet's gazes\n",
      "(01/05) Load visual events from file ..\\08-Data-Trial_Recordings\\raw\\E106\\Experiment_106_part05.hdf5\n",
      "(02/05) Clean and prepare gaze data\n",
      "(03/05) Extract gaze data that is in accordance with each snippet's timing data\n",
      "(04/05) Basic check of each snippet's gazes\n",
      "(01/05) Load visual events from file ..\\08-Data-Trial_Recordings\\raw\\E106\\Experiment_106_part06.hdf5\n",
      "(02/05) Clean and prepare gaze data\n",
      "(03/05) Extract gaze data that is in accordance with each snippet's timing data\n",
      "(04/05) Basic check of each snippet's gazes\n",
      "(01/05) Load visual events from file ..\\08-Data-Trial_Recordings\\raw\\E106\\Experiment_106_part07.hdf5\n",
      "(02/05) Clean and prepare gaze data\n",
      "(03/05) Extract gaze data that is in accordance with each snippet's timing data\n",
      "(04/05) Basic check of each snippet's gazes\n",
      "(01/05) Load visual events from file ..\\08-Data-Trial_Recordings\\raw\\E106\\Experiment_106_part08.hdf5\n",
      "(02/05) Clean and prepare gaze data\n",
      "(03/05) Extract gaze data that is in accordance with each snippet's timing data\n",
      "(04/05) Basic check of each snippet's gazes\n",
      "(05/05) Store gaze data\n"
     ]
    },
    {
     "data": {
      "application/vnd.jupyter.widget-view+json": {
       "model_id": "9aa82b2e5994442db2ff63fb7472486a",
       "version_major": 2,
       "version_minor": 0
      },
      "text/plain": [
       "  0%|          | 0/72 [00:00<?, ?it/s]"
      ]
     },
     "metadata": {},
     "output_type": "display_data"
    },
    {
     "data": {
      "application/vnd.jupyter.widget-view+json": {
       "model_id": "687416139a9c4d45bc8fa4c0582ae718",
       "version_major": 2,
       "version_minor": 0
      },
      "text/plain": [
       "  0%|          | 0/72 [00:00<?, ?it/s]"
      ]
     },
     "metadata": {},
     "output_type": "display_data"
    },
    {
     "name": "stdout",
     "output_type": "stream",
     "text": [
      "Excluded trials per participant {'003': {'54-obf-v0': ['01d1_PRE_VIS_Event_Gaze_Data: Too many NA gazes'], '60-clean-v0': ['01d1_PRE_VIS_Event_Gaze_Data: Too many NA gazes'], '54-obf-v1': ['01d1_PRE_VIS_Event_Gaze_Data: Too long NA interval']}, '004': {}, '005': {'8-clean-v1': ['01d1_PRE_VIS_Event_Gaze_Data: Too long NA interval']}, '007': {}, '008': {'60-obf-v1': ['01d1_PRE_VIS_Event_Gaze_Data: Too long NA interval']}, '009': {}, '010': {'7-obf-v2': ['01d1_PRE_VIS_Event_Gaze_Data: Too long NA interval'], '60-obf-v2': ['01d1_PRE_VIS_Event_Gaze_Data: Too long NA interval'], '14-clean-v2': ['01d1_PRE_VIS_Event_Gaze_Data: Too long NA interval'], '54-obf-v0': ['01d1_PRE_VIS_Event_Gaze_Data: Too many NA gazes'], '60-obf-v1': ['01d1_PRE_VIS_Event_Gaze_Data: Too long NA interval']}, '011': {'8-clean-v1': ['01d1_PRE_VIS_Event_Gaze_Data: Too long NA interval']}, '012': {}, '013': {'60-obf-v0': ['01d1_PRE_VIS_Event_Gaze_Data: Too long NA interval'], '54-obf-v1': ['01d1_PRE_VIS_Event_Gaze_Data: Too long NA interval'], '15-obf-v1': ['01d1_PRE_VIS_Event_Gaze_Data: Too long NA interval'], '54-obf-v2': ['01d1_PRE_VIS_Event_Gaze_Data: Too many NA gazes']}, '014': {'54-clean-v1': ['01d1_PRE_VIS_Event_Gaze_Data: Too long NA interval']}, '015': {}, '016': {}, '017': {'49-obf-v1': ['01d1_PRE_VIS_Event_Gaze_Data: Too long NA interval'], '8-clean-v1': ['01d1_PRE_VIS_Event_Gaze_Data: Too long NA interval'], '13-clean-v1': ['01d1_PRE_VIS_Event_Gaze_Data: Too many NA gazes'], '17-obf-v1': ['01d1_PRE_VIS_Event_Gaze_Data: Too long NA interval']}, '018': {'7-obf-v1': ['01d1_PRE_VIS_Event_Gaze_Data: Too long NA interval'], '12-obf-v1': ['01d1_PRE_VIS_Event_Gaze_Data: Too long NA interval'], '8-obf-v0': ['01d1_PRE_VIS_Event_Gaze_Data: Too long NA interval']}, '019': {'-clean-v1': ['01d1_PRE_VIS_Event_Gaze_Data: Too many NA gazes'], '62-obf-v1': ['01d1_PRE_VIS_Event_Gaze_Data: Too many NA gazes'], '13-obf-v1': ['01d1_PRE_VIS_Event_Gaze_Data: Too many NA gazes'], '49-clean-v1': ['01d1_PRE_VIS_Event_Gaze_Data: Too long NA interval'], '54-clean-v1': ['01d1_PRE_VIS_Event_Gaze_Data: Too long NA interval'], '6-obf-v2': ['01d1_PRE_VIS_Event_Gaze_Data: Too long NA interval']}, '020': {}, '021': {}, '022': {'6-obf-v2': ['01d1_PRE_VIS_Event_Gaze_Data: Too long NA interval'], '5-obf-v2': ['01d1_PRE_VIS_Event_Gaze_Data: Too long NA interval'], '60-clean-v0': ['01d1_PRE_VIS_Event_Gaze_Data: Too long NA interval']}, '023': {'10-clean-v2': ['01d1_PRE_VIS_Event_Gaze_Data: Too long NA interval']}, '024': {}, '101': {}, '102': {'7-obf-v1': ['01d1_PRE_VIS_Event_Gaze_Data: Too many NA gazes']}, '106': {}}\n",
      "All trials 34\n"
     ]
    }
   ],
   "source": [
    "# Iterate over all participants\n",
    "all_excluded_gazes = {}\n",
    "for participant in tqdm(folders):\n",
    "    all_excluded_gazes[participant] = {}\n",
    "    print('----------------------------------------------')\n",
    "    print(PARTICIPANT, participant)\n",
    "\n",
    "    event_data_files = hdf_files[participant]\n",
    "    behavioral_data = pd.read_csv(get_behavioral_data_path(\n",
    "        participant, final_data_exclusion=True), index_col=False, sep=SEPARATOR, dtype={PARTICIPANT: str})\n",
    "\n",
    "    participant_snippet_gazes = {}\n",
    "    participant_fixation_cross_gazes = {}\n",
    "\n",
    "    for i, hdf_file in tqdm(enumerate(event_data_files)):\n",
    "        print(f'(01/05) Load visual events from file {hdf_file}')\n",
    "        eye_events = retrieve_eye_events(hdf_file)\n",
    "        if eye_events.empty:\n",
    "            print(f'No visual events found in file {hdf_file}.')\n",
    "            update_exclusions(participant, HDF_FILE, VISUAL, {\n",
    "                hdf_file.name: '01d1_PRE_VIS_Event_Gaze_Data: No visual events found in file.'})\n",
    "            continue\n",
    "\n",
    "        print('(02/05) Clean and prepare gaze data')\n",
    "        # set illogical values to nan, transform to pixel coordinates based on resolution of the monitor\n",
    "        eye_events: pd.DataFrame = clean_prepare_eye_events(eye_events)\n",
    "        eye_events[PARTICIPANT] = participant\n",
    "        # display(eye_events)\n",
    "\n",
    "        print('(03/05) Extract gaze data that is in accordance with each snippet\\'s timing data')\n",
    "        # per snippet from behavioral dataframe, get corresponding eye events\n",
    "        # column to compare: time from eye-tracking vs. start and end from behavioral_data\n",
    "        snippet_gazes = extract_relevant_eye_events(\n",
    "            behavioral_data[behavioral_data[HDF_INDEX] == i], eye_events)\n",
    "        fixation_cross_gazes = extract_relevant_eye_events(\n",
    "            behavioral_data[behavioral_data[HDF_INDEX] == i], eye_events, get_fixation_cross=True)\n",
    "\n",
    "        print('(04/05) Basic check of each snippet\\'s gazes')\n",
    "        # per snippet perform basic check\n",
    "        excluded_gazes = check_gaze_data(\n",
    "            snippet_gazes, fixation_cross_gazes, participant, '01d1_PRE_VIS_Event_Gaze_Data')\n",
    "        all_excluded_gazes[participant] |= excluded_gazes\n",
    "        participant_snippet_gazes |= snippet_gazes\n",
    "        participant_fixation_cross_gazes |= fixation_cross_gazes\n",
    "\n",
    "    print('(05/05) Store gaze data')\n",
    "    # save gaze data\n",
    "    for snippet in tqdm(participant_snippet_gazes):\n",
    "        gaze_data = participant_snippet_gazes[snippet]\n",
    "        gaze_data.to_csv(get_snippet_gaze_path(\n",
    "            participant, snippet), index=False, sep=SEPARATOR)\n",
    "    for snippet in tqdm(participant_fixation_cross_gazes):\n",
    "        gaze_data = participant_fixation_cross_gazes[snippet]\n",
    "        gaze_data.to_csv(get_snippet_gaze_path(\n",
    "            participant, snippet, fixation_cross=True), index=False, sep=SEPARATOR)\n",
    "print('Excluded trials per participant', all_excluded_gazes)\n",
    "print('All trials', sum([len(trials)\n",
    "      for trials in all_excluded_gazes.values()]))"
   ]
  }
 ],
 "metadata": {
  "kernelspec": {
   "display_name": "Python 3",
   "language": "python",
   "name": "python3"
  },
  "language_info": {
   "codemirror_mode": {
    "name": "ipython",
    "version": 3
   },
   "file_extension": ".py",
   "mimetype": "text/x-python",
   "name": "python",
   "nbconvert_exporter": "python",
   "pygments_lexer": "ipython3",
   "version": "3.11.5"
  }
 },
 "nbformat": 4,
 "nbformat_minor": 4
}
