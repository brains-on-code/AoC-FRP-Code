{
 "cells": [
  {
   "cell_type": "markdown",
   "id": "7c9a9ba0-1fa4-467c-be6d-de2c92c50a30",
   "metadata": {},
   "source": [
    "# EEG Cropping and Trial assignment\n",
    "Status: Implemented\n",
    " -- Fully automatized"
   ]
  },
  {
   "cell_type": "code",
   "execution_count": 1,
   "id": "cace8cd4",
   "metadata": {},
   "outputs": [],
   "source": [
    "from tqdm.notebook import tqdm\n",
    "from utils.utils import *"
   ]
  },
  {
   "cell_type": "code",
   "execution_count": 2,
   "id": "eaf57434",
   "metadata": {},
   "outputs": [],
   "source": [
    "# get all files from participants\n",
    "folders = get_participant_folder_per_participant()\n",
    "eeg_file_groups = get_eeg_files_per_participant()\n",
    "assert (set(folders.keys()) == set(eeg_file_groups.keys()))"
   ]
  },
  {
   "cell_type": "markdown",
   "id": "5e4e730d",
   "metadata": {},
   "source": [
    "### Assign trials to annotations"
   ]
  },
  {
   "cell_type": "code",
   "execution_count": 3,
   "id": "2778c21c",
   "metadata": {},
   "outputs": [
    {
     "data": {
      "application/vnd.jupyter.widget-view+json": {
       "model_id": "47daa67fa3ac4f97b6448eaa715a62ce",
       "version_major": 2,
       "version_minor": 0
      },
      "text/plain": [
       "  0%|          | 0/24 [00:00<?, ?it/s]"
      ]
     },
     "metadata": {},
     "output_type": "display_data"
    },
    {
     "name": "stdout",
     "output_type": "stream",
     "text": [
      "----------------------------------------------\n",
      "Participant 003\n",
      "(01/07) Check artifact reasoning file\n",
      "(02/07) anonymize prepared EEG data\n",
      "(03/07) Load prepared EEG data\n",
      "Extracting parameters from ..\\08-Data-Trial_Recordings\\processed\\..\\prepared_EEG_files\\EEG\\AoCfrp_003_New Reference.vhdr...\n",
      "Setting channel info structure...\n"
     ]
    },
    {
     "name": "stderr",
     "output_type": "stream",
     "text": [
      "e:\\PHD\\Studies\\aoc-frp-main-studies\\Main_Study_Part\\09-Task-Evaluate_Data\\utils\\eeg_helpers.py:131: RuntimeWarning: No coordinate information found for channels ['A2']. Setting channel types to misc. To avoid this warning, set channel types explicitly.\n",
      "  raw_eeg = mne.io.read_raw_brainvision(filepath, eog=tuple(EOG_CHANNELS),\n"
     ]
    },
    {
     "name": "stdout",
     "output_type": "stream",
     "text": [
      "Reading 0 ... 1314489  =      0.000 ...  2628.978 secs...\n"
     ]
    },
    {
     "name": "stderr",
     "output_type": "stream",
     "text": [
      "e:\\PHD\\Studies\\aoc-frp-main-studies\\Main_Study_Part\\09-Task-Evaluate_Data\\utils\\eeg_helpers.py:131: RuntimeWarning: Not setting positions of 5 eog/misc channels found in montage:\n",
      "['A2', 'VEOGP', 'VEOGM', 'HEOGP', 'HEOGM']\n",
      "Consider setting the channel types to be of EEG/sEEG/ECoG/DBS/fNIRS using inst.set_channel_types before calling inst.set_montage, or omit these channels when creating your montage.\n",
      "  raw_eeg = mne.io.read_raw_brainvision(filepath, eog=tuple(EOG_CHANNELS),\n"
     ]
    },
    {
     "name": "stdout",
     "output_type": "stream",
     "text": [
      "(04/07) Crop data to useful part\n",
      "info <Info | 8 non-empty values\n",
      " bads: []\n",
      " ch_names: Fp1, Fp2, F7, F3, Fz, F4, F8, FC5, FC3, FCz, FC4, FC6, T7, C3, ...\n",
      " chs: 27 EEG, 1 misc, 4 EOG\n",
      " custom_ref_applied: False\n",
      " dig: 30 items (3 Cardinal, 27 EEG)\n",
      " highpass: 0.0 Hz\n",
      " lowpass: 250.0 Hz\n",
      " meas_date: unspecified\n",
      " nchan: 32\n",
      " projs: []\n",
      " sfreq: 500.0 Hz\n",
      "> 1209536 188.704 94352\n",
      "(05/07) Save EEG data\n"
     ]
    },
    {
     "name": "stderr",
     "output_type": "stream",
     "text": [
      "Python\\Python311\\site-packages\\pybv\\io.py:690: UserWarning: Encountered unsupported non-voltage units: n/a\n",
      "Note that the BrainVision format specification supports only µV.\n",
      "  warn(msg)\n"
     ]
    },
    {
     "name": "stdout",
     "output_type": "stream",
     "text": [
      "(06/07) Load behavioral events prepared for EEG synchronization\n",
      "(07/07) Assign trial to annotations\n",
      "annotations: 216 behavioral_events: 216\n",
      "automatic success\n",
      "----------------------------------------------\n",
      "Participant 004\n",
      "(01/07) Check artifact reasoning file\n",
      "(02/07) anonymize prepared EEG data\n",
      "(03/07) Load prepared EEG data\n",
      "Extracting parameters from ..\\08-Data-Trial_Recordings\\processed\\..\\prepared_EEG_files\\EEG\\AoCfrp_004_New Reference.vhdr...\n",
      "Setting channel info structure...\n",
      "Reading 0 ... 1446049  =      0.000 ...  2892.098 secs...\n"
     ]
    },
    {
     "name": "stderr",
     "output_type": "stream",
     "text": [
      "e:\\PHD\\Studies\\aoc-frp-main-studies\\Main_Study_Part\\09-Task-Evaluate_Data\\utils\\eeg_helpers.py:131: RuntimeWarning: No coordinate information found for channels ['A2']. Setting channel types to misc. To avoid this warning, set channel types explicitly.\n",
      "  raw_eeg = mne.io.read_raw_brainvision(filepath, eog=tuple(EOG_CHANNELS),\n",
      "e:\\PHD\\Studies\\aoc-frp-main-studies\\Main_Study_Part\\09-Task-Evaluate_Data\\utils\\eeg_helpers.py:131: RuntimeWarning: Not setting positions of 5 eog/misc channels found in montage:\n",
      "['A2', 'VEOGP', 'VEOGM', 'HEOGP', 'HEOGM']\n",
      "Consider setting the channel types to be of EEG/sEEG/ECoG/DBS/fNIRS using inst.set_channel_types before calling inst.set_montage, or omit these channels when creating your montage.\n",
      "  raw_eeg = mne.io.read_raw_brainvision(filepath, eog=tuple(EOG_CHANNELS),\n"
     ]
    },
    {
     "name": "stdout",
     "output_type": "stream",
     "text": [
      "(04/07) Crop data to useful part\n",
      "info <Info | 8 non-empty values\n",
      " bads: []\n",
      " ch_names: Fp1, Fp2, F7, F3, Fz, F4, F8, FC5, FC3, FCz, FC4, FC6, T7, C3, ...\n",
      " chs: 27 EEG, 1 misc, 4 EOG\n",
      " custom_ref_applied: False\n",
      " dig: 30 items (3 Cardinal, 27 EEG)\n",
      " highpass: 0.0 Hz\n",
      " lowpass: 250.0 Hz\n",
      " meas_date: unspecified\n",
      " nchan: 32\n",
      " projs: []\n",
      " sfreq: 500.0 Hz\n",
      "> 1392944 23.46 11730\n",
      "(05/07) Save EEG data\n"
     ]
    },
    {
     "name": "stderr",
     "output_type": "stream",
     "text": [
      "Python\\Python311\\site-packages\\pybv\\io.py:690: UserWarning: Encountered unsupported non-voltage units: n/a\n",
      "Note that the BrainVision format specification supports only µV.\n",
      "  warn(msg)\n"
     ]
    },
    {
     "name": "stdout",
     "output_type": "stream",
     "text": [
      "(06/07) Load behavioral events prepared for EEG synchronization\n",
      "(07/07) Assign trial to annotations\n",
      "annotations: 213 behavioral_events: 216\n",
      "\tno automatic success, please mark the correct snippet trial for each annotation.\n",
      "----------------------------------------------\n",
      "Participant 005\n",
      "(01/07) Check artifact reasoning file\n",
      "(02/07) anonymize prepared EEG data\n",
      "(03/07) Load prepared EEG data\n",
      "Extracting parameters from ..\\08-Data-Trial_Recordings\\processed\\..\\prepared_EEG_files\\EEG\\AoCfrp_005_New Reference.vhdr...\n",
      "Setting channel info structure...\n",
      "Reading 0 ... 1319739  =      0.000 ...  2639.478 secs...\n"
     ]
    },
    {
     "name": "stderr",
     "output_type": "stream",
     "text": [
      "e:\\PHD\\Studies\\aoc-frp-main-studies\\Main_Study_Part\\09-Task-Evaluate_Data\\utils\\eeg_helpers.py:131: RuntimeWarning: No coordinate information found for channels ['A2']. Setting channel types to misc. To avoid this warning, set channel types explicitly.\n",
      "  raw_eeg = mne.io.read_raw_brainvision(filepath, eog=tuple(EOG_CHANNELS),\n",
      "e:\\PHD\\Studies\\aoc-frp-main-studies\\Main_Study_Part\\09-Task-Evaluate_Data\\utils\\eeg_helpers.py:131: RuntimeWarning: Not setting positions of 5 eog/misc channels found in montage:\n",
      "['A2', 'VEOGP', 'VEOGM', 'HEOGP', 'HEOGM']\n",
      "Consider setting the channel types to be of EEG/sEEG/ECoG/DBS/fNIRS using inst.set_channel_types before calling inst.set_montage, or omit these channels when creating your montage.\n",
      "  raw_eeg = mne.io.read_raw_brainvision(filepath, eog=tuple(EOG_CHANNELS),\n"
     ]
    },
    {
     "name": "stdout",
     "output_type": "stream",
     "text": [
      "(04/07) Crop data to useful part\n",
      "info <Info | 8 non-empty values\n",
      " bads: []\n",
      " ch_names: Fp1, Fp2, F7, F3, Fz, F4, F8, FC5, FC3, FCz, FC4, FC6, T7, C3, ...\n",
      " chs: 27 EEG, 1 misc, 4 EOG\n",
      " custom_ref_applied: False\n",
      " dig: 30 items (3 Cardinal, 27 EEG)\n",
      " highpass: 0.0 Hz\n",
      " lowpass: 250.0 Hz\n",
      " meas_date: unspecified\n",
      " nchan: 32\n",
      " projs: []\n",
      " sfreq: 500.0 Hz\n",
      "> 1126727 361.916 180958\n",
      "(05/07) Save EEG data\n"
     ]
    },
    {
     "name": "stderr",
     "output_type": "stream",
     "text": [
      "Python\\Python311\\site-packages\\pybv\\io.py:690: UserWarning: Encountered unsupported non-voltage units: n/a\n",
      "Note that the BrainVision format specification supports only µV.\n",
      "  warn(msg)\n"
     ]
    },
    {
     "name": "stdout",
     "output_type": "stream",
     "text": [
      "(06/07) Load behavioral events prepared for EEG synchronization\n",
      "(07/07) Assign trial to annotations\n",
      "annotations: 216 behavioral_events: 216\n",
      "automatic success\n",
      "----------------------------------------------\n",
      "Participant 007\n",
      "(01/07) Check artifact reasoning file\n",
      "(02/07) anonymize prepared EEG data\n",
      "(03/07) Load prepared EEG data\n",
      "Extracting parameters from ..\\08-Data-Trial_Recordings\\processed\\..\\prepared_EEG_files\\EEG\\AoCfrp_007_New Reference.vhdr...\n",
      "Setting channel info structure...\n",
      "Reading 0 ... 2401149  =      0.000 ...  4802.298 secs...\n"
     ]
    },
    {
     "name": "stderr",
     "output_type": "stream",
     "text": [
      "e:\\PHD\\Studies\\aoc-frp-main-studies\\Main_Study_Part\\09-Task-Evaluate_Data\\utils\\eeg_helpers.py:131: RuntimeWarning: No coordinate information found for channels ['A2']. Setting channel types to misc. To avoid this warning, set channel types explicitly.\n",
      "  raw_eeg = mne.io.read_raw_brainvision(filepath, eog=tuple(EOG_CHANNELS),\n",
      "e:\\PHD\\Studies\\aoc-frp-main-studies\\Main_Study_Part\\09-Task-Evaluate_Data\\utils\\eeg_helpers.py:131: RuntimeWarning: Not setting positions of 5 eog/misc channels found in montage:\n",
      "['A2', 'VEOGP', 'VEOGM', 'HEOGP', 'HEOGM']\n",
      "Consider setting the channel types to be of EEG/sEEG/ECoG/DBS/fNIRS using inst.set_channel_types before calling inst.set_montage, or omit these channels when creating your montage.\n",
      "  raw_eeg = mne.io.read_raw_brainvision(filepath, eog=tuple(EOG_CHANNELS),\n"
     ]
    },
    {
     "name": "stdout",
     "output_type": "stream",
     "text": [
      "(04/07) Crop data to useful part\n",
      "info <Info | 8 non-empty values\n",
      " bads: []\n",
      " ch_names: Fp1, Fp2, F7, F3, Fz, F4, F8, FC5, FC3, FCz, FC4, FC6, T7, C3, ...\n",
      " chs: 27 EEG, 1 misc, 4 EOG\n",
      " custom_ref_applied: False\n",
      " dig: 30 items (3 Cardinal, 27 EEG)\n",
      " highpass: 0.0 Hz\n",
      " lowpass: 250.0 Hz\n",
      " meas_date: unspecified\n",
      " nchan: 32\n",
      " projs: []\n",
      " sfreq: 500.0 Hz\n",
      "> 1500881 0.0 0\n",
      "(05/07) Save EEG data\n"
     ]
    },
    {
     "name": "stderr",
     "output_type": "stream",
     "text": [
      "Python\\Python311\\site-packages\\pybv\\io.py:690: UserWarning: Encountered unsupported non-voltage units: n/a\n",
      "Note that the BrainVision format specification supports only µV.\n",
      "  warn(msg)\n"
     ]
    },
    {
     "name": "stdout",
     "output_type": "stream",
     "text": [
      "(06/07) Load behavioral events prepared for EEG synchronization\n",
      "(07/07) Assign trial to annotations\n",
      "annotations: 216 behavioral_events: 216\n",
      "automatic success\n",
      "----------------------------------------------\n",
      "Participant 008\n",
      "(01/07) Check artifact reasoning file\n",
      "(02/07) anonymize prepared EEG data\n",
      "(03/07) Load prepared EEG data\n",
      "Extracting parameters from ..\\08-Data-Trial_Recordings\\processed\\..\\prepared_EEG_files\\EEG\\AoCfrp_008_New Reference.vhdr...\n",
      "Setting channel info structure...\n",
      "Reading 0 ... 1286859  =      0.000 ...  2573.718 secs...\n"
     ]
    },
    {
     "name": "stderr",
     "output_type": "stream",
     "text": [
      "e:\\PHD\\Studies\\aoc-frp-main-studies\\Main_Study_Part\\09-Task-Evaluate_Data\\utils\\eeg_helpers.py:131: RuntimeWarning: No coordinate information found for channels ['A2']. Setting channel types to misc. To avoid this warning, set channel types explicitly.\n",
      "  raw_eeg = mne.io.read_raw_brainvision(filepath, eog=tuple(EOG_CHANNELS),\n",
      "e:\\PHD\\Studies\\aoc-frp-main-studies\\Main_Study_Part\\09-Task-Evaluate_Data\\utils\\eeg_helpers.py:131: RuntimeWarning: Not setting positions of 5 eog/misc channels found in montage:\n",
      "['A2', 'VEOGP', 'VEOGM', 'HEOGP', 'HEOGM']\n",
      "Consider setting the channel types to be of EEG/sEEG/ECoG/DBS/fNIRS using inst.set_channel_types before calling inst.set_montage, or omit these channels when creating your montage.\n",
      "  raw_eeg = mne.io.read_raw_brainvision(filepath, eog=tuple(EOG_CHANNELS),\n"
     ]
    },
    {
     "name": "stdout",
     "output_type": "stream",
     "text": [
      "(04/07) Crop data to useful part\n",
      "info <Info | 8 non-empty values\n",
      " bads: []\n",
      " ch_names: Fp1, Fp2, F7, F3, Fz, F4, F8, FC5, FC3, FCz, FC4, FC6, T7, C3, ...\n",
      " chs: 27 EEG, 1 misc, 4 EOG\n",
      " custom_ref_applied: False\n",
      " dig: 30 items (3 Cardinal, 27 EEG)\n",
      " highpass: 0.0 Hz\n",
      " lowpass: 250.0 Hz\n",
      " meas_date: unspecified\n",
      " nchan: 32\n",
      " projs: []\n",
      " sfreq: 500.0 Hz\n",
      "> 1177835 196.574 98287\n",
      "(05/07) Save EEG data\n"
     ]
    },
    {
     "name": "stderr",
     "output_type": "stream",
     "text": [
      "Python\\Python311\\site-packages\\pybv\\io.py:690: UserWarning: Encountered unsupported non-voltage units: n/a\n",
      "Note that the BrainVision format specification supports only µV.\n",
      "  warn(msg)\n"
     ]
    },
    {
     "name": "stdout",
     "output_type": "stream",
     "text": [
      "(06/07) Load behavioral events prepared for EEG synchronization\n",
      "(07/07) Assign trial to annotations\n",
      "annotations: 217 behavioral_events: 217\n",
      "automatic success\n",
      "----------------------------------------------\n",
      "Participant 009\n",
      "(01/07) Check artifact reasoning file\n",
      "(02/07) anonymize prepared EEG data\n",
      "(03/07) Load prepared EEG data\n",
      "Extracting parameters from ..\\08-Data-Trial_Recordings\\processed\\..\\prepared_EEG_files\\EEG\\AoCfrp_009_New Reference.vhdr...\n",
      "Setting channel info structure...\n",
      "Reading 0 ... 1708849  =      0.000 ...  3417.698 secs...\n"
     ]
    },
    {
     "name": "stderr",
     "output_type": "stream",
     "text": [
      "e:\\PHD\\Studies\\aoc-frp-main-studies\\Main_Study_Part\\09-Task-Evaluate_Data\\utils\\eeg_helpers.py:131: RuntimeWarning: No coordinate information found for channels ['A2']. Setting channel types to misc. To avoid this warning, set channel types explicitly.\n",
      "  raw_eeg = mne.io.read_raw_brainvision(filepath, eog=tuple(EOG_CHANNELS),\n",
      "e:\\PHD\\Studies\\aoc-frp-main-studies\\Main_Study_Part\\09-Task-Evaluate_Data\\utils\\eeg_helpers.py:131: RuntimeWarning: Not setting positions of 5 eog/misc channels found in montage:\n",
      "['A2', 'VEOGP', 'VEOGM', 'HEOGP', 'HEOGM']\n",
      "Consider setting the channel types to be of EEG/sEEG/ECoG/DBS/fNIRS using inst.set_channel_types before calling inst.set_montage, or omit these channels when creating your montage.\n",
      "  raw_eeg = mne.io.read_raw_brainvision(filepath, eog=tuple(EOG_CHANNELS),\n"
     ]
    },
    {
     "name": "stdout",
     "output_type": "stream",
     "text": [
      "(04/07) Crop data to useful part\n",
      "info <Info | 8 non-empty values\n",
      " bads: []\n",
      " ch_names: Fp1, Fp2, F7, F3, Fz, F4, F8, FC5, FC3, FCz, FC4, FC6, T7, C3, ...\n",
      " chs: 27 EEG, 1 misc, 4 EOG\n",
      " custom_ref_applied: False\n",
      " dig: 30 items (3 Cardinal, 27 EEG)\n",
      " highpass: 0.0 Hz\n",
      " lowpass: 250.0 Hz\n",
      " meas_date: unspecified\n",
      " nchan: 32\n",
      " projs: []\n",
      " sfreq: 500.0 Hz\n",
      "> 1695269 6.736 3368\n",
      "(05/07) Save EEG data\n"
     ]
    },
    {
     "name": "stderr",
     "output_type": "stream",
     "text": [
      "Python\\Python311\\site-packages\\pybv\\io.py:690: UserWarning: Encountered unsupported non-voltage units: n/a\n",
      "Note that the BrainVision format specification supports only µV.\n",
      "  warn(msg)\n"
     ]
    },
    {
     "name": "stdout",
     "output_type": "stream",
     "text": [
      "(06/07) Load behavioral events prepared for EEG synchronization\n",
      "(07/07) Assign trial to annotations\n",
      "annotations: 216 behavioral_events: 216\n",
      "automatic success\n",
      "----------------------------------------------\n",
      "Participant 010\n",
      "(01/07) Check artifact reasoning file\n",
      "(02/07) anonymize prepared EEG data\n",
      "(03/07) Load prepared EEG data\n",
      "Extracting parameters from ..\\08-Data-Trial_Recordings\\processed\\..\\prepared_EEG_files\\EEG\\AoCfrp_010_New Reference.vhdr...\n",
      "Setting channel info structure...\n",
      "Reading 0 ... 1590619  =      0.000 ...  3181.238 secs...\n"
     ]
    },
    {
     "name": "stderr",
     "output_type": "stream",
     "text": [
      "e:\\PHD\\Studies\\aoc-frp-main-studies\\Main_Study_Part\\09-Task-Evaluate_Data\\utils\\eeg_helpers.py:131: RuntimeWarning: No coordinate information found for channels ['A2']. Setting channel types to misc. To avoid this warning, set channel types explicitly.\n",
      "  raw_eeg = mne.io.read_raw_brainvision(filepath, eog=tuple(EOG_CHANNELS),\n",
      "e:\\PHD\\Studies\\aoc-frp-main-studies\\Main_Study_Part\\09-Task-Evaluate_Data\\utils\\eeg_helpers.py:131: RuntimeWarning: Not setting positions of 5 eog/misc channels found in montage:\n",
      "['A2', 'VEOGP', 'VEOGM', 'HEOGP', 'HEOGM']\n",
      "Consider setting the channel types to be of EEG/sEEG/ECoG/DBS/fNIRS using inst.set_channel_types before calling inst.set_montage, or omit these channels when creating your montage.\n",
      "  raw_eeg = mne.io.read_raw_brainvision(filepath, eog=tuple(EOG_CHANNELS),\n"
     ]
    },
    {
     "name": "stdout",
     "output_type": "stream",
     "text": [
      "(04/07) Crop data to useful part\n",
      "info <Info | 8 non-empty values\n",
      " bads: []\n",
      " ch_names: Fp1, Fp2, F7, F3, Fz, F4, F8, FC5, FC3, FCz, FC4, FC6, T7, C3, ...\n",
      " chs: 27 EEG, 1 misc, 4 EOG\n",
      " custom_ref_applied: False\n",
      " dig: 30 items (3 Cardinal, 27 EEG)\n",
      " highpass: 0.0 Hz\n",
      " lowpass: 250.0 Hz\n",
      " meas_date: unspecified\n",
      " nchan: 32\n",
      " projs: []\n",
      " sfreq: 500.0 Hz\n",
      "> 1555186 47.224 23612\n",
      "(05/07) Save EEG data\n"
     ]
    },
    {
     "name": "stderr",
     "output_type": "stream",
     "text": [
      "Python\\Python311\\site-packages\\pybv\\io.py:690: UserWarning: Encountered unsupported non-voltage units: n/a\n",
      "Note that the BrainVision format specification supports only µV.\n",
      "  warn(msg)\n"
     ]
    },
    {
     "name": "stdout",
     "output_type": "stream",
     "text": [
      "(06/07) Load behavioral events prepared for EEG synchronization\n",
      "(07/07) Assign trial to annotations\n",
      "annotations: 217 behavioral_events: 217\n",
      "automatic success\n",
      "----------------------------------------------\n",
      "Participant 011\n",
      "(01/07) Check artifact reasoning file\n",
      "(02/07) anonymize prepared EEG data\n",
      "(03/07) Load prepared EEG data\n",
      "Extracting parameters from ..\\08-Data-Trial_Recordings\\processed\\..\\prepared_EEG_files\\EEG\\AoCfrp_011_New Reference.vhdr...\n",
      "Setting channel info structure...\n",
      "Reading 0 ... 1604989  =      0.000 ...  3209.978 secs...\n"
     ]
    },
    {
     "name": "stderr",
     "output_type": "stream",
     "text": [
      "e:\\PHD\\Studies\\aoc-frp-main-studies\\Main_Study_Part\\09-Task-Evaluate_Data\\utils\\eeg_helpers.py:131: RuntimeWarning: No coordinate information found for channels ['A2']. Setting channel types to misc. To avoid this warning, set channel types explicitly.\n",
      "  raw_eeg = mne.io.read_raw_brainvision(filepath, eog=tuple(EOG_CHANNELS),\n",
      "e:\\PHD\\Studies\\aoc-frp-main-studies\\Main_Study_Part\\09-Task-Evaluate_Data\\utils\\eeg_helpers.py:131: RuntimeWarning: Not setting positions of 5 eog/misc channels found in montage:\n",
      "['A2', 'VEOGP', 'VEOGM', 'HEOGP', 'HEOGM']\n",
      "Consider setting the channel types to be of EEG/sEEG/ECoG/DBS/fNIRS using inst.set_channel_types before calling inst.set_montage, or omit these channels when creating your montage.\n",
      "  raw_eeg = mne.io.read_raw_brainvision(filepath, eog=tuple(EOG_CHANNELS),\n"
     ]
    },
    {
     "name": "stdout",
     "output_type": "stream",
     "text": [
      "(04/07) Crop data to useful part\n",
      "info <Info | 8 non-empty values\n",
      " bads: []\n",
      " ch_names: Fp1, Fp2, F7, F3, Fz, F4, F8, FC5, FC3, FCz, FC4, FC6, T7, C3, ...\n",
      " chs: 27 EEG, 1 misc, 4 EOG\n",
      " custom_ref_applied: False\n",
      " dig: 30 items (3 Cardinal, 27 EEG)\n",
      " highpass: 0.0 Hz\n",
      " lowpass: 250.0 Hz\n",
      " meas_date: unspecified\n",
      " nchan: 32\n",
      " projs: []\n",
      " sfreq: 500.0 Hz\n",
      "> 1500210 120.542 60271\n",
      "(05/07) Save EEG data\n"
     ]
    },
    {
     "name": "stderr",
     "output_type": "stream",
     "text": [
      "Python\\Python311\\site-packages\\pybv\\io.py:690: UserWarning: Encountered unsupported non-voltage units: n/a\n",
      "Note that the BrainVision format specification supports only µV.\n",
      "  warn(msg)\n"
     ]
    },
    {
     "name": "stdout",
     "output_type": "stream",
     "text": [
      "(06/07) Load behavioral events prepared for EEG synchronization\n",
      "(07/07) Assign trial to annotations\n",
      "annotations: 216 behavioral_events: 216\n",
      "automatic success\n",
      "----------------------------------------------\n",
      "Participant 012\n",
      "(01/07) Check artifact reasoning file\n",
      "(02/07) anonymize prepared EEG data\n",
      "(03/07) Load prepared EEG data\n",
      "Extracting parameters from ..\\08-Data-Trial_Recordings\\processed\\..\\prepared_EEG_files\\EEG\\AoCfrp_012_New Reference.vhdr...\n",
      "Setting channel info structure...\n",
      "Reading 0 ... 1451769  =      0.000 ...  2903.538 secs...\n"
     ]
    },
    {
     "name": "stderr",
     "output_type": "stream",
     "text": [
      "e:\\PHD\\Studies\\aoc-frp-main-studies\\Main_Study_Part\\09-Task-Evaluate_Data\\utils\\eeg_helpers.py:131: RuntimeWarning: No coordinate information found for channels ['A2']. Setting channel types to misc. To avoid this warning, set channel types explicitly.\n",
      "  raw_eeg = mne.io.read_raw_brainvision(filepath, eog=tuple(EOG_CHANNELS),\n",
      "e:\\PHD\\Studies\\aoc-frp-main-studies\\Main_Study_Part\\09-Task-Evaluate_Data\\utils\\eeg_helpers.py:131: RuntimeWarning: Not setting positions of 5 eog/misc channels found in montage:\n",
      "['A2', 'VEOGP', 'VEOGM', 'HEOGP', 'HEOGM']\n",
      "Consider setting the channel types to be of EEG/sEEG/ECoG/DBS/fNIRS using inst.set_channel_types before calling inst.set_montage, or omit these channels when creating your montage.\n",
      "  raw_eeg = mne.io.read_raw_brainvision(filepath, eog=tuple(EOG_CHANNELS),\n"
     ]
    },
    {
     "name": "stdout",
     "output_type": "stream",
     "text": [
      "(04/07) Crop data to useful part\n",
      "info <Info | 8 non-empty values\n",
      " bads: []\n",
      " ch_names: Fp1, Fp2, F7, F3, Fz, F4, F8, FC5, FC3, FCz, FC4, FC6, T7, C3, ...\n",
      " chs: 27 EEG, 1 misc, 4 EOG\n",
      " custom_ref_applied: False\n",
      " dig: 30 items (3 Cardinal, 27 EEG)\n",
      " highpass: 0.0 Hz\n",
      " lowpass: 250.0 Hz\n",
      " meas_date: unspecified\n",
      " nchan: 32\n",
      " projs: []\n",
      " sfreq: 500.0 Hz\n",
      "> 1390068 96.498 48249\n",
      "(05/07) Save EEG data\n"
     ]
    },
    {
     "name": "stderr",
     "output_type": "stream",
     "text": [
      "Python\\Python311\\site-packages\\pybv\\io.py:690: UserWarning: Encountered unsupported non-voltage units: n/a\n",
      "Note that the BrainVision format specification supports only µV.\n",
      "  warn(msg)\n"
     ]
    },
    {
     "name": "stdout",
     "output_type": "stream",
     "text": [
      "(06/07) Load behavioral events prepared for EEG synchronization\n",
      "(07/07) Assign trial to annotations\n",
      "annotations: 218 behavioral_events: 218\n",
      "automatic success\n",
      "----------------------------------------------\n",
      "Participant 013\n",
      "(01/07) Check artifact reasoning file\n",
      "(02/07) anonymize prepared EEG data\n",
      "(03/07) Load prepared EEG data\n",
      "Extracting parameters from ..\\08-Data-Trial_Recordings\\processed\\..\\prepared_EEG_files\\EEG\\AoCfrp_013_New Reference.vhdr...\n",
      "Setting channel info structure...\n",
      "Reading 0 ... 1294019  =      0.000 ...  2588.038 secs...\n"
     ]
    },
    {
     "name": "stderr",
     "output_type": "stream",
     "text": [
      "e:\\PHD\\Studies\\aoc-frp-main-studies\\Main_Study_Part\\09-Task-Evaluate_Data\\utils\\eeg_helpers.py:131: RuntimeWarning: No coordinate information found for channels ['A2']. Setting channel types to misc. To avoid this warning, set channel types explicitly.\n",
      "  raw_eeg = mne.io.read_raw_brainvision(filepath, eog=tuple(EOG_CHANNELS),\n",
      "e:\\PHD\\Studies\\aoc-frp-main-studies\\Main_Study_Part\\09-Task-Evaluate_Data\\utils\\eeg_helpers.py:131: RuntimeWarning: Not setting positions of 5 eog/misc channels found in montage:\n",
      "['A2', 'VEOGP', 'VEOGM', 'HEOGP', 'HEOGM']\n",
      "Consider setting the channel types to be of EEG/sEEG/ECoG/DBS/fNIRS using inst.set_channel_types before calling inst.set_montage, or omit these channels when creating your montage.\n",
      "  raw_eeg = mne.io.read_raw_brainvision(filepath, eog=tuple(EOG_CHANNELS),\n"
     ]
    },
    {
     "name": "stdout",
     "output_type": "stream",
     "text": [
      "(04/07) Crop data to useful part\n",
      "info <Info | 8 non-empty values\n",
      " bads: []\n",
      " ch_names: Fp1, Fp2, F7, F3, Fz, F4, F8, FC5, FC3, FCz, FC4, FC6, T7, C3, ...\n",
      " chs: 27 EEG, 1 misc, 4 EOG\n",
      " custom_ref_applied: False\n",
      " dig: 30 items (3 Cardinal, 27 EEG)\n",
      " highpass: 0.0 Hz\n",
      " lowpass: 250.0 Hz\n",
      " meas_date: unspecified\n",
      " nchan: 32\n",
      " projs: []\n",
      " sfreq: 500.0 Hz\n",
      "> 1238817 88.266 44133\n",
      "(05/07) Save EEG data\n"
     ]
    },
    {
     "name": "stderr",
     "output_type": "stream",
     "text": [
      "Python\\Python311\\site-packages\\pybv\\io.py:690: UserWarning: Encountered unsupported non-voltage units: n/a\n",
      "Note that the BrainVision format specification supports only µV.\n",
      "  warn(msg)\n"
     ]
    },
    {
     "name": "stdout",
     "output_type": "stream",
     "text": [
      "(06/07) Load behavioral events prepared for EEG synchronization\n",
      "(07/07) Assign trial to annotations\n",
      "annotations: 216 behavioral_events: 216\n",
      "automatic success\n",
      "----------------------------------------------\n",
      "Participant 014\n",
      "(01/07) Check artifact reasoning file\n",
      "(02/07) anonymize prepared EEG data\n",
      "(03/07) Load prepared EEG data\n",
      "Extracting parameters from ..\\08-Data-Trial_Recordings\\processed\\..\\prepared_EEG_files\\EEG\\AoCfrp_014_New Reference.vhdr...\n",
      "Setting channel info structure...\n",
      "Reading 0 ... 1694799  =      0.000 ...  3389.598 secs...\n"
     ]
    },
    {
     "name": "stderr",
     "output_type": "stream",
     "text": [
      "e:\\PHD\\Studies\\aoc-frp-main-studies\\Main_Study_Part\\09-Task-Evaluate_Data\\utils\\eeg_helpers.py:131: RuntimeWarning: No coordinate information found for channels ['A2']. Setting channel types to misc. To avoid this warning, set channel types explicitly.\n",
      "  raw_eeg = mne.io.read_raw_brainvision(filepath, eog=tuple(EOG_CHANNELS),\n",
      "e:\\PHD\\Studies\\aoc-frp-main-studies\\Main_Study_Part\\09-Task-Evaluate_Data\\utils\\eeg_helpers.py:131: RuntimeWarning: Not setting positions of 5 eog/misc channels found in montage:\n",
      "['A2', 'VEOGP', 'VEOGM', 'HEOGP', 'HEOGM']\n",
      "Consider setting the channel types to be of EEG/sEEG/ECoG/DBS/fNIRS using inst.set_channel_types before calling inst.set_montage, or omit these channels when creating your montage.\n",
      "  raw_eeg = mne.io.read_raw_brainvision(filepath, eog=tuple(EOG_CHANNELS),\n"
     ]
    },
    {
     "name": "stdout",
     "output_type": "stream",
     "text": [
      "(04/07) Crop data to useful part\n",
      "info <Info | 8 non-empty values\n",
      " bads: []\n",
      " ch_names: Fp1, Fp2, F7, F3, Fz, F4, F8, FC5, FC3, FCz, FC4, FC6, T7, C3, ...\n",
      " chs: 27 EEG, 1 misc, 4 EOG\n",
      " custom_ref_applied: False\n",
      " dig: 30 items (3 Cardinal, 27 EEG)\n",
      " highpass: 0.0 Hz\n",
      " lowpass: 250.0 Hz\n",
      " meas_date: unspecified\n",
      " nchan: 32\n",
      " projs: []\n",
      " sfreq: 500.0 Hz\n",
      "> 1639796 91.434 45717\n",
      "(05/07) Save EEG data\n"
     ]
    },
    {
     "name": "stderr",
     "output_type": "stream",
     "text": [
      "Python\\Python311\\site-packages\\pybv\\io.py:690: UserWarning: Encountered unsupported non-voltage units: n/a\n",
      "Note that the BrainVision format specification supports only µV.\n",
      "  warn(msg)\n"
     ]
    },
    {
     "name": "stdout",
     "output_type": "stream",
     "text": [
      "(06/07) Load behavioral events prepared for EEG synchronization\n",
      "(07/07) Assign trial to annotations\n",
      "annotations: 214 behavioral_events: 222\n",
      "\tno automatic success, please mark the correct snippet trial for each annotation.\n",
      "----------------------------------------------\n",
      "Participant 015\n",
      "(01/07) Check artifact reasoning file\n",
      "(02/07) anonymize prepared EEG data\n",
      "(03/07) Load prepared EEG data\n",
      "Extracting parameters from ..\\08-Data-Trial_Recordings\\processed\\..\\prepared_EEG_files\\EEG\\AoCfrp_015_New Reference.vhdr...\n",
      "Setting channel info structure...\n",
      "Reading 0 ... 1338669  =      0.000 ...  2677.338 secs...\n"
     ]
    },
    {
     "name": "stderr",
     "output_type": "stream",
     "text": [
      "e:\\PHD\\Studies\\aoc-frp-main-studies\\Main_Study_Part\\09-Task-Evaluate_Data\\utils\\eeg_helpers.py:131: RuntimeWarning: No coordinate information found for channels ['A2']. Setting channel types to misc. To avoid this warning, set channel types explicitly.\n",
      "  raw_eeg = mne.io.read_raw_brainvision(filepath, eog=tuple(EOG_CHANNELS),\n",
      "e:\\PHD\\Studies\\aoc-frp-main-studies\\Main_Study_Part\\09-Task-Evaluate_Data\\utils\\eeg_helpers.py:131: RuntimeWarning: Not setting positions of 5 eog/misc channels found in montage:\n",
      "['A2', 'VEOGP', 'VEOGM', 'HEOGP', 'HEOGM']\n",
      "Consider setting the channel types to be of EEG/sEEG/ECoG/DBS/fNIRS using inst.set_channel_types before calling inst.set_montage, or omit these channels when creating your montage.\n",
      "  raw_eeg = mne.io.read_raw_brainvision(filepath, eog=tuple(EOG_CHANNELS),\n"
     ]
    },
    {
     "name": "stdout",
     "output_type": "stream",
     "text": [
      "(04/07) Crop data to useful part\n",
      "info <Info | 8 non-empty values\n",
      " bads: []\n",
      " ch_names: Fp1, Fp2, F7, F3, Fz, F4, F8, FC5, FC3, FCz, FC4, FC6, T7, C3, ...\n",
      " chs: 27 EEG, 1 misc, 4 EOG\n",
      " custom_ref_applied: False\n",
      " dig: 30 items (3 Cardinal, 27 EEG)\n",
      " highpass: 0.0 Hz\n",
      " lowpass: 250.0 Hz\n",
      " meas_date: unspecified\n",
      " nchan: 32\n",
      " projs: []\n",
      " sfreq: 500.0 Hz\n",
      "> 1292435 79.148 39574\n",
      "(05/07) Save EEG data\n"
     ]
    },
    {
     "name": "stderr",
     "output_type": "stream",
     "text": [
      "Python\\Python311\\site-packages\\pybv\\io.py:690: UserWarning: Encountered unsupported non-voltage units: n/a\n",
      "Note that the BrainVision format specification supports only µV.\n",
      "  warn(msg)\n"
     ]
    },
    {
     "name": "stdout",
     "output_type": "stream",
     "text": [
      "(06/07) Load behavioral events prepared for EEG synchronization\n",
      "(07/07) Assign trial to annotations\n",
      "annotations: 217 behavioral_events: 217\n",
      "automatic success\n",
      "----------------------------------------------\n",
      "Participant 016\n",
      "(01/07) Check artifact reasoning file\n",
      "(02/07) anonymize prepared EEG data\n",
      "(03/07) Load prepared EEG data\n",
      "Extracting parameters from ..\\08-Data-Trial_Recordings\\processed\\..\\prepared_EEG_files\\EEG\\AoCfrp_016_New Reference.vhdr...\n",
      "Setting channel info structure...\n",
      "Reading 0 ... 1518939  =      0.000 ...  3037.878 secs...\n"
     ]
    },
    {
     "name": "stderr",
     "output_type": "stream",
     "text": [
      "e:\\PHD\\Studies\\aoc-frp-main-studies\\Main_Study_Part\\09-Task-Evaluate_Data\\utils\\eeg_helpers.py:131: RuntimeWarning: No coordinate information found for channels ['A2']. Setting channel types to misc. To avoid this warning, set channel types explicitly.\n",
      "  raw_eeg = mne.io.read_raw_brainvision(filepath, eog=tuple(EOG_CHANNELS),\n",
      "e:\\PHD\\Studies\\aoc-frp-main-studies\\Main_Study_Part\\09-Task-Evaluate_Data\\utils\\eeg_helpers.py:131: RuntimeWarning: Not setting positions of 5 eog/misc channels found in montage:\n",
      "['A2', 'VEOGP', 'VEOGM', 'HEOGP', 'HEOGM']\n",
      "Consider setting the channel types to be of EEG/sEEG/ECoG/DBS/fNIRS using inst.set_channel_types before calling inst.set_montage, or omit these channels when creating your montage.\n",
      "  raw_eeg = mne.io.read_raw_brainvision(filepath, eog=tuple(EOG_CHANNELS),\n"
     ]
    },
    {
     "name": "stdout",
     "output_type": "stream",
     "text": [
      "(04/07) Crop data to useful part\n",
      "info <Info | 8 non-empty values\n",
      " bads: []\n",
      " ch_names: Fp1, Fp2, F7, F3, Fz, F4, F8, FC5, FC3, FCz, FC4, FC6, T7, C3, ...\n",
      " chs: 27 EEG, 1 misc, 4 EOG\n",
      " custom_ref_applied: False\n",
      " dig: 30 items (3 Cardinal, 27 EEG)\n",
      " highpass: 0.0 Hz\n",
      " lowpass: 250.0 Hz\n",
      " meas_date: unspecified\n",
      " nchan: 32\n",
      " projs: []\n",
      " sfreq: 500.0 Hz\n",
      "> 1441251 146.626 73313\n",
      "(05/07) Save EEG data\n"
     ]
    },
    {
     "name": "stderr",
     "output_type": "stream",
     "text": [
      "Python\\Python311\\site-packages\\pybv\\io.py:690: UserWarning: Encountered unsupported non-voltage units: n/a\n",
      "Note that the BrainVision format specification supports only µV.\n",
      "  warn(msg)\n"
     ]
    },
    {
     "name": "stdout",
     "output_type": "stream",
     "text": [
      "(06/07) Load behavioral events prepared for EEG synchronization\n",
      "(07/07) Assign trial to annotations\n",
      "annotations: 218 behavioral_events: 218\n",
      "automatic success\n",
      "----------------------------------------------\n",
      "Participant 017\n",
      "(01/07) Check artifact reasoning file\n",
      "(02/07) anonymize prepared EEG data\n",
      "(03/07) Load prepared EEG data\n",
      "Extracting parameters from ..\\08-Data-Trial_Recordings\\processed\\..\\prepared_EEG_files\\EEG\\AoCfrp_017_New Reference.vhdr...\n",
      "Setting channel info structure...\n",
      "Reading 0 ... 1358629  =      0.000 ...  2717.258 secs...\n"
     ]
    },
    {
     "name": "stderr",
     "output_type": "stream",
     "text": [
      "e:\\PHD\\Studies\\aoc-frp-main-studies\\Main_Study_Part\\09-Task-Evaluate_Data\\utils\\eeg_helpers.py:131: RuntimeWarning: No coordinate information found for channels ['A2']. Setting channel types to misc. To avoid this warning, set channel types explicitly.\n",
      "  raw_eeg = mne.io.read_raw_brainvision(filepath, eog=tuple(EOG_CHANNELS),\n",
      "e:\\PHD\\Studies\\aoc-frp-main-studies\\Main_Study_Part\\09-Task-Evaluate_Data\\utils\\eeg_helpers.py:131: RuntimeWarning: Not setting positions of 5 eog/misc channels found in montage:\n",
      "['A2', 'VEOGP', 'VEOGM', 'HEOGP', 'HEOGM']\n",
      "Consider setting the channel types to be of EEG/sEEG/ECoG/DBS/fNIRS using inst.set_channel_types before calling inst.set_montage, or omit these channels when creating your montage.\n",
      "  raw_eeg = mne.io.read_raw_brainvision(filepath, eog=tuple(EOG_CHANNELS),\n"
     ]
    },
    {
     "name": "stdout",
     "output_type": "stream",
     "text": [
      "(04/07) Crop data to useful part\n",
      "info <Info | 8 non-empty values\n",
      " bads: []\n",
      " ch_names: Fp1, Fp2, F7, F3, Fz, F4, F8, FC5, FC3, FCz, FC4, FC6, T7, C3, ...\n",
      " chs: 27 EEG, 1 misc, 4 EOG\n",
      " custom_ref_applied: False\n",
      " dig: 30 items (3 Cardinal, 27 EEG)\n",
      " highpass: 0.0 Hz\n",
      " lowpass: 250.0 Hz\n",
      " meas_date: unspecified\n",
      " nchan: 32\n",
      " projs: []\n",
      " sfreq: 500.0 Hz\n",
      "> 1307176 78.718 39359\n",
      "(05/07) Save EEG data\n"
     ]
    },
    {
     "name": "stderr",
     "output_type": "stream",
     "text": [
      "Python\\Python311\\site-packages\\pybv\\io.py:690: UserWarning: Encountered unsupported non-voltage units: n/a\n",
      "Note that the BrainVision format specification supports only µV.\n",
      "  warn(msg)\n"
     ]
    },
    {
     "name": "stdout",
     "output_type": "stream",
     "text": [
      "(06/07) Load behavioral events prepared for EEG synchronization\n",
      "(07/07) Assign trial to annotations\n",
      "annotations: 218 behavioral_events: 218\n",
      "automatic success\n",
      "----------------------------------------------\n",
      "Participant 018\n",
      "(01/07) Check artifact reasoning file\n",
      "(02/07) anonymize prepared EEG data\n",
      "(03/07) Load prepared EEG data\n",
      "Extracting parameters from ..\\08-Data-Trial_Recordings\\processed\\..\\prepared_EEG_files\\EEG\\AoCfrp_018_New Reference.vhdr...\n",
      "Setting channel info structure...\n",
      "Reading 0 ... 1803299  =      0.000 ...  3606.598 secs...\n"
     ]
    },
    {
     "name": "stderr",
     "output_type": "stream",
     "text": [
      "e:\\PHD\\Studies\\aoc-frp-main-studies\\Main_Study_Part\\09-Task-Evaluate_Data\\utils\\eeg_helpers.py:131: RuntimeWarning: No coordinate information found for channels ['A2']. Setting channel types to misc. To avoid this warning, set channel types explicitly.\n",
      "  raw_eeg = mne.io.read_raw_brainvision(filepath, eog=tuple(EOG_CHANNELS),\n",
      "e:\\PHD\\Studies\\aoc-frp-main-studies\\Main_Study_Part\\09-Task-Evaluate_Data\\utils\\eeg_helpers.py:131: RuntimeWarning: Not setting positions of 5 eog/misc channels found in montage:\n",
      "['A2', 'VEOGP', 'VEOGM', 'HEOGP', 'HEOGM']\n",
      "Consider setting the channel types to be of EEG/sEEG/ECoG/DBS/fNIRS using inst.set_channel_types before calling inst.set_montage, or omit these channels when creating your montage.\n",
      "  raw_eeg = mne.io.read_raw_brainvision(filepath, eog=tuple(EOG_CHANNELS),\n"
     ]
    },
    {
     "name": "stdout",
     "output_type": "stream",
     "text": [
      "(04/07) Crop data to useful part\n",
      "info <Info | 8 non-empty values\n",
      " bads: []\n",
      " ch_names: Fp1, Fp2, F7, F3, Fz, F4, F8, FC5, FC3, FCz, FC4, FC6, T7, C3, ...\n",
      " chs: 27 EEG, 1 misc, 4 EOG\n",
      " custom_ref_applied: False\n",
      " dig: 30 items (3 Cardinal, 27 EEG)\n",
      " highpass: 0.0 Hz\n",
      " lowpass: 250.0 Hz\n",
      " meas_date: unspecified\n",
      " nchan: 32\n",
      " projs: []\n",
      " sfreq: 500.0 Hz\n",
      "> 1755251 88.04 44020\n",
      "(05/07) Save EEG data\n"
     ]
    },
    {
     "name": "stderr",
     "output_type": "stream",
     "text": [
      "Python\\Python311\\site-packages\\pybv\\io.py:690: UserWarning: Encountered unsupported non-voltage units: n/a\n",
      "Note that the BrainVision format specification supports only µV.\n",
      "  warn(msg)\n"
     ]
    },
    {
     "name": "stdout",
     "output_type": "stream",
     "text": [
      "(06/07) Load behavioral events prepared for EEG synchronization\n",
      "(07/07) Assign trial to annotations\n",
      "annotations: 216 behavioral_events: 216\n",
      "automatic success\n",
      "----------------------------------------------\n",
      "Participant 019\n",
      "(01/07) Check artifact reasoning file\n",
      "(02/07) anonymize prepared EEG data\n",
      "(03/07) Load prepared EEG data\n",
      "Extracting parameters from ..\\08-Data-Trial_Recordings\\processed\\..\\prepared_EEG_files\\EEG\\AoCfrp_019_New Reference.vhdr...\n",
      "Setting channel info structure...\n",
      "Reading 0 ... 1644969  =      0.000 ...  3289.938 secs...\n"
     ]
    },
    {
     "name": "stderr",
     "output_type": "stream",
     "text": [
      "e:\\PHD\\Studies\\aoc-frp-main-studies\\Main_Study_Part\\09-Task-Evaluate_Data\\utils\\eeg_helpers.py:131: RuntimeWarning: No coordinate information found for channels ['A2']. Setting channel types to misc. To avoid this warning, set channel types explicitly.\n",
      "  raw_eeg = mne.io.read_raw_brainvision(filepath, eog=tuple(EOG_CHANNELS),\n",
      "e:\\PHD\\Studies\\aoc-frp-main-studies\\Main_Study_Part\\09-Task-Evaluate_Data\\utils\\eeg_helpers.py:131: RuntimeWarning: Not setting positions of 5 eog/misc channels found in montage:\n",
      "['A2', 'VEOGP', 'VEOGM', 'HEOGP', 'HEOGM']\n",
      "Consider setting the channel types to be of EEG/sEEG/ECoG/DBS/fNIRS using inst.set_channel_types before calling inst.set_montage, or omit these channels when creating your montage.\n",
      "  raw_eeg = mne.io.read_raw_brainvision(filepath, eog=tuple(EOG_CHANNELS),\n"
     ]
    },
    {
     "name": "stdout",
     "output_type": "stream",
     "text": [
      "(04/07) Crop data to useful part\n",
      "info <Info | 8 non-empty values\n",
      " bads: []\n",
      " ch_names: Fp1, Fp2, F7, F3, Fz, F4, F8, FC5, FC3, FCz, FC4, FC6, T7, C3, ...\n",
      " chs: 27 EEG, 1 misc, 4 EOG\n",
      " custom_ref_applied: False\n",
      " dig: 30 items (3 Cardinal, 27 EEG)\n",
      " highpass: 0.0 Hz\n",
      " lowpass: 250.0 Hz\n",
      " meas_date: unspecified\n",
      " nchan: 32\n",
      " projs: []\n",
      " sfreq: 500.0 Hz\n",
      "> 1585776 81.396 40698\n",
      "(05/07) Save EEG data\n"
     ]
    },
    {
     "name": "stderr",
     "output_type": "stream",
     "text": [
      "Python\\Python311\\site-packages\\pybv\\io.py:690: UserWarning: Encountered unsupported non-voltage units: n/a\n",
      "Note that the BrainVision format specification supports only µV.\n",
      "  warn(msg)\n"
     ]
    },
    {
     "name": "stdout",
     "output_type": "stream",
     "text": [
      "(06/07) Load behavioral events prepared for EEG synchronization\n",
      "(07/07) Assign trial to annotations\n",
      "annotations: 216 behavioral_events: 217\n",
      "\tno automatic success, please mark the correct snippet trial for each annotation.\n",
      "----------------------------------------------\n",
      "Participant 020\n",
      "(01/07) Check artifact reasoning file\n",
      "(02/07) anonymize prepared EEG data\n",
      "(03/07) Load prepared EEG data\n",
      "Extracting parameters from ..\\08-Data-Trial_Recordings\\processed\\..\\prepared_EEG_files\\EEG\\AoCfrp_020_New Reference.vhdr...\n",
      "Setting channel info structure...\n",
      "Reading 0 ... 1505519  =      0.000 ...  3011.038 secs...\n"
     ]
    },
    {
     "name": "stderr",
     "output_type": "stream",
     "text": [
      "e:\\PHD\\Studies\\aoc-frp-main-studies\\Main_Study_Part\\09-Task-Evaluate_Data\\utils\\eeg_helpers.py:131: RuntimeWarning: No coordinate information found for channels ['A2']. Setting channel types to misc. To avoid this warning, set channel types explicitly.\n",
      "  raw_eeg = mne.io.read_raw_brainvision(filepath, eog=tuple(EOG_CHANNELS),\n",
      "e:\\PHD\\Studies\\aoc-frp-main-studies\\Main_Study_Part\\09-Task-Evaluate_Data\\utils\\eeg_helpers.py:131: RuntimeWarning: Not setting positions of 5 eog/misc channels found in montage:\n",
      "['A2', 'VEOGP', 'VEOGM', 'HEOGP', 'HEOGM']\n",
      "Consider setting the channel types to be of EEG/sEEG/ECoG/DBS/fNIRS using inst.set_channel_types before calling inst.set_montage, or omit these channels when creating your montage.\n",
      "  raw_eeg = mne.io.read_raw_brainvision(filepath, eog=tuple(EOG_CHANNELS),\n"
     ]
    },
    {
     "name": "stdout",
     "output_type": "stream",
     "text": [
      "(04/07) Crop data to useful part\n",
      "info <Info | 8 non-empty values\n",
      " bads: []\n",
      " ch_names: Fp1, Fp2, F7, F3, Fz, F4, F8, FC5, FC3, FCz, FC4, FC6, T7, C3, ...\n",
      " chs: 27 EEG, 1 misc, 4 EOG\n",
      " custom_ref_applied: False\n",
      " dig: 30 items (3 Cardinal, 27 EEG)\n",
      " highpass: 0.0 Hz\n",
      " lowpass: 250.0 Hz\n",
      " meas_date: unspecified\n",
      " nchan: 32\n",
      " projs: []\n",
      " sfreq: 500.0 Hz\n",
      "> 1449734 92.958 46479\n",
      "(05/07) Save EEG data\n"
     ]
    },
    {
     "name": "stderr",
     "output_type": "stream",
     "text": [
      "Python\\Python311\\site-packages\\pybv\\io.py:690: UserWarning: Encountered unsupported non-voltage units: n/a\n",
      "Note that the BrainVision format specification supports only µV.\n",
      "  warn(msg)\n"
     ]
    },
    {
     "name": "stdout",
     "output_type": "stream",
     "text": [
      "(06/07) Load behavioral events prepared for EEG synchronization\n",
      "(07/07) Assign trial to annotations\n",
      "annotations: 217 behavioral_events: 221\n",
      "\tno automatic success, please mark the correct snippet trial for each annotation.\n",
      "----------------------------------------------\n",
      "Participant 021\n",
      "(01/07) Check artifact reasoning file\n",
      "(02/07) anonymize prepared EEG data\n",
      "(03/07) Load prepared EEG data\n",
      "Extracting parameters from ..\\08-Data-Trial_Recordings\\processed\\..\\prepared_EEG_files\\EEG\\AoCfrp_021_New Reference.vhdr...\n",
      "Setting channel info structure...\n",
      "Reading 0 ... 1353459  =      0.000 ...  2706.918 secs...\n"
     ]
    },
    {
     "name": "stderr",
     "output_type": "stream",
     "text": [
      "e:\\PHD\\Studies\\aoc-frp-main-studies\\Main_Study_Part\\09-Task-Evaluate_Data\\utils\\eeg_helpers.py:131: RuntimeWarning: No coordinate information found for channels ['A2']. Setting channel types to misc. To avoid this warning, set channel types explicitly.\n",
      "  raw_eeg = mne.io.read_raw_brainvision(filepath, eog=tuple(EOG_CHANNELS),\n",
      "e:\\PHD\\Studies\\aoc-frp-main-studies\\Main_Study_Part\\09-Task-Evaluate_Data\\utils\\eeg_helpers.py:131: RuntimeWarning: Not setting positions of 5 eog/misc channels found in montage:\n",
      "['A2', 'VEOGP', 'VEOGM', 'HEOGP', 'HEOGM']\n",
      "Consider setting the channel types to be of EEG/sEEG/ECoG/DBS/fNIRS using inst.set_channel_types before calling inst.set_montage, or omit these channels when creating your montage.\n",
      "  raw_eeg = mne.io.read_raw_brainvision(filepath, eog=tuple(EOG_CHANNELS),\n"
     ]
    },
    {
     "name": "stdout",
     "output_type": "stream",
     "text": [
      "(04/07) Crop data to useful part\n",
      "info <Info | 8 non-empty values\n",
      " bads: []\n",
      " ch_names: Fp1, Fp2, F7, F3, Fz, F4, F8, FC5, FC3, FCz, FC4, FC6, T7, C3, ...\n",
      " chs: 27 EEG, 1 misc, 4 EOG\n",
      " custom_ref_applied: False\n",
      " dig: 30 items (3 Cardinal, 27 EEG)\n",
      " highpass: 0.0 Hz\n",
      " lowpass: 250.0 Hz\n",
      " meas_date: unspecified\n",
      " nchan: 32\n",
      " projs: []\n",
      " sfreq: 500.0 Hz\n",
      "> 1297467 86.424 43212\n",
      "(05/07) Save EEG data\n"
     ]
    },
    {
     "name": "stderr",
     "output_type": "stream",
     "text": [
      "Python\\Python311\\site-packages\\pybv\\io.py:690: UserWarning: Encountered unsupported non-voltage units: n/a\n",
      "Note that the BrainVision format specification supports only µV.\n",
      "  warn(msg)\n"
     ]
    },
    {
     "name": "stdout",
     "output_type": "stream",
     "text": [
      "(06/07) Load behavioral events prepared for EEG synchronization\n",
      "(07/07) Assign trial to annotations\n",
      "annotations: 217 behavioral_events: 217\n",
      "automatic success\n",
      "----------------------------------------------\n",
      "Participant 022\n",
      "(01/07) Check artifact reasoning file\n",
      "(02/07) anonymize prepared EEG data\n",
      "(03/07) Load prepared EEG data\n",
      "Extracting parameters from ..\\08-Data-Trial_Recordings\\processed\\..\\prepared_EEG_files\\EEG\\AoCfrp_022_New Reference.vhdr...\n",
      "Setting channel info structure...\n",
      "Reading 0 ... 1527049  =      0.000 ...  3054.098 secs...\n"
     ]
    },
    {
     "name": "stderr",
     "output_type": "stream",
     "text": [
      "e:\\PHD\\Studies\\aoc-frp-main-studies\\Main_Study_Part\\09-Task-Evaluate_Data\\utils\\eeg_helpers.py:131: RuntimeWarning: No coordinate information found for channels ['A2']. Setting channel types to misc. To avoid this warning, set channel types explicitly.\n",
      "  raw_eeg = mne.io.read_raw_brainvision(filepath, eog=tuple(EOG_CHANNELS),\n",
      "e:\\PHD\\Studies\\aoc-frp-main-studies\\Main_Study_Part\\09-Task-Evaluate_Data\\utils\\eeg_helpers.py:131: RuntimeWarning: Not setting positions of 5 eog/misc channels found in montage:\n",
      "['A2', 'VEOGP', 'VEOGM', 'HEOGP', 'HEOGM']\n",
      "Consider setting the channel types to be of EEG/sEEG/ECoG/DBS/fNIRS using inst.set_channel_types before calling inst.set_montage, or omit these channels when creating your montage.\n",
      "  raw_eeg = mne.io.read_raw_brainvision(filepath, eog=tuple(EOG_CHANNELS),\n"
     ]
    },
    {
     "name": "stdout",
     "output_type": "stream",
     "text": [
      "(04/07) Crop data to useful part\n",
      "info <Info | 8 non-empty values\n",
      " bads: []\n",
      " ch_names: Fp1, Fp2, F7, F3, Fz, F4, F8, FC5, FC3, FCz, FC4, FC6, T7, C3, ...\n",
      " chs: 27 EEG, 1 misc, 4 EOG\n",
      " custom_ref_applied: False\n",
      " dig: 30 items (3 Cardinal, 27 EEG)\n",
      " highpass: 0.0 Hz\n",
      " lowpass: 250.0 Hz\n",
      " meas_date: unspecified\n",
      " nchan: 32\n",
      " projs: []\n",
      " sfreq: 500.0 Hz\n",
      "> 1473860 84.094 42047\n",
      "(05/07) Save EEG data\n"
     ]
    },
    {
     "name": "stderr",
     "output_type": "stream",
     "text": [
      "Python\\Python311\\site-packages\\pybv\\io.py:690: UserWarning: Encountered unsupported non-voltage units: n/a\n",
      "Note that the BrainVision format specification supports only µV.\n",
      "  warn(msg)\n"
     ]
    },
    {
     "name": "stdout",
     "output_type": "stream",
     "text": [
      "(06/07) Load behavioral events prepared for EEG synchronization\n",
      "(07/07) Assign trial to annotations\n",
      "annotations: 219 behavioral_events: 219\n",
      "automatic success\n",
      "----------------------------------------------\n",
      "Participant 023\n",
      "(01/07) Check artifact reasoning file\n",
      "(02/07) anonymize prepared EEG data\n",
      "(03/07) Load prepared EEG data\n",
      "Extracting parameters from ..\\08-Data-Trial_Recordings\\processed\\..\\prepared_EEG_files\\EEG\\AoCfrp_023_New Reference.vhdr...\n",
      "Setting channel info structure...\n",
      "Reading 0 ... 1465219  =      0.000 ...  2930.438 secs...\n"
     ]
    },
    {
     "name": "stderr",
     "output_type": "stream",
     "text": [
      "e:\\PHD\\Studies\\aoc-frp-main-studies\\Main_Study_Part\\09-Task-Evaluate_Data\\utils\\eeg_helpers.py:131: RuntimeWarning: No coordinate information found for channels ['A2']. Setting channel types to misc. To avoid this warning, set channel types explicitly.\n",
      "  raw_eeg = mne.io.read_raw_brainvision(filepath, eog=tuple(EOG_CHANNELS),\n",
      "e:\\PHD\\Studies\\aoc-frp-main-studies\\Main_Study_Part\\09-Task-Evaluate_Data\\utils\\eeg_helpers.py:131: RuntimeWarning: Not setting positions of 5 eog/misc channels found in montage:\n",
      "['A2', 'VEOGP', 'VEOGM', 'HEOGP', 'HEOGM']\n",
      "Consider setting the channel types to be of EEG/sEEG/ECoG/DBS/fNIRS using inst.set_channel_types before calling inst.set_montage, or omit these channels when creating your montage.\n",
      "  raw_eeg = mne.io.read_raw_brainvision(filepath, eog=tuple(EOG_CHANNELS),\n"
     ]
    },
    {
     "name": "stdout",
     "output_type": "stream",
     "text": [
      "(04/07) Crop data to useful part\n",
      "info <Info | 8 non-empty values\n",
      " bads: []\n",
      " ch_names: Fp1, Fp2, F7, F3, Fz, F4, F8, FC5, FC3, FCz, FC4, FC6, T7, C3, ...\n",
      " chs: 27 EEG, 1 misc, 4 EOG\n",
      " custom_ref_applied: False\n",
      " dig: 30 items (3 Cardinal, 27 EEG)\n",
      " highpass: 0.0 Hz\n",
      " lowpass: 250.0 Hz\n",
      " meas_date: unspecified\n",
      " nchan: 32\n",
      " projs: []\n",
      " sfreq: 500.0 Hz\n",
      "> 1395280 122.436 61218\n",
      "(05/07) Save EEG data\n"
     ]
    },
    {
     "name": "stderr",
     "output_type": "stream",
     "text": [
      "Python\\Python311\\site-packages\\pybv\\io.py:690: UserWarning: Encountered unsupported non-voltage units: n/a\n",
      "Note that the BrainVision format specification supports only µV.\n",
      "  warn(msg)\n"
     ]
    },
    {
     "name": "stdout",
     "output_type": "stream",
     "text": [
      "(06/07) Load behavioral events prepared for EEG synchronization\n",
      "(07/07) Assign trial to annotations\n",
      "annotations: 217 behavioral_events: 218\n",
      "\tno automatic success, please mark the correct snippet trial for each annotation.\n",
      "----------------------------------------------\n",
      "Participant 024\n",
      "(01/07) Check artifact reasoning file\n",
      "(02/07) anonymize prepared EEG data\n",
      "(03/07) Load prepared EEG data\n",
      "Extracting parameters from ..\\08-Data-Trial_Recordings\\processed\\..\\prepared_EEG_files\\EEG\\AoCfrp_024_New Reference.vhdr...\n",
      "Setting channel info structure...\n",
      "Reading 0 ... 1397679  =      0.000 ...  2795.358 secs...\n"
     ]
    },
    {
     "name": "stderr",
     "output_type": "stream",
     "text": [
      "e:\\PHD\\Studies\\aoc-frp-main-studies\\Main_Study_Part\\09-Task-Evaluate_Data\\utils\\eeg_helpers.py:131: RuntimeWarning: No coordinate information found for channels ['A2']. Setting channel types to misc. To avoid this warning, set channel types explicitly.\n",
      "  raw_eeg = mne.io.read_raw_brainvision(filepath, eog=tuple(EOG_CHANNELS),\n",
      "e:\\PHD\\Studies\\aoc-frp-main-studies\\Main_Study_Part\\09-Task-Evaluate_Data\\utils\\eeg_helpers.py:131: RuntimeWarning: Not setting positions of 5 eog/misc channels found in montage:\n",
      "['A2', 'VEOGP', 'VEOGM', 'HEOGP', 'HEOGM']\n",
      "Consider setting the channel types to be of EEG/sEEG/ECoG/DBS/fNIRS using inst.set_channel_types before calling inst.set_montage, or omit these channels when creating your montage.\n",
      "  raw_eeg = mne.io.read_raw_brainvision(filepath, eog=tuple(EOG_CHANNELS),\n"
     ]
    },
    {
     "name": "stdout",
     "output_type": "stream",
     "text": [
      "(04/07) Crop data to useful part\n",
      "info <Info | 8 non-empty values\n",
      " bads: []\n",
      " ch_names: Fp1, Fp2, F7, F3, Fz, F4, F8, FC5, FC3, FCz, FC4, FC6, T7, C3, ...\n",
      " chs: 27 EEG, 1 misc, 4 EOG\n",
      " custom_ref_applied: False\n",
      " dig: 30 items (3 Cardinal, 27 EEG)\n",
      " highpass: 0.0 Hz\n",
      " lowpass: 250.0 Hz\n",
      " meas_date: unspecified\n",
      " nchan: 32\n",
      " projs: []\n",
      " sfreq: 500.0 Hz\n",
      "> 1351333 85.408 42704\n",
      "(05/07) Save EEG data\n"
     ]
    },
    {
     "name": "stderr",
     "output_type": "stream",
     "text": [
      "Python\\Python311\\site-packages\\pybv\\io.py:690: UserWarning: Encountered unsupported non-voltage units: n/a\n",
      "Note that the BrainVision format specification supports only µV.\n",
      "  warn(msg)\n"
     ]
    },
    {
     "name": "stdout",
     "output_type": "stream",
     "text": [
      "(06/07) Load behavioral events prepared for EEG synchronization\n",
      "(07/07) Assign trial to annotations\n",
      "annotations: 218 behavioral_events: 218\n",
      "automatic success\n",
      "----------------------------------------------\n",
      "Participant 101\n",
      "(01/07) Check artifact reasoning file\n",
      "(02/07) anonymize prepared EEG data\n",
      "(03/07) Load prepared EEG data\n",
      "Extracting parameters from ..\\08-Data-Trial_Recordings\\processed\\..\\prepared_EEG_files\\EEG\\AoCfrp_101_New Reference.vhdr...\n",
      "Setting channel info structure...\n",
      "Reading 0 ... 1756039  =      0.000 ...  3512.078 secs...\n"
     ]
    },
    {
     "name": "stderr",
     "output_type": "stream",
     "text": [
      "e:\\PHD\\Studies\\aoc-frp-main-studies\\Main_Study_Part\\09-Task-Evaluate_Data\\utils\\eeg_helpers.py:131: RuntimeWarning: No coordinate information found for channels ['A2']. Setting channel types to misc. To avoid this warning, set channel types explicitly.\n",
      "  raw_eeg = mne.io.read_raw_brainvision(filepath, eog=tuple(EOG_CHANNELS),\n",
      "e:\\PHD\\Studies\\aoc-frp-main-studies\\Main_Study_Part\\09-Task-Evaluate_Data\\utils\\eeg_helpers.py:131: RuntimeWarning: Not setting positions of 5 eog/misc channels found in montage:\n",
      "['A2', 'VEOGP', 'VEOGM', 'HEOGP', 'HEOGM']\n",
      "Consider setting the channel types to be of EEG/sEEG/ECoG/DBS/fNIRS using inst.set_channel_types before calling inst.set_montage, or omit these channels when creating your montage.\n",
      "  raw_eeg = mne.io.read_raw_brainvision(filepath, eog=tuple(EOG_CHANNELS),\n"
     ]
    },
    {
     "name": "stdout",
     "output_type": "stream",
     "text": [
      "(04/07) Crop data to useful part\n",
      "info <Info | 8 non-empty values\n",
      " bads: []\n",
      " ch_names: Fp1, Fp2, F7, F3, Fz, F4, F8, FC5, FC3, FCz, FC4, FC6, T7, C3, ...\n",
      " chs: 27 EEG, 1 misc, 4 EOG\n",
      " custom_ref_applied: False\n",
      " dig: 30 items (3 Cardinal, 27 EEG)\n",
      " highpass: 0.0 Hz\n",
      " lowpass: 250.0 Hz\n",
      " meas_date: unspecified\n",
      " nchan: 32\n",
      " projs: []\n",
      " sfreq: 500.0 Hz\n",
      "> 1669684 91.426 45713\n",
      "(05/07) Save EEG data\n"
     ]
    },
    {
     "name": "stderr",
     "output_type": "stream",
     "text": [
      "Python\\Python311\\site-packages\\pybv\\io.py:690: UserWarning: Encountered unsupported non-voltage units: n/a\n",
      "Note that the BrainVision format specification supports only µV.\n",
      "  warn(msg)\n"
     ]
    },
    {
     "name": "stdout",
     "output_type": "stream",
     "text": [
      "(06/07) Load behavioral events prepared for EEG synchronization\n",
      "(07/07) Assign trial to annotations\n",
      "annotations: 216 behavioral_events: 216\n",
      "automatic success\n",
      "----------------------------------------------\n",
      "Participant 102\n",
      "(01/07) Check artifact reasoning file\n",
      "(02/07) anonymize prepared EEG data\n",
      "(03/07) Load prepared EEG data\n",
      "Extracting parameters from ..\\08-Data-Trial_Recordings\\processed\\..\\prepared_EEG_files\\EEG\\AoCfrp_102_New Reference.vhdr...\n",
      "Setting channel info structure...\n",
      "Reading 0 ... 1470439  =      0.000 ...  2940.878 secs...\n"
     ]
    },
    {
     "name": "stderr",
     "output_type": "stream",
     "text": [
      "e:\\PHD\\Studies\\aoc-frp-main-studies\\Main_Study_Part\\09-Task-Evaluate_Data\\utils\\eeg_helpers.py:131: RuntimeWarning: No coordinate information found for channels ['A2']. Setting channel types to misc. To avoid this warning, set channel types explicitly.\n",
      "  raw_eeg = mne.io.read_raw_brainvision(filepath, eog=tuple(EOG_CHANNELS),\n",
      "e:\\PHD\\Studies\\aoc-frp-main-studies\\Main_Study_Part\\09-Task-Evaluate_Data\\utils\\eeg_helpers.py:131: RuntimeWarning: Not setting positions of 5 eog/misc channels found in montage:\n",
      "['A2', 'VEOGP', 'VEOGM', 'HEOGP', 'HEOGM']\n",
      "Consider setting the channel types to be of EEG/sEEG/ECoG/DBS/fNIRS using inst.set_channel_types before calling inst.set_montage, or omit these channels when creating your montage.\n",
      "  raw_eeg = mne.io.read_raw_brainvision(filepath, eog=tuple(EOG_CHANNELS),\n"
     ]
    },
    {
     "name": "stdout",
     "output_type": "stream",
     "text": [
      "(04/07) Crop data to useful part\n",
      "info <Info | 8 non-empty values\n",
      " bads: []\n",
      " ch_names: Fp1, Fp2, F7, F3, Fz, F4, F8, FC5, FC3, FCz, FC4, FC6, T7, C3, ...\n",
      " chs: 27 EEG, 1 misc, 4 EOG\n",
      " custom_ref_applied: False\n",
      " dig: 30 items (3 Cardinal, 27 EEG)\n",
      " highpass: 0.0 Hz\n",
      " lowpass: 250.0 Hz\n",
      " meas_date: unspecified\n",
      " nchan: 32\n",
      " projs: []\n",
      " sfreq: 500.0 Hz\n",
      "> 1342750 125.726 62863\n",
      "(05/07) Save EEG data\n"
     ]
    },
    {
     "name": "stderr",
     "output_type": "stream",
     "text": [
      "Python\\Python311\\site-packages\\pybv\\io.py:690: UserWarning: Encountered unsupported non-voltage units: n/a\n",
      "Note that the BrainVision format specification supports only µV.\n",
      "  warn(msg)\n"
     ]
    },
    {
     "name": "stdout",
     "output_type": "stream",
     "text": [
      "(06/07) Load behavioral events prepared for EEG synchronization\n",
      "(07/07) Assign trial to annotations\n",
      "annotations: 217 behavioral_events: 217\n",
      "automatic success\n",
      "----------------------------------------------\n",
      "Participant 106\n",
      "(01/07) Check artifact reasoning file\n",
      "(02/07) anonymize prepared EEG data\n",
      "(03/07) Load prepared EEG data\n",
      "Extracting parameters from ..\\08-Data-Trial_Recordings\\processed\\..\\prepared_EEG_files\\EEG\\AoCfrp_106_New Reference.vhdr...\n",
      "Setting channel info structure...\n",
      "Reading 0 ... 2017689  =      0.000 ...  4035.378 secs...\n"
     ]
    },
    {
     "name": "stderr",
     "output_type": "stream",
     "text": [
      "e:\\PHD\\Studies\\aoc-frp-main-studies\\Main_Study_Part\\09-Task-Evaluate_Data\\utils\\eeg_helpers.py:131: RuntimeWarning: No coordinate information found for channels ['A2']. Setting channel types to misc. To avoid this warning, set channel types explicitly.\n",
      "  raw_eeg = mne.io.read_raw_brainvision(filepath, eog=tuple(EOG_CHANNELS),\n",
      "e:\\PHD\\Studies\\aoc-frp-main-studies\\Main_Study_Part\\09-Task-Evaluate_Data\\utils\\eeg_helpers.py:131: RuntimeWarning: Not setting positions of 5 eog/misc channels found in montage:\n",
      "['A2', 'VEOGP', 'VEOGM', 'HEOGP', 'HEOGM']\n",
      "Consider setting the channel types to be of EEG/sEEG/ECoG/DBS/fNIRS using inst.set_channel_types before calling inst.set_montage, or omit these channels when creating your montage.\n",
      "  raw_eeg = mne.io.read_raw_brainvision(filepath, eog=tuple(EOG_CHANNELS),\n"
     ]
    },
    {
     "name": "stdout",
     "output_type": "stream",
     "text": [
      "(04/07) Crop data to useful part\n",
      "info <Info | 8 non-empty values\n",
      " bads: []\n",
      " ch_names: Fp1, Fp2, F7, F3, Fz, F4, F8, FC5, FC3, FCz, FC4, FC6, T7, C3, ...\n",
      " chs: 27 EEG, 1 misc, 4 EOG\n",
      " custom_ref_applied: False\n",
      " dig: 30 items (3 Cardinal, 27 EEG)\n",
      " highpass: 0.0 Hz\n",
      " lowpass: 250.0 Hz\n",
      " meas_date: unspecified\n",
      " nchan: 32\n",
      " projs: []\n",
      " sfreq: 500.0 Hz\n",
      "> 1936216 89.842 44921\n",
      "(05/07) Save EEG data\n"
     ]
    },
    {
     "name": "stderr",
     "output_type": "stream",
     "text": [
      "Python\\Python311\\site-packages\\pybv\\io.py:690: UserWarning: Encountered unsupported non-voltage units: n/a\n",
      "Note that the BrainVision format specification supports only µV.\n",
      "  warn(msg)\n"
     ]
    },
    {
     "name": "stdout",
     "output_type": "stream",
     "text": [
      "(06/07) Load behavioral events prepared for EEG synchronization\n",
      "(07/07) Assign trial to annotations\n",
      "annotations: 223 behavioral_events: 223\n",
      "automatic success\n"
     ]
    }
   ],
   "source": [
    "# Iterate over all participants\n",
    "for participant in tqdm(folders):\n",
    "    print('----------------------------------------------')\n",
    "    print(PARTICIPANT, participant)\n",
    "\n",
    "    print('(01/07) Check artifact reasoning file')\n",
    "    # check whether reasoning file was filled out correctly\n",
    "    artifact_reasoning = pd.read_csv(\n",
    "        get_manual_ICA_reasoning_path(participant, True), sep=SEPARATOR, dtype={PARTICIPANT: str})\n",
    "    check_manual_ICA_reasoning(artifact_reasoning)\n",
    "\n",
    "    print('(02/07) anonymize prepared EEG data')\n",
    "    eeg_path = get_prepared_eeg_path(participant)\n",
    "    if not eeg_path.exists():\n",
    "        print(f'\\tNo prepared EEG file {eeg_path.as_posix()} found.')\n",
    "        continue\n",
    "    anonymize_eeg_data({\n",
    "        EEG_FILE_HEADER_ENDING: eeg_path.with_suffix(EEG_FILE_HEADER_ENDING),\n",
    "        EEG_FILE_MARKER_ENDING: eeg_path.with_suffix(EEG_FILE_MARKER_ENDING),\n",
    "        EEG_FILE_DATA_ENDING: eeg_path.with_suffix(EEG_FILE_DATA_ENDING)})\n",
    "    # eeg_path = eeg_file_groups[participant][EEG_FILE_HEADER_ENDING]\n",
    "\n",
    "    print('(03/07) Load prepared EEG data')\n",
    "    eeg_data, sfreq = load_eeg_data(eeg_path, preload=True)\n",
    "\n",
    "    print('(04/07) Crop data to useful part')\n",
    "    # crop to section containing content, to ignore setup or finishing (especially muscular movement)\n",
    "    crop_to_complete_annotation_range(eeg_data)  # cannot crop EEG in-between\n",
    "    print('info', eeg_data.info, eeg_data.n_times,\n",
    "          eeg_data.first_time, eeg_data.first_samp)\n",
    "\n",
    "    print('(05/07) Save EEG data')\n",
    "    # save cropped EEG data in new file\n",
    "    export_eeg_brainvision(eeg_data, get_cropped_eeg_path(participant))\n",
    "\n",
    "    print('(06/07) Load behavioral events prepared for EEG synchronization')\n",
    "    behavioral_events = pd.read_csv(\n",
    "        get_behavioral_events_path(participant), sep=SEPARATOR, dtype={PARTICIPANT: str})\n",
    "\n",
    "    print('(07/07) Assign trial to annotations')\n",
    "    # somehow get eeg timestamp / order to match eeg section to snippet (behavioral or via condition files?)\n",
    "    automatic_success, data = assign_trials_to_annotations(\n",
    "        eeg_data, behavioral_events)\n",
    "    print('automatic success' if automatic_success else '\\tno automatic success, please mark the correct snippet trial for each annotation.')\n",
    "    data.to_csv(get_trial_annotations_path(\n",
    "        participant, performed=automatic_success), sep=SEPARATOR, index=False)"
   ]
  }
 ],
 "metadata": {
  "kernelspec": {
   "display_name": "Python 3",
   "language": "python",
   "name": "python3"
  },
  "language_info": {
   "codemirror_mode": {
    "name": "ipython",
    "version": 3
   },
   "file_extension": ".py",
   "mimetype": "text/x-python",
   "name": "python",
   "nbconvert_exporter": "python",
   "pygments_lexer": "ipython3",
   "version": "3.11.5"
  }
 },
 "nbformat": 4,
 "nbformat_minor": 5
}
