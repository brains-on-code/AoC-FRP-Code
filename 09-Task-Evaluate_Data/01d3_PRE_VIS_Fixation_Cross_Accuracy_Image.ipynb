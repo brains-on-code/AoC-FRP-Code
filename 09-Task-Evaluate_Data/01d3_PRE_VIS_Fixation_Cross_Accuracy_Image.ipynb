{
 "cells": [
  {
   "attachments": {},
   "cell_type": "markdown",
   "metadata": {},
   "source": [
    "# Create Accuracy Images for fixation-cross view\n",
    "Status: Implemented\n",
    " -- Fully automatized"
   ]
  },
  {
   "cell_type": "code",
   "execution_count": 1,
   "metadata": {
    "collapsed": false,
    "jupyter": {
     "outputs_hidden": false
    }
   },
   "outputs": [],
   "source": [
    "import warnings\n",
    "\n",
    "import pandas as pd\n",
    "from tqdm.notebook import tqdm\n",
    "from utils.utils import *\n",
    "\n",
    "warnings.filterwarnings(\"ignore\")"
   ]
  },
  {
   "cell_type": "code",
   "execution_count": 2,
   "metadata": {
    "collapsed": false,
    "jupyter": {
     "outputs_hidden": false
    }
   },
   "outputs": [],
   "source": [
    "# get all files from participants\n",
    "folders = get_participant_folder_per_participant()\n",
    "sequence_orders = get_sequence_order_per_participant()\n",
    "assert (set(folders.keys()) == set(sequence_orders.keys()))\n",
    "snippets = {p: list(sequence_orders[p][SNIPPET].values)\n",
    "            for p in sequence_orders}"
   ]
  },
  {
   "cell_type": "markdown",
   "metadata": {},
   "source": [
    "### Generate accuracy images for snippet and fixation crosses"
   ]
  },
  {
   "cell_type": "code",
   "execution_count": 3,
   "metadata": {
    "collapsed": false
   },
   "outputs": [
    {
     "data": {
      "application/vnd.jupyter.widget-view+json": {
       "model_id": "40bee58efaea41eb9eb2f4ccab36932e",
       "version_major": 2,
       "version_minor": 0
      },
      "text/plain": [
       "  0%|          | 0/24 [00:00<?, ?it/s]"
      ]
     },
     "metadata": {},
     "output_type": "display_data"
    },
    {
     "name": "stdout",
     "output_type": "stream",
     "text": [
      "----------------------------------------------\n",
      "Participant 003\n",
      "(01/02) Generate fixation cross image for snippet\n"
     ]
    },
    {
     "data": {
      "application/vnd.jupyter.widget-view+json": {
       "model_id": "303bd905464a4ff1877e5fee65c0b534",
       "version_major": 2,
       "version_minor": 0
      },
      "text/plain": [
       "  0%|          | 0/72 [00:00<?, ?it/s]"
      ]
     },
     "metadata": {},
     "output_type": "display_data"
    },
    {
     "name": "stdout",
     "output_type": "stream",
     "text": [
      "(02/02) Adapt exclusion file for snippets without fixation accuracy images\n",
      "{'54-obf-v0': '01d3_PRE_VIS_Fixation_Cross_Accuracy_Image: No fixation data for fixation cross view found.', '60-clean-v0': '01d3_PRE_VIS_Fixation_Cross_Accuracy_Image: No fixation data for fixation cross view found.', '54-obf-v1': '01d3_PRE_VIS_Fixation_Cross_Accuracy_Image: No fixation data for fixation cross view found.'}\n",
      "----------------------------------------------\n",
      "Participant 004\n",
      "(01/02) Generate fixation cross image for snippet\n"
     ]
    },
    {
     "data": {
      "application/vnd.jupyter.widget-view+json": {
       "model_id": "a829457fdaa54df6baa90553948bca1f",
       "version_major": 2,
       "version_minor": 0
      },
      "text/plain": [
       "  0%|          | 0/72 [00:00<?, ?it/s]"
      ]
     },
     "metadata": {},
     "output_type": "display_data"
    },
    {
     "name": "stdout",
     "output_type": "stream",
     "text": [
      "(02/02) Adapt exclusion file for snippets without fixation accuracy images\n",
      "{'11-clean-v1': '01d3_PRE_VIS_Fixation_Cross_Accuracy_Image: Empty fixation data for fixation cross view.'}\n",
      "----------------------------------------------\n",
      "Participant 005\n",
      "(01/02) Generate fixation cross image for snippet\n"
     ]
    },
    {
     "data": {
      "application/vnd.jupyter.widget-view+json": {
       "model_id": "ce1678fbc4f14733b52a17cb0531ad61",
       "version_major": 2,
       "version_minor": 0
      },
      "text/plain": [
       "  0%|          | 0/72 [00:00<?, ?it/s]"
      ]
     },
     "metadata": {},
     "output_type": "display_data"
    },
    {
     "name": "stdout",
     "output_type": "stream",
     "text": [
      "(02/02) Adapt exclusion file for snippets without fixation accuracy images\n",
      "{'8-clean-v1': '01d3_PRE_VIS_Fixation_Cross_Accuracy_Image: No fixation data for fixation cross view found.'}\n",
      "----------------------------------------------\n",
      "Participant 007\n",
      "(01/02) Generate fixation cross image for snippet\n"
     ]
    },
    {
     "data": {
      "application/vnd.jupyter.widget-view+json": {
       "model_id": "dd476c85497e4b679874d2af001fb7d6",
       "version_major": 2,
       "version_minor": 0
      },
      "text/plain": [
       "  0%|          | 0/72 [00:00<?, ?it/s]"
      ]
     },
     "metadata": {},
     "output_type": "display_data"
    },
    {
     "name": "stdout",
     "output_type": "stream",
     "text": [
      "(02/02) Adapt exclusion file for snippets without fixation accuracy images\n",
      "----------------------------------------------\n",
      "Participant 008\n",
      "(01/02) Generate fixation cross image for snippet\n"
     ]
    },
    {
     "data": {
      "application/vnd.jupyter.widget-view+json": {
       "model_id": "e64f695b28494afda2bea1edacef936f",
       "version_major": 2,
       "version_minor": 0
      },
      "text/plain": [
       "  0%|          | 0/72 [00:00<?, ?it/s]"
      ]
     },
     "metadata": {},
     "output_type": "display_data"
    },
    {
     "name": "stdout",
     "output_type": "stream",
     "text": [
      "(02/02) Adapt exclusion file for snippets without fixation accuracy images\n",
      "{'60-obf-v1': '01d3_PRE_VIS_Fixation_Cross_Accuracy_Image: No fixation data for fixation cross view found.'}\n",
      "----------------------------------------------\n",
      "Participant 009\n",
      "(01/02) Generate fixation cross image for snippet\n"
     ]
    },
    {
     "data": {
      "application/vnd.jupyter.widget-view+json": {
       "model_id": "59285397b3e84a92ad03c24f8b63a8b7",
       "version_major": 2,
       "version_minor": 0
      },
      "text/plain": [
       "  0%|          | 0/72 [00:00<?, ?it/s]"
      ]
     },
     "metadata": {},
     "output_type": "display_data"
    },
    {
     "name": "stdout",
     "output_type": "stream",
     "text": [
      "(02/02) Adapt exclusion file for snippets without fixation accuracy images\n",
      "----------------------------------------------\n",
      "Participant 010\n",
      "(01/02) Generate fixation cross image for snippet\n"
     ]
    },
    {
     "data": {
      "application/vnd.jupyter.widget-view+json": {
       "model_id": "b59311ab5d974c6681b4d2e5c33d5330",
       "version_major": 2,
       "version_minor": 0
      },
      "text/plain": [
       "  0%|          | 0/72 [00:00<?, ?it/s]"
      ]
     },
     "metadata": {},
     "output_type": "display_data"
    },
    {
     "name": "stdout",
     "output_type": "stream",
     "text": [
      "(02/02) Adapt exclusion file for snippets without fixation accuracy images\n",
      "{'7-obf-v2': '01d3_PRE_VIS_Fixation_Cross_Accuracy_Image: No fixation data for fixation cross view found.', '60-obf-v2': '01d3_PRE_VIS_Fixation_Cross_Accuracy_Image: No fixation data for fixation cross view found.', '14-clean-v2': '01d3_PRE_VIS_Fixation_Cross_Accuracy_Image: No fixation data for fixation cross view found.', '54-obf-v0': '01d3_PRE_VIS_Fixation_Cross_Accuracy_Image: No fixation data for fixation cross view found.', '60-obf-v1': '01d3_PRE_VIS_Fixation_Cross_Accuracy_Image: No fixation data for fixation cross view found.'}\n",
      "----------------------------------------------\n",
      "Participant 011\n",
      "(01/02) Generate fixation cross image for snippet\n"
     ]
    },
    {
     "data": {
      "application/vnd.jupyter.widget-view+json": {
       "model_id": "6364bdd2f819401c8d83e676f2600a79",
       "version_major": 2,
       "version_minor": 0
      },
      "text/plain": [
       "  0%|          | 0/72 [00:00<?, ?it/s]"
      ]
     },
     "metadata": {},
     "output_type": "display_data"
    },
    {
     "name": "stdout",
     "output_type": "stream",
     "text": [
      "(02/02) Adapt exclusion file for snippets without fixation accuracy images\n",
      "{'8-clean-v1': '01d3_PRE_VIS_Fixation_Cross_Accuracy_Image: No fixation data for fixation cross view found.'}\n",
      "----------------------------------------------\n",
      "Participant 012\n",
      "(01/02) Generate fixation cross image for snippet\n"
     ]
    },
    {
     "data": {
      "application/vnd.jupyter.widget-view+json": {
       "model_id": "03ab9d6013954e71aa2a0502ca2753c1",
       "version_major": 2,
       "version_minor": 0
      },
      "text/plain": [
       "  0%|          | 0/72 [00:00<?, ?it/s]"
      ]
     },
     "metadata": {},
     "output_type": "display_data"
    },
    {
     "name": "stdout",
     "output_type": "stream",
     "text": [
      "(02/02) Adapt exclusion file for snippets without fixation accuracy images\n",
      "{'6-clean-v1': '01d3_PRE_VIS_Fixation_Cross_Accuracy_Image: Empty fixation data for fixation cross view.'}\n",
      "----------------------------------------------\n",
      "Participant 013\n",
      "(01/02) Generate fixation cross image for snippet\n"
     ]
    },
    {
     "data": {
      "application/vnd.jupyter.widget-view+json": {
       "model_id": "5cd1e7a49e7246c6ad919c42204a8a31",
       "version_major": 2,
       "version_minor": 0
      },
      "text/plain": [
       "  0%|          | 0/72 [00:00<?, ?it/s]"
      ]
     },
     "metadata": {},
     "output_type": "display_data"
    },
    {
     "name": "stdout",
     "output_type": "stream",
     "text": [
      "(02/02) Adapt exclusion file for snippets without fixation accuracy images\n",
      "{'60-obf-v0': '01d3_PRE_VIS_Fixation_Cross_Accuracy_Image: No fixation data for fixation cross view found.', '54-obf-v1': '01d3_PRE_VIS_Fixation_Cross_Accuracy_Image: No fixation data for fixation cross view found.', '15-obf-v1': '01d3_PRE_VIS_Fixation_Cross_Accuracy_Image: No fixation data for fixation cross view found.', '54-obf-v2': '01d3_PRE_VIS_Fixation_Cross_Accuracy_Image: No fixation data for fixation cross view found.'}\n",
      "----------------------------------------------\n",
      "Participant 014\n",
      "(01/02) Generate fixation cross image for snippet\n"
     ]
    },
    {
     "data": {
      "application/vnd.jupyter.widget-view+json": {
       "model_id": "91f4a3e540204746992bdf7d04a7629f",
       "version_major": 2,
       "version_minor": 0
      },
      "text/plain": [
       "  0%|          | 0/72 [00:00<?, ?it/s]"
      ]
     },
     "metadata": {},
     "output_type": "display_data"
    },
    {
     "name": "stdout",
     "output_type": "stream",
     "text": [
      "(02/02) Adapt exclusion file for snippets without fixation accuracy images\n",
      "{'62-obf-v0': '01d3_PRE_VIS_Fixation_Cross_Accuracy_Image: No fixation data for fixation cross view found.', '54-clean-v1': '01d3_PRE_VIS_Fixation_Cross_Accuracy_Image: No fixation data for fixation cross view found.'}\n",
      "----------------------------------------------\n",
      "Participant 015\n",
      "(01/02) Generate fixation cross image for snippet\n"
     ]
    },
    {
     "data": {
      "application/vnd.jupyter.widget-view+json": {
       "model_id": "9979c3b8e684481fab9c2242feaf92a7",
       "version_major": 2,
       "version_minor": 0
      },
      "text/plain": [
       "  0%|          | 0/72 [00:00<?, ?it/s]"
      ]
     },
     "metadata": {},
     "output_type": "display_data"
    },
    {
     "name": "stdout",
     "output_type": "stream",
     "text": [
      "(02/02) Adapt exclusion file for snippets without fixation accuracy images\n",
      "----------------------------------------------\n",
      "Participant 016\n",
      "(01/02) Generate fixation cross image for snippet\n"
     ]
    },
    {
     "data": {
      "application/vnd.jupyter.widget-view+json": {
       "model_id": "88d300632c524479b0f014fd8ce7bc68",
       "version_major": 2,
       "version_minor": 0
      },
      "text/plain": [
       "  0%|          | 0/72 [00:00<?, ?it/s]"
      ]
     },
     "metadata": {},
     "output_type": "display_data"
    },
    {
     "name": "stdout",
     "output_type": "stream",
     "text": [
      "(02/02) Adapt exclusion file for snippets without fixation accuracy images\n",
      "----------------------------------------------\n",
      "Participant 017\n",
      "(01/02) Generate fixation cross image for snippet\n"
     ]
    },
    {
     "data": {
      "application/vnd.jupyter.widget-view+json": {
       "model_id": "0c3e35a9b75346d18e93a6035e5bd062",
       "version_major": 2,
       "version_minor": 0
      },
      "text/plain": [
       "  0%|          | 0/72 [00:00<?, ?it/s]"
      ]
     },
     "metadata": {},
     "output_type": "display_data"
    },
    {
     "name": "stdout",
     "output_type": "stream",
     "text": [
      "(02/02) Adapt exclusion file for snippets without fixation accuracy images\n",
      "{'49-obf-v1': '01d3_PRE_VIS_Fixation_Cross_Accuracy_Image: No fixation data for fixation cross view found.', '8-clean-v1': '01d3_PRE_VIS_Fixation_Cross_Accuracy_Image: No fixation data for fixation cross view found.', '13-clean-v1': '01d3_PRE_VIS_Fixation_Cross_Accuracy_Image: No fixation data for fixation cross view found.', '17-obf-v1': '01d3_PRE_VIS_Fixation_Cross_Accuracy_Image: No fixation data for fixation cross view found.'}\n",
      "----------------------------------------------\n",
      "Participant 018\n",
      "(01/02) Generate fixation cross image for snippet\n"
     ]
    },
    {
     "data": {
      "application/vnd.jupyter.widget-view+json": {
       "model_id": "6cb6aa0cf0a540fe8a861773c8d5d3d2",
       "version_major": 2,
       "version_minor": 0
      },
      "text/plain": [
       "  0%|          | 0/72 [00:00<?, ?it/s]"
      ]
     },
     "metadata": {},
     "output_type": "display_data"
    },
    {
     "name": "stdout",
     "output_type": "stream",
     "text": [
      "(02/02) Adapt exclusion file for snippets without fixation accuracy images\n",
      "{'7-obf-v1': '01d3_PRE_VIS_Fixation_Cross_Accuracy_Image: No fixation data for fixation cross view found.', '12-obf-v1': '01d3_PRE_VIS_Fixation_Cross_Accuracy_Image: No fixation data for fixation cross view found.', '8-obf-v0': '01d3_PRE_VIS_Fixation_Cross_Accuracy_Image: No fixation data for fixation cross view found.'}\n",
      "----------------------------------------------\n",
      "Participant 019\n",
      "(01/02) Generate fixation cross image for snippet\n"
     ]
    },
    {
     "data": {
      "application/vnd.jupyter.widget-view+json": {
       "model_id": "3000e3caf64e4eb78442d3a14d380032",
       "version_major": 2,
       "version_minor": 0
      },
      "text/plain": [
       "  0%|          | 0/72 [00:00<?, ?it/s]"
      ]
     },
     "metadata": {},
     "output_type": "display_data"
    },
    {
     "name": "stdout",
     "output_type": "stream",
     "text": [
      "(02/02) Adapt exclusion file for snippets without fixation accuracy images\n",
      "{'-clean-v1': '01d3_PRE_VIS_Fixation_Cross_Accuracy_Image: No fixation data for fixation cross view found.', '62-obf-v1': '01d3_PRE_VIS_Fixation_Cross_Accuracy_Image: No fixation data for fixation cross view found.', '13-obf-v1': '01d3_PRE_VIS_Fixation_Cross_Accuracy_Image: No fixation data for fixation cross view found.', '49-clean-v1': '01d3_PRE_VIS_Fixation_Cross_Accuracy_Image: No fixation data for fixation cross view found.', '54-clean-v1': '01d3_PRE_VIS_Fixation_Cross_Accuracy_Image: No fixation data for fixation cross view found.', '6-obf-v2': '01d3_PRE_VIS_Fixation_Cross_Accuracy_Image: No fixation data for fixation cross view found.'}\n",
      "----------------------------------------------\n",
      "Participant 020\n",
      "(01/02) Generate fixation cross image for snippet\n"
     ]
    },
    {
     "data": {
      "application/vnd.jupyter.widget-view+json": {
       "model_id": "83e368fad2ac4fbfb1479f123d92446c",
       "version_major": 2,
       "version_minor": 0
      },
      "text/plain": [
       "  0%|          | 0/72 [00:00<?, ?it/s]"
      ]
     },
     "metadata": {},
     "output_type": "display_data"
    },
    {
     "name": "stdout",
     "output_type": "stream",
     "text": [
      "(02/02) Adapt exclusion file for snippets without fixation accuracy images\n",
      "----------------------------------------------\n",
      "Participant 021\n",
      "(01/02) Generate fixation cross image for snippet\n"
     ]
    },
    {
     "data": {
      "application/vnd.jupyter.widget-view+json": {
       "model_id": "fcd370f1e99346a5a1e63c2725b2f03b",
       "version_major": 2,
       "version_minor": 0
      },
      "text/plain": [
       "  0%|          | 0/72 [00:00<?, ?it/s]"
      ]
     },
     "metadata": {},
     "output_type": "display_data"
    },
    {
     "name": "stdout",
     "output_type": "stream",
     "text": [
      "(02/02) Adapt exclusion file for snippets without fixation accuracy images\n",
      "----------------------------------------------\n",
      "Participant 022\n",
      "(01/02) Generate fixation cross image for snippet\n"
     ]
    },
    {
     "data": {
      "application/vnd.jupyter.widget-view+json": {
       "model_id": "5b35b80ab7b64869b57151bd5d0dccb1",
       "version_major": 2,
       "version_minor": 0
      },
      "text/plain": [
       "  0%|          | 0/72 [00:00<?, ?it/s]"
      ]
     },
     "metadata": {},
     "output_type": "display_data"
    },
    {
     "name": "stdout",
     "output_type": "stream",
     "text": [
      "(02/02) Adapt exclusion file for snippets without fixation accuracy images\n",
      "{'6-obf-v2': '01d3_PRE_VIS_Fixation_Cross_Accuracy_Image: No fixation data for fixation cross view found.', '5-obf-v2': '01d3_PRE_VIS_Fixation_Cross_Accuracy_Image: No fixation data for fixation cross view found.', '60-clean-v0': '01d3_PRE_VIS_Fixation_Cross_Accuracy_Image: No fixation data for fixation cross view found.', '18-obf-v1': '01d3_PRE_VIS_Fixation_Cross_Accuracy_Image: Empty fixation data for fixation cross view.'}\n",
      "----------------------------------------------\n",
      "Participant 023\n",
      "(01/02) Generate fixation cross image for snippet\n"
     ]
    },
    {
     "data": {
      "application/vnd.jupyter.widget-view+json": {
       "model_id": "59e81aefe16c47c4b48ae29d7befea71",
       "version_major": 2,
       "version_minor": 0
      },
      "text/plain": [
       "  0%|          | 0/72 [00:00<?, ?it/s]"
      ]
     },
     "metadata": {},
     "output_type": "display_data"
    },
    {
     "name": "stdout",
     "output_type": "stream",
     "text": [
      "(02/02) Adapt exclusion file for snippets without fixation accuracy images\n",
      "{'10-clean-v2': '01d3_PRE_VIS_Fixation_Cross_Accuracy_Image: No fixation data for fixation cross view found.'}\n",
      "----------------------------------------------\n",
      "Participant 024\n",
      "(01/02) Generate fixation cross image for snippet\n"
     ]
    },
    {
     "data": {
      "application/vnd.jupyter.widget-view+json": {
       "model_id": "176c4ddc544c43b1b8a03d44f8ef7623",
       "version_major": 2,
       "version_minor": 0
      },
      "text/plain": [
       "  0%|          | 0/72 [00:00<?, ?it/s]"
      ]
     },
     "metadata": {},
     "output_type": "display_data"
    },
    {
     "name": "stdout",
     "output_type": "stream",
     "text": [
      "(02/02) Adapt exclusion file for snippets without fixation accuracy images\n",
      "----------------------------------------------\n",
      "Participant 101\n",
      "(01/02) Generate fixation cross image for snippet\n"
     ]
    },
    {
     "data": {
      "application/vnd.jupyter.widget-view+json": {
       "model_id": "06e9e14ed3754f0aa8636876d1063c7c",
       "version_major": 2,
       "version_minor": 0
      },
      "text/plain": [
       "  0%|          | 0/72 [00:00<?, ?it/s]"
      ]
     },
     "metadata": {},
     "output_type": "display_data"
    },
    {
     "name": "stdout",
     "output_type": "stream",
     "text": [
      "(02/02) Adapt exclusion file for snippets without fixation accuracy images\n",
      "----------------------------------------------\n",
      "Participant 102\n",
      "(01/02) Generate fixation cross image for snippet\n"
     ]
    },
    {
     "data": {
      "application/vnd.jupyter.widget-view+json": {
       "model_id": "1bf9734ca3634e9a96e99b19c56b1eba",
       "version_major": 2,
       "version_minor": 0
      },
      "text/plain": [
       "  0%|          | 0/72 [00:00<?, ?it/s]"
      ]
     },
     "metadata": {},
     "output_type": "display_data"
    },
    {
     "name": "stdout",
     "output_type": "stream",
     "text": [
      "(02/02) Adapt exclusion file for snippets without fixation accuracy images\n",
      "{'7-obf-v1': '01d3_PRE_VIS_Fixation_Cross_Accuracy_Image: No fixation data for fixation cross view found.'}\n",
      "----------------------------------------------\n",
      "Participant 106\n",
      "(01/02) Generate fixation cross image for snippet\n"
     ]
    },
    {
     "data": {
      "application/vnd.jupyter.widget-view+json": {
       "model_id": "68fd69422de842d9a6100faf153d3163",
       "version_major": 2,
       "version_minor": 0
      },
      "text/plain": [
       "  0%|          | 0/72 [00:00<?, ?it/s]"
      ]
     },
     "metadata": {},
     "output_type": "display_data"
    },
    {
     "name": "stdout",
     "output_type": "stream",
     "text": [
      "(02/02) Adapt exclusion file for snippets without fixation accuracy images\n"
     ]
    }
   ],
   "source": [
    "# Iterate over all participants\n",
    "for participant in tqdm(folders):\n",
    "    print('----------------------------------------------')\n",
    "    print(PARTICIPANT, participant)\n",
    "    successful_image_creation = {}\n",
    "\n",
    "    print('(01/02) Generate fixation cross image for snippet')\n",
    "    for snippet in tqdm(snippets[participant]):\n",
    "        fixation_cross_fixations_path = get_fixations_path(\n",
    "            participant, snippet, fixation_cross=True)\n",
    "        if not fixation_cross_fixations_path.exists():\n",
    "            if not snippet in successful_image_creation:\n",
    "                successful_image_creation[snippet] = ''\n",
    "            successful_image_creation[snippet] += 'No fixation data for fixation cross view found.'\n",
    "            continue\n",
    "        fixation_cross_fixations = pd.read_csv(\n",
    "            fixation_cross_fixations_path, index_col=False, sep=SEPARATOR, dtype={PARTICIPANT: str})\n",
    "        if fixation_cross_fixations.empty:\n",
    "            if not snippet in successful_image_creation:\n",
    "                successful_image_creation[snippet] = ''\n",
    "            successful_image_creation[snippet] += 'Empty fixation data for fixation cross view.'\n",
    "            continue\n",
    "        success_fixation_cross = create_fixation_cross_accuracy_image(\n",
    "            participant, snippet, fixation_cross_fixations)\n",
    "        if not success_fixation_cross:\n",
    "            if not snippet in successful_image_creation:\n",
    "                successful_image_creation[snippet] = ''\n",
    "            successful_image_creation[snippet] += 'Image for fixation cross fixations could not be created.'\n",
    "        del fixation_cross_fixations\n",
    "\n",
    "    print('(02/02) Adapt exclusion file for snippets without fixation accuracy images')\n",
    "    excluded_snippets = {snippet: f'01d3_PRE_VIS_Fixation_Cross_Accuracy_Image: {value}' for snippet,\n",
    "                         value in successful_image_creation.items() if value}\n",
    "    if excluded_snippets:\n",
    "        print(excluded_snippets)\n",
    "        # update_exclusions(participant, SNIPPET, VISUAL, excluded_snippets)"
   ]
  }
 ],
 "metadata": {
  "kernelspec": {
   "display_name": "Python 3",
   "language": "python",
   "name": "python3"
  },
  "language_info": {
   "codemirror_mode": {
    "name": "ipython",
    "version": 3
   },
   "file_extension": ".py",
   "mimetype": "text/x-python",
   "name": "python",
   "nbconvert_exporter": "python",
   "pygments_lexer": "ipython3",
   "version": "3.11.5"
  }
 },
 "nbformat": 4,
 "nbformat_minor": 4
}
