{
 "cells": [
  {
   "attachments": {},
   "cell_type": "markdown",
   "id": "7c9a9ba0-1fa4-467c-be6d-de2c92c50a30",
   "metadata": {},
   "source": [
    "# LMEM"
   ]
  },
  {
   "cell_type": "code",
   "execution_count": null,
   "id": "774c436e-1ab4-477b-ba08-dcf2008f1774",
   "metadata": {},
   "outputs": [],
   "source": [
    "from utils.LMEM_settings import *"
   ]
  },
  {
   "cell_type": "markdown",
   "id": "ffee7182",
   "metadata": {},
   "source": [
    "### Preparation R and mask for (G)LMER function"
   ]
  },
  {
   "cell_type": "code",
   "execution_count": null,
   "id": "639486e2",
   "metadata": {},
   "outputs": [],
   "source": [
    "%load_ext rpy2.ipython\n",
    "rpy2.rinterface_lib.conversion._cchar_to_str = cchar_to_str\n",
    "rpy2.rinterface_lib.conversion._cchar_to_str_with_maxlen = cchar_to_str_with_maxlen\n",
    "%R library(lme4)\n",
    "%R library(lmerTest)\n",
    "%R library(ciTools)\n",
    "%R library('nlme')\n",
    "%R library('itsadug')\n",
    "# %R library('itsadug')"
   ]
  },
  {
   "cell_type": "code",
   "execution_count": null,
   "id": "142b8863",
   "metadata": {},
   "outputs": [],
   "source": [
    "def create_glmer_in_R(formula:str, data:pd.DataFrame, family:str=LMEM_FAMILY_GAUSSIAN, description:str='model', gaussian_link:str=LMEM_ERROR_IDENTITY):\n",
    "    '''\n",
    "    interface for the (g)lmer functions in R (lme4 / lmerTest packages)\n",
    "    input given directly to the R function, then all possible statistics are returned (factors, ...)\n",
    "\n",
    "    Arguments:\n",
    "    * formula: a two-sided linear formula object describing both the fixed-effects and random-effects part of the model, with the response on the left of a ~ operator and the terms, separated by + operators, on the right. Random-effects terms are distinguished by vertical bars (\"|\") separating expressions for design matrices from grouping factors.\n",
    "    * data: a data frame containing the variables named in formula.\n",
    "    * family: a description of the error distribution and link function to be used in the model. Possible families:\n",
    "        - binomial --> \"logit\" only\n",
    "        - gaussian --> \"identity\", \"log\"\n",
    "        - Gamma --> \"identity\" only\n",
    "        - Poisson --> \"identity\" only\n",
    "    * description: a description of the model, required for storing the model file\n",
    "    * gaussian_link: the link function between model and result for gaussian\n",
    "        - \"identity\"\n",
    "        - \"log\"\n",
    "        \n",
    "    returns: a dictionary containing the model and various characteristics / statistics about it from R\n",
    "    '''\n",
    "    print(formula)\n",
    "    assert (family == LMEM_FAMILY_GAUSSIAN and (gaussian_link==LMEM_ERROR_IDENTITY or gaussian_link==LMEM_ERROR_LOG)) or \\\n",
    "        family in [LMEM_FAMILY_BINOMIAL, LMEM_FAMILY_GAMMA, LMEM_FAMILY_POISSON] \n",
    "    if family == LMEM_FAMILY_GAUSSIAN and gaussian_link==LMEM_ERROR_IDENTITY:\n",
    "        %R -i formula -i data -o m m <- lmer(formula, data = data)\n",
    "        %R -i m -o aic aic <- AIC(m)\n",
    "        %R -i m -o bic bic <- BIC(m)\n",
    "    else:\n",
    "        # set together family and link function\n",
    "        if family == LMEM_FAMILY_GAUSSIAN and gaussian_link==LMEM_ERROR_LOG:\n",
    "            %R fam <- gaussian(link=\"log\")\n",
    "        elif family == LMEM_FAMILY_BINOMIAL:\n",
    "            %R fam <- binomial()\n",
    "        elif family == LMEM_FAMILY_GAMMA:\n",
    "            %R fam <- Gamma(\"identity\")\n",
    "        elif family == LMEM_FAMILY_POISSON:\n",
    "            %R fam <- poisson(\"identity\")\n",
    "        %R -i formula -i data -o m m <- glmer(formula, data = data, family = fam)\n",
    "    %R -o m_summary m_summary <- summary(m)\n",
    "    %R print(m_summary)\n",
    "    %R -o m_anova m_anova <- anova(m)\n",
    "    %R print(m_anova)\n",
    "    %R -o m_fixedeffects m_fixedeffects <- fixef(m)\n",
    "        # %R -i data -o m_confidence m_confidence <- add_ci(data, m, nSims = 300)\n",
    "    %R -o m_terms m_terms <- terms(m)\n",
    "    %R -o m_randomeffects m_randomeffects <- ranef(m)\n",
    "    %R -o m_sum_coef m_sum_coef <- coef(summary(m))\n",
    "    model = {LMEM_RESULT_MODEL:m, \n",
    "             LMEM_RESULT_SUMMARY:m_summary, \n",
    "             LMEM_RESULT_ANOVA: m_anova, \n",
    "             LMEM_RESULT_FIXED_EFFECTS: m_fixedeffects, \n",
    "             LMEM_RESULT_TERMS: m_terms,\n",
    "             LMEM_RESULT_RANDOM_EFFECTS: m_randomeffects, \n",
    "             LMEM_RESULT_COEFFICIENTS: m_sum_coef,\n",
    "             LMEM_RESULT_FORMULA: formula, \n",
    "             LMEM_RESULT_FAMILY: family\n",
    "    }\n",
    "    if family == LMEM_FAMILY_GAUSSIAN and gaussian_link==LMEM_ERROR_IDENTITY:\n",
    "        model['AIC'] = aic\n",
    "        model['BIC'] = bic\n",
    "        print('AIC', aic, 'BIC', bic)\n",
    "    #     %R -o m_confidence m_confidence <- confint(m)\n",
    "    #     %R print(m_confidence)\n",
    "    #     model[LMEM_RESULT_CONF_INT] = m_confidence\n",
    "    \n",
    "    with open(get_LMEM_model_path(description, model=True),'w') as f:\n",
    "        json.dump(model, f, indent=4, cls=RTypesEncoder)\n",
    "    return model"
   ]
  }
 ],
 "metadata": {
  "kernelspec": {
   "display_name": "Python 3",
   "language": "python",
   "name": "python3"
  },
  "language_info": {
   "codemirror_mode": {
    "name": "ipython",
    "version": 3
   },
   "file_extension": ".py",
   "mimetype": "text/x-python",
   "name": "python",
   "nbconvert_exporter": "python",
   "pygments_lexer": "ipython3",
   "version": "3.11.5"
  }
 },
 "nbformat": 4,
 "nbformat_minor": 5
}
