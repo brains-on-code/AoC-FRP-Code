{
 "cells": [
  {
   "attachments": {},
   "cell_type": "markdown",
   "metadata": {},
   "source": [
    "# Create DataAccuracy Image for Corrected Fixations Iteration 4\n",
    "Status: Implemented\n",
    " -- Fully automatized"
   ]
  },
  {
   "cell_type": "code",
   "execution_count": 1,
   "metadata": {
    "collapsed": false,
    "jupyter": {
     "outputs_hidden": false
    }
   },
   "outputs": [],
   "source": [
    "import gc\n",
    "import json\n",
    "import warnings\n",
    "\n",
    "import pandas as pd\n",
    "from tqdm.notebook import tqdm\n",
    "from utils.utils import *\n",
    "\n",
    "warnings.filterwarnings(\"ignore\")"
   ]
  },
  {
   "cell_type": "code",
   "execution_count": 2,
   "metadata": {
    "collapsed": false,
    "jupyter": {
     "outputs_hidden": false
    }
   },
   "outputs": [],
   "source": [
    "# get all files from participants\n",
    "folders = get_participant_folder_per_participant()\n",
    "sequence_orders = get_sequence_order_per_participant()\n",
    "assert (set(folders.keys()) == set(sequence_orders.keys()))"
   ]
  },
  {
   "cell_type": "code",
   "execution_count": 3,
   "metadata": {},
   "outputs": [
    {
     "name": "stdout",
     "output_type": "stream",
     "text": [
      "Fixation correction iteration: 4\n",
      "Previous Fixation correction iteration: 3\n"
     ]
    }
   ],
   "source": [
    "global FIXATION_CORRECTION_ITERATION \n",
    "FIXATION_CORRECTION_ITERATION[0] = 4\n",
    "print('Fixation correction iteration:', current_fixation_correction_iteration())\n",
    "print('Previous Fixation correction iteration:', previous_fixation_correction_iteration())"
   ]
  },
  {
   "cell_type": "markdown",
   "metadata": {},
   "source": [
    "### Take into account previous iterations"
   ]
  },
  {
   "cell_type": "code",
   "execution_count": 4,
   "metadata": {},
   "outputs": [],
   "source": [
    "if current_fixation_correction_iteration() == 1:\n",
    "    snippets = {p: sequence_orders[p][SNIPPET].to_list()\n",
    "                for p in sequence_orders}\n",
    "else:  # get snippets to rework for this round\n",
    "    snippets = {p: list(pd.read_csv(get_snippet_rework_paths(\n",
    "        p), sep=SEPARATOR, index_col=False, )[SNIPPET].to_list()) for p in folders}"
   ]
  },
  {
   "cell_type": "code",
   "execution_count": 5,
   "metadata": {},
   "outputs": [
    {
     "data": {
      "text/plain": [
       "{'003': {},\n",
       " '004': {},\n",
       " '005': {},\n",
       " '007': {},\n",
       " '008': {},\n",
       " '009': {},\n",
       " '010': {},\n",
       " '011': {},\n",
       " '012': {'v0': 100, 'v1': 50, 'v2': 80},\n",
       " '013': {'v0': 20},\n",
       " '014': {},\n",
       " '015': {},\n",
       " '016': {},\n",
       " '017': {},\n",
       " '018': {},\n",
       " '019': {},\n",
       " '020': {},\n",
       " '021': {},\n",
       " '022': {},\n",
       " '023': {},\n",
       " '024': {},\n",
       " '101': {},\n",
       " '102': {},\n",
       " '106': {}}"
      ]
     },
     "execution_count": 5,
     "metadata": {},
     "output_type": "execute_result"
    }
   ],
   "source": [
    "manual_evaluation_paths = exist_previous_manual_accuracy_evaluation_paths()\n",
    "x_offsets = get_x_offsets()\n",
    "x_offsets"
   ]
  },
  {
   "cell_type": "markdown",
   "metadata": {},
   "source": [
    "### Auto-correction\n",
    "* generate accuracy images to compare fixation data (original and corrected versions)"
   ]
  },
  {
   "cell_type": "code",
   "execution_count": 6,
   "metadata": {
    "collapsed": false
   },
   "outputs": [
    {
     "data": {
      "application/vnd.jupyter.widget-view+json": {
       "model_id": "031822a9593e4e9c9a30150e93658a5a",
       "version_major": 2,
       "version_minor": 0
      },
      "text/plain": [
       "  0%|          | 0/24 [00:00<?, ?it/s]"
      ]
     },
     "metadata": {},
     "output_type": "display_data"
    },
    {
     "name": "stdout",
     "output_type": "stream",
     "text": [
      "----------------------------------------------\n",
      "Participant 003\n",
      "no snippets to (re-)work found.\n",
      "----------------------------------------------\n",
      "Participant 004\n",
      "no snippets to (re-)work found.\n",
      "----------------------------------------------\n",
      "Participant 005\n",
      "no snippets to (re-)work found.\n",
      "----------------------------------------------\n",
      "Participant 007\n",
      "no snippets to (re-)work found.\n",
      "----------------------------------------------\n",
      "Participant 008\n",
      "no snippets to (re-)work found.\n",
      "----------------------------------------------\n",
      "Participant 009\n",
      "no snippets to (re-)work found.\n",
      "----------------------------------------------\n",
      "Participant 010\n",
      "no snippets to (re-)work found.\n",
      "----------------------------------------------\n",
      "Participant 011\n",
      "no snippets to (re-)work found.\n",
      "----------------------------------------------\n",
      "Participant 012\n",
      "(01/04) Retrieve fixation data\n"
     ]
    },
    {
     "data": {
      "application/vnd.jupyter.widget-view+json": {
       "model_id": "b49577708757457bb069e9a80b34ec89",
       "version_major": 2,
       "version_minor": 0
      },
      "text/plain": [
       "  0%|          | 0/4 [00:00<?, ?it/s]"
      ]
     },
     "metadata": {},
     "output_type": "display_data"
    },
    {
     "name": "stdout",
     "output_type": "stream",
     "text": [
      "(02/04) Add constant offset in x direction if given\n"
     ]
    },
    {
     "data": {
      "application/vnd.jupyter.widget-view+json": {
       "model_id": "c5d24c510485449fac98852de662b0d8",
       "version_major": 2,
       "version_minor": 0
      },
      "text/plain": [
       "  0%|          | 0/4 [00:00<?, ?it/s]"
      ]
     },
     "metadata": {},
     "output_type": "display_data"
    },
    {
     "name": "stdout",
     "output_type": "stream",
     "text": [
      "(03/04) Generate comparing snippet fixation image for snippet\n"
     ]
    },
    {
     "data": {
      "application/vnd.jupyter.widget-view+json": {
       "model_id": "21a1c9e767764a4b844553881940df6d",
       "version_major": 2,
       "version_minor": 0
      },
      "text/plain": [
       "  0%|          | 0/4 [00:00<?, ?it/s]"
      ]
     },
     "metadata": {},
     "output_type": "display_data"
    },
    {
     "name": "stdout",
     "output_type": "stream",
     "text": [
      "(04/04) Adapt exclusion file for snippets without fixation accuracy images\n",
      "----------------------------------------------\n",
      "Participant 013\n",
      "no snippets to (re-)work found.\n",
      "----------------------------------------------\n",
      "Participant 014\n",
      "no snippets to (re-)work found.\n",
      "----------------------------------------------\n",
      "Participant 015\n",
      "no snippets to (re-)work found.\n",
      "----------------------------------------------\n",
      "Participant 016\n",
      "no snippets to (re-)work found.\n",
      "----------------------------------------------\n",
      "Participant 017\n",
      "no snippets to (re-)work found.\n",
      "----------------------------------------------\n",
      "Participant 018\n",
      "no snippets to (re-)work found.\n",
      "----------------------------------------------\n",
      "Participant 019\n",
      "no snippets to (re-)work found.\n",
      "----------------------------------------------\n",
      "Participant 020\n",
      "no snippets to (re-)work found.\n",
      "----------------------------------------------\n",
      "Participant 021\n",
      "no snippets to (re-)work found.\n",
      "----------------------------------------------\n",
      "Participant 022\n",
      "no snippets to (re-)work found.\n",
      "----------------------------------------------\n",
      "Participant 023\n",
      "no snippets to (re-)work found.\n",
      "----------------------------------------------\n",
      "Participant 024\n",
      "no snippets to (re-)work found.\n",
      "----------------------------------------------\n",
      "Participant 101\n",
      "no snippets to (re-)work found.\n",
      "----------------------------------------------\n",
      "Participant 102\n",
      "no snippets to (re-)work found.\n",
      "----------------------------------------------\n",
      "Participant 106\n",
      "no snippets to (re-)work found.\n"
     ]
    }
   ],
   "source": [
    "# Iterate over all participants\n",
    "for participant in tqdm(folders):\n",
    "    print('----------------------------------------------')\n",
    "    print(PARTICIPANT, participant)\n",
    "    if not snippets[participant]:\n",
    "        print('no snippets to (re-)work found.')\n",
    "        continue\n",
    "\n",
    "    print('(01/04) Retrieve fixation data')\n",
    "    participant_snippet_fixations = {}\n",
    "    not_available = set()\n",
    "    for snippet in tqdm(snippets[participant]):\n",
    "        snippet_fixations = {}\n",
    "        for algo in FIXATION_CORRECTION_ALGORITHMS:\n",
    "            # select outliers removed version only if for original fixations\n",
    "            snippet_fixations_path = get_fixations_path(participant, snippet, modified_version=algo,\n",
    "                                                        no_outliers_if_exists=(algo == FIXATION_CORRECTION_ALGORITHM_ORIGINAL))\n",
    "            if snippet_fixations_path.exists():\n",
    "                snippet_fixations[algo] = pd.read_csv(\n",
    "                    snippet_fixations_path, index_col=False, sep=SEPARATOR, dtype={PARTICIPANT: str})\n",
    "        participant_snippet_fixations[snippet] = snippet_fixations\n",
    "\n",
    "    print('(02/04) Add constant offset in x direction if given')\n",
    "    # calculate participant / version offset into data and create views based on that\n",
    "    snippets_with_offset = {}\n",
    "    if participant in x_offsets:\n",
    "        for snippet in tqdm(participant_snippet_fixations):\n",
    "            x_offset = get_snippet_x_offset(x_offsets[participant], snippet)\n",
    "            if x_offset:\n",
    "                # add offset to participant and corrected fixations\n",
    "                for fixation_data in participant_snippet_fixations[snippet].values():\n",
    "                    fixation_data[FIXATION_COLUMN_X] = fixation_data[FIXATION_COLUMN_X]+x_offset\n",
    "                snippets_with_offset[snippet] = x_offset\n",
    "\n",
    "    print('(03/04) Generate comparing snippet fixation image for snippet')\n",
    "    excluded_snippets = {}\n",
    "    for snippet in tqdm(participant_snippet_fixations):\n",
    "        if not participant_snippet_fixations[snippet]:\n",
    "            excluded_snippets[snippet] = f'''01d5_PRE_VIS_Snippet_Correction_Accuracy_Image-it{\n",
    "                current_fixation_correction_iteration()}: No fixation or auto-correction data available.'''\n",
    "            continue\n",
    "        success_snippet = create_accuracy_image(\n",
    "            participant, snippet, participant_snippet_fixations[snippet], snippets_with_offset[snippet] if snippet in snippets_with_offset else 0)\n",
    "        if not success_snippet:\n",
    "            excluded_snippets[snippet] = f'''01d5_PRE_VIS_Snippet_Correction_Accuracy_Image-it{\n",
    "                current_fixation_correction_iteration()}: Auto-corrected image for snippet fixations could not be created.'''\n",
    "\n",
    "    print('(04/04) Adapt exclusion file for snippets without fixation accuracy images')\n",
    "    if excluded_snippets:\n",
    "        print(excluded_snippets)\n",
    "        update_exclusions(participant, SNIPPET, VISUAL, excluded_snippets)"
   ]
  },
  {
   "cell_type": "markdown",
   "metadata": {},
   "source": [
    "### Create evaluation form for this round's manual evaluation"
   ]
  },
  {
   "cell_type": "code",
   "execution_count": 7,
   "metadata": {},
   "outputs": [
    {
     "data": {
      "application/vnd.jupyter.widget-view+json": {
       "model_id": "4d93f067753f4c4a8d017ee28f8ffaee",
       "version_major": 2,
       "version_minor": 0
      },
      "text/plain": [
       "  0%|          | 0/24 [00:00<?, ?it/s]"
      ]
     },
     "metadata": {},
     "output_type": "display_data"
    },
    {
     "name": "stdout",
     "output_type": "stream",
     "text": [
      "----------------------------------------------\n",
      "Participant 003\n",
      "(01/02) Retrieve fixation data\n"
     ]
    },
    {
     "data": {
      "application/vnd.jupyter.widget-view+json": {
       "model_id": "d10b585e4d7d42dea6d266c06c1efe01",
       "version_major": 2,
       "version_minor": 0
      },
      "text/plain": [
       "0it [00:00, ?it/s]"
      ]
     },
     "metadata": {},
     "output_type": "display_data"
    },
    {
     "name": "stdout",
     "output_type": "stream",
     "text": [
      "(02/02) Prepare data for manual accuracy evaluation file\n",
      "----------------------------------------------\n",
      "Participant 004\n",
      "(01/02) Retrieve fixation data\n"
     ]
    },
    {
     "data": {
      "application/vnd.jupyter.widget-view+json": {
       "model_id": "7c8bcfe91e914d03aca5cfaafde07ea4",
       "version_major": 2,
       "version_minor": 0
      },
      "text/plain": [
       "0it [00:00, ?it/s]"
      ]
     },
     "metadata": {},
     "output_type": "display_data"
    },
    {
     "name": "stdout",
     "output_type": "stream",
     "text": [
      "(02/02) Prepare data for manual accuracy evaluation file\n",
      "----------------------------------------------\n",
      "Participant 005\n",
      "(01/02) Retrieve fixation data\n"
     ]
    },
    {
     "data": {
      "application/vnd.jupyter.widget-view+json": {
       "model_id": "5b6eccd4fc804d228bc2c953ac6c611c",
       "version_major": 2,
       "version_minor": 0
      },
      "text/plain": [
       "0it [00:00, ?it/s]"
      ]
     },
     "metadata": {},
     "output_type": "display_data"
    },
    {
     "name": "stdout",
     "output_type": "stream",
     "text": [
      "(02/02) Prepare data for manual accuracy evaluation file\n",
      "----------------------------------------------\n",
      "Participant 007\n",
      "(01/02) Retrieve fixation data\n"
     ]
    },
    {
     "data": {
      "application/vnd.jupyter.widget-view+json": {
       "model_id": "e6883e2497a344a8bbe541199e7ce5d1",
       "version_major": 2,
       "version_minor": 0
      },
      "text/plain": [
       "0it [00:00, ?it/s]"
      ]
     },
     "metadata": {},
     "output_type": "display_data"
    },
    {
     "name": "stdout",
     "output_type": "stream",
     "text": [
      "(02/02) Prepare data for manual accuracy evaluation file\n",
      "----------------------------------------------\n",
      "Participant 008\n",
      "(01/02) Retrieve fixation data\n"
     ]
    },
    {
     "data": {
      "application/vnd.jupyter.widget-view+json": {
       "model_id": "61304630b86248fe8edfa556e70c7b24",
       "version_major": 2,
       "version_minor": 0
      },
      "text/plain": [
       "0it [00:00, ?it/s]"
      ]
     },
     "metadata": {},
     "output_type": "display_data"
    },
    {
     "name": "stdout",
     "output_type": "stream",
     "text": [
      "(02/02) Prepare data for manual accuracy evaluation file\n",
      "----------------------------------------------\n",
      "Participant 009\n",
      "(01/02) Retrieve fixation data\n"
     ]
    },
    {
     "data": {
      "application/vnd.jupyter.widget-view+json": {
       "model_id": "7c60a9109a9245308d40fc2734f381ae",
       "version_major": 2,
       "version_minor": 0
      },
      "text/plain": [
       "0it [00:00, ?it/s]"
      ]
     },
     "metadata": {},
     "output_type": "display_data"
    },
    {
     "name": "stdout",
     "output_type": "stream",
     "text": [
      "(02/02) Prepare data for manual accuracy evaluation file\n",
      "----------------------------------------------\n",
      "Participant 010\n",
      "(01/02) Retrieve fixation data\n"
     ]
    },
    {
     "data": {
      "application/vnd.jupyter.widget-view+json": {
       "model_id": "b0af7241bfa94f61a4c46d0827c109ba",
       "version_major": 2,
       "version_minor": 0
      },
      "text/plain": [
       "0it [00:00, ?it/s]"
      ]
     },
     "metadata": {},
     "output_type": "display_data"
    },
    {
     "name": "stdout",
     "output_type": "stream",
     "text": [
      "(02/02) Prepare data for manual accuracy evaluation file\n",
      "----------------------------------------------\n",
      "Participant 011\n",
      "(01/02) Retrieve fixation data\n"
     ]
    },
    {
     "data": {
      "application/vnd.jupyter.widget-view+json": {
       "model_id": "2cde1d6e204f4967812bd6f2ac883714",
       "version_major": 2,
       "version_minor": 0
      },
      "text/plain": [
       "0it [00:00, ?it/s]"
      ]
     },
     "metadata": {},
     "output_type": "display_data"
    },
    {
     "name": "stdout",
     "output_type": "stream",
     "text": [
      "(02/02) Prepare data for manual accuracy evaluation file\n",
      "----------------------------------------------\n",
      "Participant 012\n",
      "(01/02) Retrieve fixation data\n"
     ]
    },
    {
     "data": {
      "application/vnd.jupyter.widget-view+json": {
       "model_id": "29c4a9802bfb4c08bd89785467bd5837",
       "version_major": 2,
       "version_minor": 0
      },
      "text/plain": [
       "  0%|          | 0/4 [00:00<?, ?it/s]"
      ]
     },
     "metadata": {},
     "output_type": "display_data"
    },
    {
     "name": "stdout",
     "output_type": "stream",
     "text": [
      "(02/02) Prepare data for manual accuracy evaluation file\n",
      "----------------------------------------------\n",
      "Participant 013\n",
      "(01/02) Retrieve fixation data\n"
     ]
    },
    {
     "data": {
      "application/vnd.jupyter.widget-view+json": {
       "model_id": "194354d75f714a15997c5f1bf5d1c2ea",
       "version_major": 2,
       "version_minor": 0
      },
      "text/plain": [
       "0it [00:00, ?it/s]"
      ]
     },
     "metadata": {},
     "output_type": "display_data"
    },
    {
     "name": "stdout",
     "output_type": "stream",
     "text": [
      "(02/02) Prepare data for manual accuracy evaluation file\n",
      "----------------------------------------------\n",
      "Participant 014\n",
      "(01/02) Retrieve fixation data\n"
     ]
    },
    {
     "data": {
      "application/vnd.jupyter.widget-view+json": {
       "model_id": "241aa66b2d1f4273a96abbf9e3d03852",
       "version_major": 2,
       "version_minor": 0
      },
      "text/plain": [
       "0it [00:00, ?it/s]"
      ]
     },
     "metadata": {},
     "output_type": "display_data"
    },
    {
     "name": "stdout",
     "output_type": "stream",
     "text": [
      "(02/02) Prepare data for manual accuracy evaluation file\n",
      "----------------------------------------------\n",
      "Participant 015\n",
      "(01/02) Retrieve fixation data\n"
     ]
    },
    {
     "data": {
      "application/vnd.jupyter.widget-view+json": {
       "model_id": "fb733690bb314f2b8fc00c5c8730cd8b",
       "version_major": 2,
       "version_minor": 0
      },
      "text/plain": [
       "0it [00:00, ?it/s]"
      ]
     },
     "metadata": {},
     "output_type": "display_data"
    },
    {
     "name": "stdout",
     "output_type": "stream",
     "text": [
      "(02/02) Prepare data for manual accuracy evaluation file\n",
      "----------------------------------------------\n",
      "Participant 016\n",
      "(01/02) Retrieve fixation data\n"
     ]
    },
    {
     "data": {
      "application/vnd.jupyter.widget-view+json": {
       "model_id": "e13bf51b3ee84f21a5e28dabb4bc8ef2",
       "version_major": 2,
       "version_minor": 0
      },
      "text/plain": [
       "0it [00:00, ?it/s]"
      ]
     },
     "metadata": {},
     "output_type": "display_data"
    },
    {
     "name": "stdout",
     "output_type": "stream",
     "text": [
      "(02/02) Prepare data for manual accuracy evaluation file\n",
      "----------------------------------------------\n",
      "Participant 017\n",
      "(01/02) Retrieve fixation data\n"
     ]
    },
    {
     "data": {
      "application/vnd.jupyter.widget-view+json": {
       "model_id": "d8da86c74c184c0aaee4a6da19525e79",
       "version_major": 2,
       "version_minor": 0
      },
      "text/plain": [
       "0it [00:00, ?it/s]"
      ]
     },
     "metadata": {},
     "output_type": "display_data"
    },
    {
     "name": "stdout",
     "output_type": "stream",
     "text": [
      "(02/02) Prepare data for manual accuracy evaluation file\n",
      "----------------------------------------------\n",
      "Participant 018\n",
      "(01/02) Retrieve fixation data\n"
     ]
    },
    {
     "data": {
      "application/vnd.jupyter.widget-view+json": {
       "model_id": "69e9b48ef79a409a823fc21064b310e5",
       "version_major": 2,
       "version_minor": 0
      },
      "text/plain": [
       "0it [00:00, ?it/s]"
      ]
     },
     "metadata": {},
     "output_type": "display_data"
    },
    {
     "name": "stdout",
     "output_type": "stream",
     "text": [
      "(02/02) Prepare data for manual accuracy evaluation file\n",
      "----------------------------------------------\n",
      "Participant 019\n",
      "(01/02) Retrieve fixation data\n"
     ]
    },
    {
     "data": {
      "application/vnd.jupyter.widget-view+json": {
       "model_id": "0437a87af9704552a416aaff94a972af",
       "version_major": 2,
       "version_minor": 0
      },
      "text/plain": [
       "0it [00:00, ?it/s]"
      ]
     },
     "metadata": {},
     "output_type": "display_data"
    },
    {
     "name": "stdout",
     "output_type": "stream",
     "text": [
      "(02/02) Prepare data for manual accuracy evaluation file\n",
      "----------------------------------------------\n",
      "Participant 020\n",
      "(01/02) Retrieve fixation data\n"
     ]
    },
    {
     "data": {
      "application/vnd.jupyter.widget-view+json": {
       "model_id": "e4b16fe91a934885bf682282386f3d70",
       "version_major": 2,
       "version_minor": 0
      },
      "text/plain": [
       "0it [00:00, ?it/s]"
      ]
     },
     "metadata": {},
     "output_type": "display_data"
    },
    {
     "name": "stdout",
     "output_type": "stream",
     "text": [
      "(02/02) Prepare data for manual accuracy evaluation file\n",
      "----------------------------------------------\n",
      "Participant 021\n",
      "(01/02) Retrieve fixation data\n"
     ]
    },
    {
     "data": {
      "application/vnd.jupyter.widget-view+json": {
       "model_id": "fee74504fa36465a9e5c5c91ebfc9ffa",
       "version_major": 2,
       "version_minor": 0
      },
      "text/plain": [
       "0it [00:00, ?it/s]"
      ]
     },
     "metadata": {},
     "output_type": "display_data"
    },
    {
     "name": "stdout",
     "output_type": "stream",
     "text": [
      "(02/02) Prepare data for manual accuracy evaluation file\n",
      "----------------------------------------------\n",
      "Participant 022\n",
      "(01/02) Retrieve fixation data\n"
     ]
    },
    {
     "data": {
      "application/vnd.jupyter.widget-view+json": {
       "model_id": "4dc4020d4d0340fab3ed5c08712164ad",
       "version_major": 2,
       "version_minor": 0
      },
      "text/plain": [
       "0it [00:00, ?it/s]"
      ]
     },
     "metadata": {},
     "output_type": "display_data"
    },
    {
     "name": "stdout",
     "output_type": "stream",
     "text": [
      "(02/02) Prepare data for manual accuracy evaluation file\n",
      "----------------------------------------------\n",
      "Participant 023\n",
      "(01/02) Retrieve fixation data\n"
     ]
    },
    {
     "data": {
      "application/vnd.jupyter.widget-view+json": {
       "model_id": "310b61af6ee344e386c4a724c7997508",
       "version_major": 2,
       "version_minor": 0
      },
      "text/plain": [
       "0it [00:00, ?it/s]"
      ]
     },
     "metadata": {},
     "output_type": "display_data"
    },
    {
     "name": "stdout",
     "output_type": "stream",
     "text": [
      "(02/02) Prepare data for manual accuracy evaluation file\n",
      "----------------------------------------------\n",
      "Participant 024\n",
      "(01/02) Retrieve fixation data\n"
     ]
    },
    {
     "data": {
      "application/vnd.jupyter.widget-view+json": {
       "model_id": "b87d0be196a94660934a3be99ee57d4b",
       "version_major": 2,
       "version_minor": 0
      },
      "text/plain": [
       "0it [00:00, ?it/s]"
      ]
     },
     "metadata": {},
     "output_type": "display_data"
    },
    {
     "name": "stdout",
     "output_type": "stream",
     "text": [
      "(02/02) Prepare data for manual accuracy evaluation file\n",
      "----------------------------------------------\n",
      "Participant 101\n",
      "(01/02) Retrieve fixation data\n"
     ]
    },
    {
     "data": {
      "application/vnd.jupyter.widget-view+json": {
       "model_id": "64e95135c4684ffb90aae0feed003767",
       "version_major": 2,
       "version_minor": 0
      },
      "text/plain": [
       "0it [00:00, ?it/s]"
      ]
     },
     "metadata": {},
     "output_type": "display_data"
    },
    {
     "name": "stdout",
     "output_type": "stream",
     "text": [
      "(02/02) Prepare data for manual accuracy evaluation file\n",
      "----------------------------------------------\n",
      "Participant 102\n",
      "(01/02) Retrieve fixation data\n"
     ]
    },
    {
     "data": {
      "application/vnd.jupyter.widget-view+json": {
       "model_id": "1aaf01754bb945f58a032af957efb6a1",
       "version_major": 2,
       "version_minor": 0
      },
      "text/plain": [
       "0it [00:00, ?it/s]"
      ]
     },
     "metadata": {},
     "output_type": "display_data"
    },
    {
     "name": "stdout",
     "output_type": "stream",
     "text": [
      "(02/02) Prepare data for manual accuracy evaluation file\n",
      "----------------------------------------------\n",
      "Participant 106\n",
      "(01/02) Retrieve fixation data\n"
     ]
    },
    {
     "data": {
      "application/vnd.jupyter.widget-view+json": {
       "model_id": "ea11f11e6a5e40eab2df43fca9a8656c",
       "version_major": 2,
       "version_minor": 0
      },
      "text/plain": [
       "0it [00:00, ?it/s]"
      ]
     },
     "metadata": {},
     "output_type": "display_data"
    },
    {
     "name": "stdout",
     "output_type": "stream",
     "text": [
      "(02/02) Prepare data for manual accuracy evaluation file\n"
     ]
    }
   ],
   "source": [
    "# Iterate over all participants\n",
    "for participant in tqdm(folders):\n",
    "    print('----------------------------------------------')\n",
    "    print(PARTICIPANT, participant)\n",
    "    \n",
    "    print('(01/02) Retrieve fixation data')\n",
    "    participant_snippet_fixations = {}\n",
    "    not_available = set()\n",
    "    for snippet in tqdm(snippets[participant]):\n",
    "        snippet_fixations = {}\n",
    "        for algo in FIXATION_CORRECTION_ALGORITHMS:\n",
    "            # select outliers removed version only if for original fixations\n",
    "            snippet_fixations_path = get_fixations_path(participant, snippet, modified_version=algo,\n",
    "                                                        no_outliers_if_exists=(algo == FIXATION_CORRECTION_ALGORITHM_ORIGINAL))\n",
    "            if snippet_fixations_path.exists():\n",
    "                snippet_fixations[algo] = SNIPPET\n",
    "        participant_snippet_fixations[snippet] = snippet_fixations\n",
    "\n",
    "    print('(02/02) Prepare data for manual accuracy evaluation file')\n",
    "    manual_evaluation = create_manual_accuracy_evaluation(\n",
    "        participant_snippet_fixations)\n",
    "    if current_fixation_correction_iteration() > 1:\n",
    "        # add manual evaluation from previous iteration\n",
    "        previous_manual_evaluation = pd.read_csv(\n",
    "            manual_evaluation_paths[participant], sep=SEPARATOR, index_col=False, dtype={PARTICIPANT: str})\n",
    "        new_manual_evaluation = manual_evaluation\n",
    "        manual_evaluation = pd.concat(\n",
    "            [previous_manual_evaluation, new_manual_evaluation]).drop_duplicates([SNIPPET], keep='last')\n",
    "    manual_evaluation.to_csv(get_manual_accuracy_evaluation_path(\n",
    "        participant, performed=not snippets[participant]), sep=SEPARATOR, index=False)"
   ]
  }
 ],
 "metadata": {
  "kernelspec": {
   "display_name": "Python 3",
   "language": "python",
   "name": "python3"
  },
  "language_info": {
   "codemirror_mode": {
    "name": "ipython",
    "version": 3
   },
   "file_extension": ".py",
   "mimetype": "text/x-python",
   "name": "python",
   "nbconvert_exporter": "python",
   "pygments_lexer": "ipython3",
   "version": "3.11.5"
  }
 },
 "nbformat": 4,
 "nbformat_minor": 4
}
