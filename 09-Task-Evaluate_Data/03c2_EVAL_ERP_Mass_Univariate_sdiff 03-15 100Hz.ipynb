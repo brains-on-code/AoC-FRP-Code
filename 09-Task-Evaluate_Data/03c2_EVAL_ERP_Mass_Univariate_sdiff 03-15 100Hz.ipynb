{
 "cells": [
  {
   "cell_type": "markdown",
   "id": "7c9a9ba0-1fa4-467c-be6d-de2c92c50a30",
   "metadata": {},
   "source": [
    "# ERP Mass Univariate ANOVA pairwise permutation test"
   ]
  },
  {
   "cell_type": "markdown",
   "id": "ed68a5f5-cc8e-44cd-b916-6c4c8f4a9809",
   "metadata": {},
   "source": [
    "## Import libraries"
   ]
  },
  {
   "cell_type": "code",
   "execution_count": 1,
   "id": "774c436e-1ab4-477b-ba08-dcf2008f1774",
   "metadata": {},
   "outputs": [],
   "source": [
    "import numpy as np\n",
    "from tqdm.notebook import tqdm\n",
    "from utils.utils import *\n",
    "from mne.stats import *\n",
    "import mne\n",
    "\n",
    "import scipy\n",
    "mne.set_log_level('CRITICAL')"
   ]
  },
  {
   "cell_type": "code",
   "execution_count": 2,
   "id": "b4bcbd61",
   "metadata": {
    "collapsed": false
   },
   "outputs": [
    {
     "name": "stdout",
     "output_type": "stream",
     "text": [
      "in subfolder ../08-Data-Trial_Recordings/processed/total, no participant number could be identified.\n",
      "{'003': WindowsPath('../08-Data-Trial_Recordings/processed/003'), '004': WindowsPath('../08-Data-Trial_Recordings/processed/004'), '005': WindowsPath('../08-Data-Trial_Recordings/processed/005'), '007': WindowsPath('../08-Data-Trial_Recordings/processed/007'), '008': WindowsPath('../08-Data-Trial_Recordings/processed/008'), '009': WindowsPath('../08-Data-Trial_Recordings/processed/009'), '010': WindowsPath('../08-Data-Trial_Recordings/processed/010'), '011': WindowsPath('../08-Data-Trial_Recordings/processed/011'), '012': WindowsPath('../08-Data-Trial_Recordings/processed/012'), '013': WindowsPath('../08-Data-Trial_Recordings/processed/013'), '014': WindowsPath('../08-Data-Trial_Recordings/processed/014'), '015': WindowsPath('../08-Data-Trial_Recordings/processed/015'), '016': WindowsPath('../08-Data-Trial_Recordings/processed/016'), '017': WindowsPath('../08-Data-Trial_Recordings/processed/017'), '018': WindowsPath('../08-Data-Trial_Recordings/processed/018'), '019': WindowsPath('../08-Data-Trial_Recordings/processed/019'), '020': WindowsPath('../08-Data-Trial_Recordings/processed/020'), '021': WindowsPath('../08-Data-Trial_Recordings/processed/021'), '022': WindowsPath('../08-Data-Trial_Recordings/processed/022'), '023': WindowsPath('../08-Data-Trial_Recordings/processed/023'), '024': WindowsPath('../08-Data-Trial_Recordings/processed/024'), '101': WindowsPath('../08-Data-Trial_Recordings/processed/101'), '102': WindowsPath('../08-Data-Trial_Recordings/processed/102'), '106': WindowsPath('../08-Data-Trial_Recordings/processed/106')}\n"
     ]
    }
   ],
   "source": [
    "# get all files from participants\n",
    "folders = get_participant_folder_per_participant(raw_folder=False)\n",
    "print(folders)"
   ]
  },
  {
   "cell_type": "code",
   "execution_count": 3,
   "id": "2bd4e487",
   "metadata": {},
   "outputs": [
    {
     "data": {
      "text/plain": [
       "[{'epoch_interval': [-0.4, 2],\n",
       "  'correct_data_only': False,\n",
       "  'participants': ['003',\n",
       "   '004',\n",
       "   '005',\n",
       "   '007',\n",
       "   '008',\n",
       "   '009',\n",
       "   '010',\n",
       "   '011',\n",
       "   '012',\n",
       "   '013',\n",
       "   '014',\n",
       "   '015',\n",
       "   '016',\n",
       "   '017',\n",
       "   '018',\n",
       "   '019',\n",
       "   '020',\n",
       "   '021',\n",
       "   '022',\n",
       "   '023',\n",
       "   '024',\n",
       "   '101',\n",
       "   '102',\n",
       "   '106'],\n",
       "  'erp_frp': True,\n",
       "  'conditional_stimuli': {'unambiguous': 'Stimulus/S 11',\n",
       "   'ambiguous': 'Stimulus/S 12'},\n",
       "  'plot': False,\n",
       "  'snippet_group': 'all',\n",
       "  'topomap_times': [0.2, 0.4, 0.6, 0.8, 1, 1.2, 1.4, 1.6, 1.8]}]"
      ]
     },
     "execution_count": 3,
     "metadata": {},
     "output_type": "execute_result"
    }
   ],
   "source": [
    "# erp parameter combinations\n",
    "required_parameters = [ERP_PARAMETER_EPOCH_INTERVAL,\n",
    "                       ERP_PARAMETER_CORRECT_TRIALS_ONLY, ERP_PARAMETER_PARTICIPANTS, ERP_PARAMETER_ERP_FRP]\n",
    "with open(get_erp_parameters_path(True), 'r') as f:\n",
    "    all_erp_parameter_combinations = json.load(f)\n",
    "all_erp_parameter_combinations"
   ]
  },
  {
   "cell_type": "code",
   "execution_count": 4,
   "id": "c5784a5c",
   "metadata": {},
   "outputs": [
    {
     "data": {
      "application/vnd.jupyter.widget-view+json": {
       "model_id": "e47f1a1ca8394ef6983ed983b1913fc4",
       "version_major": 2,
       "version_minor": 0
      },
      "text/plain": [
       "  0%|          | 0/1 [00:00<?, ?it/s]"
      ]
     },
     "metadata": {},
     "output_type": "display_data"
    },
    {
     "name": "stdout",
     "output_type": "stream",
     "text": [
      "{'epoch_interval': [-0.4, 2], 'correct_data_only': False, 'participants': ['003', '004', '005', '007', '008', '009', '010', '011', '012', '013', '014', '015', '016', '017', '018', '019', '020', '021', '022', '023', '024', '101', '102', '106'], 'erp_frp': True, 'conditional_stimuli': {'unambiguous': 'Stimulus/S 11', 'ambiguous': 'Stimulus/S 12'}, 'plot': False, 'snippet_group': 'all', 'topomap_times': [0.2, 0.4, 0.6, 0.8, 1, 1.2, 1.4, 1.6, 1.8]}\n",
      "erp_-400_2000_all\n"
     ]
    },
    {
     "data": {
      "application/vnd.jupyter.widget-view+json": {
       "model_id": "04810faeec754ea4a75231fd467d02d2",
       "version_major": 2,
       "version_minor": 0
      },
      "text/plain": [
       "  0%|          | 0/1 [00:00<?, ?it/s]"
      ]
     },
     "metadata": {},
     "output_type": "display_data"
    },
    {
     "name": "stdout",
     "output_type": "stream",
     "text": [
      "multiple channels\n",
      "\tsubjects x times (x electrodes) (24, 121, 23)\n",
      "\tTest greater\n",
      "\t\tPermutation count 1e+20\n",
      "Using a threshold of 1.713872\n",
      "stat_fun(H1): min=-4.307228 max=1.822093\n",
      "Running initial clustering …\n",
      "Found 1 cluster\n"
     ]
    },
    {
     "data": {
      "application/vnd.jupyter.widget-view+json": {
       "model_id": "9309895b1e184190b11646bac9f72c4f",
       "version_major": 2,
       "version_minor": 0
      },
      "text/plain": [
       "  0%|          | Permuting (exact test) : 0/16777215 [00:00<?,       ?it/s]"
      ]
     },
     "metadata": {},
     "output_type": "display_data"
    },
    {
     "name": "stdout",
     "output_type": "stream",
     "text": [
      "\t\t\t P values [0.92431498]\n",
      "\t\t\t positive clusters []\n",
      "\t\t\t Stop after exact test results, as 1e+20 exceeds possible 16777216\n",
      "\tTest less\n",
      "\t\tPermutation count 1e+20\n",
      "Using a threshold of -1.713872\n",
      "stat_fun(H1): min=-4.307228 max=1.822093\n",
      "Running initial clustering …\n",
      "Found 25 clusters\n"
     ]
    },
    {
     "data": {
      "application/vnd.jupyter.widget-view+json": {
       "model_id": "6e0edad724e44caba17f140aef7a76c3",
       "version_major": 2,
       "version_minor": 0
      },
      "text/plain": [
       "  0%|          | Permuting (exact test) : 0/16777215 [00:00<?,       ?it/s]"
      ]
     },
     "metadata": {},
     "output_type": "display_data"
    },
    {
     "name": "stdout",
     "output_type": "stream",
     "text": [
      "\t\t\t P values [0.93026733 0.80359769 0.81569946 0.73103726 0.79109555 0.66365463\n",
      " 0.93886399 0.76108229 0.08986962 0.9383921  0.54450345 0.31533116\n",
      " 0.8771897  0.9339481  0.59852558 0.75768507 0.89576864 0.8962639\n",
      " 0.61144608 0.93422323 0.85485691 0.75570548 0.79552418 0.64008588\n",
      " 0.88197219]\n",
      "\t\t\t positive clusters []\n",
      "\t\t\t Stop after exact test results, as 1e+20 exceeds possible 16777216\n"
     ]
    }
   ],
   "source": [
    "# prepare data\n",
    "for erp_parameters in tqdm(all_erp_parameter_combinations):\n",
    "    print(erp_parameters)\n",
    "    perform_cluster_permutation_test_diff(erp_parameters[ERP_PARAMETER_ERP_FRP], erp_parameters[ERP_PARAMETER_SNIPPET_GROUP] if ERP_PARAMETER_SNIPPET_GROUP in erp_parameters else SNIPPET_GROUP_ALL, erp_parameters[ERP_PARAMETER_CORRECT_TRIALS_ONLY],\n",
    "                                          erp_parameters[ERP_PARAMETER_EPOCH_INTERVAL], erp_parameters[ERP_PARAMETER_PARTICIPANTS], \n",
    "                                          subinterval=[0.3, 1.5], downsample_to=100, ignore_channels=ERP_PERM_CHANNELS_TO_IGNORE,\n",
    "                                          each_channel=False)"
   ]
  }
 ],
 "metadata": {
  "kernelspec": {
   "display_name": "Python 3",
   "language": "python",
   "name": "python3"
  },
  "language_info": {
   "codemirror_mode": {
    "name": "ipython",
    "version": 3
   },
   "file_extension": ".py",
   "mimetype": "text/x-python",
   "name": "python",
   "nbconvert_exporter": "python",
   "pygments_lexer": "ipython3",
   "version": "3.11.5"
  }
 },
 "nbformat": 4,
 "nbformat_minor": 5
}
