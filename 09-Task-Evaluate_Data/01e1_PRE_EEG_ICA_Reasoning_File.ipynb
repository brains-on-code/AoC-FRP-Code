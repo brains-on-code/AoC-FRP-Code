{
 "cells": [
  {
   "cell_type": "markdown",
   "id": "7c9a9ba0-1fa4-467c-be6d-de2c92c50a30",
   "metadata": {},
   "source": [
    "# Create ICA Reasoning File\n",
    "Status: Implemented\n",
    " -- Fully automatized"
   ]
  },
  {
   "cell_type": "code",
   "execution_count": 1,
   "id": "cace8cd4",
   "metadata": {},
   "outputs": [],
   "source": [
    "from tqdm.notebook import tqdm\n",
    "from utils.utils import *"
   ]
  },
  {
   "cell_type": "code",
   "execution_count": 2,
   "id": "eaf57434",
   "metadata": {},
   "outputs": [],
   "source": [
    "# get all files from participants\n",
    "folders = get_participant_folder_per_participant()\n",
    "eeg_file_groups = get_eeg_files_per_participant()\n",
    "assert (set(folders.keys()) == set(eeg_file_groups.keys()))"
   ]
  },
  {
   "cell_type": "markdown",
   "id": "569627b1",
   "metadata": {},
   "source": [
    "### Create manual ICA reasoning paths\n",
    "* For 32 components (F00-F31)\n",
    "* Included or not\n",
    "* Reason for this choice"
   ]
  },
  {
   "cell_type": "code",
   "execution_count": 3,
   "id": "4d0303f9",
   "metadata": {},
   "outputs": [
    {
     "data": {
      "application/vnd.jupyter.widget-view+json": {
       "model_id": "a021366d317449228286e3531352ebba",
       "version_major": 2,
       "version_minor": 0
      },
      "text/plain": [
       "  0%|          | 0/24 [00:00<?, ?it/s]"
      ]
     },
     "metadata": {},
     "output_type": "display_data"
    },
    {
     "name": "stdout",
     "output_type": "stream",
     "text": [
      "----------------------------------------------\n",
      "Participant 003\n",
      "(01/01) Prepare file for manual ICA reasoning\n",
      "----------------------------------------------\n",
      "Participant 004\n",
      "(01/01) Prepare file for manual ICA reasoning\n",
      "----------------------------------------------\n",
      "Participant 005\n",
      "(01/01) Prepare file for manual ICA reasoning\n",
      "----------------------------------------------\n",
      "Participant 007\n",
      "(01/01) Prepare file for manual ICA reasoning\n",
      "----------------------------------------------\n",
      "Participant 008\n",
      "(01/01) Prepare file for manual ICA reasoning\n",
      "----------------------------------------------\n",
      "Participant 009\n",
      "(01/01) Prepare file for manual ICA reasoning\n",
      "----------------------------------------------\n",
      "Participant 010\n",
      "(01/01) Prepare file for manual ICA reasoning\n",
      "----------------------------------------------\n",
      "Participant 011\n",
      "(01/01) Prepare file for manual ICA reasoning\n",
      "----------------------------------------------\n",
      "Participant 012\n",
      "(01/01) Prepare file for manual ICA reasoning\n",
      "----------------------------------------------\n",
      "Participant 013\n",
      "(01/01) Prepare file for manual ICA reasoning\n",
      "----------------------------------------------\n",
      "Participant 014\n",
      "(01/01) Prepare file for manual ICA reasoning\n",
      "----------------------------------------------\n",
      "Participant 015\n",
      "(01/01) Prepare file for manual ICA reasoning\n",
      "----------------------------------------------\n",
      "Participant 016\n",
      "(01/01) Prepare file for manual ICA reasoning\n",
      "----------------------------------------------\n",
      "Participant 017\n",
      "(01/01) Prepare file for manual ICA reasoning\n",
      "----------------------------------------------\n",
      "Participant 018\n",
      "(01/01) Prepare file for manual ICA reasoning\n",
      "----------------------------------------------\n",
      "Participant 019\n",
      "(01/01) Prepare file for manual ICA reasoning\n",
      "----------------------------------------------\n",
      "Participant 020\n",
      "(01/01) Prepare file for manual ICA reasoning\n",
      "----------------------------------------------\n",
      "Participant 021\n",
      "(01/01) Prepare file for manual ICA reasoning\n",
      "----------------------------------------------\n",
      "Participant 022\n",
      "(01/01) Prepare file for manual ICA reasoning\n",
      "----------------------------------------------\n",
      "Participant 023\n",
      "(01/01) Prepare file for manual ICA reasoning\n",
      "----------------------------------------------\n",
      "Participant 024\n",
      "(01/01) Prepare file for manual ICA reasoning\n",
      "----------------------------------------------\n",
      "Participant 101\n",
      "(01/01) Prepare file for manual ICA reasoning\n",
      "----------------------------------------------\n",
      "Participant 102\n",
      "(01/01) Prepare file for manual ICA reasoning\n",
      "----------------------------------------------\n",
      "Participant 106\n",
      "(01/01) Prepare file for manual ICA reasoning\n"
     ]
    }
   ],
   "source": [
    "# Iterate over all participants\n",
    "for participant in tqdm(folders):\n",
    "    print('----------------------------------------------')\n",
    "    print(PARTICIPANT, participant)\n",
    "\n",
    "    print('(01/01) Prepare file for manual ICA reasoning')\n",
    "    # prepare file for manual ICA reasoning\n",
    "    manual_artifact_check = pd.DataFrame([[f'F{str(i).zfill(2)}', '', '', False, True, ''] for i in range(\n",
    "        32)], columns=ICA_REASONING_COLUMNS)\n",
    "    manual_artifact_check.to_csv(get_manual_ICA_reasoning_path(\n",
    "        participant), sep=SEPARATOR, index=False)"
   ]
  }
 ],
 "metadata": {
  "kernelspec": {
   "display_name": "Python 3",
   "language": "python",
   "name": "python3"
  },
  "language_info": {
   "codemirror_mode": {
    "name": "ipython",
    "version": 3
   },
   "file_extension": ".py",
   "mimetype": "text/x-python",
   "name": "python",
   "nbconvert_exporter": "python",
   "pygments_lexer": "ipython3",
   "version": "3.11.5"
  }
 },
 "nbformat": 4,
 "nbformat_minor": 5
}
