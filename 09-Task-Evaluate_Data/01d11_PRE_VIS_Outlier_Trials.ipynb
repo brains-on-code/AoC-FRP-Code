{
 "cells": [
  {
   "cell_type": "markdown",
   "id": "7c9a9ba0-1fa4-467c-be6d-de2c92c50a30",
   "metadata": {},
   "source": [
    "# Outlier statistics"
   ]
  },
  {
   "cell_type": "code",
   "execution_count": 1,
   "id": "774c436e-1ab4-477b-ba08-dcf2008f1774",
   "metadata": {},
   "outputs": [],
   "source": [
    "from tqdm.notebook import tqdm\n",
    "from utils.utils import *"
   ]
  },
  {
   "cell_type": "code",
   "execution_count": 2,
   "id": "bb588db4",
   "metadata": {},
   "outputs": [
    {
     "name": "stdout",
     "output_type": "stream",
     "text": [
      "in subfolder ../08-Data-Trial_Recordings/processed/total, no participant number could be identified.\n",
      "{'003': WindowsPath('../08-Data-Trial_Recordings/processed/003'), '004': WindowsPath('../08-Data-Trial_Recordings/processed/004'), '005': WindowsPath('../08-Data-Trial_Recordings/processed/005'), '007': WindowsPath('../08-Data-Trial_Recordings/processed/007'), '008': WindowsPath('../08-Data-Trial_Recordings/processed/008'), '009': WindowsPath('../08-Data-Trial_Recordings/processed/009'), '010': WindowsPath('../08-Data-Trial_Recordings/processed/010'), '011': WindowsPath('../08-Data-Trial_Recordings/processed/011'), '012': WindowsPath('../08-Data-Trial_Recordings/processed/012'), '013': WindowsPath('../08-Data-Trial_Recordings/processed/013'), '014': WindowsPath('../08-Data-Trial_Recordings/processed/014'), '015': WindowsPath('../08-Data-Trial_Recordings/processed/015'), '016': WindowsPath('../08-Data-Trial_Recordings/processed/016'), '017': WindowsPath('../08-Data-Trial_Recordings/processed/017'), '018': WindowsPath('../08-Data-Trial_Recordings/processed/018'), '019': WindowsPath('../08-Data-Trial_Recordings/processed/019'), '020': WindowsPath('../08-Data-Trial_Recordings/processed/020'), '021': WindowsPath('../08-Data-Trial_Recordings/processed/021'), '022': WindowsPath('../08-Data-Trial_Recordings/processed/022'), '023': WindowsPath('../08-Data-Trial_Recordings/processed/023'), '024': WindowsPath('../08-Data-Trial_Recordings/processed/024'), '101': WindowsPath('../08-Data-Trial_Recordings/processed/101'), '102': WindowsPath('../08-Data-Trial_Recordings/processed/102'), '106': WindowsPath('../08-Data-Trial_Recordings/processed/106')}\n",
      "Fixation correction iteration: 4\n",
      "Previous Fixation correction iteration: 3\n"
     ]
    }
   ],
   "source": [
    "# get all files from participants\n",
    "folders = get_participant_folder_per_participant(raw_folder=False)\n",
    "print(folders)\n",
    "manual_evaluations = {participant:{} for participant in folders}\n",
    "global FIXATION_CORRECTION_ITERATION \n",
    "FIXATION_CORRECTION_ITERATION[0] = 4\n",
    "print('Fixation correction iteration:', current_fixation_correction_iteration())\n",
    "print('Previous Fixation correction iteration:', previous_fixation_correction_iteration())\n",
    "for iteration in range(1,current_fixation_correction_iteration()+1):\n",
    "    manual_evaluation_paths:dict[str,Path] = exist_previous_manual_accuracy_evaluation_paths(lambda:iteration)\n",
    "    for participant in folders:\n",
    "        manual_evaluations[participant][iteration] = pd.read_csv(manual_evaluation_paths[participant], sep=SEPARATOR, index_col=False, dtype={PARTICIPANT: str})"
   ]
  },
  {
   "cell_type": "markdown",
   "id": "56d941f6-8c38-49ec-b28c-7c98394a227a",
   "metadata": {},
   "source": [
    "### Calculate special fixations with multiple algorithms"
   ]
  },
  {
   "cell_type": "code",
   "execution_count": 3,
   "id": "528d6317",
   "metadata": {},
   "outputs": [
    {
     "data": {
      "application/vnd.jupyter.widget-view+json": {
       "model_id": "ab30b1964f60489a989e42fd75a6b54c",
       "version_major": 2,
       "version_minor": 0
      },
      "text/plain": [
       "  0%|          | 0/24 [00:00<?, ?it/s]"
      ]
     },
     "metadata": {},
     "output_type": "display_data"
    },
    {
     "name": "stdout",
     "output_type": "stream",
     "text": [
      "Outlier distribution across non-excluded trials: {'003': {'0-clean-v1': 2, '5-clean-v0': 2, '8-obf-v0': 1, '9-clean-v0': 1, '10-obf-v1': 1, '11-obf-v1': 1, '13-clean-v0': 2, '13-clean-v1': 1, '14-obf-v1': 1, '15-clean-v0': 1, '15-clean-v1': 1, '15-clean-v2': 1, '17-obf-v0': 1, '17-obf-v1': 1, '49-obf-v0': 1}, '004': {'0-obf-v1': 2, '8-clean-v0': 1, '12-obf-v1': 3, '14-clean-v2': 1, '30-obf-v1': 1, '54-clean-v0': 2, '54-clean-v2': 2, '62-clean-v0': 1}, '005': {'11-obf-v1': 1, '15-clean-v0': 2, '30-clean-v1': 1, '57-obf-v0': 1, '57-obf-v1': 2, '60-obf-v2': 2, '62-obf-v1': 1}, '007': {'10-obf-v0': 1, '13-obf-v0': 1, '16-obf-v0': 1, '49-clean-v1': 1, '60-clean-v1': 1, '16-obf-v1': 1}, '008': {'5-obf-v1': 2, '5-obf-v2': 1, '9-clean-v2': 1, '10-clean-v1': 1, '11-obf-v2': 1, '13-clean-v0': 2, '14-obf-v0': 1, '15-clean-v1': 1, '15-clean-v2': 1, '16-clean-v0': 1, '49-obf-v0': 1, '54-clean-v1': 3, '54-clean-v2': 1, '60-obf-v2': 1, '61-obf-v0': 1, '62-clean-v0': 2, '62-clean-v1': 1, '57-clean-v2': 1}, '009': {'0-obf-v2': 1, '4-clean-v1': 1, '4-clean-v2': 1, '9-clean-v0': 1, '10-obf-v0': 1, '18-clean-v2': 2, '54-clean-v1': 2, '57-obf-v0': 1, '57-obf-v1': 1, '60-clean-v0': 3, '16-obf-v0': 2}, '010': {'13-clean-v1': 1, '18-obf-v1': 1, '54-obf-v1': 2, '54-obf-v2': 5, '63-obf-v2': 1}, '011': {'4-clean-v1': 1, '11-obf-v1': 1, '12-clean-v0': 1, '14-obf-v2': 1, '16-clean-v0': 1, '17-clean-v1': 1, '30-obf-v1': 1, '30-obf-v2': 1, '49-clean-v0': 2, '54-obf-v1': 1, '61-obf-v0': 1}, '012': {'6-clean-v1': 1, '10-clean-v0': 1, '12-obf-v0': 2, '15-obf-v2': 1, '18-clean-v0': 1, '49-obf-v0': 1, '62-obf-v2': 1}, '013': {'16-clean-v0': 3, '18-obf-v0': 6, '49-obf-v0': 1, '54-obf-v0': 1, '61-clean-v0': 5, '62-clean-v1': 1}, '014': {'54-clean-v2': 2, '63-obf-v0': 1}, '015': {'14-clean-v0': 1, '14-clean-v2': 1, '15-obf-v0': 1, '15-obf-v2': 1, '49-obf-v2': 1}, '016': {'8-obf-v0': 1, '11-obf-v0': 1, '12-obf-v0': 1, '13-clean-v2': 1, '17-obf-v0': 1, '17-obf-v1': 1, '18-obf-v0': 2, '60-obf-v0': 2, '60-obf-v1': 1, '61-obf-v0': 1, '61-obf-v1': 2}, '017': {'4-obf-v1': 1, '13-clean-v0': 2, '13-clean-v2': 1, '14-clean-v0': 1, '14-clean-v1': 1, '54-clean-v2': 3, '4-obf-v0': 1, '16-obf-v0': 1}, '018': {'0-obf-v2': 1, '4-clean-v0': 1, '5-clean-v1': 3, '12-obf-v0': 1, '14-obf-v1': 1, '15-clean-v1': 3, '15-clean-v2': 1, '16-clean-v0': 1, '18-clean-v2': 1, '54-obf-v0': 3, '54-obf-v1': 1, '57-clean-v2': 1, '60-clean-v1': 1, '61-obf-v2': 3, '62-obf-v1': 2}, '019': {'6-obf-v1': 1, '9-clean-v1': 1, '9-clean-v2': 1, '49-clean-v0': 1, '49-clean-v2': 1, '62-obf-v2': 1}, '020': {'7-clean-v2': 1, '9-obf-v0': 1, '10-obf-v0': 1, '13-clean-v0': 1, '14-clean-v1': 1, '14-clean-v2': 1, '61-obf-v2': 1, '49-obf-v1': 1}, '021': {'5-clean-v2': 1, '13-clean-v1': 1, '14-obf-v1': 1, '49-clean-v1': 1, '54-clean-v1': 1}, '022': {'0-clean-v2': 1, '4-obf-v0': 1, '4-obf-v1': 1, '6-obf-v0': 1, '7-clean-v0': 1, '10-obf-v0': 2, '14-clean-v0': 2, '15-obf-v2': 2, '30-clean-v1': 1, '54-obf-v2': 4, '57-clean-v0': 1}, '023': {'0-clean-v2': 1, '13-clean-v1': 2, '17-clean-v1': 1}, '024': {'5-clean-v2': 1, '11-clean-v1': 1, '63-clean-v2': 1}, '101': {'0-clean-v0': 1, '5-clean-v1': 1, '6-obf-v0': 1, '13-obf-v0': 1, '14-clean-v2': 1, '62-clean-v2': 1}, '102': {'10-clean-v0': 1, '10-clean-v1': 1, '13-clean-v1': 1}, '106': {'5-clean-v0': 1, '12-obf-v1': 1, '13-clean-v2': 1}}\n",
      "Total number of non-excluded trials containing outliers 183\n",
      "Relative number of non-excluded trials containing outliers 0.12191872085276483 on basis of 1501 non-excluded trials\n",
      "Total number of outliers in non-excluded trials 245\n",
      "Outlier distribution across all trials: {'003': {'0-clean-v1': 2, '5-clean-v0': 2, '8-obf-v0': 1, '9-clean-v0': 1, '10-obf-v1': 1, '11-obf-v1': 1, '12-clean-v1': 1, '13-clean-v0': 2, '13-clean-v1': 1, '14-obf-v1': 1, '15-clean-v0': 1, '15-clean-v1': 1, '15-clean-v2': 1, '16-obf-v0': 2, '17-obf-v0': 1, '17-obf-v1': 1, '49-obf-v0': 1, '49-obf-v1': 1}, '004': {'0-obf-v1': 2, '8-clean-v0': 1, '9-obf-v1': 3, '12-obf-v1': 3, '14-clean-v2': 1, '15-obf-v0': 1, '30-obf-v1': 1, '54-clean-v0': 2, '54-clean-v2': 2, '62-clean-v0': 1}, '005': {'11-obf-v1': 1, '15-clean-v0': 2, '30-clean-v1': 1, '57-obf-v0': 1, '57-obf-v1': 2, '60-obf-v2': 2, '62-obf-v1': 1}, '007': {'10-obf-v0': 1, '13-obf-v0': 1, '16-obf-v0': 1, '49-clean-v1': 1, '60-clean-v1': 1, '16-obf-v1': 1}, '008': {'5-obf-v1': 2, '5-obf-v2': 1, '9-clean-v2': 1, '10-clean-v1': 1, '11-obf-v1': 3, '11-obf-v2': 1, '13-clean-v0': 2, '14-obf-v0': 1, '15-clean-v1': 1, '15-clean-v2': 1, '16-clean-v0': 1, '16-clean-v1': 2, '16-clean-v2': 1, '49-obf-v0': 1, '54-clean-v1': 3, '54-clean-v2': 1, '57-clean-v1': 3, '60-obf-v2': 1, '61-obf-v0': 1, '62-clean-v0': 2, '62-clean-v1': 1, '63-obf-v1': 1, '57-clean-v2': 1}, '009': {'0-obf-v2': 1, '4-clean-v1': 1, '4-clean-v2': 1, '9-clean-v0': 1, '10-obf-v0': 1, '11-clean-v0': 1, '18-clean-v2': 2, '54-clean-v1': 2, '57-obf-v0': 1, '57-obf-v1': 1, '60-clean-v0': 3, '16-obf-v0': 2}, '010': {'13-clean-v1': 1, '18-obf-v1': 1, '49-clean-v0': 1, '54-obf-v1': 2, '54-obf-v2': 5, '63-obf-v2': 1}, '011': {'4-clean-v1': 1, '11-obf-v1': 1, '12-clean-v0': 1, '14-obf-v2': 1, '16-clean-v0': 1, '17-clean-v1': 1, '30-obf-v1': 1, '30-obf-v2': 1, '49-clean-v0': 2, '54-obf-v1': 1, '61-obf-v0': 1}, '012': {'6-clean-v1': 1, '10-clean-v0': 1, '12-obf-v0': 2, '15-obf-v2': 1, '18-clean-v0': 1, '16-obf-v2': 1, '49-obf-v0': 1, '62-obf-v2': 1}, '013': {'16-clean-v0': 3, '18-obf-v0': 6, '49-obf-v0': 1, '54-obf-v0': 1, '61-clean-v0': 5, '62-clean-v1': 1, '63-clean-v0': 2}, '014': {'54-clean-v2': 2, '63-obf-v0': 1}, '015': {'14-clean-v0': 1, '14-clean-v2': 1, '15-obf-v0': 1, '15-obf-v2': 1, '49-obf-v2': 1}, '016': {'8-obf-v0': 1, '11-obf-v0': 1, '12-obf-v0': 1, '13-clean-v2': 1, '17-obf-v0': 1, '17-obf-v1': 1, '18-obf-v0': 2, '18-obf-v1': 1, '49-clean-v1': 1, '60-obf-v0': 2, '60-obf-v1': 1, '61-obf-v0': 1, '61-obf-v1': 2}, '017': {'4-obf-v1': 1, '13-clean-v0': 2, '13-clean-v2': 1, '14-clean-v0': 1, '14-clean-v1': 1, '54-clean-v2': 3, '4-obf-v0': 1, '16-obf-v0': 1}, '018': {'0-obf-v2': 1, '4-clean-v0': 1, '5-clean-v1': 3, '12-obf-v0': 1, '14-obf-v1': 1, '15-clean-v0': 72, '15-clean-v1': 3, '15-clean-v2': 1, '16-clean-v0': 1, '18-clean-v2': 1, '54-obf-v0': 3, '54-obf-v1': 1, '57-clean-v2': 1, '60-clean-v1': 1, '61-obf-v2': 3, '62-obf-v1': 2}, '019': {'6-obf-v1': 1, '9-clean-v1': 1, '9-clean-v2': 1, '49-clean-v0': 1, '49-clean-v2': 1, '62-obf-v2': 1}, '020': {'7-clean-v2': 1, '9-obf-v0': 1, '10-obf-v0': 1, '13-clean-v0': 1, '14-clean-v1': 1, '14-clean-v2': 1, '61-obf-v2': 1, '49-obf-v1': 1}, '021': {'5-clean-v2': 1, '13-clean-v1': 1, '14-obf-v1': 1, '49-clean-v1': 1, '54-clean-v1': 1}, '022': {'0-clean-v2': 1, '4-obf-v0': 1, '4-obf-v1': 1, '6-obf-v0': 1, '7-clean-v0': 1, '9-clean-v0': 1, '10-obf-v0': 2, '14-clean-v0': 2, '15-obf-v2': 2, '17-obf-v2': 1, '30-clean-v1': 1, '54-obf-v2': 4, '57-clean-v0': 1}, '023': {'0-clean-v2': 1, '13-clean-v1': 2, '17-clean-v1': 1}, '024': {'5-clean-v2': 1, '11-clean-v1': 1, '63-clean-v2': 1}, '101': {'0-clean-v0': 1, '5-clean-v1': 1, '6-obf-v0': 1, '13-obf-v0': 1, '14-clean-v2': 1, '62-clean-v2': 1}, '102': {'10-clean-v0': 1, '10-clean-v1': 1, '13-clean-v1': 1}, '106': {'5-clean-v0': 1, '12-obf-v1': 1, '13-clean-v2': 1}}\n",
      "Total number of all trials containing outliers 202\n",
      "Relative number of all trials containing outliers 0.119314825753101 on basis of all 1693 trials\n",
      "Total number of outliers in all trials 344\n",
      "Excluded in correction distribution across all trials: {'003': {'4-obf-v2', '9-clean-v2', '0-clean-v1', '0-clean-v2', '60-clean-v1', '17-obf-v2', '12-clean-v2', '49-obf-v1', '63-obf-v2', '57-clean-v0', '16-obf-v0', '63-obf-v0', '12-clean-v1', '13-clean-v2', '7-clean-v2', '10-obf-v2'}, '004': {'13-obf-v1', '0-obf-v0', '16-clean-v1', '16-clean-v2', '6-obf-v0', '4-clean-v0', '10-clean-v2', '8-clean-v2', '15-obf-v0', '7-obf-v2', '30-obf-v0', '9-obf-v1', '57-obf-v2', '12-obf-v0', '61-obf-v1', '6-obf-v1', '63-clean-v0', '9-obf-v0', '30-obf-v2', '5-obf-v0', '62-clean-v2', '17-clean-v1', '0-obf-v1', '62-clean-v1', '17-clean-v2', '11-clean-v0', '16-clean-v0', '7-obf-v0'}, '005': {'13-obf-v1', '18-obf-v0', '16-clean-v1', '62-obf-v2', '61-clean-v0', '63-obf-v0', '6-clean-v1', '6-clean-v2', '63-obf-v2', '16-clean-v0'}, '007': {'57-obf-v1', '62-obf-v2', '17-obf-v1', '60-clean-v0', '63-clean-v0', '63-clean-v2', '17-obf-v0'}, '008': {'30-clean-v1', '16-clean-v1', '16-clean-v2', '0-obf-v2', '57-clean-v1', '8-obf-v2', '18-obf-v2', '63-obf-v1', '0-obf-v1', '61-obf-v2', '4-clean-v2', '8-obf-v1', '17-clean-v0', '11-obf-v1', '17-clean-v2'}, '009': {'62-obf-v0', '16-obf-v1', '16-obf-v2', '11-clean-v0'}, '010': {'16-clean-v1', '16-clean-v2', '8-clean-v0', '49-clean-v0', '6-clean-v1', '62-clean-v1', '6-clean-v0'}, '011': {'62-clean-v2', '6-obf-v2', '63-obf-v1', '12-clean-v2', '17-clean-v0'}, '012': {'57-clean-v1', '16-obf-v1', '63-clean-v2', '63-clean-v1', '16-obf-v2', '49-obf-v2'}, '013': {'63-clean-v0'}, '014': {'16-obf-v0'}, '015': {'0-obf-v0'}, '016': {'16-obf-v0', '62-obf-v0', '62-obf-v2', '16-obf-v1', '18-obf-v1', '63-obf-v1', '6-clean-v2', '17-obf-v2', '63-obf-v2', '49-clean-v1', '16-obf-v2', '62-obf-v1'}, '017': {'10-clean-v1', '0-clean-v2', '63-obf-v0', '18-obf-v1', '10-clean-v2', '18-obf-v2', '63-obf-v1', '57-obf-v0', '63-obf-v2', '12-clean-v0'}, '018': {'15-clean-v0', '16-clean-v1', '11-clean-v1', '63-clean-v1'}, '019': {'57-clean-v0', '16-obf-v0', '0-clean-v1', '63-obf-v0', '63-obf-v2', '18-clean-v1', '17-obf-v0'}, '020': {'60-obf-v0', '16-clean-v2', '11-clean-v1', '62-clean-v1', '63-clean-v0', '63-clean-v1'}, '021': {'63-obf-v1'}, '022': {'4-obf-v2', '9-clean-v2', '16-clean-v1', '16-clean-v2', '63-clean-v0', '63-clean-v1', '17-obf-v2', '63-clean-v2', '9-clean-v0'}, '023': {'16-clean-v2', '63-obf-v0'}, '024': {'63-clean-v1', '16-obf-v0'}, '101': {'63-obf-v1', '12-clean-v2', '18-clean-v2', '63-obf-v2', '6-obf-v1', '16-obf-v2'}, '102': {'63-clean-v2', '16-clean-v2', '63-clean-v1'}, '106': {'4-obf-v2', '0-obf-v0', '12-obf-v2', '57-clean-v1', '9-clean-v1', '16-obf-v1', '60-clean-v1', '11-clean-v0', '49-obf-v2', '57-clean-v2', '8-obf-v1', '30-obf-v0', '61-obf-v2', '9-clean-v0', '10-clean-v1', '57-clean-v0', '16-obf-v0', '11-clean-v1', '18-clean-v0', '61-obf-v1', '6-obf-v1', '63-clean-v0', '30-obf-v2', '7-clean-v2', '62-clean-v2', '6-obf-v2', '4-obf-v0', '0-obf-v1', '4-obf-v1', '16-obf-v2'}}\n",
      "Total number of all trials excluded in correction 193\n"
     ]
    }
   ],
   "source": [
    "outliers = {participant:{} for participant in folders}# all trials with outliers\n",
    "all_outliers = {participant:{} for participant in folders}\n",
    "non_excluded = 0\n",
    "all_trials = 0\n",
    "excluded_in_correction = {participant:set() for participant in folders}\n",
    "for participant in tqdm(folders):\n",
    "    for iteration, manual_evaluation in manual_evaluations[participant].items():\n",
    "        participant_outliers = manual_evaluation[manual_evaluation[MANUAL_ACCURACY_EVALUATION_OUTLIER]>0]\n",
    "        for i, row in participant_outliers.iterrows():\n",
    "            snippet = row[SNIPPET]\n",
    "            if not snippet in outliers[participant]:\n",
    "                outliers[participant][snippet]=0\n",
    "                all_outliers[participant][snippet]=0\n",
    "            outliers[participant][snippet]+=row[MANUAL_ACCURACY_EVALUATION_OUTLIER]\n",
    "            all_outliers[participant][snippet]+=row[MANUAL_ACCURACY_EVALUATION_OUTLIER]\n",
    "        participant_exclusions = manual_evaluation[manual_evaluation[MANUAL_ACCURACY_EVALUATION_CHOICE]==FIXATION_CORRECTION_ALGORITHM_SNIPPET_EXCLUDED]\n",
    "        excluded_in_correction[participant] |= set(participant_exclusions[SNIPPET].values)\n",
    "    exclusions = get_exclusions(participant, [SNIPPET], [VISUAL, BEHAVIORAL])[SNIPPET]\n",
    "    for snippet in exclusions:\n",
    "        if any(exclusions[snippet].values()):\n",
    "            if snippet in outliers[participant]:\n",
    "                outliers[participant].pop(snippet)\n",
    "            if exclusions[snippet][BEHAVIORAL]:\n",
    "                if snippet in excluded_in_correction[participant]:\n",
    "                    excluded_in_correction[participant].remove(snippet)\n",
    "                pass\n",
    "            elif exclusions[snippet][VISUAL][0][:4]<'01d7':\n",
    "                if snippet in excluded_in_correction[participant]:\n",
    "                    excluded_in_correction[participant].remove(snippet)\n",
    "                pass\n",
    "            else:\n",
    "                all_trials+=1\n",
    "        else:\n",
    "            non_excluded+=1\n",
    "            all_trials+=1\n",
    "\n",
    "print('Outlier distribution across non-excluded trials:',outliers)\n",
    "print('Total number of non-excluded trials containing outliers', sum([len(snippets) for snippets in outliers.values()]))\n",
    "print('Relative number of non-excluded trials containing outliers', sum([len(snippets) for snippets in outliers.values()])/non_excluded, \n",
    "      'on basis of', non_excluded,'non-excluded trials')\n",
    "print('Total number of outliers in non-excluded trials', sum([sum(snippets.values()) for snippets in outliers.values()]))\n",
    "\n",
    "\n",
    "\n",
    "print('Outlier distribution across all trials:',all_outliers)\n",
    "print('Total number of all trials containing outliers', sum([len(snippets) for snippets in all_outliers.values()]))\n",
    "print('Relative number of all trials containing outliers', sum([len(snippets) for snippets in all_outliers.values()])/all_trials, \n",
    "      'on basis of all', all_trials,'trials')\n",
    "print('Total number of outliers in all trials', sum([sum(snippets.values()) for snippets in all_outliers.values()]))\n",
    "\n",
    "print('Excluded in correction distribution across all trials:',excluded_in_correction)\n",
    "print('Total number of all trials excluded in correction', sum([len(snippets) for snippets in excluded_in_correction.values()]))\n",
    "# for each trial, accumulate the number of outliers\n",
    "# only those which are not excluded"
   ]
  },
  {
   "cell_type": "code",
   "execution_count": null,
   "id": "95851655",
   "metadata": {},
   "outputs": [],
   "source": []
  }
 ],
 "metadata": {
  "kernelspec": {
   "display_name": "Python 3",
   "language": "python",
   "name": "python3"
  },
  "language_info": {
   "codemirror_mode": {
    "name": "ipython",
    "version": 3
   },
   "file_extension": ".py",
   "mimetype": "text/x-python",
   "name": "python",
   "nbconvert_exporter": "python",
   "pygments_lexer": "ipython3",
   "version": "3.11.5"
  }
 },
 "nbformat": 4,
 "nbformat_minor": 5
}
