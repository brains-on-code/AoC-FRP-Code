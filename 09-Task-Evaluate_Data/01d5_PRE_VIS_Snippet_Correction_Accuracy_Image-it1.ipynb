{
 "cells": [
  {
   "attachments": {},
   "cell_type": "markdown",
   "metadata": {},
   "source": [
    "# Create DataAccuracy Image for Corrected Fixations Iteration 1\n",
    "Status: Implemented\n",
    " -- Fully automatized"
   ]
  },
  {
   "cell_type": "code",
   "execution_count": 1,
   "metadata": {
    "collapsed": false,
    "jupyter": {
     "outputs_hidden": false
    }
   },
   "outputs": [],
   "source": [
    "import gc\n",
    "import json\n",
    "import warnings\n",
    "\n",
    "import pandas as pd\n",
    "from tqdm.notebook import tqdm\n",
    "from utils.utils import *\n",
    "\n",
    "warnings.filterwarnings(\"ignore\")"
   ]
  },
  {
   "cell_type": "code",
   "execution_count": 2,
   "metadata": {
    "collapsed": false,
    "jupyter": {
     "outputs_hidden": false
    }
   },
   "outputs": [],
   "source": [
    "# get all files from participants\n",
    "folders = get_participant_folder_per_participant()\n",
    "sequence_orders = get_sequence_order_per_participant()\n",
    "assert (set(folders.keys()) == set(sequence_orders.keys()))"
   ]
  },
  {
   "cell_type": "code",
   "execution_count": 3,
   "metadata": {},
   "outputs": [
    {
     "name": "stdout",
     "output_type": "stream",
     "text": [
      "Fixation correction iteration: 1\n",
      "Previous Fixation correction iteration: 0\n"
     ]
    }
   ],
   "source": [
    "global FIXATION_CORRECTION_ITERATION \n",
    "FIXATION_CORRECTION_ITERATION[0] = 1\n",
    "print('Fixation correction iteration:', current_fixation_correction_iteration())\n",
    "print('Previous Fixation correction iteration:', previous_fixation_correction_iteration())"
   ]
  },
  {
   "cell_type": "markdown",
   "metadata": {},
   "source": [
    "### Take into account previous iterations"
   ]
  },
  {
   "cell_type": "code",
   "execution_count": 4,
   "metadata": {},
   "outputs": [],
   "source": [
    "if current_fixation_correction_iteration() == 1:\n",
    "    snippets = {p: sequence_orders[p][SNIPPET].to_list()\n",
    "                for p in sequence_orders}\n",
    "else:  # get snippets to rework for this round\n",
    "    snippets = {p: list(pd.read_csv(get_snippet_rework_paths(\n",
    "        p), sep=SEPARATOR, index_col=False, )[SNIPPET].to_list()) for p in folders}"
   ]
  },
  {
   "cell_type": "code",
   "execution_count": 5,
   "metadata": {},
   "outputs": [
    {
     "data": {
      "text/plain": [
       "{'003': {},\n",
       " '004': {},\n",
       " '005': {},\n",
       " '007': {},\n",
       " '008': {},\n",
       " '009': {},\n",
       " '010': {},\n",
       " '011': {},\n",
       " '012': {},\n",
       " '013': {},\n",
       " '014': {},\n",
       " '015': {},\n",
       " '016': {},\n",
       " '017': {},\n",
       " '018': {},\n",
       " '019': {},\n",
       " '020': {},\n",
       " '021': {},\n",
       " '022': {},\n",
       " '023': {},\n",
       " '024': {},\n",
       " '101': {},\n",
       " '102': {},\n",
       " '106': {}}"
      ]
     },
     "execution_count": 5,
     "metadata": {},
     "output_type": "execute_result"
    }
   ],
   "source": [
    "manual_evaluation_paths = exist_previous_manual_accuracy_evaluation_paths()\n",
    "x_offsets = get_x_offsets()\n",
    "x_offsets"
   ]
  },
  {
   "cell_type": "markdown",
   "metadata": {},
   "source": [
    "### Auto-correction\n",
    "* generate accuracy images to compare fixation data (original and corrected versions)"
   ]
  },
  {
   "cell_type": "code",
   "execution_count": 6,
   "metadata": {
    "collapsed": false
   },
   "outputs": [
    {
     "data": {
      "application/vnd.jupyter.widget-view+json": {
       "model_id": "ca1bfb082934475091a04604e22d5114",
       "version_major": 2,
       "version_minor": 0
      },
      "text/plain": [
       "  0%|          | 0/24 [00:00<?, ?it/s]"
      ]
     },
     "metadata": {},
     "output_type": "display_data"
    },
    {
     "name": "stdout",
     "output_type": "stream",
     "text": [
      "----------------------------------------------\n",
      "Participant 003\n",
      "(01/04) Retrieve fixation data\n"
     ]
    },
    {
     "data": {
      "application/vnd.jupyter.widget-view+json": {
       "model_id": "d3c2255f7ef349538078a1471e9a94d7",
       "version_major": 2,
       "version_minor": 0
      },
      "text/plain": [
       "  0%|          | 0/72 [00:00<?, ?it/s]"
      ]
     },
     "metadata": {},
     "output_type": "display_data"
    },
    {
     "name": "stdout",
     "output_type": "stream",
     "text": [
      "(02/04) Add constant offset in x direction if given\n"
     ]
    },
    {
     "data": {
      "application/vnd.jupyter.widget-view+json": {
       "model_id": "d95169e5beef4f0fa644efae7715f81c",
       "version_major": 2,
       "version_minor": 0
      },
      "text/plain": [
       "  0%|          | 0/72 [00:00<?, ?it/s]"
      ]
     },
     "metadata": {},
     "output_type": "display_data"
    },
    {
     "name": "stdout",
     "output_type": "stream",
     "text": [
      "(03/04) Generate comparing snippet fixation image for snippet\n"
     ]
    },
    {
     "data": {
      "application/vnd.jupyter.widget-view+json": {
       "model_id": "bff429e2812044b6bbb466d52e6c64fd",
       "version_major": 2,
       "version_minor": 0
      },
      "text/plain": [
       "  0%|          | 0/72 [00:00<?, ?it/s]"
      ]
     },
     "metadata": {},
     "output_type": "display_data"
    },
    {
     "name": "stdout",
     "output_type": "stream",
     "text": [
      "(04/04) Adapt exclusion file for snippets without fixation accuracy images\n",
      "{'54-obf-v0': '01d5_PRE_VIS_Snippet_Correction_Accuracy_Image-it1: No fixation or auto-correction data available.', '60-clean-v0': '01d5_PRE_VIS_Snippet_Correction_Accuracy_Image-it1: No fixation or auto-correction data available.', '54-obf-v1': '01d5_PRE_VIS_Snippet_Correction_Accuracy_Image-it1: No fixation or auto-correction data available.'}\n",
      "----------------------------------------------\n",
      "Participant 004\n",
      "(01/04) Retrieve fixation data\n"
     ]
    },
    {
     "data": {
      "application/vnd.jupyter.widget-view+json": {
       "model_id": "66383ce00432490892f849a6b6d88233",
       "version_major": 2,
       "version_minor": 0
      },
      "text/plain": [
       "  0%|          | 0/72 [00:00<?, ?it/s]"
      ]
     },
     "metadata": {},
     "output_type": "display_data"
    },
    {
     "name": "stdout",
     "output_type": "stream",
     "text": [
      "(02/04) Add constant offset in x direction if given\n"
     ]
    },
    {
     "data": {
      "application/vnd.jupyter.widget-view+json": {
       "model_id": "8d582ae1d43d421c971d9dc701d9f873",
       "version_major": 2,
       "version_minor": 0
      },
      "text/plain": [
       "  0%|          | 0/72 [00:00<?, ?it/s]"
      ]
     },
     "metadata": {},
     "output_type": "display_data"
    },
    {
     "name": "stdout",
     "output_type": "stream",
     "text": [
      "(03/04) Generate comparing snippet fixation image for snippet\n"
     ]
    },
    {
     "data": {
      "application/vnd.jupyter.widget-view+json": {
       "model_id": "996c25c7a7ca43b181eb61c013fca090",
       "version_major": 2,
       "version_minor": 0
      },
      "text/plain": [
       "  0%|          | 0/72 [00:00<?, ?it/s]"
      ]
     },
     "metadata": {},
     "output_type": "display_data"
    },
    {
     "name": "stdout",
     "output_type": "stream",
     "text": [
      "(04/04) Adapt exclusion file for snippets without fixation accuracy images\n",
      "----------------------------------------------\n",
      "Participant 005\n",
      "(01/04) Retrieve fixation data\n"
     ]
    },
    {
     "data": {
      "application/vnd.jupyter.widget-view+json": {
       "model_id": "691d3e0577274a3e89088215e1f822cd",
       "version_major": 2,
       "version_minor": 0
      },
      "text/plain": [
       "  0%|          | 0/72 [00:00<?, ?it/s]"
      ]
     },
     "metadata": {},
     "output_type": "display_data"
    },
    {
     "name": "stdout",
     "output_type": "stream",
     "text": [
      "(02/04) Add constant offset in x direction if given\n"
     ]
    },
    {
     "data": {
      "application/vnd.jupyter.widget-view+json": {
       "model_id": "f3885da73e0f4f2ea41793c5cd3f8438",
       "version_major": 2,
       "version_minor": 0
      },
      "text/plain": [
       "  0%|          | 0/72 [00:00<?, ?it/s]"
      ]
     },
     "metadata": {},
     "output_type": "display_data"
    },
    {
     "name": "stdout",
     "output_type": "stream",
     "text": [
      "(03/04) Generate comparing snippet fixation image for snippet\n"
     ]
    },
    {
     "data": {
      "application/vnd.jupyter.widget-view+json": {
       "model_id": "a1fe2459f6ba450592024f88449a07b5",
       "version_major": 2,
       "version_minor": 0
      },
      "text/plain": [
       "  0%|          | 0/72 [00:00<?, ?it/s]"
      ]
     },
     "metadata": {},
     "output_type": "display_data"
    },
    {
     "name": "stdout",
     "output_type": "stream",
     "text": [
      "(04/04) Adapt exclusion file for snippets without fixation accuracy images\n",
      "{'8-clean-v1': '01d5_PRE_VIS_Snippet_Correction_Accuracy_Image-it1: No fixation or auto-correction data available.'}\n",
      "----------------------------------------------\n",
      "Participant 007\n",
      "(01/04) Retrieve fixation data\n"
     ]
    },
    {
     "data": {
      "application/vnd.jupyter.widget-view+json": {
       "model_id": "7aecfa86bb6240819bf203cb6273bdb6",
       "version_major": 2,
       "version_minor": 0
      },
      "text/plain": [
       "  0%|          | 0/72 [00:00<?, ?it/s]"
      ]
     },
     "metadata": {},
     "output_type": "display_data"
    },
    {
     "name": "stdout",
     "output_type": "stream",
     "text": [
      "(02/04) Add constant offset in x direction if given\n"
     ]
    },
    {
     "data": {
      "application/vnd.jupyter.widget-view+json": {
       "model_id": "6f0173b4c5ad407482ca97d1ac610d69",
       "version_major": 2,
       "version_minor": 0
      },
      "text/plain": [
       "  0%|          | 0/72 [00:00<?, ?it/s]"
      ]
     },
     "metadata": {},
     "output_type": "display_data"
    },
    {
     "name": "stdout",
     "output_type": "stream",
     "text": [
      "(03/04) Generate comparing snippet fixation image for snippet\n"
     ]
    },
    {
     "data": {
      "application/vnd.jupyter.widget-view+json": {
       "model_id": "3f30ddc2d78d4f7eabed55aa04fa4eaf",
       "version_major": 2,
       "version_minor": 0
      },
      "text/plain": [
       "  0%|          | 0/72 [00:00<?, ?it/s]"
      ]
     },
     "metadata": {},
     "output_type": "display_data"
    },
    {
     "name": "stdout",
     "output_type": "stream",
     "text": [
      "(04/04) Adapt exclusion file for snippets without fixation accuracy images\n",
      "----------------------------------------------\n",
      "Participant 008\n",
      "(01/04) Retrieve fixation data\n"
     ]
    },
    {
     "data": {
      "application/vnd.jupyter.widget-view+json": {
       "model_id": "56655dfc34c041a2a4a222391df30b2f",
       "version_major": 2,
       "version_minor": 0
      },
      "text/plain": [
       "  0%|          | 0/72 [00:00<?, ?it/s]"
      ]
     },
     "metadata": {},
     "output_type": "display_data"
    },
    {
     "name": "stdout",
     "output_type": "stream",
     "text": [
      "(02/04) Add constant offset in x direction if given\n"
     ]
    },
    {
     "data": {
      "application/vnd.jupyter.widget-view+json": {
       "model_id": "70bc0dd2231f43ab958061d5fb0e32d2",
       "version_major": 2,
       "version_minor": 0
      },
      "text/plain": [
       "  0%|          | 0/72 [00:00<?, ?it/s]"
      ]
     },
     "metadata": {},
     "output_type": "display_data"
    },
    {
     "name": "stdout",
     "output_type": "stream",
     "text": [
      "(03/04) Generate comparing snippet fixation image for snippet\n"
     ]
    },
    {
     "data": {
      "application/vnd.jupyter.widget-view+json": {
       "model_id": "03bee46135b24c01a778804c85c0836a",
       "version_major": 2,
       "version_minor": 0
      },
      "text/plain": [
       "  0%|          | 0/72 [00:00<?, ?it/s]"
      ]
     },
     "metadata": {},
     "output_type": "display_data"
    },
    {
     "name": "stdout",
     "output_type": "stream",
     "text": [
      "(04/04) Adapt exclusion file for snippets without fixation accuracy images\n",
      "{'60-obf-v1': '01d5_PRE_VIS_Snippet_Correction_Accuracy_Image-it1: No fixation or auto-correction data available.'}\n",
      "----------------------------------------------\n",
      "Participant 009\n",
      "(01/04) Retrieve fixation data\n"
     ]
    },
    {
     "data": {
      "application/vnd.jupyter.widget-view+json": {
       "model_id": "ffef403db437469786180f8bfb32f3fb",
       "version_major": 2,
       "version_minor": 0
      },
      "text/plain": [
       "  0%|          | 0/72 [00:00<?, ?it/s]"
      ]
     },
     "metadata": {},
     "output_type": "display_data"
    },
    {
     "name": "stdout",
     "output_type": "stream",
     "text": [
      "(02/04) Add constant offset in x direction if given\n"
     ]
    },
    {
     "data": {
      "application/vnd.jupyter.widget-view+json": {
       "model_id": "bc83013ae5974984bf7c7b2e8f10de11",
       "version_major": 2,
       "version_minor": 0
      },
      "text/plain": [
       "  0%|          | 0/72 [00:00<?, ?it/s]"
      ]
     },
     "metadata": {},
     "output_type": "display_data"
    },
    {
     "name": "stdout",
     "output_type": "stream",
     "text": [
      "(03/04) Generate comparing snippet fixation image for snippet\n"
     ]
    },
    {
     "data": {
      "application/vnd.jupyter.widget-view+json": {
       "model_id": "5d9e421100eb4985be865c9eb7b447a1",
       "version_major": 2,
       "version_minor": 0
      },
      "text/plain": [
       "  0%|          | 0/72 [00:00<?, ?it/s]"
      ]
     },
     "metadata": {},
     "output_type": "display_data"
    },
    {
     "name": "stdout",
     "output_type": "stream",
     "text": [
      "(04/04) Adapt exclusion file for snippets without fixation accuracy images\n",
      "----------------------------------------------\n",
      "Participant 010\n",
      "(01/04) Retrieve fixation data\n"
     ]
    },
    {
     "data": {
      "application/vnd.jupyter.widget-view+json": {
       "model_id": "eec9da33e47c4c0fab61409881ab096e",
       "version_major": 2,
       "version_minor": 0
      },
      "text/plain": [
       "  0%|          | 0/72 [00:00<?, ?it/s]"
      ]
     },
     "metadata": {},
     "output_type": "display_data"
    },
    {
     "name": "stdout",
     "output_type": "stream",
     "text": [
      "(02/04) Add constant offset in x direction if given\n"
     ]
    },
    {
     "data": {
      "application/vnd.jupyter.widget-view+json": {
       "model_id": "55d1b4cbb1524f0f9893e7c8d515e201",
       "version_major": 2,
       "version_minor": 0
      },
      "text/plain": [
       "  0%|          | 0/72 [00:00<?, ?it/s]"
      ]
     },
     "metadata": {},
     "output_type": "display_data"
    },
    {
     "name": "stdout",
     "output_type": "stream",
     "text": [
      "(03/04) Generate comparing snippet fixation image for snippet\n"
     ]
    },
    {
     "data": {
      "application/vnd.jupyter.widget-view+json": {
       "model_id": "b4db7c234014467c9b5c30f9b2e3ea36",
       "version_major": 2,
       "version_minor": 0
      },
      "text/plain": [
       "  0%|          | 0/72 [00:00<?, ?it/s]"
      ]
     },
     "metadata": {},
     "output_type": "display_data"
    },
    {
     "name": "stdout",
     "output_type": "stream",
     "text": [
      "(04/04) Adapt exclusion file for snippets without fixation accuracy images\n",
      "{'7-obf-v2': '01d5_PRE_VIS_Snippet_Correction_Accuracy_Image-it1: No fixation or auto-correction data available.', '60-obf-v2': '01d5_PRE_VIS_Snippet_Correction_Accuracy_Image-it1: No fixation or auto-correction data available.', '14-clean-v2': '01d5_PRE_VIS_Snippet_Correction_Accuracy_Image-it1: No fixation or auto-correction data available.', '54-obf-v0': '01d5_PRE_VIS_Snippet_Correction_Accuracy_Image-it1: No fixation or auto-correction data available.', '60-obf-v1': '01d5_PRE_VIS_Snippet_Correction_Accuracy_Image-it1: No fixation or auto-correction data available.'}\n",
      "----------------------------------------------\n",
      "Participant 011\n",
      "(01/04) Retrieve fixation data\n"
     ]
    },
    {
     "data": {
      "application/vnd.jupyter.widget-view+json": {
       "model_id": "69b37e4901e14d42afa04e4b98e53f19",
       "version_major": 2,
       "version_minor": 0
      },
      "text/plain": [
       "  0%|          | 0/72 [00:00<?, ?it/s]"
      ]
     },
     "metadata": {},
     "output_type": "display_data"
    },
    {
     "name": "stdout",
     "output_type": "stream",
     "text": [
      "(02/04) Add constant offset in x direction if given\n"
     ]
    },
    {
     "data": {
      "application/vnd.jupyter.widget-view+json": {
       "model_id": "55a1a60bb11a49378802874080a00733",
       "version_major": 2,
       "version_minor": 0
      },
      "text/plain": [
       "  0%|          | 0/72 [00:00<?, ?it/s]"
      ]
     },
     "metadata": {},
     "output_type": "display_data"
    },
    {
     "name": "stdout",
     "output_type": "stream",
     "text": [
      "(03/04) Generate comparing snippet fixation image for snippet\n"
     ]
    },
    {
     "data": {
      "application/vnd.jupyter.widget-view+json": {
       "model_id": "29a3098906f946169e67038a3e50642b",
       "version_major": 2,
       "version_minor": 0
      },
      "text/plain": [
       "  0%|          | 0/72 [00:00<?, ?it/s]"
      ]
     },
     "metadata": {},
     "output_type": "display_data"
    },
    {
     "name": "stdout",
     "output_type": "stream",
     "text": [
      "(04/04) Adapt exclusion file for snippets without fixation accuracy images\n",
      "{'8-clean-v1': '01d5_PRE_VIS_Snippet_Correction_Accuracy_Image-it1: No fixation or auto-correction data available.'}\n",
      "----------------------------------------------\n",
      "Participant 012\n",
      "(01/04) Retrieve fixation data\n"
     ]
    },
    {
     "data": {
      "application/vnd.jupyter.widget-view+json": {
       "model_id": "3ea6bdab539347179f07277c84ad8412",
       "version_major": 2,
       "version_minor": 0
      },
      "text/plain": [
       "  0%|          | 0/72 [00:00<?, ?it/s]"
      ]
     },
     "metadata": {},
     "output_type": "display_data"
    },
    {
     "name": "stdout",
     "output_type": "stream",
     "text": [
      "(02/04) Add constant offset in x direction if given\n"
     ]
    },
    {
     "data": {
      "application/vnd.jupyter.widget-view+json": {
       "model_id": "5e459fe9cc124b37adac816ab74f0206",
       "version_major": 2,
       "version_minor": 0
      },
      "text/plain": [
       "  0%|          | 0/72 [00:00<?, ?it/s]"
      ]
     },
     "metadata": {},
     "output_type": "display_data"
    },
    {
     "name": "stdout",
     "output_type": "stream",
     "text": [
      "(03/04) Generate comparing snippet fixation image for snippet\n"
     ]
    },
    {
     "data": {
      "application/vnd.jupyter.widget-view+json": {
       "model_id": "897b5ea4b1b6405eafc4eb4555c47ef7",
       "version_major": 2,
       "version_minor": 0
      },
      "text/plain": [
       "  0%|          | 0/72 [00:00<?, ?it/s]"
      ]
     },
     "metadata": {},
     "output_type": "display_data"
    },
    {
     "name": "stdout",
     "output_type": "stream",
     "text": [
      "(04/04) Adapt exclusion file for snippets without fixation accuracy images\n",
      "----------------------------------------------\n",
      "Participant 013\n",
      "(01/04) Retrieve fixation data\n"
     ]
    },
    {
     "data": {
      "application/vnd.jupyter.widget-view+json": {
       "model_id": "20d5c61627724fb7981945fa6f4dc010",
       "version_major": 2,
       "version_minor": 0
      },
      "text/plain": [
       "  0%|          | 0/72 [00:00<?, ?it/s]"
      ]
     },
     "metadata": {},
     "output_type": "display_data"
    },
    {
     "name": "stdout",
     "output_type": "stream",
     "text": [
      "(02/04) Add constant offset in x direction if given\n"
     ]
    },
    {
     "data": {
      "application/vnd.jupyter.widget-view+json": {
       "model_id": "385fca8de49e46b89789568794036c4c",
       "version_major": 2,
       "version_minor": 0
      },
      "text/plain": [
       "  0%|          | 0/72 [00:00<?, ?it/s]"
      ]
     },
     "metadata": {},
     "output_type": "display_data"
    },
    {
     "name": "stdout",
     "output_type": "stream",
     "text": [
      "(03/04) Generate comparing snippet fixation image for snippet\n"
     ]
    },
    {
     "data": {
      "application/vnd.jupyter.widget-view+json": {
       "model_id": "bc17dca74cbe49d4871d10a3467e059f",
       "version_major": 2,
       "version_minor": 0
      },
      "text/plain": [
       "  0%|          | 0/72 [00:00<?, ?it/s]"
      ]
     },
     "metadata": {},
     "output_type": "display_data"
    },
    {
     "name": "stdout",
     "output_type": "stream",
     "text": [
      "(04/04) Adapt exclusion file for snippets without fixation accuracy images\n",
      "{'60-obf-v0': '01d5_PRE_VIS_Snippet_Correction_Accuracy_Image-it1: No fixation or auto-correction data available.', '54-obf-v1': '01d5_PRE_VIS_Snippet_Correction_Accuracy_Image-it1: No fixation or auto-correction data available.', '15-obf-v1': '01d5_PRE_VIS_Snippet_Correction_Accuracy_Image-it1: No fixation or auto-correction data available.', '54-obf-v2': '01d5_PRE_VIS_Snippet_Correction_Accuracy_Image-it1: No fixation or auto-correction data available.'}\n",
      "----------------------------------------------\n",
      "Participant 014\n",
      "(01/04) Retrieve fixation data\n"
     ]
    },
    {
     "data": {
      "application/vnd.jupyter.widget-view+json": {
       "model_id": "38762328c54244698285c2656da4b693",
       "version_major": 2,
       "version_minor": 0
      },
      "text/plain": [
       "  0%|          | 0/72 [00:00<?, ?it/s]"
      ]
     },
     "metadata": {},
     "output_type": "display_data"
    },
    {
     "name": "stdout",
     "output_type": "stream",
     "text": [
      "(02/04) Add constant offset in x direction if given\n"
     ]
    },
    {
     "data": {
      "application/vnd.jupyter.widget-view+json": {
       "model_id": "40748c10cdf9483da487b274fe4a3ade",
       "version_major": 2,
       "version_minor": 0
      },
      "text/plain": [
       "  0%|          | 0/72 [00:00<?, ?it/s]"
      ]
     },
     "metadata": {},
     "output_type": "display_data"
    },
    {
     "name": "stdout",
     "output_type": "stream",
     "text": [
      "(03/04) Generate comparing snippet fixation image for snippet\n"
     ]
    },
    {
     "data": {
      "application/vnd.jupyter.widget-view+json": {
       "model_id": "53079831c299436d92fe1f7ef280684a",
       "version_major": 2,
       "version_minor": 0
      },
      "text/plain": [
       "  0%|          | 0/72 [00:00<?, ?it/s]"
      ]
     },
     "metadata": {},
     "output_type": "display_data"
    },
    {
     "name": "stdout",
     "output_type": "stream",
     "text": [
      "(04/04) Adapt exclusion file for snippets without fixation accuracy images\n",
      "{'62-obf-v0': '01d5_PRE_VIS_Snippet_Correction_Accuracy_Image-it1: No fixation or auto-correction data available.', '54-clean-v1': '01d5_PRE_VIS_Snippet_Correction_Accuracy_Image-it1: No fixation or auto-correction data available.'}\n",
      "----------------------------------------------\n",
      "Participant 015\n",
      "(01/04) Retrieve fixation data\n"
     ]
    },
    {
     "data": {
      "application/vnd.jupyter.widget-view+json": {
       "model_id": "34730a923b0c43ab93bc7d48601cfb36",
       "version_major": 2,
       "version_minor": 0
      },
      "text/plain": [
       "  0%|          | 0/72 [00:00<?, ?it/s]"
      ]
     },
     "metadata": {},
     "output_type": "display_data"
    },
    {
     "name": "stdout",
     "output_type": "stream",
     "text": [
      "(02/04) Add constant offset in x direction if given\n"
     ]
    },
    {
     "data": {
      "application/vnd.jupyter.widget-view+json": {
       "model_id": "a2af0b924d0c49f282c1083093b4432d",
       "version_major": 2,
       "version_minor": 0
      },
      "text/plain": [
       "  0%|          | 0/72 [00:00<?, ?it/s]"
      ]
     },
     "metadata": {},
     "output_type": "display_data"
    },
    {
     "name": "stdout",
     "output_type": "stream",
     "text": [
      "(03/04) Generate comparing snippet fixation image for snippet\n"
     ]
    },
    {
     "data": {
      "application/vnd.jupyter.widget-view+json": {
       "model_id": "ac529a8b209b4cd6a128461516cee59f",
       "version_major": 2,
       "version_minor": 0
      },
      "text/plain": [
       "  0%|          | 0/72 [00:00<?, ?it/s]"
      ]
     },
     "metadata": {},
     "output_type": "display_data"
    },
    {
     "name": "stdout",
     "output_type": "stream",
     "text": [
      "(04/04) Adapt exclusion file for snippets without fixation accuracy images\n",
      "----------------------------------------------\n",
      "Participant 016\n",
      "(01/04) Retrieve fixation data\n"
     ]
    },
    {
     "data": {
      "application/vnd.jupyter.widget-view+json": {
       "model_id": "e80272c2db3b44aca5159295f1f80279",
       "version_major": 2,
       "version_minor": 0
      },
      "text/plain": [
       "  0%|          | 0/72 [00:00<?, ?it/s]"
      ]
     },
     "metadata": {},
     "output_type": "display_data"
    },
    {
     "name": "stdout",
     "output_type": "stream",
     "text": [
      "(02/04) Add constant offset in x direction if given\n"
     ]
    },
    {
     "data": {
      "application/vnd.jupyter.widget-view+json": {
       "model_id": "8a2c1249098548a79ab9f92494d40594",
       "version_major": 2,
       "version_minor": 0
      },
      "text/plain": [
       "  0%|          | 0/72 [00:00<?, ?it/s]"
      ]
     },
     "metadata": {},
     "output_type": "display_data"
    },
    {
     "name": "stdout",
     "output_type": "stream",
     "text": [
      "(03/04) Generate comparing snippet fixation image for snippet\n"
     ]
    },
    {
     "data": {
      "application/vnd.jupyter.widget-view+json": {
       "model_id": "f3956ff579d9492989b2c0df4c9b5104",
       "version_major": 2,
       "version_minor": 0
      },
      "text/plain": [
       "  0%|          | 0/72 [00:00<?, ?it/s]"
      ]
     },
     "metadata": {},
     "output_type": "display_data"
    },
    {
     "name": "stdout",
     "output_type": "stream",
     "text": [
      "(04/04) Adapt exclusion file for snippets without fixation accuracy images\n",
      "----------------------------------------------\n",
      "Participant 017\n",
      "(01/04) Retrieve fixation data\n"
     ]
    },
    {
     "data": {
      "application/vnd.jupyter.widget-view+json": {
       "model_id": "26a89425f8df4b4f97d39e18205f085f",
       "version_major": 2,
       "version_minor": 0
      },
      "text/plain": [
       "  0%|          | 0/72 [00:00<?, ?it/s]"
      ]
     },
     "metadata": {},
     "output_type": "display_data"
    },
    {
     "name": "stdout",
     "output_type": "stream",
     "text": [
      "(02/04) Add constant offset in x direction if given\n"
     ]
    },
    {
     "data": {
      "application/vnd.jupyter.widget-view+json": {
       "model_id": "224d952131824355bcff52c56b98f0c6",
       "version_major": 2,
       "version_minor": 0
      },
      "text/plain": [
       "  0%|          | 0/72 [00:00<?, ?it/s]"
      ]
     },
     "metadata": {},
     "output_type": "display_data"
    },
    {
     "name": "stdout",
     "output_type": "stream",
     "text": [
      "(03/04) Generate comparing snippet fixation image for snippet\n"
     ]
    },
    {
     "data": {
      "application/vnd.jupyter.widget-view+json": {
       "model_id": "6f45a19aceda423dba10eb61303d99cc",
       "version_major": 2,
       "version_minor": 0
      },
      "text/plain": [
       "  0%|          | 0/72 [00:00<?, ?it/s]"
      ]
     },
     "metadata": {},
     "output_type": "display_data"
    },
    {
     "name": "stdout",
     "output_type": "stream",
     "text": [
      "(04/04) Adapt exclusion file for snippets without fixation accuracy images\n",
      "{'49-obf-v1': '01d5_PRE_VIS_Snippet_Correction_Accuracy_Image-it1: No fixation or auto-correction data available.', '8-clean-v1': '01d5_PRE_VIS_Snippet_Correction_Accuracy_Image-it1: No fixation or auto-correction data available.', '13-clean-v1': '01d5_PRE_VIS_Snippet_Correction_Accuracy_Image-it1: No fixation or auto-correction data available.', '17-obf-v1': '01d5_PRE_VIS_Snippet_Correction_Accuracy_Image-it1: No fixation or auto-correction data available.'}\n",
      "----------------------------------------------\n",
      "Participant 018\n",
      "(01/04) Retrieve fixation data\n"
     ]
    },
    {
     "data": {
      "application/vnd.jupyter.widget-view+json": {
       "model_id": "51504fae91424c93b085d7ac7ecb84c4",
       "version_major": 2,
       "version_minor": 0
      },
      "text/plain": [
       "  0%|          | 0/72 [00:00<?, ?it/s]"
      ]
     },
     "metadata": {},
     "output_type": "display_data"
    },
    {
     "name": "stdout",
     "output_type": "stream",
     "text": [
      "(02/04) Add constant offset in x direction if given\n"
     ]
    },
    {
     "data": {
      "application/vnd.jupyter.widget-view+json": {
       "model_id": "3b82b52d26f14b8e9b5a18de6a3ab3db",
       "version_major": 2,
       "version_minor": 0
      },
      "text/plain": [
       "  0%|          | 0/72 [00:00<?, ?it/s]"
      ]
     },
     "metadata": {},
     "output_type": "display_data"
    },
    {
     "name": "stdout",
     "output_type": "stream",
     "text": [
      "(03/04) Generate comparing snippet fixation image for snippet\n"
     ]
    },
    {
     "data": {
      "application/vnd.jupyter.widget-view+json": {
       "model_id": "8965ab701e33462d8c1a23f4daef4da6",
       "version_major": 2,
       "version_minor": 0
      },
      "text/plain": [
       "  0%|          | 0/72 [00:00<?, ?it/s]"
      ]
     },
     "metadata": {},
     "output_type": "display_data"
    },
    {
     "name": "stdout",
     "output_type": "stream",
     "text": [
      "(04/04) Adapt exclusion file for snippets without fixation accuracy images\n",
      "{'7-obf-v1': '01d5_PRE_VIS_Snippet_Correction_Accuracy_Image-it1: No fixation or auto-correction data available.', '12-obf-v1': '01d5_PRE_VIS_Snippet_Correction_Accuracy_Image-it1: No fixation or auto-correction data available.', '8-obf-v0': '01d5_PRE_VIS_Snippet_Correction_Accuracy_Image-it1: No fixation or auto-correction data available.'}\n",
      "----------------------------------------------\n",
      "Participant 019\n",
      "(01/04) Retrieve fixation data\n"
     ]
    },
    {
     "data": {
      "application/vnd.jupyter.widget-view+json": {
       "model_id": "8ed6af135d6344f999c90bd9542d9459",
       "version_major": 2,
       "version_minor": 0
      },
      "text/plain": [
       "  0%|          | 0/72 [00:00<?, ?it/s]"
      ]
     },
     "metadata": {},
     "output_type": "display_data"
    },
    {
     "name": "stdout",
     "output_type": "stream",
     "text": [
      "(02/04) Add constant offset in x direction if given\n"
     ]
    },
    {
     "data": {
      "application/vnd.jupyter.widget-view+json": {
       "model_id": "d88c960665a748ada9c97cd05de5e4bc",
       "version_major": 2,
       "version_minor": 0
      },
      "text/plain": [
       "  0%|          | 0/72 [00:00<?, ?it/s]"
      ]
     },
     "metadata": {},
     "output_type": "display_data"
    },
    {
     "name": "stdout",
     "output_type": "stream",
     "text": [
      "(03/04) Generate comparing snippet fixation image for snippet\n"
     ]
    },
    {
     "data": {
      "application/vnd.jupyter.widget-view+json": {
       "model_id": "50be3b01dcef483dae0161d1455466e8",
       "version_major": 2,
       "version_minor": 0
      },
      "text/plain": [
       "  0%|          | 0/72 [00:00<?, ?it/s]"
      ]
     },
     "metadata": {},
     "output_type": "display_data"
    },
    {
     "name": "stdout",
     "output_type": "stream",
     "text": [
      "(04/04) Adapt exclusion file for snippets without fixation accuracy images\n",
      "{'-clean-v1': '01d5_PRE_VIS_Snippet_Correction_Accuracy_Image-it1: No fixation or auto-correction data available.', '62-obf-v1': '01d5_PRE_VIS_Snippet_Correction_Accuracy_Image-it1: No fixation or auto-correction data available.', '13-obf-v1': '01d5_PRE_VIS_Snippet_Correction_Accuracy_Image-it1: No fixation or auto-correction data available.', '49-clean-v1': '01d5_PRE_VIS_Snippet_Correction_Accuracy_Image-it1: No fixation or auto-correction data available.', '54-clean-v1': '01d5_PRE_VIS_Snippet_Correction_Accuracy_Image-it1: No fixation or auto-correction data available.', '6-obf-v2': '01d5_PRE_VIS_Snippet_Correction_Accuracy_Image-it1: No fixation or auto-correction data available.'}\n",
      "----------------------------------------------\n",
      "Participant 020\n",
      "(01/04) Retrieve fixation data\n"
     ]
    },
    {
     "data": {
      "application/vnd.jupyter.widget-view+json": {
       "model_id": "40b9f26aa4d247b38b949e5a13e49c35",
       "version_major": 2,
       "version_minor": 0
      },
      "text/plain": [
       "  0%|          | 0/72 [00:00<?, ?it/s]"
      ]
     },
     "metadata": {},
     "output_type": "display_data"
    },
    {
     "name": "stdout",
     "output_type": "stream",
     "text": [
      "(02/04) Add constant offset in x direction if given\n"
     ]
    },
    {
     "data": {
      "application/vnd.jupyter.widget-view+json": {
       "model_id": "c6641345022f49c493d01bf10c19abb8",
       "version_major": 2,
       "version_minor": 0
      },
      "text/plain": [
       "  0%|          | 0/72 [00:00<?, ?it/s]"
      ]
     },
     "metadata": {},
     "output_type": "display_data"
    },
    {
     "name": "stdout",
     "output_type": "stream",
     "text": [
      "(03/04) Generate comparing snippet fixation image for snippet\n"
     ]
    },
    {
     "data": {
      "application/vnd.jupyter.widget-view+json": {
       "model_id": "9d924f8d715a45b09943edec8445e571",
       "version_major": 2,
       "version_minor": 0
      },
      "text/plain": [
       "  0%|          | 0/72 [00:00<?, ?it/s]"
      ]
     },
     "metadata": {},
     "output_type": "display_data"
    },
    {
     "name": "stdout",
     "output_type": "stream",
     "text": [
      "(04/04) Adapt exclusion file for snippets without fixation accuracy images\n",
      "----------------------------------------------\n",
      "Participant 021\n",
      "(01/04) Retrieve fixation data\n"
     ]
    },
    {
     "data": {
      "application/vnd.jupyter.widget-view+json": {
       "model_id": "4e4a6393bbf84dac81789e93cab0c010",
       "version_major": 2,
       "version_minor": 0
      },
      "text/plain": [
       "  0%|          | 0/72 [00:00<?, ?it/s]"
      ]
     },
     "metadata": {},
     "output_type": "display_data"
    },
    {
     "name": "stdout",
     "output_type": "stream",
     "text": [
      "(02/04) Add constant offset in x direction if given\n"
     ]
    },
    {
     "data": {
      "application/vnd.jupyter.widget-view+json": {
       "model_id": "a37214deee33449d99a64a36ffb777d6",
       "version_major": 2,
       "version_minor": 0
      },
      "text/plain": [
       "  0%|          | 0/72 [00:00<?, ?it/s]"
      ]
     },
     "metadata": {},
     "output_type": "display_data"
    },
    {
     "name": "stdout",
     "output_type": "stream",
     "text": [
      "(03/04) Generate comparing snippet fixation image for snippet\n"
     ]
    },
    {
     "data": {
      "application/vnd.jupyter.widget-view+json": {
       "model_id": "a70f308d73a649e6ba411fb4580b6ca7",
       "version_major": 2,
       "version_minor": 0
      },
      "text/plain": [
       "  0%|          | 0/72 [00:00<?, ?it/s]"
      ]
     },
     "metadata": {},
     "output_type": "display_data"
    },
    {
     "name": "stdout",
     "output_type": "stream",
     "text": [
      "(04/04) Adapt exclusion file for snippets without fixation accuracy images\n",
      "----------------------------------------------\n",
      "Participant 022\n",
      "(01/04) Retrieve fixation data\n"
     ]
    },
    {
     "data": {
      "application/vnd.jupyter.widget-view+json": {
       "model_id": "add4f707e4b54049b7d3919494e5f158",
       "version_major": 2,
       "version_minor": 0
      },
      "text/plain": [
       "  0%|          | 0/72 [00:00<?, ?it/s]"
      ]
     },
     "metadata": {},
     "output_type": "display_data"
    },
    {
     "name": "stdout",
     "output_type": "stream",
     "text": [
      "(02/04) Add constant offset in x direction if given\n"
     ]
    },
    {
     "data": {
      "application/vnd.jupyter.widget-view+json": {
       "model_id": "06eb3c603268445390a1f406d313c6da",
       "version_major": 2,
       "version_minor": 0
      },
      "text/plain": [
       "  0%|          | 0/72 [00:00<?, ?it/s]"
      ]
     },
     "metadata": {},
     "output_type": "display_data"
    },
    {
     "name": "stdout",
     "output_type": "stream",
     "text": [
      "(03/04) Generate comparing snippet fixation image for snippet\n"
     ]
    },
    {
     "data": {
      "application/vnd.jupyter.widget-view+json": {
       "model_id": "f0fb45d14fd041eb9fc87fa1e4b015f3",
       "version_major": 2,
       "version_minor": 0
      },
      "text/plain": [
       "  0%|          | 0/72 [00:00<?, ?it/s]"
      ]
     },
     "metadata": {},
     "output_type": "display_data"
    }
   ],
   "source": [
    "# Iterate over all participants\n",
    "for participant in tqdm(folders):\n",
    "    print('----------------------------------------------')\n",
    "    print(PARTICIPANT, participant)\n",
    "    if not snippets[participant]:\n",
    "        print('no snippets to (re-)work found.')\n",
    "        continue\n",
    "\n",
    "    print('(01/04) Retrieve fixation data')\n",
    "    participant_snippet_fixations = {}\n",
    "    not_available = set()\n",
    "    for snippet in tqdm(snippets[participant]):\n",
    "        snippet_fixations = {}\n",
    "        for algo in FIXATION_CORRECTION_ALGORITHMS:\n",
    "            # select outliers removed version only if for original fixations\n",
    "            snippet_fixations_path = get_fixations_path(participant, snippet, modified_version=algo,\n",
    "                                                        no_outliers_if_exists=(algo == FIXATION_CORRECTION_ALGORITHM_ORIGINAL))\n",
    "            if snippet_fixations_path.exists():\n",
    "                snippet_fixations[algo] = pd.read_csv(\n",
    "                    snippet_fixations_path, index_col=False, sep=SEPARATOR, dtype={PARTICIPANT: str})\n",
    "        participant_snippet_fixations[snippet] = snippet_fixations\n",
    "\n",
    "    print('(02/04) Add constant offset in x direction if given')\n",
    "    # calculate participant / version offset into data and create views based on that\n",
    "    snippets_with_offset = {}\n",
    "    if participant in x_offsets:\n",
    "        for snippet in tqdm(participant_snippet_fixations):\n",
    "            x_offset = get_snippet_x_offset(x_offsets[participant], snippet)\n",
    "            if x_offset:\n",
    "                # add offset to participant and corrected fixations\n",
    "                for fixation_data in participant_snippet_fixations[snippet].values():\n",
    "                    fixation_data[FIXATION_COLUMN_X] = fixation_data[FIXATION_COLUMN_X]+x_offset\n",
    "                snippets_with_offset[snippet] = x_offset\n",
    "\n",
    "    print('(03/04) Generate comparing snippet fixation image for snippet')\n",
    "    excluded_snippets = {}\n",
    "    for snippet in tqdm(participant_snippet_fixations):\n",
    "        if not participant_snippet_fixations[snippet]:\n",
    "            excluded_snippets[snippet] = f'''01d5_PRE_VIS_Snippet_Correction_Accuracy_Image-it{\n",
    "                current_fixation_correction_iteration()}: No fixation or auto-correction data available.'''\n",
    "            continue\n",
    "        success_snippet = create_accuracy_image(\n",
    "            participant, snippet, participant_snippet_fixations[snippet], snippets_with_offset[snippet] if snippet in snippets_with_offset else 0)\n",
    "        if not success_snippet:\n",
    "            excluded_snippets[snippet] = f'''01d5_PRE_VIS_Snippet_Correction_Accuracy_Image-it{\n",
    "                current_fixation_correction_iteration()}: Auto-corrected image for snippet fixations could not be created.'''\n",
    "\n",
    "    print('(04/04) Adapt exclusion file for snippets without fixation accuracy images')\n",
    "    if excluded_snippets:\n",
    "        print(excluded_snippets)\n",
    "        update_exclusions(participant, SNIPPET, VISUAL, excluded_snippets)"
   ]
  },
  {
   "cell_type": "markdown",
   "metadata": {},
   "source": [
    "### Create evaluation form for this round's manual evaluation"
   ]
  },
  {
   "cell_type": "code",
   "execution_count": null,
   "metadata": {},
   "outputs": [
    {
     "data": {
      "application/vnd.jupyter.widget-view+json": {
       "model_id": "102e8ec20bbe4c408308d8ed80ac900d",
       "version_major": 2,
       "version_minor": 0
      },
      "text/plain": [
       "  0%|          | 0/24 [00:00<?, ?it/s]"
      ]
     },
     "metadata": {},
     "output_type": "display_data"
    },
    {
     "name": "stdout",
     "output_type": "stream",
     "text": [
      "----------------------------------------------\n",
      "Participant 003\n",
      "(01/02) Retrieve fixation data\n"
     ]
    },
    {
     "data": {
      "application/vnd.jupyter.widget-view+json": {
       "model_id": "5ef3c99891d74f828cbc4a41992a7c34",
       "version_major": 2,
       "version_minor": 0
      },
      "text/plain": [
       "  0%|          | 0/72 [00:00<?, ?it/s]"
      ]
     },
     "metadata": {},
     "output_type": "display_data"
    },
    {
     "name": "stdout",
     "output_type": "stream",
     "text": [
      "(02/02) Prepare data for manual accuracy evaluation file\n",
      "----------------------------------------------\n",
      "Participant 004\n",
      "(01/02) Retrieve fixation data\n"
     ]
    },
    {
     "data": {
      "application/vnd.jupyter.widget-view+json": {
       "model_id": "d767d23908b64f05ab7b6c568899082a",
       "version_major": 2,
       "version_minor": 0
      },
      "text/plain": [
       "  0%|          | 0/72 [00:00<?, ?it/s]"
      ]
     },
     "metadata": {},
     "output_type": "display_data"
    },
    {
     "name": "stdout",
     "output_type": "stream",
     "text": [
      "(02/02) Prepare data for manual accuracy evaluation file\n",
      "----------------------------------------------\n",
      "Participant 005\n",
      "(01/02) Retrieve fixation data\n"
     ]
    },
    {
     "data": {
      "application/vnd.jupyter.widget-view+json": {
       "model_id": "ae46b4f9bc10430ca5acf2662c867d89",
       "version_major": 2,
       "version_minor": 0
      },
      "text/plain": [
       "  0%|          | 0/72 [00:00<?, ?it/s]"
      ]
     },
     "metadata": {},
     "output_type": "display_data"
    },
    {
     "name": "stdout",
     "output_type": "stream",
     "text": [
      "(02/02) Prepare data for manual accuracy evaluation file\n",
      "----------------------------------------------\n",
      "Participant 007\n",
      "(01/02) Retrieve fixation data\n"
     ]
    },
    {
     "data": {
      "application/vnd.jupyter.widget-view+json": {
       "model_id": "64bb4063bfd44adc9eaf2f773b284438",
       "version_major": 2,
       "version_minor": 0
      },
      "text/plain": [
       "  0%|          | 0/72 [00:00<?, ?it/s]"
      ]
     },
     "metadata": {},
     "output_type": "display_data"
    },
    {
     "name": "stdout",
     "output_type": "stream",
     "text": [
      "(02/02) Prepare data for manual accuracy evaluation file\n",
      "----------------------------------------------\n",
      "Participant 008\n",
      "(01/02) Retrieve fixation data\n"
     ]
    },
    {
     "data": {
      "application/vnd.jupyter.widget-view+json": {
       "model_id": "c9ba8669fc4a4981ad80bc0eb2d7a43a",
       "version_major": 2,
       "version_minor": 0
      },
      "text/plain": [
       "  0%|          | 0/72 [00:00<?, ?it/s]"
      ]
     },
     "metadata": {},
     "output_type": "display_data"
    },
    {
     "name": "stdout",
     "output_type": "stream",
     "text": [
      "(02/02) Prepare data for manual accuracy evaluation file\n",
      "----------------------------------------------\n",
      "Participant 009\n",
      "(01/02) Retrieve fixation data\n"
     ]
    },
    {
     "data": {
      "application/vnd.jupyter.widget-view+json": {
       "model_id": "c6070c1c97ff439bb88cc98a7755434b",
       "version_major": 2,
       "version_minor": 0
      },
      "text/plain": [
       "  0%|          | 0/72 [00:00<?, ?it/s]"
      ]
     },
     "metadata": {},
     "output_type": "display_data"
    },
    {
     "name": "stdout",
     "output_type": "stream",
     "text": [
      "(02/02) Prepare data for manual accuracy evaluation file\n",
      "----------------------------------------------\n",
      "Participant 010\n",
      "(01/02) Retrieve fixation data\n"
     ]
    },
    {
     "data": {
      "application/vnd.jupyter.widget-view+json": {
       "model_id": "ec491fcc849f494292a0c3bdc7e636c0",
       "version_major": 2,
       "version_minor": 0
      },
      "text/plain": [
       "  0%|          | 0/72 [00:00<?, ?it/s]"
      ]
     },
     "metadata": {},
     "output_type": "display_data"
    },
    {
     "name": "stdout",
     "output_type": "stream",
     "text": [
      "(02/02) Prepare data for manual accuracy evaluation file\n",
      "----------------------------------------------\n",
      "Participant 011\n",
      "(01/02) Retrieve fixation data\n"
     ]
    },
    {
     "data": {
      "application/vnd.jupyter.widget-view+json": {
       "model_id": "60d4afcf38514a42964ef4a0de049014",
       "version_major": 2,
       "version_minor": 0
      },
      "text/plain": [
       "  0%|          | 0/72 [00:00<?, ?it/s]"
      ]
     },
     "metadata": {},
     "output_type": "display_data"
    },
    {
     "name": "stdout",
     "output_type": "stream",
     "text": [
      "(02/02) Prepare data for manual accuracy evaluation file\n",
      "----------------------------------------------\n",
      "Participant 012\n",
      "(01/02) Retrieve fixation data\n"
     ]
    },
    {
     "data": {
      "application/vnd.jupyter.widget-view+json": {
       "model_id": "f82d4d29366041598b266487faca7908",
       "version_major": 2,
       "version_minor": 0
      },
      "text/plain": [
       "  0%|          | 0/72 [00:00<?, ?it/s]"
      ]
     },
     "metadata": {},
     "output_type": "display_data"
    },
    {
     "name": "stdout",
     "output_type": "stream",
     "text": [
      "(02/02) Prepare data for manual accuracy evaluation file\n",
      "----------------------------------------------\n",
      "Participant 013\n",
      "(01/02) Retrieve fixation data\n"
     ]
    },
    {
     "data": {
      "application/vnd.jupyter.widget-view+json": {
       "model_id": "56963ad62456477a9b02006d41a2c1e1",
       "version_major": 2,
       "version_minor": 0
      },
      "text/plain": [
       "  0%|          | 0/72 [00:00<?, ?it/s]"
      ]
     },
     "metadata": {},
     "output_type": "display_data"
    },
    {
     "name": "stdout",
     "output_type": "stream",
     "text": [
      "(02/02) Prepare data for manual accuracy evaluation file\n",
      "----------------------------------------------\n",
      "Participant 014\n",
      "(01/02) Retrieve fixation data\n"
     ]
    },
    {
     "data": {
      "application/vnd.jupyter.widget-view+json": {
       "model_id": "5fef63a8e8a9423fa5ab6b96a57b2cd0",
       "version_major": 2,
       "version_minor": 0
      },
      "text/plain": [
       "  0%|          | 0/72 [00:00<?, ?it/s]"
      ]
     },
     "metadata": {},
     "output_type": "display_data"
    },
    {
     "name": "stdout",
     "output_type": "stream",
     "text": [
      "(02/02) Prepare data for manual accuracy evaluation file\n",
      "----------------------------------------------\n",
      "Participant 015\n",
      "(01/02) Retrieve fixation data\n"
     ]
    },
    {
     "data": {
      "application/vnd.jupyter.widget-view+json": {
       "model_id": "733d8cfe690f499b8837a7032ad610b9",
       "version_major": 2,
       "version_minor": 0
      },
      "text/plain": [
       "  0%|          | 0/72 [00:00<?, ?it/s]"
      ]
     },
     "metadata": {},
     "output_type": "display_data"
    },
    {
     "name": "stdout",
     "output_type": "stream",
     "text": [
      "(02/02) Prepare data for manual accuracy evaluation file\n",
      "----------------------------------------------\n",
      "Participant 016\n",
      "(01/02) Retrieve fixation data\n"
     ]
    },
    {
     "data": {
      "application/vnd.jupyter.widget-view+json": {
       "model_id": "862eb546bdb24ea88e57ec2ad4a35502",
       "version_major": 2,
       "version_minor": 0
      },
      "text/plain": [
       "  0%|          | 0/72 [00:00<?, ?it/s]"
      ]
     },
     "metadata": {},
     "output_type": "display_data"
    },
    {
     "name": "stdout",
     "output_type": "stream",
     "text": [
      "(02/02) Prepare data for manual accuracy evaluation file\n",
      "----------------------------------------------\n",
      "Participant 017\n",
      "(01/02) Retrieve fixation data\n"
     ]
    },
    {
     "data": {
      "application/vnd.jupyter.widget-view+json": {
       "model_id": "d746ade54e664527b5506a3842825341",
       "version_major": 2,
       "version_minor": 0
      },
      "text/plain": [
       "  0%|          | 0/72 [00:00<?, ?it/s]"
      ]
     },
     "metadata": {},
     "output_type": "display_data"
    },
    {
     "name": "stdout",
     "output_type": "stream",
     "text": [
      "(02/02) Prepare data for manual accuracy evaluation file\n",
      "----------------------------------------------\n",
      "Participant 018\n",
      "(01/02) Retrieve fixation data\n"
     ]
    },
    {
     "data": {
      "application/vnd.jupyter.widget-view+json": {
       "model_id": "d39ad03bd45c49f48d6200f4612ebbac",
       "version_major": 2,
       "version_minor": 0
      },
      "text/plain": [
       "  0%|          | 0/72 [00:00<?, ?it/s]"
      ]
     },
     "metadata": {},
     "output_type": "display_data"
    },
    {
     "name": "stdout",
     "output_type": "stream",
     "text": [
      "(02/02) Prepare data for manual accuracy evaluation file\n",
      "----------------------------------------------\n",
      "Participant 019\n",
      "(01/02) Retrieve fixation data\n"
     ]
    },
    {
     "data": {
      "application/vnd.jupyter.widget-view+json": {
       "model_id": "d46ad0ed0f0c4df28bcafc1bdcd52b4c",
       "version_major": 2,
       "version_minor": 0
      },
      "text/plain": [
       "  0%|          | 0/72 [00:00<?, ?it/s]"
      ]
     },
     "metadata": {},
     "output_type": "display_data"
    },
    {
     "name": "stdout",
     "output_type": "stream",
     "text": [
      "(02/02) Prepare data for manual accuracy evaluation file\n",
      "----------------------------------------------\n",
      "Participant 020\n",
      "(01/02) Retrieve fixation data\n"
     ]
    },
    {
     "data": {
      "application/vnd.jupyter.widget-view+json": {
       "model_id": "5422b82e658a4aeda9d4ddd7a804e6b9",
       "version_major": 2,
       "version_minor": 0
      },
      "text/plain": [
       "  0%|          | 0/72 [00:00<?, ?it/s]"
      ]
     },
     "metadata": {},
     "output_type": "display_data"
    },
    {
     "name": "stdout",
     "output_type": "stream",
     "text": [
      "(02/02) Prepare data for manual accuracy evaluation file\n",
      "----------------------------------------------\n",
      "Participant 021\n",
      "(01/02) Retrieve fixation data\n"
     ]
    },
    {
     "data": {
      "application/vnd.jupyter.widget-view+json": {
       "model_id": "70c67cca2a064d9b91d56500778bdae9",
       "version_major": 2,
       "version_minor": 0
      },
      "text/plain": [
       "  0%|          | 0/72 [00:00<?, ?it/s]"
      ]
     },
     "metadata": {},
     "output_type": "display_data"
    },
    {
     "name": "stdout",
     "output_type": "stream",
     "text": [
      "(02/02) Prepare data for manual accuracy evaluation file\n",
      "----------------------------------------------\n",
      "Participant 022\n",
      "(01/02) Retrieve fixation data\n"
     ]
    },
    {
     "data": {
      "application/vnd.jupyter.widget-view+json": {
       "model_id": "2798b1f5ac994b119c32e69cf8e6f1be",
       "version_major": 2,
       "version_minor": 0
      },
      "text/plain": [
       "  0%|          | 0/72 [00:00<?, ?it/s]"
      ]
     },
     "metadata": {},
     "output_type": "display_data"
    },
    {
     "name": "stdout",
     "output_type": "stream",
     "text": [
      "(02/02) Prepare data for manual accuracy evaluation file\n",
      "----------------------------------------------\n",
      "Participant 023\n",
      "(01/02) Retrieve fixation data\n"
     ]
    },
    {
     "data": {
      "application/vnd.jupyter.widget-view+json": {
       "model_id": "5ebd39f919e3420283d2b5b0a77afe4c",
       "version_major": 2,
       "version_minor": 0
      },
      "text/plain": [
       "  0%|          | 0/72 [00:00<?, ?it/s]"
      ]
     },
     "metadata": {},
     "output_type": "display_data"
    },
    {
     "name": "stdout",
     "output_type": "stream",
     "text": [
      "(02/02) Prepare data for manual accuracy evaluation file\n",
      "----------------------------------------------\n",
      "Participant 024\n",
      "(01/02) Retrieve fixation data\n"
     ]
    },
    {
     "data": {
      "application/vnd.jupyter.widget-view+json": {
       "model_id": "f0d25a6ebd694a729029b2ebc6b70e0d",
       "version_major": 2,
       "version_minor": 0
      },
      "text/plain": [
       "  0%|          | 0/72 [00:00<?, ?it/s]"
      ]
     },
     "metadata": {},
     "output_type": "display_data"
    },
    {
     "name": "stdout",
     "output_type": "stream",
     "text": [
      "(02/02) Prepare data for manual accuracy evaluation file\n",
      "----------------------------------------------\n",
      "Participant 101\n",
      "(01/02) Retrieve fixation data\n"
     ]
    },
    {
     "data": {
      "application/vnd.jupyter.widget-view+json": {
       "model_id": "534102b978364e3483027976a0e98ce4",
       "version_major": 2,
       "version_minor": 0
      },
      "text/plain": [
       "  0%|          | 0/72 [00:00<?, ?it/s]"
      ]
     },
     "metadata": {},
     "output_type": "display_data"
    },
    {
     "name": "stdout",
     "output_type": "stream",
     "text": [
      "(02/02) Prepare data for manual accuracy evaluation file\n",
      "----------------------------------------------\n",
      "Participant 102\n",
      "(01/02) Retrieve fixation data\n"
     ]
    },
    {
     "data": {
      "application/vnd.jupyter.widget-view+json": {
       "model_id": "6121c9e73db94f2da470496019a5e3e9",
       "version_major": 2,
       "version_minor": 0
      },
      "text/plain": [
       "  0%|          | 0/72 [00:00<?, ?it/s]"
      ]
     },
     "metadata": {},
     "output_type": "display_data"
    },
    {
     "name": "stdout",
     "output_type": "stream",
     "text": [
      "(02/02) Prepare data for manual accuracy evaluation file\n",
      "----------------------------------------------\n",
      "Participant 106\n",
      "(01/02) Retrieve fixation data\n"
     ]
    },
    {
     "data": {
      "application/vnd.jupyter.widget-view+json": {
       "model_id": "27e64ea0f421475f85dbcd5e421fdbf4",
       "version_major": 2,
       "version_minor": 0
      },
      "text/plain": [
       "  0%|          | 0/72 [00:00<?, ?it/s]"
      ]
     },
     "metadata": {},
     "output_type": "display_data"
    },
    {
     "name": "stdout",
     "output_type": "stream",
     "text": [
      "(02/02) Prepare data for manual accuracy evaluation file\n"
     ]
    }
   ],
   "source": [
    "# Iterate over all participants\n",
    "for participant in tqdm(folders):\n",
    "    print('----------------------------------------------')\n",
    "    print(PARTICIPANT, participant)\n",
    "    \n",
    "    print('(01/02) Retrieve fixation data')\n",
    "    participant_snippet_fixations = {}\n",
    "    not_available = set()\n",
    "    for snippet in tqdm(snippets[participant]):\n",
    "        snippet_fixations = {}\n",
    "        for algo in FIXATION_CORRECTION_ALGORITHMS:\n",
    "            # select outliers removed version only if for original fixations\n",
    "            snippet_fixations_path = get_fixations_path(participant, snippet, modified_version=algo,\n",
    "                                                        no_outliers_if_exists=(algo == FIXATION_CORRECTION_ALGORITHM_ORIGINAL))\n",
    "            if snippet_fixations_path.exists():\n",
    "                snippet_fixations[algo] = SNIPPET\n",
    "        participant_snippet_fixations[snippet] = snippet_fixations\n",
    "\n",
    "    print('(02/02) Prepare data for manual accuracy evaluation file')\n",
    "    manual_evaluation = create_manual_accuracy_evaluation(\n",
    "        participant_snippet_fixations)\n",
    "    if current_fixation_correction_iteration() > 1:\n",
    "        # add manual evaluation from previous iteration\n",
    "        previous_manual_evaluation = pd.read_csv(\n",
    "            manual_evaluation_paths[participant], sep=SEPARATOR, index_col=False, dtype={PARTICIPANT: str})\n",
    "        new_manual_evaluation = manual_evaluation\n",
    "        manual_evaluation = pd.concat(\n",
    "            [previous_manual_evaluation, new_manual_evaluation]).drop_duplicates([SNIPPET], keep='last')\n",
    "    manual_evaluation.to_csv(get_manual_accuracy_evaluation_path(\n",
    "        participant, performed=not snippets[participant]), sep=SEPARATOR, index=False)"
   ]
  }
 ],
 "metadata": {
  "kernelspec": {
   "display_name": "Python 3",
   "language": "python",
   "name": "python3"
  },
  "language_info": {
   "codemirror_mode": {
    "name": "ipython",
    "version": 3
   },
   "file_extension": ".py",
   "mimetype": "text/x-python",
   "name": "python",
   "nbconvert_exporter": "python",
   "pygments_lexer": "ipython3",
   "version": "3.11.5"
  }
 },
 "nbformat": 4,
 "nbformat_minor": 4
}
