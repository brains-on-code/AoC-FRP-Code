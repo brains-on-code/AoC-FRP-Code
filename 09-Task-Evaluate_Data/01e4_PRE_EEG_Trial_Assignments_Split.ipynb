{
 "cells": [
  {
   "cell_type": "markdown",
   "id": "7c9a9ba0-1fa4-467c-be6d-de2c92c50a30",
   "metadata": {},
   "source": [
    "# EEG Trial assignment\n",
    "Status: Implemented\n",
    " -- Fully automatized"
   ]
  },
  {
   "cell_type": "code",
   "execution_count": 1,
   "id": "cace8cd4",
   "metadata": {},
   "outputs": [],
   "source": [
    "from tqdm.notebook import tqdm\n",
    "from utils.utils import *"
   ]
  },
  {
   "cell_type": "code",
   "execution_count": 2,
   "id": "eaf57434",
   "metadata": {},
   "outputs": [],
   "source": [
    "# get all files from participants\n",
    "folders = get_participant_folder_per_participant()\n",
    "eeg_file_groups = get_eeg_files_per_participant()\n",
    "assert (set(folders.keys()) == set(eeg_file_groups.keys()))"
   ]
  },
  {
   "cell_type": "markdown",
   "id": "56717332",
   "metadata": {},
   "source": [
    "### Extract trial epochs\n",
    "* Check trial assignment \n",
    "* extract trial segments\n",
    "* check for artifacts via voltage violation rules"
   ]
  },
  {
   "cell_type": "code",
   "execution_count": 3,
   "id": "4d0303f9",
   "metadata": {},
   "outputs": [
    {
     "data": {
      "application/vnd.jupyter.widget-view+json": {
       "model_id": "eb3b4291281d45488aa45c09b58f8341",
       "version_major": 2,
       "version_minor": 0
      },
      "text/plain": [
       "  0%|          | 0/24 [00:00<?, ?it/s]"
      ]
     },
     "metadata": {},
     "output_type": "display_data"
    },
    {
     "name": "stdout",
     "output_type": "stream",
     "text": [
      "----------------------------------------------\n",
      "Participant 003\n",
      "(01/09) Load trial annotations\n",
      "(02/09) Load EEG\n",
      "Extracting parameters from ..\\08-Data-Trial_Recordings\\processed\\003\\EEG\\EEG_cropped.vhdr...\n",
      "Setting channel info structure...\n"
     ]
    },
    {
     "name": "stdout",
     "output_type": "stream",
     "text": [
      "(03/09) Check trial annotations\n",
      "(04/09) Use trial annotations to sync with behavioral data and filter out all unnecessary annotations, rename to snippet name\n",
      "(05/09) Create corresponding dataframe to behavioral data for EEG timestamps\n",
      "(06/09) Exclude snippets without EEG data\n",
      "(07/09) Split EEG data into segments for snippets\n",
      "Reading 0 ... 1209535  =      0.000 ...  2419.070 secs...\n",
      "(08/09) Check voltage in segments\n",
      "\tSnippet violations 3 of 72 4.17 %\n",
      "(09/09) Save EEG data\n"
     ]
    },
    {
     "data": {
      "application/vnd.jupyter.widget-view+json": {
       "model_id": "0dc8e6368b3949fbb2a961ea6db5c50b",
       "version_major": 2,
       "version_minor": 0
      },
      "text/plain": [
       "  0%|          | 0/72 [00:00<?, ?it/s]"
      ]
     },
     "metadata": {},
     "output_type": "display_data"
    },
    {
     "name": "stderr",
     "output_type": "stream",
     "text": [
      "Python\\Python311\\site-packages\\pybv\\io.py:690: UserWarning: Encountered unsupported non-voltage units: n/a\n",
      "Note that the BrainVision format specification supports only µV.\n",
      "  warn(msg)\n"
     ]
    },
    {
     "name": "stdout",
     "output_type": "stream",
     "text": [
      "----------------------------------------------\n",
      "Participant 004\n",
      "(01/09) Load trial annotations\n",
      "(02/09) Load EEG\n",
      "Extracting parameters from ..\\08-Data-Trial_Recordings\\processed\\004\\EEG\\EEG_cropped.vhdr...\n",
      "Setting channel info structure...\n",
      "(03/09) Check trial annotations\n",
      "(04/09) Use trial annotations to sync with behavioral data and filter out all unnecessary annotations, rename to snippet name\n",
      "\tThese rows will be deleted (ignored) due to nas in the rows\n",
      "     Snippet        Time    Stimulus_id  HDF_index Participant onset   \n",
      "0  30-obf-v0  112.316666  Stimulus/S  3          1         004   NaN  \\\n",
      "1  30-obf-v0  117.310188  Stimulus/S 12          1         004   NaN   \n",
      "2  30-obf-v0  134.520138  Stimulus/S  4          1         004   NaN   \n",
      "\n",
      "   duration description  onset_float  \n",
      "0       NaN         NaN          NaN  \n",
      "1       NaN         NaN          NaN  \n",
      "2       NaN         NaN          NaN  \n",
      "(05/09) Create corresponding dataframe to behavioral data for EEG timestamps\n",
      "(06/09) Exclude snippets without EEG data\n",
      "Some snippets given in behavioral data do not have an eeg counterpart. ['30-obf-v0']\n",
      "(07/09) Split EEG data into segments for snippets\n",
      "Reading 0 ... 1392943  =      0.000 ...  2785.886 secs...\n",
      "(08/09) Check voltage in segments\n",
      "\tSnippet violations 11 of 71 15.49 %\n",
      "(09/09) Save EEG data\n"
     ]
    },
    {
     "data": {
      "application/vnd.jupyter.widget-view+json": {
       "model_id": "27cc64fe754144cf8f6adc3b3e9d38a1",
       "version_major": 2,
       "version_minor": 0
      },
      "text/plain": [
       "  0%|          | 0/71 [00:00<?, ?it/s]"
      ]
     },
     "metadata": {},
     "output_type": "display_data"
    },
    {
     "name": "stderr",
     "output_type": "stream",
     "text": [
      "Python\\Python311\\site-packages\\pybv\\io.py:690: UserWarning: Encountered unsupported non-voltage units: n/a\n",
      "Note that the BrainVision format specification supports only µV.\n",
      "  warn(msg)\n"
     ]
    },
    {
     "name": "stdout",
     "output_type": "stream",
     "text": [
      "----------------------------------------------\n",
      "Participant 005\n",
      "(01/09) Load trial annotations\n",
      "(02/09) Load EEG\n",
      "Extracting parameters from ..\\08-Data-Trial_Recordings\\processed\\005\\EEG\\EEG_cropped.vhdr...\n",
      "Setting channel info structure...\n",
      "(03/09) Check trial annotations\n",
      "(04/09) Use trial annotations to sync with behavioral data and filter out all unnecessary annotations, rename to snippet name\n",
      "(05/09) Create corresponding dataframe to behavioral data for EEG timestamps\n",
      "(06/09) Exclude snippets without EEG data\n",
      "(07/09) Split EEG data into segments for snippets\n",
      "Reading 0 ... 1126726  =      0.000 ...  2253.452 secs...\n",
      "(08/09) Check voltage in segments\n",
      "\tSnippet violations 7 of 72 9.72 %\n",
      "(09/09) Save EEG data\n"
     ]
    },
    {
     "data": {
      "application/vnd.jupyter.widget-view+json": {
       "model_id": "868070eb06584cf39d224334af639719",
       "version_major": 2,
       "version_minor": 0
      },
      "text/plain": [
       "  0%|          | 0/72 [00:00<?, ?it/s]"
      ]
     },
     "metadata": {},
     "output_type": "display_data"
    },
    {
     "name": "stderr",
     "output_type": "stream",
     "text": [
      "Python\\Python311\\site-packages\\pybv\\io.py:690: UserWarning: Encountered unsupported non-voltage units: n/a\n",
      "Note that the BrainVision format specification supports only µV.\n",
      "  warn(msg)\n"
     ]
    },
    {
     "name": "stdout",
     "output_type": "stream",
     "text": [
      "----------------------------------------------\n",
      "Participant 007\n",
      "(01/09) Load trial annotations\n",
      "(02/09) Load EEG\n",
      "Extracting parameters from ..\\08-Data-Trial_Recordings\\processed\\007\\EEG\\EEG_cropped.vhdr...\n",
      "Setting channel info structure...\n",
      "(03/09) Check trial annotations\n",
      "(04/09) Use trial annotations to sync with behavioral data and filter out all unnecessary annotations, rename to snippet name\n",
      "(05/09) Create corresponding dataframe to behavioral data for EEG timestamps\n",
      "(06/09) Exclude snippets without EEG data\n",
      "(07/09) Split EEG data into segments for snippets\n",
      "Reading 0 ... 1500880  =      0.000 ...  3001.760 secs...\n",
      "(08/09) Check voltage in segments\n",
      "\tSnippet violations 14 of 72 19.44 %\n",
      "(09/09) Save EEG data\n"
     ]
    },
    {
     "data": {
      "application/vnd.jupyter.widget-view+json": {
       "model_id": "603239e0b43f49089e939070b421fd89",
       "version_major": 2,
       "version_minor": 0
      },
      "text/plain": [
       "  0%|          | 0/72 [00:00<?, ?it/s]"
      ]
     },
     "metadata": {},
     "output_type": "display_data"
    },
    {
     "name": "stderr",
     "output_type": "stream",
     "text": [
      "Python\\Python311\\site-packages\\pybv\\io.py:690: UserWarning: Encountered unsupported non-voltage units: n/a\n",
      "Note that the BrainVision format specification supports only µV.\n",
      "  warn(msg)\n"
     ]
    },
    {
     "name": "stdout",
     "output_type": "stream",
     "text": [
      "----------------------------------------------\n",
      "Participant 008\n",
      "(01/09) Load trial annotations\n",
      "(02/09) Load EEG\n",
      "Extracting parameters from ..\\08-Data-Trial_Recordings\\processed\\008\\EEG\\EEG_cropped.vhdr...\n",
      "Setting channel info structure...\n",
      "(03/09) Check trial annotations\n",
      "(04/09) Use trial annotations to sync with behavioral data and filter out all unnecessary annotations, rename to snippet name\n",
      "\tAnnotation Snippet                         7-obf-v2\n",
      "Time                         1052.416566\n",
      "Stimulus_id                Stimulus/S  3\n",
      "HDF_index                              2\n",
      "Participant                          008\n",
      "onset_e                       926.767541\n",
      "onset            1970-01-01 00:18:44.394\n",
      "duration                           0.002\n",
      "description                Stimulus/S  3\n",
      "onset_float                       927.82\n",
      "onset_a                           926.82\n",
      "stimuli_check                       True\n",
      "Name: 72, dtype: object ignored even though assigned behavioral event, as the behavioral time is expected to be 119.02430932 from Snippet             7-obf-v2\n",
      "Participant              008\n",
      "Fixation_Start    119.024309\n",
      "Start             124.021578\n",
      "End               133.865959\n",
      "Name: 24, dtype: object.\n",
      "(05/09) Create corresponding dataframe to behavioral data for EEG timestamps\n",
      "(06/09) Exclude snippets without EEG data\n",
      "(07/09) Split EEG data into segments for snippets\n",
      "Reading 0 ... 1177834  =      0.000 ...  2355.668 secs...\n",
      "(08/09) Check voltage in segments\n",
      "\tSnippet violations 9 of 72 12.5 %\n",
      "(09/09) Save EEG data\n"
     ]
    },
    {
     "data": {
      "application/vnd.jupyter.widget-view+json": {
       "model_id": "39208fde9f5e40c5bbc6f947496ee5de",
       "version_major": 2,
       "version_minor": 0
      },
      "text/plain": [
       "  0%|          | 0/72 [00:00<?, ?it/s]"
      ]
     },
     "metadata": {},
     "output_type": "display_data"
    },
    {
     "name": "stderr",
     "output_type": "stream",
     "text": [
      "Python\\Python311\\site-packages\\pybv\\io.py:690: UserWarning: Encountered unsupported non-voltage units: n/a\n",
      "Note that the BrainVision format specification supports only µV.\n",
      "  warn(msg)\n"
     ]
    },
    {
     "name": "stdout",
     "output_type": "stream",
     "text": [
      "----------------------------------------------\n",
      "Participant 009\n",
      "(01/09) Load trial annotations\n",
      "(02/09) Load EEG\n",
      "Extracting parameters from ..\\08-Data-Trial_Recordings\\processed\\009\\EEG\\EEG_cropped.vhdr...\n",
      "Setting channel info structure...\n",
      "(03/09) Check trial annotations\n",
      "(04/09) Use trial annotations to sync with behavioral data and filter out all unnecessary annotations, rename to snippet name\n",
      "(05/09) Create corresponding dataframe to behavioral data for EEG timestamps\n",
      "(06/09) Exclude snippets without EEG data\n",
      "(07/09) Split EEG data into segments for snippets\n",
      "Reading 0 ... 1695268  =      0.000 ...  3390.536 secs...\n",
      "(08/09) Check voltage in segments\n",
      "\tSnippet violations 2 of 72 2.78 %\n",
      "(09/09) Save EEG data\n"
     ]
    },
    {
     "data": {
      "application/vnd.jupyter.widget-view+json": {
       "model_id": "f1d85f7fc37445a88555d6629041650e",
       "version_major": 2,
       "version_minor": 0
      },
      "text/plain": [
       "  0%|          | 0/72 [00:00<?, ?it/s]"
      ]
     },
     "metadata": {},
     "output_type": "display_data"
    },
    {
     "name": "stderr",
     "output_type": "stream",
     "text": [
      "Python\\Python311\\site-packages\\pybv\\io.py:690: UserWarning: Encountered unsupported non-voltage units: n/a\n",
      "Note that the BrainVision format specification supports only µV.\n",
      "  warn(msg)\n"
     ]
    },
    {
     "name": "stdout",
     "output_type": "stream",
     "text": [
      "----------------------------------------------\n",
      "Participant 010\n",
      "(01/09) Load trial annotations\n",
      "(02/09) Load EEG\n",
      "Extracting parameters from ..\\08-Data-Trial_Recordings\\processed\\010\\EEG\\EEG_cropped.vhdr...\n",
      "Setting channel info structure...\n",
      "(03/09) Check trial annotations\n",
      "(04/09) Use trial annotations to sync with behavioral data and filter out all unnecessary annotations, rename to snippet name\n",
      "\tAnnotation Snippet                         5-obf-v2\n",
      "Time                          4052.59833\n",
      "Stimulus_id                Stimulus/S  3\n",
      "HDF_index                              0\n",
      "Participant                          010\n",
      "onset_e                              0.0\n",
      "onset            1970-01-01 00:00:48.224\n",
      "duration                           0.002\n",
      "description                Stimulus/S  3\n",
      "onset_float                          1.0\n",
      "onset_a                              0.0\n",
      "stimuli_check                       True\n",
      "Name: 0, dtype: object ignored even though assigned behavioral event, as the behavioral time is expected to be 99.60037288 from Snippet             5-obf-v2\n",
      "Participant              010\n",
      "Fixation_Start     99.600373\n",
      "Start             104.577518\n",
      "End               134.650996\n",
      "Name: 0, dtype: object.\n",
      "(05/09) Create corresponding dataframe to behavioral data for EEG timestamps\n",
      "(06/09) Exclude snippets without EEG data\n",
      "(07/09) Split EEG data into segments for snippets\n",
      "Reading 0 ... 1555185  =      0.000 ...  3110.370 secs...\n",
      "(08/09) Check voltage in segments\n",
      "\tSnippet violations 7 of 72 9.72 %\n",
      "(09/09) Save EEG data\n"
     ]
    },
    {
     "data": {
      "application/vnd.jupyter.widget-view+json": {
       "model_id": "4d88ef9676a34516ac799ad854fec4ec",
       "version_major": 2,
       "version_minor": 0
      },
      "text/plain": [
       "  0%|          | 0/72 [00:00<?, ?it/s]"
      ]
     },
     "metadata": {},
     "output_type": "display_data"
    },
    {
     "name": "stderr",
     "output_type": "stream",
     "text": [
      "Python\\Python311\\site-packages\\pybv\\io.py:690: UserWarning: Encountered unsupported non-voltage units: n/a\n",
      "Note that the BrainVision format specification supports only µV.\n",
      "  warn(msg)\n"
     ]
    },
    {
     "name": "stdout",
     "output_type": "stream",
     "text": [
      "----------------------------------------------\n",
      "Participant 011\n",
      "(01/09) Load trial annotations\n",
      "(02/09) Load EEG\n",
      "Extracting parameters from ..\\08-Data-Trial_Recordings\\processed\\011\\EEG\\EEG_cropped.vhdr...\n",
      "Setting channel info structure...\n",
      "(03/09) Check trial annotations\n",
      "(04/09) Use trial annotations to sync with behavioral data and filter out all unnecessary annotations, rename to snippet name\n",
      "(05/09) Create corresponding dataframe to behavioral data for EEG timestamps\n",
      "(06/09) Exclude snippets without EEG data\n",
      "(07/09) Split EEG data into segments for snippets\n",
      "Reading 0 ... 1500209  =      0.000 ...  3000.418 secs...\n",
      "(08/09) Check voltage in segments\n",
      "\tSnippet violations 4 of 72 5.56 %\n",
      "(09/09) Save EEG data\n"
     ]
    },
    {
     "data": {
      "application/vnd.jupyter.widget-view+json": {
       "model_id": "b2d072dcddba44e5bf93f639c7a6e5c2",
       "version_major": 2,
       "version_minor": 0
      },
      "text/plain": [
       "  0%|          | 0/72 [00:00<?, ?it/s]"
      ]
     },
     "metadata": {},
     "output_type": "display_data"
    },
    {
     "name": "stderr",
     "output_type": "stream",
     "text": [
      "Python\\Python311\\site-packages\\pybv\\io.py:690: UserWarning: Encountered unsupported non-voltage units: n/a\n",
      "Note that the BrainVision format specification supports only µV.\n",
      "  warn(msg)\n"
     ]
    },
    {
     "name": "stdout",
     "output_type": "stream",
     "text": [
      "----------------------------------------------\n",
      "Participant 012\n",
      "(01/09) Load trial annotations\n",
      "(02/09) Load EEG\n",
      "Extracting parameters from ..\\08-Data-Trial_Recordings\\processed\\012\\EEG\\EEG_cropped.vhdr...\n",
      "Setting channel info structure...\n",
      "(03/09) Check trial annotations\n",
      "(04/09) Use trial annotations to sync with behavioral data and filter out all unnecessary annotations, rename to snippet name\n",
      "\tAnnotation Snippet                        13-obf-v0\n",
      "Time                         2440.297319\n",
      "Stimulus_id                Stimulus/S  3\n",
      "HDF_index                              0\n",
      "Participant                          012\n",
      "onset_e                      1927.915577\n",
      "onset            1970-01-01 00:33:45.502\n",
      "duration                           0.002\n",
      "description                Stimulus/S  3\n",
      "onset_float                     1929.004\n",
      "onset_a                         1928.004\n",
      "stimuli_check                       True\n",
      "Name: 144, dtype: object ignored even though assigned behavioral event, as the behavioral time is expected to be 105.9671855 from Snippet            13-obf-v0\n",
      "Participant              012\n",
      "Fixation_Start    105.967185\n",
      "Start             110.941884\n",
      "End               120.800804\n",
      "Name: 48, dtype: object.\n",
      "\tAnnotation Snippet                        13-obf-v0\n",
      "Time                          115.349872\n",
      "Stimulus_id                Stimulus/S  3\n",
      "HDF_index                              1\n",
      "Participant                          012\n",
      "onset_e                              0.0\n",
      "onset            1970-01-01 00:35:49.102\n",
      "duration                           0.002\n",
      "description                Stimulus/S  3\n",
      "onset_float                     2052.604\n",
      "onset_a                              0.0\n",
      "stimuli_check                       True\n",
      "Name: 145, dtype: object ignored even though assigned behavioral event, as the behavioral time is expected to be 105.9671855 from Snippet            13-obf-v0\n",
      "Participant              012\n",
      "Fixation_Start    105.967185\n",
      "Start             110.941884\n",
      "End               120.800804\n",
      "Name: 48, dtype: object.\n",
      "(05/09) Create corresponding dataframe to behavioral data for EEG timestamps\n",
      "(06/09) Exclude snippets without EEG data\n",
      "(07/09) Split EEG data into segments for snippets\n",
      "Reading 0 ... 1390067  =      0.000 ...  2780.134 secs...\n",
      "(08/09) Check voltage in segments\n",
      "\tSnippet violations 4 of 72 5.56 %\n",
      "(09/09) Save EEG data\n"
     ]
    },
    {
     "data": {
      "application/vnd.jupyter.widget-view+json": {
       "model_id": "f3e49b10fa0a4d7e8a56e35cf8dab094",
       "version_major": 2,
       "version_minor": 0
      },
      "text/plain": [
       "  0%|          | 0/72 [00:00<?, ?it/s]"
      ]
     },
     "metadata": {},
     "output_type": "display_data"
    },
    {
     "name": "stderr",
     "output_type": "stream",
     "text": [
      "Python\\Python311\\site-packages\\pybv\\io.py:690: UserWarning: Encountered unsupported non-voltage units: n/a\n",
      "Note that the BrainVision format specification supports only µV.\n",
      "  warn(msg)\n"
     ]
    },
    {
     "name": "stdout",
     "output_type": "stream",
     "text": [
      "----------------------------------------------\n",
      "Participant 013\n",
      "(01/09) Load trial annotations\n",
      "(02/09) Load EEG\n",
      "Extracting parameters from ..\\08-Data-Trial_Recordings\\processed\\013\\EEG\\EEG_cropped.vhdr...\n",
      "Setting channel info structure...\n",
      "(03/09) Check trial annotations\n",
      "(04/09) Use trial annotations to sync with behavioral data and filter out all unnecessary annotations, rename to snippet name\n",
      "(05/09) Create corresponding dataframe to behavioral data for EEG timestamps\n",
      "(06/09) Exclude snippets without EEG data\n",
      "(07/09) Split EEG data into segments for snippets\n",
      "Reading 0 ... 1238816  =      0.000 ...  2477.632 secs...\n",
      "(08/09) Check voltage in segments\n",
      "\tSnippet violations 9 of 72 12.5 %\n",
      "(09/09) Save EEG data\n"
     ]
    },
    {
     "data": {
      "application/vnd.jupyter.widget-view+json": {
       "model_id": "3cabfb0d2af647ab939b74d3d607f792",
       "version_major": 2,
       "version_minor": 0
      },
      "text/plain": [
       "  0%|          | 0/72 [00:00<?, ?it/s]"
      ]
     },
     "metadata": {},
     "output_type": "display_data"
    },
    {
     "name": "stderr",
     "output_type": "stream",
     "text": [
      "Python\\Python311\\site-packages\\pybv\\io.py:690: UserWarning: Encountered unsupported non-voltage units: n/a\n",
      "Note that the BrainVision format specification supports only µV.\n",
      "  warn(msg)\n"
     ]
    },
    {
     "name": "stdout",
     "output_type": "stream",
     "text": [
      "----------------------------------------------\n",
      "Participant 014\n",
      "(01/09) Load trial annotations\n",
      "(02/09) Load EEG\n",
      "Extracting parameters from ..\\08-Data-Trial_Recordings\\processed\\014\\EEG\\EEG_cropped.vhdr...\n",
      "Setting channel info structure...\n",
      "(03/09) Check trial annotations\n",
      "(04/09) Use trial annotations to sync with behavioral data and filter out all unnecessary annotations, rename to snippet name\n",
      "\tThese rows will be deleted (ignored) due to nas in the rows\n",
      "      Snippet        Time    Stimulus_id  HDF_index Participant onset   \n",
      "5   62-obf-v0  163.055300  Stimulus/S  3          5         014   NaN  \\\n",
      "6   62-obf-v0  168.029780  Stimulus/S 12          5         014   NaN   \n",
      "7   62-obf-v0  174.990483  Stimulus/S  4          5         014   NaN   \n",
      "8   62-obf-v0  110.609386  Stimulus/S  3          6         014   NaN   \n",
      "9   13-obf-v0  110.707628  Stimulus/S  3          6         014   NaN   \n",
      "10  13-obf-v0  115.705738  Stimulus/S 12          6         014   NaN   \n",
      "11  13-obf-v0  124.842301  Stimulus/S  4          6         014   NaN   \n",
      "12   7-obf-v0  132.870165  Stimulus/S  3          6         014   NaN   \n",
      "\n",
      "    duration description  onset_float  \n",
      "5        NaN         NaN          NaN  \n",
      "6        NaN         NaN          NaN  \n",
      "7        NaN         NaN          NaN  \n",
      "8        NaN         NaN          NaN  \n",
      "9        NaN         NaN          NaN  \n",
      "10       NaN         NaN          NaN  \n",
      "11       NaN         NaN          NaN  \n",
      "12       NaN         NaN          NaN  \n",
      "(05/09) Create corresponding dataframe to behavioral data for EEG timestamps\n",
      "(06/09) Exclude snippets without EEG data\n",
      "Some snippets given in behavioral data do not have an eeg counterpart. ['13-obf-v0']\n",
      "(07/09) Split EEG data into segments for snippets\n",
      "Reading 0 ... 1639795  =      0.000 ...  3279.590 secs...\n",
      "(08/09) Check voltage in segments\n",
      "\tSnippet violations 0 of 70 0.0 %\n",
      "(09/09) Save EEG data\n"
     ]
    },
    {
     "data": {
      "application/vnd.jupyter.widget-view+json": {
       "model_id": "50bcfe105e244ea688ef229c02214e57",
       "version_major": 2,
       "version_minor": 0
      },
      "text/plain": [
       "  0%|          | 0/70 [00:00<?, ?it/s]"
      ]
     },
     "metadata": {},
     "output_type": "display_data"
    },
    {
     "name": "stderr",
     "output_type": "stream",
     "text": [
      "Python\\Python311\\site-packages\\pybv\\io.py:690: UserWarning: Encountered unsupported non-voltage units: n/a\n",
      "Note that the BrainVision format specification supports only µV.\n",
      "  warn(msg)\n"
     ]
    },
    {
     "name": "stdout",
     "output_type": "stream",
     "text": [
      "----------------------------------------------\n",
      "Participant 015\n",
      "(01/09) Load trial annotations\n",
      "(02/09) Load EEG\n",
      "Extracting parameters from ..\\08-Data-Trial_Recordings\\processed\\015\\EEG\\EEG_cropped.vhdr...\n",
      "Setting channel info structure...\n",
      "(03/09) Check trial annotations\n",
      "(04/09) Use trial annotations to sync with behavioral data and filter out all unnecessary annotations, rename to snippet name\n",
      "\tAnnotation Snippet                         5-obf-v2\n",
      "Time                         1358.526003\n",
      "Stimulus_id                Stimulus/S  3\n",
      "HDF_index                              0\n",
      "Participant                          015\n",
      "onset_e                      1003.778605\n",
      "onset            1970-01-01 00:18:03.968\n",
      "duration                           0.002\n",
      "description                Stimulus/S  3\n",
      "onset_float                      1004.82\n",
      "onset_a                          1003.82\n",
      "stimuli_check                       True\n",
      "Name: 72, dtype: object ignored even though assigned behavioral event, as the behavioral time is expected to be 104.64241152 from Snippet             5-obf-v2\n",
      "Participant              015\n",
      "Fixation_Start    104.642412\n",
      "Start             109.643978\n",
      "End               117.837901\n",
      "Name: 24, dtype: object.\n",
      "(05/09) Create corresponding dataframe to behavioral data for EEG timestamps\n",
      "(06/09) Exclude snippets without EEG data\n",
      "(07/09) Split EEG data into segments for snippets\n",
      "Reading 0 ... 1292434  =      0.000 ...  2584.868 secs...\n",
      "(08/09) Check voltage in segments\n",
      "\tSnippet violations 2 of 72 2.78 %\n",
      "(09/09) Save EEG data\n"
     ]
    },
    {
     "data": {
      "application/vnd.jupyter.widget-view+json": {
       "model_id": "0ccfedd1b52b4e709d97668c4d020c23",
       "version_major": 2,
       "version_minor": 0
      },
      "text/plain": [
       "  0%|          | 0/72 [00:00<?, ?it/s]"
      ]
     },
     "metadata": {},
     "output_type": "display_data"
    },
    {
     "name": "stderr",
     "output_type": "stream",
     "text": [
      "Python\\Python311\\site-packages\\pybv\\io.py:690: UserWarning: Encountered unsupported non-voltage units: n/a\n",
      "Note that the BrainVision format specification supports only µV.\n",
      "  warn(msg)\n"
     ]
    },
    {
     "name": "stdout",
     "output_type": "stream",
     "text": [
      "----------------------------------------------\n",
      "Participant 016\n",
      "(01/09) Load trial annotations\n",
      "(02/09) Load EEG\n",
      "Extracting parameters from ..\\08-Data-Trial_Recordings\\processed\\016\\EEG\\EEG_cropped.vhdr...\n",
      "Setting channel info structure...\n",
      "(03/09) Check trial annotations\n",
      "(04/09) Use trial annotations to sync with behavioral data and filter out all unnecessary annotations, rename to snippet name\n",
      "\tAnnotation Snippet                        60-obf-v0\n",
      "Time                          432.175561\n",
      "Stimulus_id                Stimulus/S  3\n",
      "HDF_index                              0\n",
      "Participant                          016\n",
      "onset_e                              0.0\n",
      "onset            1970-01-01 00:02:27.626\n",
      "duration                           0.002\n",
      "description                Stimulus/S  3\n",
      "onset_float                          1.0\n",
      "onset_a                              0.0\n",
      "stimuli_check                       True\n",
      "Name: 0, dtype: object ignored even though assigned behavioral event, as the behavioral time is expected to be 123.44963652 from Snippet            60-obf-v0\n",
      "Participant              016\n",
      "Fixation_Start    123.449637\n",
      "Start             128.425686\n",
      "End               151.003236\n",
      "Name: 0, dtype: object.\n",
      "\tAnnotation Snippet                        60-obf-v2\n",
      "Time                         1208.595084\n",
      "Stimulus_id                Stimulus/S  3\n",
      "HDF_index                              1\n",
      "Participant                          016\n",
      "onset_e                      1085.145447\n",
      "onset            1970-01-01 00:22:42.210\n",
      "duration                           0.002\n",
      "description                Stimulus/S  3\n",
      "onset_float                     1215.584\n",
      "onset_a                         1085.202\n",
      "stimuli_check                       True\n",
      "Name: 73, dtype: object ignored even though assigned behavioral event, as the behavioral time is expected to be 110.22523537 from Snippet            60-obf-v2\n",
      "Participant              016\n",
      "Fixation_Start    110.225235\n",
      "Start             115.226413\n",
      "End               122.021087\n",
      "Name: 24, dtype: object.\n",
      "(05/09) Create corresponding dataframe to behavioral data for EEG timestamps\n",
      "(06/09) Exclude snippets without EEG data\n",
      "(07/09) Split EEG data into segments for snippets\n",
      "Reading 0 ... 1441250  =      0.000 ...  2882.500 secs...\n",
      "(08/09) Check voltage in segments\n",
      "\tSnippet violations 63 of 72 87.5 %\n",
      "(09/09) Save EEG data\n"
     ]
    },
    {
     "data": {
      "application/vnd.jupyter.widget-view+json": {
       "model_id": "a4230fd4bd894f8fa7fa5bb314e38ded",
       "version_major": 2,
       "version_minor": 0
      },
      "text/plain": [
       "  0%|          | 0/72 [00:00<?, ?it/s]"
      ]
     },
     "metadata": {},
     "output_type": "display_data"
    },
    {
     "name": "stderr",
     "output_type": "stream",
     "text": [
      "Python\\Python311\\site-packages\\pybv\\io.py:690: UserWarning: Encountered unsupported non-voltage units: n/a\n",
      "Note that the BrainVision format specification supports only µV.\n",
      "  warn(msg)\n"
     ]
    },
    {
     "name": "stdout",
     "output_type": "stream",
     "text": [
      "----------------------------------------------\n",
      "Participant 017\n",
      "(01/09) Load trial annotations\n",
      "(02/09) Load EEG\n",
      "Extracting parameters from ..\\08-Data-Trial_Recordings\\processed\\017\\EEG\\EEG_cropped.vhdr...\n",
      "Setting channel info structure...\n",
      "(03/09) Check trial annotations\n",
      "(04/09) Use trial annotations to sync with behavioral data and filter out all unnecessary annotations, rename to snippet name\n",
      "\tAnnotation Snippet                        49-obf-v1\n",
      "Time                          376.999568\n",
      "Stimulus_id                Stimulus/S  3\n",
      "HDF_index                              0\n",
      "Participant                          017\n",
      "onset_e                              0.0\n",
      "onset            1970-01-01 00:01:19.718\n",
      "duration                           0.002\n",
      "description                Stimulus/S  3\n",
      "onset_float                          1.0\n",
      "onset_a                              0.0\n",
      "stimuli_check                       True\n",
      "Name: 0, dtype: object ignored even though assigned behavioral event, as the behavioral time is expected to be 108.28888408 from Snippet            49-obf-v1\n",
      "Participant              017\n",
      "Fixation_Start    108.288884\n",
      "Start             113.304743\n",
      "End               126.514021\n",
      "Name: 0, dtype: object.\n",
      "\tAnnotation Snippet                        49-obf-v1\n",
      "Time                           99.677349\n",
      "Stimulus_id                Stimulus/S  3\n",
      "HDF_index                              1\n",
      "Participant                          017\n",
      "onset_e                              0.0\n",
      "onset            1970-01-01 00:03:09.818\n",
      "duration                           0.002\n",
      "description                Stimulus/S  3\n",
      "onset_float                        111.1\n",
      "onset_a                              0.0\n",
      "stimuli_check                       True\n",
      "Name: 1, dtype: object ignored even though assigned behavioral event, as the behavioral time is expected to be 108.28888408 from Snippet            49-obf-v1\n",
      "Participant              017\n",
      "Fixation_Start    108.288884\n",
      "Start             113.304743\n",
      "End               126.514021\n",
      "Name: 0, dtype: object.\n",
      "(05/09) Create corresponding dataframe to behavioral data for EEG timestamps\n",
      "(06/09) Exclude snippets without EEG data\n",
      "(07/09) Split EEG data into segments for snippets\n",
      "Reading 0 ... 1307175  =      0.000 ...  2614.350 secs...\n",
      "(08/09) Check voltage in segments\n",
      "\tSnippet violations 2 of 72 2.78 %\n",
      "(09/09) Save EEG data\n"
     ]
    },
    {
     "data": {
      "application/vnd.jupyter.widget-view+json": {
       "model_id": "3c621953dcb54183940d7b23b17dd991",
       "version_major": 2,
       "version_minor": 0
      },
      "text/plain": [
       "  0%|          | 0/72 [00:00<?, ?it/s]"
      ]
     },
     "metadata": {},
     "output_type": "display_data"
    },
    {
     "name": "stderr",
     "output_type": "stream",
     "text": [
      "Python\\Python311\\site-packages\\pybv\\io.py:690: UserWarning: Encountered unsupported non-voltage units: n/a\n",
      "Note that the BrainVision format specification supports only µV.\n",
      "  warn(msg)\n"
     ]
    },
    {
     "name": "stdout",
     "output_type": "stream",
     "text": [
      "----------------------------------------------\n",
      "Participant 018\n",
      "(01/09) Load trial annotations\n",
      "(02/09) Load EEG\n",
      "Extracting parameters from ..\\08-Data-Trial_Recordings\\processed\\018\\EEG\\EEG_cropped.vhdr...\n",
      "Setting channel info structure...\n",
      "(03/09) Check trial annotations\n",
      "(04/09) Use trial annotations to sync with behavioral data and filter out all unnecessary annotations, rename to snippet name\n",
      "(05/09) Create corresponding dataframe to behavioral data for EEG timestamps\n",
      "(06/09) Exclude snippets without EEG data\n",
      "(07/09) Split EEG data into segments for snippets\n",
      "Reading 0 ... 1755250  =      0.000 ...  3510.500 secs...\n",
      "(08/09) Check voltage in segments\n",
      "\tSnippet violations 0 of 72 0.0 %\n",
      "(09/09) Save EEG data\n"
     ]
    },
    {
     "data": {
      "application/vnd.jupyter.widget-view+json": {
       "model_id": "8d7cbc71acf6473d937699382eac76e3",
       "version_major": 2,
       "version_minor": 0
      },
      "text/plain": [
       "  0%|          | 0/72 [00:00<?, ?it/s]"
      ]
     },
     "metadata": {},
     "output_type": "display_data"
    },
    {
     "name": "stderr",
     "output_type": "stream",
     "text": [
      "Python\\Python311\\site-packages\\pybv\\io.py:690: UserWarning: Encountered unsupported non-voltage units: n/a\n",
      "Note that the BrainVision format specification supports only µV.\n",
      "  warn(msg)\n"
     ]
    },
    {
     "name": "stdout",
     "output_type": "stream",
     "text": [
      "----------------------------------------------\n",
      "Participant 019\n",
      "(01/09) Load trial annotations\n",
      "(02/09) Load EEG\n",
      "Extracting parameters from ..\\08-Data-Trial_Recordings\\processed\\019\\EEG\\EEG_cropped.vhdr...\n",
      "Setting channel info structure...\n",
      "(03/09) Check trial annotations\n",
      "(04/09) Use trial annotations to sync with behavioral data and filter out all unnecessary annotations, rename to snippet name\n",
      "\tThese rows will be deleted (ignored) due to nas in the rows\n",
      "     Snippet         Time    Stimulus_id  HDF_index Participant onset   \n",
      "72  6-obf-v2  1823.097593  Stimulus/S  3          0         019   NaN  \\\n",
      "\n",
      "    duration description  onset_float  \n",
      "72       NaN         NaN          NaN  \n",
      "(05/09) Create corresponding dataframe to behavioral data for EEG timestamps\n",
      "(06/09) Exclude snippets without EEG data\n",
      "(07/09) Split EEG data into segments for snippets\n",
      "Reading 0 ... 1585775  =      0.000 ...  3171.550 secs...\n",
      "(08/09) Check voltage in segments\n",
      "\tSnippet violations 9 of 72 12.5 %\n",
      "(09/09) Save EEG data\n"
     ]
    },
    {
     "data": {
      "application/vnd.jupyter.widget-view+json": {
       "model_id": "917df2ee504a4fcc8e5e873a0317ebef",
       "version_major": 2,
       "version_minor": 0
      },
      "text/plain": [
       "  0%|          | 0/72 [00:00<?, ?it/s]"
      ]
     },
     "metadata": {},
     "output_type": "display_data"
    },
    {
     "name": "stderr",
     "output_type": "stream",
     "text": [
      "Python\\Python311\\site-packages\\pybv\\io.py:690: UserWarning: Encountered unsupported non-voltage units: n/a\n",
      "Note that the BrainVision format specification supports only µV.\n",
      "  warn(msg)\n"
     ]
    },
    {
     "name": "stdout",
     "output_type": "stream",
     "text": [
      "----------------------------------------------\n",
      "Participant 020\n",
      "(01/09) Load trial annotations\n",
      "(02/09) Load EEG\n",
      "Extracting parameters from ..\\08-Data-Trial_Recordings\\processed\\020\\EEG\\EEG_cropped.vhdr...\n",
      "Setting channel info structure...\n",
      "(03/09) Check trial annotations\n",
      "(04/09) Use trial annotations to sync with behavioral data and filter out all unnecessary annotations, rename to snippet name\n",
      "\tThese rows will be deleted (ignored) due to nas in the rows\n",
      "        Snippet        Time    Stimulus_id  HDF_index Participant onset   \n",
      "13     5-obf-v1  124.653995  Stimulus/S  3          1         020   NaN  \\\n",
      "14    57-obf-v1  124.728313  Stimulus/S  3          1         020   NaN   \n",
      "15  11-clean-v1  124.791884  Stimulus/S  3          1         020   NaN   \n",
      "16  30-clean-v1  124.837243  Stimulus/S  3          1         020   NaN   \n",
      "\n",
      "    duration description  onset_float  \n",
      "13       NaN         NaN          NaN  \n",
      "14       NaN         NaN          NaN  \n",
      "15       NaN         NaN          NaN  \n",
      "16       NaN         NaN          NaN  \n",
      "\tAnnotation Snippet                    17-clean-v1\n",
      "Time                        594.710294\n",
      "Stimulus_id              Stimulus/S  3\n",
      "HDF_index                            0\n",
      "Participant                        020\n",
      "onset          1970-01-01 00:04:35.170\n",
      "duration                         0.002\n",
      "description              Stimulus/S  3\n",
      "onset_float                    182.212\n",
      "Name: 12, dtype: object ignored even though assigned behavioral event, as the behavioral time is expected to be 124.88261113 from Snippet           17-clean-v1\n",
      "Participant               020\n",
      "Fixation_Start     124.882611\n",
      "Start              129.856677\n",
      "End                159.929334\n",
      "Name: 4, dtype: object.\n",
      "(05/09) Create corresponding dataframe to behavioral data for EEG timestamps\n",
      "(06/09) Exclude snippets without EEG data\n",
      "(07/09) Split EEG data into segments for snippets\n",
      "Reading 0 ... 1449733  =      0.000 ...  2899.466 secs...\n",
      "(08/09) Check voltage in segments\n",
      "\tSnippet violations 15 of 72 20.83 %\n",
      "(09/09) Save EEG data\n"
     ]
    },
    {
     "data": {
      "application/vnd.jupyter.widget-view+json": {
       "model_id": "e1918bb7d4eb4843ac926926e50a324c",
       "version_major": 2,
       "version_minor": 0
      },
      "text/plain": [
       "  0%|          | 0/72 [00:00<?, ?it/s]"
      ]
     },
     "metadata": {},
     "output_type": "display_data"
    },
    {
     "name": "stderr",
     "output_type": "stream",
     "text": [
      "Python\\Python311\\site-packages\\pybv\\io.py:690: UserWarning: Encountered unsupported non-voltage units: n/a\n",
      "Note that the BrainVision format specification supports only µV.\n",
      "  warn(msg)\n"
     ]
    },
    {
     "name": "stdout",
     "output_type": "stream",
     "text": [
      "----------------------------------------------\n",
      "Participant 021\n",
      "(01/09) Load trial annotations\n",
      "(02/09) Load EEG\n",
      "Extracting parameters from ..\\08-Data-Trial_Recordings\\processed\\021\\EEG\\EEG_cropped.vhdr...\n",
      "Setting channel info structure...\n",
      "(03/09) Check trial annotations\n",
      "(04/09) Use trial annotations to sync with behavioral data and filter out all unnecessary annotations, rename to snippet name\n",
      "\tAnnotation Snippet                        14-obf-v2\n",
      "Time                          422.009897\n",
      "Stimulus_id                Stimulus/S  3\n",
      "HDF_index                              0\n",
      "Participant                          021\n",
      "onset_e                              0.0\n",
      "onset            1970-01-01 00:01:27.424\n",
      "duration                           0.002\n",
      "description                Stimulus/S  3\n",
      "onset_float                          1.0\n",
      "onset_a                              0.0\n",
      "stimuli_check                       True\n",
      "Name: 0, dtype: object ignored even though assigned behavioral event, as the behavioral time is expected to be 103.14298295 from Snippet            14-obf-v2\n",
      "Participant              021\n",
      "Fixation_Start    103.142983\n",
      "Start             108.133171\n",
      "End                114.79437\n",
      "Name: 0, dtype: object.\n",
      "(05/09) Create corresponding dataframe to behavioral data for EEG timestamps\n",
      "(06/09) Exclude snippets without EEG data\n",
      "(07/09) Split EEG data into segments for snippets\n",
      "Reading 0 ... 1297466  =      0.000 ...  2594.932 secs...\n",
      "(08/09) Check voltage in segments\n",
      "\tSnippet violations 0 of 72 0.0 %\n",
      "(09/09) Save EEG data\n"
     ]
    },
    {
     "data": {
      "application/vnd.jupyter.widget-view+json": {
       "model_id": "4d9e6799c4924765bd2751267c08a72b",
       "version_major": 2,
       "version_minor": 0
      },
      "text/plain": [
       "  0%|          | 0/72 [00:00<?, ?it/s]"
      ]
     },
     "metadata": {},
     "output_type": "display_data"
    },
    {
     "name": "stderr",
     "output_type": "stream",
     "text": [
      "Python\\Python311\\site-packages\\pybv\\io.py:690: UserWarning: Encountered unsupported non-voltage units: n/a\n",
      "Note that the BrainVision format specification supports only µV.\n",
      "  warn(msg)\n"
     ]
    },
    {
     "name": "stdout",
     "output_type": "stream",
     "text": [
      "----------------------------------------------\n",
      "Participant 022\n",
      "(01/09) Load trial annotations\n",
      "(02/09) Load EEG\n",
      "Extracting parameters from ..\\08-Data-Trial_Recordings\\processed\\022\\EEG\\EEG_cropped.vhdr...\n",
      "Setting channel info structure...\n",
      "(03/09) Check trial annotations\n",
      "(04/09) Use trial annotations to sync with behavioral data and filter out all unnecessary annotations, rename to snippet name\n",
      "\tAnnotation Snippet                        13-obf-v0\n",
      "Time                         1464.320684\n",
      "Stimulus_id                Stimulus/S  3\n",
      "HDF_index                              0\n",
      "Participant                          022\n",
      "onset_e                      1063.375205\n",
      "onset            1970-01-01 00:19:08.494\n",
      "duration                           0.002\n",
      "description                Stimulus/S  3\n",
      "onset_float                       1064.4\n",
      "onset_a                           1063.4\n",
      "stimuli_check                       True\n",
      "Name: 72, dtype: object ignored even though assigned behavioral event, as the behavioral time is expected to be 105.40595491 from Snippet            13-obf-v0\n",
      "Participant              022\n",
      "Fixation_Start    105.405955\n",
      "Start             110.409078\n",
      "End               113.751828\n",
      "Name: 24, dtype: object.\n",
      "\tAnnotation Snippet                        13-obf-v0\n",
      "Time                           115.21429\n",
      "Stimulus_id                Stimulus/S  3\n",
      "HDF_index                              1\n",
      "Participant                          022\n",
      "onset_e                              0.0\n",
      "onset            1970-01-01 00:21:08.814\n",
      "duration                           0.002\n",
      "description                Stimulus/S  3\n",
      "onset_float                      1184.72\n",
      "onset_a                              0.0\n",
      "stimuli_check                       True\n",
      "Name: 73, dtype: object ignored even though assigned behavioral event, as the behavioral time is expected to be 105.40595491 from Snippet            13-obf-v0\n",
      "Participant              022\n",
      "Fixation_Start    105.405955\n",
      "Start             110.409078\n",
      "End               113.751828\n",
      "Name: 24, dtype: object.\n",
      "\tAnnotation Snippet                        54-obf-v1\n",
      "Time                         1046.497047\n",
      "Stimulus_id                Stimulus/S  3\n",
      "HDF_index                              2\n",
      "Participant                          022\n",
      "onset_e                       941.091092\n",
      "onset            1970-01-01 00:38:47.066\n",
      "duration                           0.002\n",
      "description                Stimulus/S  3\n",
      "onset_float                     2242.972\n",
      "onset_a                          941.136\n",
      "stimuli_check                       True\n",
      "Name: 146, dtype: object ignored even though assigned behavioral event, as the behavioral time is expected to be 111.75568573 from Snippet            54-obf-v1\n",
      "Participant              022\n",
      "Fixation_Start    111.755686\n",
      "Start             116.738713\n",
      "End               121.249419\n",
      "Name: 48, dtype: object.\n",
      "(05/09) Create corresponding dataframe to behavioral data for EEG timestamps\n",
      "(06/09) Exclude snippets without EEG data\n",
      "(07/09) Split EEG data into segments for snippets\n",
      "Reading 0 ... 1473859  =      0.000 ...  2947.718 secs...\n",
      "(08/09) Check voltage in segments\n",
      "\tSnippet violations 3 of 72 4.17 %\n",
      "(09/09) Save EEG data\n"
     ]
    },
    {
     "data": {
      "application/vnd.jupyter.widget-view+json": {
       "model_id": "00b8393d78d146b7b1435a722d35b2c8",
       "version_major": 2,
       "version_minor": 0
      },
      "text/plain": [
       "  0%|          | 0/72 [00:00<?, ?it/s]"
      ]
     },
     "metadata": {},
     "output_type": "display_data"
    },
    {
     "name": "stderr",
     "output_type": "stream",
     "text": [
      "Python\\Python311\\site-packages\\pybv\\io.py:690: UserWarning: Encountered unsupported non-voltage units: n/a\n",
      "Note that the BrainVision format specification supports only µV.\n",
      "  warn(msg)\n"
     ]
    },
    {
     "name": "stdout",
     "output_type": "stream",
     "text": [
      "----------------------------------------------\n",
      "Participant 023\n",
      "(01/09) Load trial annotations\n",
      "(02/09) Load EEG\n",
      "Extracting parameters from ..\\08-Data-Trial_Recordings\\processed\\023\\EEG\\EEG_cropped.vhdr...\n",
      "Setting channel info structure...\n",
      "(03/09) Check trial annotations\n",
      "(04/09) Use trial annotations to sync with behavioral data and filter out all unnecessary annotations, rename to snippet name\n",
      "\tThese rows will be deleted (ignored) due to nas in the rows\n",
      "      Snippet         Time    Stimulus_id  HDF_index Participant onset   \n",
      "72  60-obf-v1  1886.227029  Stimulus/S  3          0         023   NaN  \\\n",
      "\n",
      "    duration description  onset_float  \n",
      "72       NaN         NaN          NaN  \n",
      "\tAnnotation Snippet                      60-obf-v0\n",
      "Time                       1176.798088\n",
      "Stimulus_id              Stimulus/S  3\n",
      "HDF_index                            1\n",
      "Participant                        023\n",
      "onset          1970-01-01 00:37:37.248\n",
      "duration                         0.002\n",
      "description              Stimulus/S  3\n",
      "onset_float                   2134.812\n",
      "Name: 145, dtype: object ignored even though assigned behavioral event, as the behavioral time is expected to be 112.52907733 from Snippet            60-obf-v0\n",
      "Participant              023\n",
      "Fixation_Start    112.529077\n",
      "Start             117.534178\n",
      "End               123.894232\n",
      "Name: 48, dtype: object.\n",
      "(05/09) Create corresponding dataframe to behavioral data for EEG timestamps\n",
      "(06/09) Exclude snippets without EEG data\n",
      "(07/09) Split EEG data into segments for snippets\n",
      "Reading 0 ... 1395279  =      0.000 ...  2790.558 secs...\n",
      "(08/09) Check voltage in segments\n",
      "\tSnippet violations 8 of 72 11.11 %\n",
      "(09/09) Save EEG data\n"
     ]
    },
    {
     "data": {
      "application/vnd.jupyter.widget-view+json": {
       "model_id": "484541ba05794dc5b53a9397db162307",
       "version_major": 2,
       "version_minor": 0
      },
      "text/plain": [
       "  0%|          | 0/72 [00:00<?, ?it/s]"
      ]
     },
     "metadata": {},
     "output_type": "display_data"
    },
    {
     "name": "stderr",
     "output_type": "stream",
     "text": [
      "Python\\Python311\\site-packages\\pybv\\io.py:690: UserWarning: Encountered unsupported non-voltage units: n/a\n",
      "Note that the BrainVision format specification supports only µV.\n",
      "  warn(msg)\n"
     ]
    },
    {
     "name": "stdout",
     "output_type": "stream",
     "text": [
      "----------------------------------------------\n",
      "Participant 024\n",
      "(01/09) Load trial annotations\n",
      "(02/09) Load EEG\n",
      "Extracting parameters from ..\\08-Data-Trial_Recordings\\processed\\024\\EEG\\EEG_cropped.vhdr...\n",
      "Setting channel info structure...\n",
      "(03/09) Check trial annotations\n",
      "(04/09) Use trial annotations to sync with behavioral data and filter out all unnecessary annotations, rename to snippet name\n",
      "\tAnnotation Snippet                         7-obf-v2\n",
      "Time                          529.186218\n",
      "Stimulus_id                Stimulus/S  3\n",
      "HDF_index                              0\n",
      "Participant                          024\n",
      "onset_e                              0.0\n",
      "onset            1970-01-01 00:01:26.408\n",
      "duration                           0.002\n",
      "description                Stimulus/S  3\n",
      "onset_float                          1.0\n",
      "onset_a                              0.0\n",
      "stimuli_check                       True\n",
      "Name: 0, dtype: object ignored even though assigned behavioral event, as the behavioral time is expected to be 103.3502247 from Snippet             7-obf-v2\n",
      "Participant              024\n",
      "Fixation_Start    103.350225\n",
      "Start             108.350613\n",
      "End               121.912015\n",
      "Name: 0, dtype: object.\n",
      "\tAnnotation Snippet                         4-obf-v1\n",
      "Time                         1055.323131\n",
      "Stimulus_id                Stimulus/S  3\n",
      "HDF_index                              1\n",
      "Participant                          024\n",
      "onset_e                       951.972906\n",
      "onset            1970-01-01 00:19:15.638\n",
      "duration                           0.002\n",
      "description                Stimulus/S  3\n",
      "onset_float                      1070.23\n",
      "onset_a                          951.996\n",
      "stimuli_check                       True\n",
      "Name: 73, dtype: object ignored even though assigned behavioral event, as the behavioral time is expected to be 104.17343494 from Snippet             4-obf-v1\n",
      "Participant              024\n",
      "Fixation_Start    104.173435\n",
      "Start              109.14941\n",
      "End               118.994151\n",
      "Name: 24, dtype: object.\n",
      "(05/09) Create corresponding dataframe to behavioral data for EEG timestamps\n",
      "(06/09) Exclude snippets without EEG data\n",
      "(07/09) Split EEG data into segments for snippets\n",
      "Reading 0 ... 1351332  =      0.000 ...  2702.664 secs...\n",
      "(08/09) Check voltage in segments\n",
      "\tSnippet violations 2 of 72 2.78 %\n",
      "(09/09) Save EEG data\n"
     ]
    },
    {
     "data": {
      "application/vnd.jupyter.widget-view+json": {
       "model_id": "7b2352f8624f4d238a2165c7ca65e752",
       "version_major": 2,
       "version_minor": 0
      },
      "text/plain": [
       "  0%|          | 0/72 [00:00<?, ?it/s]"
      ]
     },
     "metadata": {},
     "output_type": "display_data"
    },
    {
     "name": "stderr",
     "output_type": "stream",
     "text": [
      "Python\\Python311\\site-packages\\pybv\\io.py:690: UserWarning: Encountered unsupported non-voltage units: n/a\n",
      "Note that the BrainVision format specification supports only µV.\n",
      "  warn(msg)\n"
     ]
    },
    {
     "name": "stdout",
     "output_type": "stream",
     "text": [
      "----------------------------------------------\n",
      "Participant 101\n",
      "(01/09) Load trial annotations\n",
      "(02/09) Load EEG\n",
      "Extracting parameters from ..\\08-Data-Trial_Recordings\\processed\\101\\EEG\\EEG_cropped.vhdr...\n",
      "Setting channel info structure...\n",
      "(03/09) Check trial annotations\n",
      "(04/09) Use trial annotations to sync with behavioral data and filter out all unnecessary annotations, rename to snippet name\n",
      "(05/09) Create corresponding dataframe to behavioral data for EEG timestamps\n",
      "(06/09) Exclude snippets without EEG data\n",
      "(07/09) Split EEG data into segments for snippets\n",
      "Reading 0 ... 1669683  =      0.000 ...  3339.366 secs...\n",
      "(08/09) Check voltage in segments\n",
      "\tSnippet violations 0 of 72 0.0 %\n",
      "(09/09) Save EEG data\n"
     ]
    },
    {
     "data": {
      "application/vnd.jupyter.widget-view+json": {
       "model_id": "8d80320c362b43158cb9ad053fba720a",
       "version_major": 2,
       "version_minor": 0
      },
      "text/plain": [
       "  0%|          | 0/72 [00:00<?, ?it/s]"
      ]
     },
     "metadata": {},
     "output_type": "display_data"
    },
    {
     "name": "stderr",
     "output_type": "stream",
     "text": [
      "Python\\Python311\\site-packages\\pybv\\io.py:690: UserWarning: Encountered unsupported non-voltage units: n/a\n",
      "Note that the BrainVision format specification supports only µV.\n",
      "  warn(msg)\n"
     ]
    },
    {
     "name": "stdout",
     "output_type": "stream",
     "text": [
      "----------------------------------------------\n",
      "Participant 102\n",
      "(01/09) Load trial annotations\n",
      "(02/09) Load EEG\n",
      "Extracting parameters from ..\\08-Data-Trial_Recordings\\processed\\102\\EEG\\EEG_cropped.vhdr...\n",
      "Setting channel info structure...\n",
      "(03/09) Check trial annotations\n",
      "(04/09) Use trial annotations to sync with behavioral data and filter out all unnecessary annotations, rename to snippet name\n",
      "\tAnnotation Snippet                        49-obf-v2\n",
      "Time                         2614.763657\n",
      "Stimulus_id                Stimulus/S  3\n",
      "HDF_index                              0\n",
      "Participant                          102\n",
      "onset_e                      2073.047794\n",
      "onset            1970-01-01 00:36:39.844\n",
      "duration                           0.002\n",
      "description                Stimulus/S  3\n",
      "onset_float                     2074.118\n",
      "onset_a                         2073.118\n",
      "stimuli_check                       True\n",
      "Name: 144, dtype: object ignored even though assigned behavioral event, as the behavioral time is expected to be 123.68144951 from Snippet            49-obf-v2\n",
      "Participant              102\n",
      "Fixation_Start     123.68145\n",
      "Start             128.666186\n",
      "End               133.242847\n",
      "Name: 48, dtype: object.\n",
      "(05/09) Create corresponding dataframe to behavioral data for EEG timestamps\n",
      "(06/09) Exclude snippets without EEG data\n",
      "(07/09) Split EEG data into segments for snippets\n",
      "Reading 0 ... 1342749  =      0.000 ...  2685.498 secs...\n",
      "(08/09) Check voltage in segments\n",
      "\tSnippet violations 5 of 72 6.94 %\n",
      "(09/09) Save EEG data\n"
     ]
    },
    {
     "data": {
      "application/vnd.jupyter.widget-view+json": {
       "model_id": "c084d732251a4313906a62e88b8e262c",
       "version_major": 2,
       "version_minor": 0
      },
      "text/plain": [
       "  0%|          | 0/72 [00:00<?, ?it/s]"
      ]
     },
     "metadata": {},
     "output_type": "display_data"
    },
    {
     "name": "stderr",
     "output_type": "stream",
     "text": [
      "Python\\Python311\\site-packages\\pybv\\io.py:690: UserWarning: Encountered unsupported non-voltage units: n/a\n",
      "Note that the BrainVision format specification supports only µV.\n",
      "  warn(msg)\n"
     ]
    },
    {
     "name": "stdout",
     "output_type": "stream",
     "text": [
      "----------------------------------------------\n",
      "Participant 106\n",
      "(01/09) Load trial annotations\n",
      "(02/09) Load EEG\n",
      "Extracting parameters from ..\\08-Data-Trial_Recordings\\processed\\106\\EEG\\EEG_cropped.vhdr...\n",
      "Setting channel info structure...\n",
      "(03/09) Check trial annotations\n",
      "(04/09) Use trial annotations to sync with behavioral data and filter out all unnecessary annotations, rename to snippet name\n",
      "\tAnnotation Snippet                        12-obf-v1\n",
      "Time                          462.669968\n",
      "Stimulus_id                Stimulus/S  3\n",
      "HDF_index                              0\n",
      "Participant                          106\n",
      "onset_e                              0.0\n",
      "onset            1970-01-01 00:01:30.842\n",
      "duration                           0.002\n",
      "description                Stimulus/S  3\n",
      "onset_float                          1.0\n",
      "onset_a                              0.0\n",
      "stimuli_check                       True\n",
      "Name: 0, dtype: object ignored even though assigned behavioral event, as the behavioral time is expected to be 104.9521815 from Snippet            12-obf-v1\n",
      "Participant              106\n",
      "Fixation_Start    104.952181\n",
      "Start             109.956049\n",
      "End               137.182896\n",
      "Name: 0, dtype: object.\n",
      "\tAnnotation Snippet                        12-obf-v1\n",
      "Time                          101.106259\n",
      "Stimulus_id                Stimulus/S  3\n",
      "HDF_index                              1\n",
      "Participant                          106\n",
      "onset_e                              0.0\n",
      "onset            1970-01-01 00:03:21.942\n",
      "duration                           0.002\n",
      "description                Stimulus/S  3\n",
      "onset_float                        112.1\n",
      "onset_a                              0.0\n",
      "stimuli_check                       True\n",
      "Name: 1, dtype: object ignored even though assigned behavioral event, as the behavioral time is expected to be 104.9521815 from Snippet            12-obf-v1\n",
      "Participant              106\n",
      "Fixation_Start    104.952181\n",
      "Start             109.956049\n",
      "End               137.182896\n",
      "Name: 0, dtype: object.\n",
      "\tAnnotation Snippet                        12-obf-v1\n",
      "Time                          100.566515\n",
      "Stimulus_id                Stimulus/S  3\n",
      "HDF_index                              2\n",
      "Participant                          106\n",
      "onset_e                              0.0\n",
      "onset            1970-01-01 00:05:54.326\n",
      "duration                           0.002\n",
      "description                Stimulus/S  3\n",
      "onset_float                      264.484\n",
      "onset_a                              0.0\n",
      "stimuli_check                       True\n",
      "Name: 2, dtype: object ignored even though assigned behavioral event, as the behavioral time is expected to be 104.9521815 from Snippet            12-obf-v1\n",
      "Participant              106\n",
      "Fixation_Start    104.952181\n",
      "Start             109.956049\n",
      "End               137.182896\n",
      "Name: 0, dtype: object.\n",
      "\tAnnotation Snippet                        12-obf-v1\n",
      "Time                          101.344527\n",
      "Stimulus_id                Stimulus/S  3\n",
      "HDF_index                              3\n",
      "Participant                          106\n",
      "onset_e                              0.0\n",
      "onset            1970-01-01 00:08:11.760\n",
      "duration                           0.002\n",
      "description                Stimulus/S  3\n",
      "onset_float                      401.918\n",
      "onset_a                              0.0\n",
      "stimuli_check                       True\n",
      "Name: 3, dtype: object ignored even though assigned behavioral event, as the behavioral time is expected to be 104.9521815 from Snippet            12-obf-v1\n",
      "Participant              106\n",
      "Fixation_Start    104.952181\n",
      "Start             109.956049\n",
      "End               137.182896\n",
      "Name: 0, dtype: object.\n",
      "\tAnnotation Snippet                        30-obf-v0\n",
      "Time                         1332.941456\n",
      "Stimulus_id                Stimulus/S  3\n",
      "HDF_index                              4\n",
      "Participant                          106\n",
      "onset_e                      1227.989275\n",
      "onset            1970-01-01 00:31:25.360\n",
      "duration                           0.002\n",
      "description                Stimulus/S  3\n",
      "onset_float                     1795.518\n",
      "onset_a                         1228.034\n",
      "stimuli_check                       True\n",
      "Name: 76, dtype: object ignored even though assigned behavioral event, as the behavioral time is expected to be 141.85216586 from Snippet            30-obf-v0\n",
      "Participant              106\n",
      "Fixation_Start    141.852166\n",
      "Start             146.853544\n",
      "End               156.415573\n",
      "Name: 24, dtype: object.\n",
      "\tAnnotation Snippet                        30-obf-v2\n",
      "Time                         1186.349523\n",
      "Stimulus_id                Stimulus/S  3\n",
      "HDF_index                              5\n",
      "Participant                          106\n",
      "onset_e                      1044.497357\n",
      "onset            1970-01-01 00:51:20.942\n",
      "duration                           0.002\n",
      "description                Stimulus/S  3\n",
      "onset_float                       2991.1\n",
      "onset_a                         1044.532\n",
      "stimuli_check                       True\n",
      "Name: 149, dtype: object ignored even though assigned behavioral event, as the behavioral time is expected to be 141.52658901 from Snippet            30-obf-v2\n",
      "Participant              106\n",
      "Fixation_Start    141.526589\n",
      "Start              146.53291\n",
      "End                160.44347\n",
      "Name: 48, dtype: object.\n",
      "\tAnnotation Snippet                        30-obf-v2\n",
      "Time                          101.163605\n",
      "Stimulus_id                Stimulus/S  3\n",
      "HDF_index                              6\n",
      "Participant                          106\n",
      "onset_e                              0.0\n",
      "onset            1970-01-01 00:53:09.776\n",
      "duration                           0.002\n",
      "description                Stimulus/S  3\n",
      "onset_float                     3099.934\n",
      "onset_a                              0.0\n",
      "stimuli_check                       True\n",
      "Name: 150, dtype: object ignored even though assigned behavioral event, as the behavioral time is expected to be 141.52658901 from Snippet            30-obf-v2\n",
      "Participant              106\n",
      "Fixation_Start    141.526589\n",
      "Start              146.53291\n",
      "End                160.44347\n",
      "Name: 48, dtype: object.\n",
      "(05/09) Create corresponding dataframe to behavioral data for EEG timestamps\n",
      "(06/09) Exclude snippets without EEG data\n",
      "(07/09) Split EEG data into segments for snippets\n",
      "Reading 0 ... 1936215  =      0.000 ...  3872.430 secs...\n",
      "(08/09) Check voltage in segments\n",
      "\tSnippet violations 18 of 72 25.0 %\n",
      "(09/09) Save EEG data\n"
     ]
    },
    {
     "data": {
      "application/vnd.jupyter.widget-view+json": {
       "model_id": "8ebb08ec7f9340c2b3d6a4c01f37f70f",
       "version_major": 2,
       "version_minor": 0
      },
      "text/plain": [
       "  0%|          | 0/72 [00:00<?, ?it/s]"
      ]
     },
     "metadata": {},
     "output_type": "display_data"
    },
    {
     "name": "stderr",
     "output_type": "stream",
     "text": [
      "Python\\Python311\\site-packages\\pybv\\io.py:690: UserWarning: Encountered unsupported non-voltage units: n/a\n",
      "Note that the BrainVision format specification supports only µV.\n",
      "  warn(msg)\n"
     ]
    }
   ],
   "source": [
    "# Iterate over all participants\n",
    "for participant in tqdm(folders):\n",
    "    print('----------------------------------------------')\n",
    "    print(PARTICIPANT, participant)\n",
    "\n",
    "    print('(01/09) Load trial annotations')\n",
    "    trial_annotations_path = get_trial_annotations_path(\n",
    "        participant, performed=True)\n",
    "    trial_annotations = pd.read_csv(\n",
    "        trial_annotations_path, sep=SEPARATOR, dtype={PARTICIPANT: str})\n",
    "\n",
    "    print('(02/09) Load EEG')\n",
    "    prepared_eeg, _ = load_eeg_data(\n",
    "        get_cropped_eeg_path(participant), preload=False)\n",
    "\n",
    "    print('(03/09) Check trial annotations')\n",
    "    # check annotation assignment\n",
    "    check_trial_annotations(trial_annotations, prepared_eeg)\n",
    "\n",
    "    print('(04/09) Use trial annotations to sync with behavioral data and filter out all unnecessary annotations, rename to snippet name')\n",
    "    behavioral_data = pd.read_csv(get_behavioral_data_path(\n",
    "        participant, final_data_exclusion=True), sep=SEPARATOR, dtype={PARTICIPANT: str})\n",
    "    relevant_trial_annotation_data = get_synchronized_annotations(\n",
    "        trial_annotations, behavioral_data)\n",
    "\n",
    "    print('(05/09) Create corresponding dataframe to behavioral data for EEG timestamps')\n",
    "    # transform to fixation cross, start and end interval per snippet\n",
    "    eeg_snippet_data = transform_synchronized_annotations(\n",
    "        relevant_trial_annotation_data)\n",
    "\n",
    "    print('(06/09) Exclude snippets without EEG data')\n",
    "    not_provided_snippets = behavioral_data[SNIPPET][~behavioral_data[SNIPPET].isin(\n",
    "        eeg_snippet_data.index)]\n",
    "    if not not_provided_snippets.empty:\n",
    "        print(\n",
    "            f'Some snippets given in behavioral data do not have an eeg counterpart. {list(not_provided_snippets.values)}')\n",
    "        update_exclusions(participant, SNIPPET, EEG, {\n",
    "                          snippet: '01e4_PRE_EEG_Trial_Assignments_Split: No EEG data found' for snippet in not_provided_snippets})\n",
    "\n",
    "    print('(07/09) Split EEG data into segments for snippets')\n",
    "    # get eeg data via mne and split it into sections\n",
    "    # assign each section to the corresponding snippet\n",
    "    prepared_eeg = prepared_eeg.load_data()\n",
    "    eeg_segments = split_eeg_segments(prepared_eeg, eeg_snippet_data)\n",
    "\n",
    "    print('(08/09) Check voltage in segments')\n",
    "    snippet_violations = check_voltage_per_segment(eeg_segments)\n",
    "    snippet_violations.to_csv(\n",
    "        get_eeg_violations_path(participant), sep=SEPARATOR)\n",
    "    sv = snippet_violations.dropna(axis=0, how='all')\n",
    "    print(\n",
    "        f'\\tSnippet violations {sv.shape[0]} of {snippet_violations.shape[0]} {round(sv.shape[0]/snippet_violations.shape[0]*100, 2)} %')\n",
    "\n",
    "    print('(09/09) Save EEG data')\n",
    "    # save section by snippet name\n",
    "    for snippet in tqdm(eeg_segments):\n",
    "        # print(snippet)\n",
    "        eeg_segment_data: mne.io.Raw = eeg_segments[snippet]\n",
    "        # print(eeg_segment_data.annotations.to_data_frame())\n",
    "        eeg_trial_path = get_eeg_trial_path(True, participant, snippet)\n",
    "        export_eeg_brainvision(eeg_segment_data, eeg_trial_path)"
   ]
  }
 ],
 "metadata": {
  "kernelspec": {
   "display_name": "Python 3",
   "language": "python",
   "name": "python3"
  },
  "language_info": {
   "codemirror_mode": {
    "name": "ipython",
    "version": 3
   },
   "file_extension": ".py",
   "mimetype": "text/x-python",
   "name": "python",
   "nbconvert_exporter": "python",
   "pygments_lexer": "ipython3",
   "version": "3.11.5"
  }
 },
 "nbformat": 4,
 "nbformat_minor": 5
}
